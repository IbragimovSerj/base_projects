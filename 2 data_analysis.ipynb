{
 "cells": [
  {
   "cell_type": "markdown",
   "metadata": {},
   "source": [
    "# Исследование объявлений о продаже квартир\n",
    "\n",
    "В вашем распоряжении данные сервиса Яндекс.Недвижимость — архив объявлений о продаже квартир в Санкт-Петербурге и соседних населённых пунктов за несколько лет. Нужно научиться определять рыночную стоимость объектов недвижимости. Ваша задача — установить параметры. Это позволит построить автоматизированную систему: она отследит аномалии и мошенническую деятельность. \n",
    "\n",
    "По каждой квартире на продажу доступны два вида данных. Первые вписаны пользователем, вторые — получены автоматически на основе картографических данных. Например, расстояние до центра, аэропорта, ближайшего парка и водоёма. \n",
    "\n",
    "Цель исследования:\n",
    "- узнать какие факторы влияют на стоимость жилья\n",
    "\n",
    "Ход исследования:\n",
    "- обзор данных\n",
    "- предобработка данных\n",
    "- оценить влияние характеристик продаваемых квартир на их стоимость\n",
    "- оценить влияние расположения продаваемых квартир на стоимость"
   ]
  },
  {
   "cell_type": "markdown",
   "metadata": {},
   "source": [
    "### Откройте файл с данными и изучите общую информацию. "
   ]
  },
  {
   "cell_type": "code",
   "execution_count": 1,
   "metadata": {},
   "outputs": [
    {
     "data": {
      "text/html": [
       "<div>\n",
       "<style scoped>\n",
       "    .dataframe tbody tr th:only-of-type {\n",
       "        vertical-align: middle;\n",
       "    }\n",
       "\n",
       "    .dataframe tbody tr th {\n",
       "        vertical-align: top;\n",
       "    }\n",
       "\n",
       "    .dataframe thead th {\n",
       "        text-align: right;\n",
       "    }\n",
       "</style>\n",
       "<table border=\"1\" class=\"dataframe\">\n",
       "  <thead>\n",
       "    <tr style=\"text-align: right;\">\n",
       "      <th></th>\n",
       "      <th>total_images</th>\n",
       "      <th>last_price</th>\n",
       "      <th>total_area</th>\n",
       "      <th>first_day_exposition</th>\n",
       "      <th>rooms</th>\n",
       "      <th>ceiling_height</th>\n",
       "      <th>floors_total</th>\n",
       "      <th>living_area</th>\n",
       "      <th>floor</th>\n",
       "      <th>is_apartment</th>\n",
       "      <th>...</th>\n",
       "      <th>kitchen_area</th>\n",
       "      <th>balcony</th>\n",
       "      <th>locality_name</th>\n",
       "      <th>airports_nearest</th>\n",
       "      <th>cityCenters_nearest</th>\n",
       "      <th>parks_around3000</th>\n",
       "      <th>parks_nearest</th>\n",
       "      <th>ponds_around3000</th>\n",
       "      <th>ponds_nearest</th>\n",
       "      <th>days_exposition</th>\n",
       "    </tr>\n",
       "  </thead>\n",
       "  <tbody>\n",
       "    <tr>\n",
       "      <th>0</th>\n",
       "      <td>20</td>\n",
       "      <td>13000000.0</td>\n",
       "      <td>108.00</td>\n",
       "      <td>2019-03-07T00:00:00</td>\n",
       "      <td>3</td>\n",
       "      <td>2.70</td>\n",
       "      <td>16.0</td>\n",
       "      <td>51.00</td>\n",
       "      <td>8</td>\n",
       "      <td>NaN</td>\n",
       "      <td>...</td>\n",
       "      <td>25.00</td>\n",
       "      <td>NaN</td>\n",
       "      <td>Санкт-Петербург</td>\n",
       "      <td>18863.0</td>\n",
       "      <td>16028.0</td>\n",
       "      <td>1.0</td>\n",
       "      <td>482.0</td>\n",
       "      <td>2.0</td>\n",
       "      <td>755.0</td>\n",
       "      <td>NaN</td>\n",
       "    </tr>\n",
       "    <tr>\n",
       "      <th>1</th>\n",
       "      <td>7</td>\n",
       "      <td>3350000.0</td>\n",
       "      <td>40.40</td>\n",
       "      <td>2018-12-04T00:00:00</td>\n",
       "      <td>1</td>\n",
       "      <td>NaN</td>\n",
       "      <td>11.0</td>\n",
       "      <td>18.60</td>\n",
       "      <td>1</td>\n",
       "      <td>NaN</td>\n",
       "      <td>...</td>\n",
       "      <td>11.00</td>\n",
       "      <td>2.0</td>\n",
       "      <td>посёлок Шушары</td>\n",
       "      <td>12817.0</td>\n",
       "      <td>18603.0</td>\n",
       "      <td>0.0</td>\n",
       "      <td>NaN</td>\n",
       "      <td>0.0</td>\n",
       "      <td>NaN</td>\n",
       "      <td>81.0</td>\n",
       "    </tr>\n",
       "    <tr>\n",
       "      <th>2</th>\n",
       "      <td>10</td>\n",
       "      <td>5196000.0</td>\n",
       "      <td>56.00</td>\n",
       "      <td>2015-08-20T00:00:00</td>\n",
       "      <td>2</td>\n",
       "      <td>NaN</td>\n",
       "      <td>5.0</td>\n",
       "      <td>34.30</td>\n",
       "      <td>4</td>\n",
       "      <td>NaN</td>\n",
       "      <td>...</td>\n",
       "      <td>8.30</td>\n",
       "      <td>0.0</td>\n",
       "      <td>Санкт-Петербург</td>\n",
       "      <td>21741.0</td>\n",
       "      <td>13933.0</td>\n",
       "      <td>1.0</td>\n",
       "      <td>90.0</td>\n",
       "      <td>2.0</td>\n",
       "      <td>574.0</td>\n",
       "      <td>558.0</td>\n",
       "    </tr>\n",
       "    <tr>\n",
       "      <th>3</th>\n",
       "      <td>0</td>\n",
       "      <td>64900000.0</td>\n",
       "      <td>159.00</td>\n",
       "      <td>2015-07-24T00:00:00</td>\n",
       "      <td>3</td>\n",
       "      <td>NaN</td>\n",
       "      <td>14.0</td>\n",
       "      <td>NaN</td>\n",
       "      <td>9</td>\n",
       "      <td>NaN</td>\n",
       "      <td>...</td>\n",
       "      <td>NaN</td>\n",
       "      <td>0.0</td>\n",
       "      <td>Санкт-Петербург</td>\n",
       "      <td>28098.0</td>\n",
       "      <td>6800.0</td>\n",
       "      <td>2.0</td>\n",
       "      <td>84.0</td>\n",
       "      <td>3.0</td>\n",
       "      <td>234.0</td>\n",
       "      <td>424.0</td>\n",
       "    </tr>\n",
       "    <tr>\n",
       "      <th>4</th>\n",
       "      <td>2</td>\n",
       "      <td>10000000.0</td>\n",
       "      <td>100.00</td>\n",
       "      <td>2018-06-19T00:00:00</td>\n",
       "      <td>2</td>\n",
       "      <td>3.03</td>\n",
       "      <td>14.0</td>\n",
       "      <td>32.00</td>\n",
       "      <td>13</td>\n",
       "      <td>NaN</td>\n",
       "      <td>...</td>\n",
       "      <td>41.00</td>\n",
       "      <td>NaN</td>\n",
       "      <td>Санкт-Петербург</td>\n",
       "      <td>31856.0</td>\n",
       "      <td>8098.0</td>\n",
       "      <td>2.0</td>\n",
       "      <td>112.0</td>\n",
       "      <td>1.0</td>\n",
       "      <td>48.0</td>\n",
       "      <td>121.0</td>\n",
       "    </tr>\n",
       "    <tr>\n",
       "      <th>5</th>\n",
       "      <td>10</td>\n",
       "      <td>2890000.0</td>\n",
       "      <td>30.40</td>\n",
       "      <td>2018-09-10T00:00:00</td>\n",
       "      <td>1</td>\n",
       "      <td>NaN</td>\n",
       "      <td>12.0</td>\n",
       "      <td>14.40</td>\n",
       "      <td>5</td>\n",
       "      <td>NaN</td>\n",
       "      <td>...</td>\n",
       "      <td>9.10</td>\n",
       "      <td>NaN</td>\n",
       "      <td>городской посёлок Янино-1</td>\n",
       "      <td>NaN</td>\n",
       "      <td>NaN</td>\n",
       "      <td>NaN</td>\n",
       "      <td>NaN</td>\n",
       "      <td>NaN</td>\n",
       "      <td>NaN</td>\n",
       "      <td>55.0</td>\n",
       "    </tr>\n",
       "    <tr>\n",
       "      <th>6</th>\n",
       "      <td>6</td>\n",
       "      <td>3700000.0</td>\n",
       "      <td>37.30</td>\n",
       "      <td>2017-11-02T00:00:00</td>\n",
       "      <td>1</td>\n",
       "      <td>NaN</td>\n",
       "      <td>26.0</td>\n",
       "      <td>10.60</td>\n",
       "      <td>6</td>\n",
       "      <td>NaN</td>\n",
       "      <td>...</td>\n",
       "      <td>14.40</td>\n",
       "      <td>1.0</td>\n",
       "      <td>посёлок Парголово</td>\n",
       "      <td>52996.0</td>\n",
       "      <td>19143.0</td>\n",
       "      <td>0.0</td>\n",
       "      <td>NaN</td>\n",
       "      <td>0.0</td>\n",
       "      <td>NaN</td>\n",
       "      <td>155.0</td>\n",
       "    </tr>\n",
       "    <tr>\n",
       "      <th>7</th>\n",
       "      <td>5</td>\n",
       "      <td>7915000.0</td>\n",
       "      <td>71.60</td>\n",
       "      <td>2019-04-18T00:00:00</td>\n",
       "      <td>2</td>\n",
       "      <td>NaN</td>\n",
       "      <td>24.0</td>\n",
       "      <td>NaN</td>\n",
       "      <td>22</td>\n",
       "      <td>NaN</td>\n",
       "      <td>...</td>\n",
       "      <td>18.90</td>\n",
       "      <td>2.0</td>\n",
       "      <td>Санкт-Петербург</td>\n",
       "      <td>23982.0</td>\n",
       "      <td>11634.0</td>\n",
       "      <td>0.0</td>\n",
       "      <td>NaN</td>\n",
       "      <td>0.0</td>\n",
       "      <td>NaN</td>\n",
       "      <td>NaN</td>\n",
       "    </tr>\n",
       "    <tr>\n",
       "      <th>8</th>\n",
       "      <td>20</td>\n",
       "      <td>2900000.0</td>\n",
       "      <td>33.16</td>\n",
       "      <td>2018-05-23T00:00:00</td>\n",
       "      <td>1</td>\n",
       "      <td>NaN</td>\n",
       "      <td>27.0</td>\n",
       "      <td>15.43</td>\n",
       "      <td>26</td>\n",
       "      <td>NaN</td>\n",
       "      <td>...</td>\n",
       "      <td>8.81</td>\n",
       "      <td>NaN</td>\n",
       "      <td>посёлок Мурино</td>\n",
       "      <td>NaN</td>\n",
       "      <td>NaN</td>\n",
       "      <td>NaN</td>\n",
       "      <td>NaN</td>\n",
       "      <td>NaN</td>\n",
       "      <td>NaN</td>\n",
       "      <td>189.0</td>\n",
       "    </tr>\n",
       "    <tr>\n",
       "      <th>9</th>\n",
       "      <td>18</td>\n",
       "      <td>5400000.0</td>\n",
       "      <td>61.00</td>\n",
       "      <td>2017-02-26T00:00:00</td>\n",
       "      <td>3</td>\n",
       "      <td>2.50</td>\n",
       "      <td>9.0</td>\n",
       "      <td>43.60</td>\n",
       "      <td>7</td>\n",
       "      <td>NaN</td>\n",
       "      <td>...</td>\n",
       "      <td>6.50</td>\n",
       "      <td>2.0</td>\n",
       "      <td>Санкт-Петербург</td>\n",
       "      <td>50898.0</td>\n",
       "      <td>15008.0</td>\n",
       "      <td>0.0</td>\n",
       "      <td>NaN</td>\n",
       "      <td>0.0</td>\n",
       "      <td>NaN</td>\n",
       "      <td>289.0</td>\n",
       "    </tr>\n",
       "  </tbody>\n",
       "</table>\n",
       "<p>10 rows × 22 columns</p>\n",
       "</div>"
      ],
      "text/plain": [
       "   total_images  last_price  total_area first_day_exposition  rooms  \\\n",
       "0            20  13000000.0      108.00  2019-03-07T00:00:00      3   \n",
       "1             7   3350000.0       40.40  2018-12-04T00:00:00      1   \n",
       "2            10   5196000.0       56.00  2015-08-20T00:00:00      2   \n",
       "3             0  64900000.0      159.00  2015-07-24T00:00:00      3   \n",
       "4             2  10000000.0      100.00  2018-06-19T00:00:00      2   \n",
       "5            10   2890000.0       30.40  2018-09-10T00:00:00      1   \n",
       "6             6   3700000.0       37.30  2017-11-02T00:00:00      1   \n",
       "7             5   7915000.0       71.60  2019-04-18T00:00:00      2   \n",
       "8            20   2900000.0       33.16  2018-05-23T00:00:00      1   \n",
       "9            18   5400000.0       61.00  2017-02-26T00:00:00      3   \n",
       "\n",
       "   ceiling_height  floors_total  living_area  floor is_apartment  ...  \\\n",
       "0            2.70          16.0        51.00      8          NaN  ...   \n",
       "1             NaN          11.0        18.60      1          NaN  ...   \n",
       "2             NaN           5.0        34.30      4          NaN  ...   \n",
       "3             NaN          14.0          NaN      9          NaN  ...   \n",
       "4            3.03          14.0        32.00     13          NaN  ...   \n",
       "5             NaN          12.0        14.40      5          NaN  ...   \n",
       "6             NaN          26.0        10.60      6          NaN  ...   \n",
       "7             NaN          24.0          NaN     22          NaN  ...   \n",
       "8             NaN          27.0        15.43     26          NaN  ...   \n",
       "9            2.50           9.0        43.60      7          NaN  ...   \n",
       "\n",
       "   kitchen_area  balcony              locality_name  airports_nearest  \\\n",
       "0         25.00      NaN            Санкт-Петербург           18863.0   \n",
       "1         11.00      2.0             посёлок Шушары           12817.0   \n",
       "2          8.30      0.0            Санкт-Петербург           21741.0   \n",
       "3           NaN      0.0            Санкт-Петербург           28098.0   \n",
       "4         41.00      NaN            Санкт-Петербург           31856.0   \n",
       "5          9.10      NaN  городской посёлок Янино-1               NaN   \n",
       "6         14.40      1.0          посёлок Парголово           52996.0   \n",
       "7         18.90      2.0            Санкт-Петербург           23982.0   \n",
       "8          8.81      NaN             посёлок Мурино               NaN   \n",
       "9          6.50      2.0            Санкт-Петербург           50898.0   \n",
       "\n",
       "  cityCenters_nearest  parks_around3000  parks_nearest  ponds_around3000  \\\n",
       "0             16028.0               1.0          482.0               2.0   \n",
       "1             18603.0               0.0            NaN               0.0   \n",
       "2             13933.0               1.0           90.0               2.0   \n",
       "3              6800.0               2.0           84.0               3.0   \n",
       "4              8098.0               2.0          112.0               1.0   \n",
       "5                 NaN               NaN            NaN               NaN   \n",
       "6             19143.0               0.0            NaN               0.0   \n",
       "7             11634.0               0.0            NaN               0.0   \n",
       "8                 NaN               NaN            NaN               NaN   \n",
       "9             15008.0               0.0            NaN               0.0   \n",
       "\n",
       "   ponds_nearest  days_exposition  \n",
       "0          755.0              NaN  \n",
       "1            NaN             81.0  \n",
       "2          574.0            558.0  \n",
       "3          234.0            424.0  \n",
       "4           48.0            121.0  \n",
       "5            NaN             55.0  \n",
       "6            NaN            155.0  \n",
       "7            NaN              NaN  \n",
       "8            NaN            189.0  \n",
       "9            NaN            289.0  \n",
       "\n",
       "[10 rows x 22 columns]"
      ]
     },
     "metadata": {},
     "output_type": "display_data"
    }
   ],
   "source": [
    "import pandas as pd\n",
    "try:\n",
    "    df = pd.read_csv('/datasets/real_estate_data.csv', sep='\\t')\n",
    "except:\n",
    "    df = pd.read_csv('https://code.s3.yandex.net/datasets/real_estate_data.csv') #глобальную ссылку подсмотрел с предыдущего проекта\n",
    "display(df.head(10))"
   ]
  },
  {
   "cell_type": "code",
   "execution_count": 2,
   "metadata": {
    "scrolled": false
   },
   "outputs": [
    {
     "name": "stdout",
     "output_type": "stream",
     "text": [
      "<class 'pandas.core.frame.DataFrame'>\n",
      "RangeIndex: 23699 entries, 0 to 23698\n",
      "Data columns (total 22 columns):\n",
      " #   Column                Non-Null Count  Dtype  \n",
      "---  ------                --------------  -----  \n",
      " 0   total_images          23699 non-null  int64  \n",
      " 1   last_price            23699 non-null  float64\n",
      " 2   total_area            23699 non-null  float64\n",
      " 3   first_day_exposition  23699 non-null  object \n",
      " 4   rooms                 23699 non-null  int64  \n",
      " 5   ceiling_height        14504 non-null  float64\n",
      " 6   floors_total          23613 non-null  float64\n",
      " 7   living_area           21796 non-null  float64\n",
      " 8   floor                 23699 non-null  int64  \n",
      " 9   is_apartment          2775 non-null   object \n",
      " 10  studio                23699 non-null  bool   \n",
      " 11  open_plan             23699 non-null  bool   \n",
      " 12  kitchen_area          21421 non-null  float64\n",
      " 13  balcony               12180 non-null  float64\n",
      " 14  locality_name         23650 non-null  object \n",
      " 15  airports_nearest      18157 non-null  float64\n",
      " 16  cityCenters_nearest   18180 non-null  float64\n",
      " 17  parks_around3000      18181 non-null  float64\n",
      " 18  parks_nearest         8079 non-null   float64\n",
      " 19  ponds_around3000      18181 non-null  float64\n",
      " 20  ponds_nearest         9110 non-null   float64\n",
      " 21  days_exposition       20518 non-null  float64\n",
      "dtypes: bool(2), float64(14), int64(3), object(3)\n",
      "memory usage: 3.7+ MB\n"
     ]
    }
   ],
   "source": [
    "df.info()"
   ]
  },
  {
   "cell_type": "code",
   "execution_count": 3,
   "metadata": {},
   "outputs": [],
   "source": [
    "df.rename(columns={'cityCenters_nearest': 'city_centers_nearest'}, inplace=True)"
   ]
  },
  {
   "cell_type": "code",
   "execution_count": 4,
   "metadata": {},
   "outputs": [
    {
     "data": {
      "image/png": "[encoded data removed]",
      "text/plain": [
       "<Figure size 1080x1440 with 20 Axes>"
      ]
     },
     "metadata": {
      "needs_background": "light"
     },
     "output_type": "display_data"
    }
   ],
   "source": [
    "df.hist(figsize=(15, 20));"
   ]
  },
  {
   "cell_type": "markdown",
   "metadata": {},
   "source": [
    "По полученной инфармации о датафрейме минивыводы: \n",
    "\n",
    "    - last_price тип float64 (удобнее будет проводить расчеты с целыми)\n",
    "    - first_day_exposition тип object \n",
    "    - ceiling_height много пропусков (больше 5%)\n",
    "    - floors_total тип float64, есть пропуски (меньше 5%)\n",
    "    - living_area пропуски (~8%)\n",
    "    - is_apartment пропуски, тип object (подойдет bool)\n",
    "    - kitchen_area пропуски (~9%)\n",
    "    - balcony пропуски (скорее всего заполнять на нулевые значения), тип данных float64 (подойдет int64)\n",
    "    - locality_name пропуски (меньше 5%)\n",
    "    - days_exposition тип float64 (подойдет int64), есть пропуски  \n",
    "    \n",
    "Столбцы airports_nearest, city_centers_nearest, parks_around3000, parks_nearest, ponds_around3000, ponds_nearest большое количество пропусков, скорее всего связанных не с человеческим фактором, скорее всего ошибка в системе, следует дать подсказку разработчикам."
   ]
  },
  {
   "cell_type": "markdown",
   "metadata": {},
   "source": [
    "### Предобработка данных"
   ]
  },
  {
   "cell_type": "code",
   "execution_count": 5,
   "metadata": {},
   "outputs": [],
   "source": [
    "#print(df['rooms'].value_counts())\n",
    "#print(df['floors_total'].value_counts())\n",
    "#print(df['floor'].value_counts())\n",
    "#print(df['is_apartment'].value_counts())\n",
    "#print(df['balcony'].value_counts())  \n",
    "#print(df['days_exposition'].value_counts())"
   ]
  },
  {
   "cell_type": "code",
   "execution_count": 6,
   "metadata": {},
   "outputs": [],
   "source": [
    "df['first_day_exposition'] = pd.to_datetime(df['first_day_exposition'], format='%Y-%m-%d') \n",
    "#без времени, оно везде нулевое, да и роли не играет"
   ]
  },
  {
   "cell_type": "code",
   "execution_count": 7,
   "metadata": {},
   "outputs": [],
   "source": [
    "df['balcony'] = df['balcony'].fillna(value=0).astype('int64') "
   ]
  },
  {
   "cell_type": "code",
   "execution_count": 8,
   "metadata": {},
   "outputs": [
    {
     "name": "stdout",
     "output_type": "stream",
     "text": [
      "0.0015190514367694839\n"
     ]
    },
    {
     "data": {
      "image/png": "[encoded data removed]",
      "text/plain": [
       "<Figure size 432x288 with 1 Axes>"
      ]
     },
     "metadata": {
      "needs_background": "light"
     },
     "output_type": "display_data"
    }
   ],
   "source": [
    "ceiling_height_median = df['ceiling_height'].median()\n",
    "df['ceiling_height'] = df['ceiling_height'].fillna(ceiling_height_median) #заполним медианным значением высоту потолков\n",
    "df.boxplot(column='ceiling_height')\n",
    "print(len(df[df['ceiling_height'] > 5]) / len(df)) #доля квартир, высота потолков которых > 5м, очень мала, можно обрезать"
   ]
  },
  {
   "cell_type": "code",
   "execution_count": 9,
   "metadata": {},
   "outputs": [
    {
     "data": {
      "text/plain": [
       "(2.0, 3.0)"
      ]
     },
     "execution_count": 9,
     "metadata": {},
     "output_type": "execute_result"
    },
    {
     "data": {
      "image/png": "[encoded data removed]",
      "text/plain": [
       "<Figure size 432x288 with 1 Axes>"
      ]
     },
     "metadata": {
      "needs_background": "light"
     },
     "output_type": "display_data"
    }
   ],
   "source": [
    "import matplotlib.pyplot as plt\n",
    "df.boxplot(column='ceiling_height')\n",
    "plt.ylim(2,3)"
   ]
  },
  {
   "cell_type": "code",
   "execution_count": 10,
   "metadata": {},
   "outputs": [],
   "source": [
    "df = df[df['ceiling_height'] <= 5]"
   ]
  },
  {
   "cell_type": "code",
   "execution_count": 11,
   "metadata": {},
   "outputs": [],
   "source": [
    "df['last_price'] = df['last_price'].astype('int64')"
   ]
  },
  {
   "cell_type": "code",
   "execution_count": 12,
   "metadata": {},
   "outputs": [],
   "source": [
    "df['locality_name'] = df['locality_name'].str.lower()\n",
    "df['locality_name'] = df['locality_name'].str.replace('ё', 'е')\n",
    "df['locality_name'] = df['locality_name'].str.replace('городского типа ', '')\n",
    "#df['locality_name'].nunique()"
   ]
  },
  {
   "cell_type": "code",
   "execution_count": 13,
   "metadata": {},
   "outputs": [
    {
     "data": {
      "text/plain": [
       "0"
      ]
     },
     "execution_count": 13,
     "metadata": {},
     "output_type": "execute_result"
    }
   ],
   "source": [
    "df.duplicated().sum()"
   ]
  },
  {
   "cell_type": "markdown",
   "metadata": {},
   "source": [
    "Явные дубликаты в датафрейме отсутствуют."
   ]
  },
  {
   "cell_type": "markdown",
   "metadata": {},
   "source": [
    "Вывод:\n",
    "\n",
    "После предобработки с данными возможно будет решить поставленную задачу."
   ]
  },
  {
   "cell_type": "markdown",
   "metadata": {},
   "source": [
    "### Посчитайте и добавьте в таблицу новые столбцы"
   ]
  },
  {
   "cell_type": "code",
   "execution_count": 14,
   "metadata": {},
   "outputs": [],
   "source": [
    "#Цена 1кв.м:\n",
    "df['price_per_sqr_meter'] = df['last_price'] / df['total_area']\n",
    "df['price_per_sqr_meter'] = df['price_per_sqr_meter'].astype('int64') #целых чисел будет достаточно для дальнейшего анализа"
   ]
  },
  {
   "cell_type": "code",
   "execution_count": 15,
   "metadata": {},
   "outputs": [],
   "source": [
    "#столбцы с днями недели, месяцами и годами публикации объявления \n",
    "df['weekday_exp'] = df['first_day_exposition'].dt.weekday\n",
    "df['month_exp'] = df['first_day_exposition'].dt.month\n",
    "df['year_exp'] = df['first_day_exposition'].dt.year"
   ]
  },
  {
   "cell_type": "code",
   "execution_count": 16,
   "metadata": {},
   "outputs": [],
   "source": [
    "#функция определения квартиры по типу первый-другой-последний:\n",
    "def floor_categorize(row):    \n",
    "    try:\n",
    "        if row['floor'] == 1:\n",
    "            return 'первый'\n",
    "        elif row['floors_total'] == row['floor']:\n",
    "            return 'последний'\n",
    "        else:\n",
    "            return 'другой'\n",
    "    except:\n",
    "        pass\n",
    "df['category_by_floor'] = df.apply(floor_categorize, axis=1)"
   ]
  },
  {
   "cell_type": "code",
   "execution_count": 17,
   "metadata": {},
   "outputs": [
    {
     "name": "stdout",
     "output_type": "stream",
     "text": [
      "<class 'pandas.core.frame.DataFrame'>\n",
      "Int64Index: 23663 entries, 0 to 23698\n",
      "Data columns (total 28 columns):\n",
      " #   Column                Non-Null Count  Dtype         \n",
      "---  ------                --------------  -----         \n",
      " 0   total_images          23663 non-null  int64         \n",
      " 1   last_price            23663 non-null  int64         \n",
      " 2   total_area            23663 non-null  float64       \n",
      " 3   first_day_exposition  23663 non-null  datetime64[ns]\n",
      " 4   rooms                 23663 non-null  int64         \n",
      " 5   ceiling_height        23663 non-null  float64       \n",
      " 6   floors_total          23577 non-null  float64       \n",
      " 7   living_area           21762 non-null  float64       \n",
      " 8   floor                 23663 non-null  int64         \n",
      " 9   is_apartment          2762 non-null   object        \n",
      " 10  studio                23663 non-null  bool          \n",
      " 11  open_plan             23663 non-null  bool          \n",
      " 12  kitchen_area          21394 non-null  float64       \n",
      " 13  balcony               23663 non-null  int64         \n",
      " 14  locality_name         23614 non-null  object        \n",
      " 15  airports_nearest      18131 non-null  float64       \n",
      " 16  city_centers_nearest  18154 non-null  float64       \n",
      " 17  parks_around3000      18155 non-null  float64       \n",
      " 18  parks_nearest         8064 non-null   float64       \n",
      " 19  ponds_around3000      18155 non-null  float64       \n",
      " 20  ponds_nearest         9095 non-null   float64       \n",
      " 21  days_exposition       20490 non-null  float64       \n",
      " 22  price_per_sqr_meter   23663 non-null  int64         \n",
      " 23  weekday_exp           23663 non-null  int64         \n",
      " 24  month_exp             23663 non-null  int64         \n",
      " 25  year_exp              23663 non-null  int64         \n",
      " 26  category_by_floor     23663 non-null  object        \n",
      " 27  center_distance_km    18154 non-null  float64       \n",
      "dtypes: bool(2), datetime64[ns](1), float64(13), int64(9), object(3)\n",
      "memory usage: 4.9+ MB\n"
     ]
    }
   ],
   "source": [
    "df['center_distance_km'] = df['city_centers_nearest'] / 1000\n",
    "df.info()"
   ]
  },
  {
   "cell_type": "markdown",
   "metadata": {},
   "source": [
    "### Проведите исследовательский анализ данных"
   ]
  },
  {
   "cell_type": "code",
   "execution_count": 18,
   "metadata": {},
   "outputs": [
    {
     "data": {
      "text/plain": [
       "count    23663.000000\n",
       "mean        60.315048\n",
       "std         35.526290\n",
       "min         12.000000\n",
       "25%         40.000000\n",
       "50%         52.000000\n",
       "75%         69.800000\n",
       "max        900.000000\n",
       "Name: total_area, dtype: float64"
      ]
     },
     "execution_count": 18,
     "metadata": {},
     "output_type": "execute_result"
    },
    {
     "data": {
      "image/png": "[encoded data removed]",
      "text/plain": [
       "<Figure size 360x216 with 1 Axes>"
      ]
     },
     "metadata": {
      "needs_background": "light"
     },
     "output_type": "display_data"
    }
   ],
   "source": [
    "#общая площадь:\n",
    "df.plot(y = 'total_area', kind = 'hist', bins = 100, grid=True, figsize = (5,3), range = (10,90));\n",
    "df['total_area'].describe()"
   ]
  },
  {
   "cell_type": "markdown",
   "metadata": {},
   "source": [
    "    - средняя площадь = 60,31 м2\n",
    "    - медиана площади = 52 м2\n",
    "    - общая площадь находится в значениях от 12 до 900 м2"
   ]
  },
  {
   "cell_type": "code",
   "execution_count": 19,
   "metadata": {},
   "outputs": [
    {
     "data": {
      "text/plain": [
       "count    21762.000000\n",
       "mean        34.439884\n",
       "std         21.983337\n",
       "min          2.000000\n",
       "25%         18.600000\n",
       "50%         30.000000\n",
       "75%         42.300000\n",
       "max        409.700000\n",
       "Name: living_area, dtype: float64"
      ]
     },
     "execution_count": 19,
     "metadata": {},
     "output_type": "execute_result"
    },
    {
     "data": {
      "image/png": "[encoded data removed]",
      "text/plain": [
       "<Figure size 360x216 with 1 Axes>"
      ]
     },
     "metadata": {
      "needs_background": "light"
     },
     "output_type": "display_data"
    }
   ],
   "source": [
    "#жилая площадь\n",
    "df.plot(y = 'living_area', kind = 'hist', bins = 100, grid=True, figsize = (5,3), range = (0,200));\n",
    "df['living_area'].describe()"
   ]
  },
  {
   "cell_type": "markdown",
   "metadata": {},
   "source": [
    "    - средняя жилой площади = 34.45 м2\n",
    "    - медиана жилой площади = 30 м2\n",
    "    - жилая площадь находится в значениях от 2 до 409.7 м2"
   ]
  },
  {
   "cell_type": "code",
   "execution_count": 20,
   "metadata": {},
   "outputs": [
    {
     "data": {
      "text/plain": [
       "count    21394.000000\n",
       "mean        10.567395\n",
       "std          5.895583\n",
       "min          1.300000\n",
       "25%          7.000000\n",
       "50%          9.100000\n",
       "75%         12.000000\n",
       "max        112.000000\n",
       "Name: kitchen_area, dtype: float64"
      ]
     },
     "execution_count": 20,
     "metadata": {},
     "output_type": "execute_result"
    },
    {
     "data": {
      "image/png": "[encoded data removed]",
      "text/plain": [
       "<Figure size 360x216 with 1 Axes>"
      ]
     },
     "metadata": {
      "needs_background": "light"
     },
     "output_type": "display_data"
    }
   ],
   "source": [
    "#кухня\n",
    "df.plot(y = 'kitchen_area', kind = 'hist', bins = 100, grid=True, figsize = (5,3), range = (0,50));\n",
    "df['kitchen_area'].describe()"
   ]
  },
  {
   "cell_type": "markdown",
   "metadata": {},
   "source": [
    "    - средняя площадь кухонь = 10.6 м2\n",
    "    - медиана площади кухонь = 9.1 м2\n",
    "    - площадь кухонь находится в значениях от 1.3 до 112 м2"
   ]
  },
  {
   "cell_type": "code",
   "execution_count": 21,
   "metadata": {},
   "outputs": [
    {
     "data": {
      "text/plain": [
       "count    23663.000000\n",
       "mean         6.038034\n",
       "std         10.839829\n",
       "min          0.000000\n",
       "25%          3.000000\n",
       "50%          4.000000\n",
       "75%          6.000000\n",
       "max        763.000000\n",
       "Name: last_price_mln, dtype: float64"
      ]
     },
     "execution_count": 21,
     "metadata": {},
     "output_type": "execute_result"
    },
    {
     "data": {
      "image/png": "[encoded data removed]",
      "text/plain": [
       "<Figure size 360x216 with 1 Axes>"
      ]
     },
     "metadata": {
      "needs_background": "light"
     },
     "output_type": "display_data"
    }
   ],
   "source": [
    "#цена:\n",
    "df.plot(y = 'last_price', kind = 'hist', bins = 100, grid=True, figsize = (5,3), range = (0,15000000));\n",
    "df['last_price_mln'] = df['last_price'] // 1000000 #для удобства просмотра в млн.руб\n",
    "df['last_price_mln'].describe()"
   ]
  },
  {
   "cell_type": "markdown",
   "metadata": {},
   "source": [
    "    - средняя цена = 6.05 млн.руб.\n",
    "    - медиана цен = 4 млн. руб.\n",
    "    - цены находятся в значениях от 0 до 763 млн.руб"
   ]
  },
  {
   "cell_type": "code",
   "execution_count": 22,
   "metadata": {},
   "outputs": [
    {
     "data": {
      "text/plain": [
       "count    23663.000000\n",
       "mean         2.070490\n",
       "std          1.077945\n",
       "min          0.000000\n",
       "25%          1.000000\n",
       "50%          2.000000\n",
       "75%          3.000000\n",
       "max         19.000000\n",
       "Name: rooms, dtype: float64"
      ]
     },
     "execution_count": 22,
     "metadata": {},
     "output_type": "execute_result"
    },
    {
     "data": {
      "image/png": "[encoded data removed]",
      "text/plain": [
       "<Figure size 360x216 with 1 Axes>"
      ]
     },
     "metadata": {
      "needs_background": "light"
     },
     "output_type": "display_data"
    }
   ],
   "source": [
    "#комнат в доме\n",
    "df.plot(y = 'rooms', kind = 'hist', bins = 5, grid=True, figsize = (5,3), range = (1,5));\n",
    "df['rooms'].describe()"
   ]
  },
  {
   "cell_type": "markdown",
   "metadata": {},
   "source": [
    "    - среднее количество комнат = 2\n",
    "    - медианное значение количества комнат = 2\n",
    "    - количество комнат находится в значениях от 0 до 19 "
   ]
  },
  {
   "cell_type": "code",
   "execution_count": 23,
   "metadata": {},
   "outputs": [
    {
     "data": {
      "text/plain": [
       "count    23663.000000\n",
       "mean         2.695946\n",
       "std          0.216254\n",
       "min          1.000000\n",
       "25%          2.600000\n",
       "50%          2.650000\n",
       "75%          2.700000\n",
       "max          5.000000\n",
       "Name: ceiling_height, dtype: float64"
      ]
     },
     "execution_count": 23,
     "metadata": {},
     "output_type": "execute_result"
    },
    {
     "data": {
      "image/png": "[encoded data removed]",
      "text/plain": [
       "<Figure size 360x216 with 1 Axes>"
      ]
     },
     "metadata": {
      "needs_background": "light"
     },
     "output_type": "display_data"
    }
   ],
   "source": [
    "#высота потолков\n",
    "df.plot(y = 'ceiling_height', kind = 'hist', bins = 3, grid=True, figsize = (5,3), range = (2.5, 3));\n",
    "df['ceiling_height'].describe()"
   ]
  },
  {
   "cell_type": "markdown",
   "metadata": {},
   "source": [
    "    - средняя высота потолков = 2.69 м \n",
    "    - медианное значение высот потолков = 2.65 м\n",
    "    - высота потолков находится в значениях от 1 м до 5 м"
   ]
  },
  {
   "cell_type": "code",
   "execution_count": 24,
   "metadata": {},
   "outputs": [
    {
     "data": {
      "text/plain": [
       "count    23663.000000\n",
       "mean         5.892744\n",
       "std          4.885321\n",
       "min          1.000000\n",
       "25%          2.000000\n",
       "50%          4.000000\n",
       "75%          8.000000\n",
       "max         33.000000\n",
       "Name: floor, dtype: float64"
      ]
     },
     "execution_count": 24,
     "metadata": {},
     "output_type": "execute_result"
    },
    {
     "data": {
      "image/png": "[encoded data removed]",
      "text/plain": [
       "<Figure size 360x216 with 1 Axes>"
      ]
     },
     "metadata": {
      "needs_background": "light"
     },
     "output_type": "display_data"
    }
   ],
   "source": [
    "#этаж\n",
    "df.plot(y = 'floor', kind = 'hist', bins = 35, grid=True, figsize = (5,3), range = (0,35));\n",
    "df['floor'].describe()"
   ]
  },
  {
   "cell_type": "markdown",
   "metadata": {},
   "source": [
    "    - среднее значение = 5.89 \n",
    "    - медианное значение = 4 \n",
    "    - разброс значениий от 1 до 33"
   ]
  },
  {
   "cell_type": "code",
   "execution_count": 25,
   "metadata": {},
   "outputs": [
    {
     "data": {
      "text/plain": [
       "count    23577.000000\n",
       "mean        10.676464\n",
       "std          6.595659\n",
       "min          1.000000\n",
       "25%          5.000000\n",
       "50%          9.000000\n",
       "75%         16.000000\n",
       "max         60.000000\n",
       "Name: floors_total, dtype: float64"
      ]
     },
     "execution_count": 25,
     "metadata": {},
     "output_type": "execute_result"
    },
    {
     "data": {
      "image/png": "[encoded data removed]",
      "text/plain": [
       "<Figure size 360x216 with 1 Axes>"
      ]
     },
     "metadata": {
      "needs_background": "light"
     },
     "output_type": "display_data"
    }
   ],
   "source": [
    "#количество этажей в доме\n",
    "df.plot(y = 'floors_total', kind = 'hist', bins = 30, grid=True, figsize = (5,3), range = (0,30));\n",
    "df['floors_total'].describe()"
   ]
  },
  {
   "cell_type": "markdown",
   "metadata": {},
   "source": [
    "    - среднее значение = 10.67 \n",
    "    - медианное значение = 9 \n",
    "    - разброс значениий от 1 до 60"
   ]
  },
  {
   "cell_type": "code",
   "execution_count": 26,
   "metadata": {},
   "outputs": [
    {
     "data": {
      "text/plain": [
       "count    18154.000000\n",
       "mean     14194.841633\n",
       "std       8606.328441\n",
       "min        181.000000\n",
       "25%       9238.000000\n",
       "50%      13104.500000\n",
       "75%      16293.750000\n",
       "max      65968.000000\n",
       "Name: city_centers_nearest, dtype: float64"
      ]
     },
     "execution_count": 26,
     "metadata": {},
     "output_type": "execute_result"
    },
    {
     "data": {
      "image/png": "[encoded data removed]",
      "text/plain": [
       "<Figure size 360x216 with 1 Axes>"
      ]
     },
     "metadata": {
      "needs_background": "light"
     },
     "output_type": "display_data"
    }
   ],
   "source": [
    "#удаленность от центра\n",
    "df.plot(y = 'city_centers_nearest', kind = 'hist', bins = 30000, grid=True, figsize = (5,3), range = (0,30000));\n",
    "df['city_centers_nearest'].describe()"
   ]
  },
  {
   "cell_type": "markdown",
   "metadata": {},
   "source": [
    "    - среднее значение = 14194.84 м \n",
    "    - медианное значение = 13104.5 м \n",
    "    - разброс значениий от 181 м до 65968 м "
   ]
  },
  {
   "cell_type": "code",
   "execution_count": 27,
   "metadata": {},
   "outputs": [
    {
     "data": {
      "text/plain": [
       "count    18131.000000\n",
       "mean     28796.964481\n",
       "std      12631.735698\n",
       "min          0.000000\n",
       "25%      18582.000000\n",
       "50%      26729.000000\n",
       "75%      37284.000000\n",
       "max      84869.000000\n",
       "Name: airports_nearest, dtype: float64"
      ]
     },
     "execution_count": 27,
     "metadata": {},
     "output_type": "execute_result"
    },
    {
     "data": {
      "image/png": "[encoded data removed]",
      "text/plain": [
       "<Figure size 360x216 with 1 Axes>"
      ]
     },
     "metadata": {
      "needs_background": "light"
     },
     "output_type": "display_data"
    }
   ],
   "source": [
    "#удаленность от аэропорта\n",
    "df.plot(y = 'airports_nearest', kind = 'hist', bins = 100, grid=True, figsize = (5,3), range = (0,85000));\n",
    "df['airports_nearest'].describe()"
   ]
  },
  {
   "cell_type": "markdown",
   "metadata": {},
   "source": [
    "    - среднее значение = 28796.96 м \n",
    "    - медианное значение = 26729 м \n",
    "    - разброс значениий от 0 м до 84869 м"
   ]
  },
  {
   "cell_type": "code",
   "execution_count": 28,
   "metadata": {},
   "outputs": [
    {
     "data": {
      "text/plain": [
       "count    8064.000000\n",
       "mean      490.878100\n",
       "std       342.512806\n",
       "min         1.000000\n",
       "25%       288.000000\n",
       "50%       455.000000\n",
       "75%       612.000000\n",
       "max      3190.000000\n",
       "Name: parks_nearest, dtype: float64"
      ]
     },
     "execution_count": 28,
     "metadata": {},
     "output_type": "execute_result"
    },
    {
     "data": {
      "image/png": "[encoded data removed]",
      "text/plain": [
       "<Figure size 360x216 with 1 Axes>"
      ]
     },
     "metadata": {
      "needs_background": "light"
     },
     "output_type": "display_data"
    }
   ],
   "source": [
    "#удаленномть от парка\n",
    "df.plot(y = 'parks_nearest', kind = 'hist', bins = 100, grid=True, figsize = (5,3), range = (0,4000));\n",
    "df['parks_nearest'].describe()"
   ]
  },
  {
   "cell_type": "markdown",
   "metadata": {},
   "source": [
    "    - среднее значение = 490.87 м\n",
    "    - медианное значение = 455 м\n",
    "    - разброс значениий от 1 м до 3190 м"
   ]
  },
  {
   "cell_type": "code",
   "execution_count": 29,
   "metadata": {},
   "outputs": [
    {
     "data": {
      "text/plain": [
       "count    23663.000000\n",
       "mean         2.569454\n",
       "std          1.789388\n",
       "min          0.000000\n",
       "25%          1.000000\n",
       "50%          3.000000\n",
       "75%          4.000000\n",
       "max          6.000000\n",
       "Name: weekday_exp, dtype: float64"
      ]
     },
     "execution_count": 29,
     "metadata": {},
     "output_type": "execute_result"
    },
    {
     "data": {
      "image/png": "[encoded data removed]",
      "text/plain": [
       "<Figure size 360x216 with 1 Axes>"
      ]
     },
     "metadata": {
      "needs_background": "light"
     },
     "output_type": "display_data"
    }
   ],
   "source": [
    "#день недели публикации\n",
    "df.plot(y = 'weekday_exp', kind = 'hist', bins = 6, grid=True, figsize = (5,3), range = (0,7));\n",
    "df['weekday_exp'].describe()"
   ]
  },
  {
   "cell_type": "markdown",
   "metadata": {},
   "source": [
    "В будние дни выкладывается гораздо больше объявлений чем в выходные.\n",
    "- Медиана = 3 (четверг)\n",
    "- Среднее значение = 2.57"
   ]
  },
  {
   "cell_type": "code",
   "execution_count": 30,
   "metadata": {},
   "outputs": [
    {
     "data": {
      "text/plain": [
       "count    23663.000000\n",
       "mean         6.400456\n",
       "std          3.491621\n",
       "min          1.000000\n",
       "25%          3.000000\n",
       "50%          6.000000\n",
       "75%         10.000000\n",
       "max         12.000000\n",
       "Name: month_exp, dtype: float64"
      ]
     },
     "execution_count": 30,
     "metadata": {},
     "output_type": "execute_result"
    },
    {
     "data": {
      "image/png": "[encoded data removed]",
      "text/plain": [
       "<Figure size 360x216 with 1 Axes>"
      ]
     },
     "metadata": {
      "needs_background": "light"
     },
     "output_type": "display_data"
    }
   ],
   "source": [
    "#месяц публикации\n",
    "df.plot(y = 'month_exp', kind = 'hist', bins = 12, grid=True, figsize = (5,3), range = (1,12));\n",
    "df['month_exp'].describe()"
   ]
  },
  {
   "cell_type": "code",
   "execution_count": 31,
   "metadata": {},
   "outputs": [
    {
     "data": {
      "text/plain": [
       "count    23663.000000\n",
       "mean         6.400456\n",
       "std          3.491621\n",
       "min          1.000000\n",
       "25%          3.000000\n",
       "50%          6.000000\n",
       "75%         10.000000\n",
       "max         12.000000\n",
       "Name: month_exp, dtype: float64"
      ]
     },
     "execution_count": 31,
     "metadata": {},
     "output_type": "execute_result"
    },
    {
     "data": {
      "image/png": "[encoded data removed]",
      "text/plain": [
       "<Figure size 360x216 with 1 Axes>"
      ]
     },
     "metadata": {
      "needs_background": "light"
     },
     "output_type": "display_data"
    }
   ],
   "source": [
    "#функция определения квартиры по типу первый-другой-последний:\n",
    "def floor_categorize_x(row):    \n",
    "    try:\n",
    "        if row['category_by_floor'] == 'первый':\n",
    "            return 1\n",
    "        elif row['category_by_floor'] == 'последний':\n",
    "            return 2\n",
    "        else:\n",
    "            return 0\n",
    "    except:\n",
    "        pass\n",
    "    \n",
    "df['category_by_floor_2'] = df.apply(floor_categorize_x, axis=1)\n",
    "df.plot(y = 'category_by_floor_2', kind = 'hist', bins = 10, grid=True, figsize = (5,3), range = (0, 2));\n",
    "df['month_exp'].describe()"
   ]
  },
  {
   "cell_type": "markdown",
   "metadata": {},
   "source": [
    "Доля предлагаемых квартир на первом и последнем этаже значительно меньше чем на остальных этажах."
   ]
  },
  {
   "cell_type": "code",
   "execution_count": 32,
   "metadata": {},
   "outputs": [
    {
     "data": {
      "text/plain": [
       "count    20490.000000\n",
       "mean       180.872133\n",
       "std        219.748461\n",
       "min          1.000000\n",
       "25%         45.000000\n",
       "50%         95.000000\n",
       "75%        232.000000\n",
       "max       1580.000000\n",
       "Name: days_exposition, dtype: float64"
      ]
     },
     "execution_count": 32,
     "metadata": {},
     "output_type": "execute_result"
    },
    {
     "data": {
      "image/png": "[encoded data removed]",
      "text/plain": [
       "<Figure size 360x216 with 1 Axes>"
      ]
     },
     "metadata": {
      "needs_background": "light"
     },
     "output_type": "display_data"
    }
   ],
   "source": [
    "df.plot(y = 'days_exposition', kind = 'hist', bins = 100, grid=True, figsize = (5,3), range = (1,100));\n",
    "df['days_exposition'].describe()"
   ]
  },
  {
   "cell_type": "markdown",
   "metadata": {},
   "source": [
    "Встречаются аномалии на значениях 45, 60, 90 дней, связано это с тем, срок размещения объявлений для квартир стоимостью до 4,5 млн — 45 дней, от 4,5 до 10 млн — 60 дней, от 10 млн — 90 дней, эта информация указана в Яндекс.Справка, в графе \"как разместить объявление\" (https://yandex.ru/support/realty/owner/home/add-ads-housing.html), данная информация не относится к городу \"Санкт-Петербург\""
   ]
  },
  {
   "cell_type": "markdown",
   "metadata": {},
   "source": [
    "75% продаж квартир укладывается в 232 дня ( примерно 8 месяцев), такие продажи можно считать приемлемыми по срокам. Свыше года - уже большой срок для продажи квартиры."
   ]
  },
  {
   "cell_type": "code",
   "execution_count": 33,
   "metadata": {},
   "outputs": [
    {
     "data": {
      "image/png": "[encoded data removed]",
      "text/plain": [
       "<Figure size 432x288 with 1 Axes>"
      ]
     },
     "metadata": {
      "needs_background": "light"
     },
     "output_type": "display_data"
    }
   ],
   "source": [
    "df.boxplot(column='days_exposition');"
   ]
  },
  {
   "cell_type": "code",
   "execution_count": 34,
   "metadata": {},
   "outputs": [
    {
     "data": {
      "text/plain": [
       "0.30025500637894953"
      ]
     },
     "execution_count": 34,
     "metadata": {},
     "output_type": "execute_result"
    },
    {
     "data": {
      "image/png": "[encoded data removed]",
      "text/plain": [
       "<Figure size 432x288 with 1 Axes>"
      ]
     },
     "metadata": {
      "needs_background": "light"
     },
     "output_type": "display_data"
    }
   ],
   "source": [
    "#зависимость цены от общей площади\n",
    "price_total_area = df.pivot_table(index='total_area', values='price_per_sqr_meter', aggfunc=['mean', 'count', 'median'])\n",
    "price_total_area.columns = ['mean', 'count', 'median']\n",
    "price_total_area.plot(y='median', style='o');\n",
    "df['total_area'].corr(df['price_per_sqr_meter'])"
   ]
  },
  {
   "cell_type": "markdown",
   "metadata": {},
   "source": [
    "Слабая, положительная корреляция - 0.3"
   ]
  },
  {
   "cell_type": "code",
   "execution_count": 35,
   "metadata": {},
   "outputs": [
    {
     "data": {
      "text/plain": [
       "0.22292953367810395"
      ]
     },
     "execution_count": 35,
     "metadata": {},
     "output_type": "execute_result"
    },
    {
     "data": {
      "image/png": "[encoded data removed]",
      "text/plain": [
       "<Figure size 432x288 with 1 Axes>"
      ]
     },
     "metadata": {
      "needs_background": "light"
     },
     "output_type": "display_data"
    }
   ],
   "source": [
    "#зависимость цены от жилой площади\n",
    "price_living_area = df.pivot_table(index='living_area', values='price_per_sqr_meter', aggfunc=['mean', 'count', 'median'])\n",
    "price_living_area.columns = ['mean', 'count', 'median']\n",
    "price_living_area.plot(y='median', style='o');\n",
    "df['living_area'].corr(df['price_per_sqr_meter'])"
   ]
  },
  {
   "cell_type": "markdown",
   "metadata": {},
   "source": [
    "Очень слабая, положительная корреляция - 0.22"
   ]
  },
  {
   "cell_type": "code",
   "execution_count": 36,
   "metadata": {},
   "outputs": [
    {
     "data": {
      "text/plain": [
       "0.3966827268492754"
      ]
     },
     "execution_count": 36,
     "metadata": {},
     "output_type": "execute_result"
    },
    {
     "data": {
      "image/png": "[encoded data removed]",
      "text/plain": [
       "<Figure size 432x288 with 1 Axes>"
      ]
     },
     "metadata": {
      "needs_background": "light"
     },
     "output_type": "display_data"
    }
   ],
   "source": [
    "#зависимость цены от площади кухни\n",
    "price_kitchen_area = df.pivot_table(index='kitchen_area', values='price_per_sqr_meter', aggfunc=['mean', 'count', 'median'])\n",
    "price_kitchen_area.columns = ['mean', 'count', 'median']\n",
    "price_kitchen_area.plot(y='median', style='o')\n",
    "df['kitchen_area'].corr(df['price_per_sqr_meter'])"
   ]
  },
  {
   "cell_type": "markdown",
   "metadata": {},
   "source": [
    "Зависимость площади кухни от цены за квадратный метр наблюдается выше чем от общей и жилой площади: \n",
    "\n",
    "слабая, положительная корреляция - 0.39"
   ]
  },
  {
   "cell_type": "code",
   "execution_count": 37,
   "metadata": {},
   "outputs": [
    {
     "data": {
      "text/plain": [
       "0.05411263983544008"
      ]
     },
     "execution_count": 37,
     "metadata": {},
     "output_type": "execute_result"
    },
    {
     "data": {
      "image/png": "[encoded data removed]",
      "text/plain": [
       "<Figure size 432x288 with 1 Axes>"
      ]
     },
     "metadata": {
      "needs_background": "light"
     },
     "output_type": "display_data"
    }
   ],
   "source": [
    "#зависимость цены от количества комнат\n",
    "price_total_rooms = df.pivot_table(index='rooms', values='price_per_sqr_meter', aggfunc=['mean', 'count', 'median'])\n",
    "price_total_rooms.columns = ['mean', 'count', 'median']\n",
    "price_total_rooms.query('count > 50').plot(y='median')\n",
    "df['rooms'].corr(df['price_per_sqr_meter'])"
   ]
  },
  {
   "cell_type": "markdown",
   "metadata": {},
   "source": [
    "Чем ближе квартира по характеристике \"количество комнат\" к значению - 3, тем ниже стоимость одного квадратного метра!"
   ]
  },
  {
   "cell_type": "code",
   "execution_count": 38,
   "metadata": {},
   "outputs": [
    {
     "data": {
      "text/plain": [
       "-0.00680636135942301"
      ]
     },
     "execution_count": 38,
     "metadata": {},
     "output_type": "execute_result"
    },
    {
     "data": {
      "image/png": "[encoded data removed]",
      "text/plain": [
       "<Figure size 432x288 with 1 Axes>"
      ]
     },
     "metadata": {
      "needs_background": "light"
     },
     "output_type": "display_data"
    }
   ],
   "source": [
    "#зависимость цены от типа этажа\n",
    "price_weekday_exp = df.pivot_table(index='weekday_exp', values='price_per_sqr_meter', aggfunc=['mean', 'count', 'median'])\n",
    "price_weekday_exp.columns = ['mean', 'count', 'median']\n",
    "price_weekday_exp.plot(y='median')\n",
    "df['weekday_exp'].corr(df['price_per_sqr_meter'])"
   ]
  },
  {
   "cell_type": "markdown",
   "metadata": {},
   "source": [
    "В субботу во всех выкладываемых объявлениях стоимость одного квадратного метра наименьшая, но очень незначительная."
   ]
  },
  {
   "cell_type": "code",
   "execution_count": 39,
   "metadata": {},
   "outputs": [
    {
     "data": {
      "text/plain": [
       "<AxesSubplot:xlabel='category_by_floor'>"
      ]
     },
     "execution_count": 39,
     "metadata": {},
     "output_type": "execute_result"
    },
    {
     "data": {
      "image/png": "[encoded data removed]",
      "text/plain": [
       "<Figure size 432x288 with 1 Axes>"
      ]
     },
     "metadata": {
      "needs_background": "light"
     },
     "output_type": "display_data"
    }
   ],
   "source": [
    "#зависимость цены от дня недели размещения объявления\n",
    "price_category_by_floor = df.pivot_table(index='category_by_floor', values='price_per_sqr_meter', aggfunc=['mean', 'count', 'median'])\n",
    "price_category_by_floor.columns = ['mean', 'count', 'median']\n",
    "price_category_by_floor.plot(y='median')"
   ]
  },
  {
   "cell_type": "markdown",
   "metadata": {},
   "source": [
    "По данному графику можно явно выделить следующее:\n",
    "- на первом этаже медианная стоимость за квадратный метр самая низкая\n",
    "- на последнем этаже - ниже чем на других, но выше чем на первом"
   ]
  },
  {
   "cell_type": "code",
   "execution_count": 40,
   "metadata": {},
   "outputs": [
    {
     "data": {
      "text/plain": [
       "-0.00265163452305725"
      ]
     },
     "execution_count": 40,
     "metadata": {},
     "output_type": "execute_result"
    },
    {
     "data": {
      "image/png": "[encoded data removed]",
      "text/plain": [
       "<Figure size 432x288 with 1 Axes>"
      ]
     },
     "metadata": {
      "needs_background": "light"
     },
     "output_type": "display_data"
    }
   ],
   "source": [
    "#зависимость цены от месяца размещения объявления\n",
    "price_month_exp = df.pivot_table(index='month_exp', values='price_per_sqr_meter', aggfunc=['mean', 'count', 'median'])\n",
    "price_month_exp.columns = ['mean', 'count', 'median']\n",
    "price_month_exp.plot(y='median')\n",
    "df['month_exp'].corr(df['price_per_sqr_meter'])"
   ]
  },
  {
   "cell_type": "markdown",
   "metadata": {},
   "source": [
    "В середине года стоимость одного квадратного метра в публикуемых объявлениях незначительно ниже."
   ]
  },
  {
   "cell_type": "code",
   "execution_count": 41,
   "metadata": {},
   "outputs": [
    {
     "data": {
      "text/plain": [
       "0.00886048904868649"
      ]
     },
     "execution_count": 41,
     "metadata": {},
     "output_type": "execute_result"
    },
    {
     "data": {
      "image/png": "[encoded data removed]",
      "text/plain": [
       "<Figure size 432x288 with 1 Axes>"
      ]
     },
     "metadata": {
      "needs_background": "light"
     },
     "output_type": "display_data"
    }
   ],
   "source": [
    "#зависимость цены от года размещения объявления\n",
    "price_year_exp = df.pivot_table(index='year_exp', values='price_per_sqr_meter', aggfunc=['mean', 'count', 'median'])\n",
    "price_year_exp.columns = ['mean', 'count', 'median']\n",
    "price_year_exp.plot(y='median')\n",
    "df['year_exp'].corr(df['price_per_sqr_meter'])"
   ]
  },
  {
   "cell_type": "markdown",
   "metadata": {},
   "source": [
    "Коэффициент корреляции очень близок к нулю, но тенденцию роста цены за квадратный метр на протяжении с 2014 по 2019 год хорошо видно на графике.\n",
    "\n",
    "Самая низкая цена за квадратный метр в публикуемых объявлениях была с 2015 по первую половину 2017 года."
   ]
  },
  {
   "cell_type": "code",
   "execution_count": 42,
   "metadata": {},
   "outputs": [
    {
     "data": {
      "text/plain": [
       "0.6522654172002423"
      ]
     },
     "execution_count": 42,
     "metadata": {},
     "output_type": "execute_result"
    },
    {
     "data": {
      "image/png": "[encoded data removed]",
      "text/plain": [
       "<Figure size 432x288 with 1 Axes>"
      ]
     },
     "metadata": {
      "needs_background": "light"
     },
     "output_type": "display_data"
    }
   ],
   "source": [
    "price_area = df.pivot_table(index='total_area', values='last_price_mln', aggfunc=['mean', 'count', 'median'])\n",
    "price_area.columns = ['mean', 'count', 'median']\n",
    "price_area.plot(y='median')\n",
    "df['total_area'].corr(df['last_price_mln'])"
   ]
  },
  {
   "cell_type": "markdown",
   "metadata": {},
   "source": [
    "Коэффициент корреляции = 0.65, зависимость стоимости продаваемой квартиры от ее полной площади средняя."
   ]
  },
  {
   "cell_type": "code",
   "execution_count": 43,
   "metadata": {},
   "outputs": [
    {
     "data": {
      "text/plain": [
       "-0.07899448537959498"
      ]
     },
     "execution_count": 43,
     "metadata": {},
     "output_type": "execute_result"
    },
    {
     "data": {
      "image/png": "[encoded data removed]",
      "text/plain": [
       "<Figure size 432x288 with 1 Axes>"
      ]
     },
     "metadata": {
      "needs_background": "light"
     },
     "output_type": "display_data"
    }
   ],
   "source": [
    "year_area = df.pivot_table(index='total_area', values='year_exp', aggfunc=['mean', 'count', 'median'])\n",
    "year_area.columns = ['mean', 'count', 'median']\n",
    "year_area.plot(y='median')\n",
    "df['total_area'].corr(df['year_exp'])"
   ]
  },
  {
   "cell_type": "markdown",
   "metadata": {},
   "source": [
    "Коэффициент корреляции = - 0.07, зависимость площади продаваемой квартиры от года продажи отсутствует."
   ]
  },
  {
   "cell_type": "code",
   "execution_count": 44,
   "metadata": {},
   "outputs": [],
   "source": [
    "#выборка из 10 населенных пунктов с наибольшим количеством объявлений\n",
    "df['id'] = 1\n",
    "top_names = df.groupby(\n",
    "    'locality_name')['id'].sum().reset_index().sort_values(\n",
    "    by='id', ascending=False).head(10)['locality_name']"
   ]
  },
  {
   "cell_type": "code",
   "execution_count": 45,
   "metadata": {},
   "outputs": [
    {
     "data": {
      "text/plain": [
       "309      санкт-петербург\n",
       "218       поселок мурино\n",
       "299       поселок шушары\n",
       "3             всеволожск\n",
       "303               пушкин\n",
       "131              колпино\n",
       "228    поселок парголово\n",
       "6                гатчина\n",
       "56       деревня кудрово\n",
       "4                 выборг\n",
       "Name: locality_name, dtype: object"
      ]
     },
     "execution_count": 45,
     "metadata": {},
     "output_type": "execute_result"
    }
   ],
   "source": [
    "top_names"
   ]
  },
  {
   "cell_type": "code",
   "execution_count": 46,
   "metadata": {},
   "outputs": [
    {
     "data": {
      "text/html": [
       "<div>\n",
       "<style scoped>\n",
       "    .dataframe tbody tr th:only-of-type {\n",
       "        vertical-align: middle;\n",
       "    }\n",
       "\n",
       "    .dataframe tbody tr th {\n",
       "        vertical-align: top;\n",
       "    }\n",
       "\n",
       "    .dataframe thead th {\n",
       "        text-align: right;\n",
       "    }\n",
       "</style>\n",
       "<table border=\"1\" class=\"dataframe\">\n",
       "  <thead>\n",
       "    <tr style=\"text-align: right;\">\n",
       "      <th></th>\n",
       "      <th>locality_name</th>\n",
       "      <th>price_per_sqr_meter</th>\n",
       "    </tr>\n",
       "  </thead>\n",
       "  <tbody>\n",
       "    <tr>\n",
       "      <th>9</th>\n",
       "      <td>санкт-петербург</td>\n",
       "      <td>104761.0</td>\n",
       "    </tr>\n",
       "    <tr>\n",
       "      <th>8</th>\n",
       "      <td>пушкин</td>\n",
       "      <td>100000.0</td>\n",
       "    </tr>\n",
       "    <tr>\n",
       "      <th>3</th>\n",
       "      <td>деревня кудрово</td>\n",
       "      <td>91860.0</td>\n",
       "    </tr>\n",
       "    <tr>\n",
       "      <th>6</th>\n",
       "      <td>поселок парголово</td>\n",
       "      <td>91642.0</td>\n",
       "    </tr>\n",
       "    <tr>\n",
       "      <th>5</th>\n",
       "      <td>поселок мурино</td>\n",
       "      <td>85878.0</td>\n",
       "    </tr>\n",
       "    <tr>\n",
       "      <th>7</th>\n",
       "      <td>поселок шушары</td>\n",
       "      <td>76876.0</td>\n",
       "    </tr>\n",
       "    <tr>\n",
       "      <th>4</th>\n",
       "      <td>колпино</td>\n",
       "      <td>74723.5</td>\n",
       "    </tr>\n",
       "    <tr>\n",
       "      <th>2</th>\n",
       "      <td>гатчина</td>\n",
       "      <td>67860.0</td>\n",
       "    </tr>\n",
       "    <tr>\n",
       "      <th>0</th>\n",
       "      <td>всеволожск</td>\n",
       "      <td>65789.0</td>\n",
       "    </tr>\n",
       "    <tr>\n",
       "      <th>1</th>\n",
       "      <td>выборг</td>\n",
       "      <td>58158.0</td>\n",
       "    </tr>\n",
       "  </tbody>\n",
       "</table>\n",
       "</div>"
      ],
      "text/plain": [
       "       locality_name  price_per_sqr_meter\n",
       "9    санкт-петербург             104761.0\n",
       "8             пушкин             100000.0\n",
       "3    деревня кудрово              91860.0\n",
       "6  поселок парголово              91642.0\n",
       "5     поселок мурино              85878.0\n",
       "7     поселок шушары              76876.0\n",
       "4            колпино              74723.5\n",
       "2            гатчина              67860.0\n",
       "0         всеволожск              65789.0\n",
       "1             выборг              58158.0"
      ]
     },
     "execution_count": 46,
     "metadata": {},
     "output_type": "execute_result"
    }
   ],
   "source": [
    "df.query(\n",
    "    'locality_name in @top_names').groupby(\n",
    "    'locality_name', dropna=True).agg({\n",
    "    'price_per_sqr_meter': 'median'}).reset_index().sort_values(\n",
    "    by='price_per_sqr_meter', ascending=False)"
   ]
  },
  {
   "cell_type": "markdown",
   "metadata": {},
   "source": [
    "Самое дорогой квадратный метр жилья находится в Санкт-Петербурге, а в Выборге этот показатель почти в два раза меньше."
   ]
  },
  {
   "cell_type": "code",
   "execution_count": 47,
   "metadata": {},
   "outputs": [
    {
     "name": "stderr",
     "output_type": "stream",
     "text": [
      "/tmp/ipykernel_575/1466610242.py:2: SettingWithCopyWarning: \n",
      "A value is trying to be set on a copy of a slice from a DataFrame.\n",
      "Try using .loc[row_indexer,col_indexer] = value instead\n",
      "\n",
      "See the caveats in the documentation: https://pandas.pydata.org/pandas-docs/stable/user_guide/indexing.html#returning-a-view-versus-a-copy\n",
      "  df1['center_distance_km'] = df1['center_distance_km'].astype('int64') #округление расстояния до центра в километрах\n"
     ]
    }
   ],
   "source": [
    "df1 = df[~df['center_distance_km'].isna()]\n",
    "df1['center_distance_km'] = df1['center_distance_km'].astype('int64') #округление расстояния до центра в километрах"
   ]
  },
  {
   "cell_type": "code",
   "execution_count": 48,
   "metadata": {},
   "outputs": [
    {
     "data": {
      "image/png": "[encoded data removed]",
      "text/plain": [
       "<Figure size 432x288 with 1 Axes>"
      ]
     },
     "metadata": {
      "needs_background": "light"
     },
     "output_type": "display_data"
    }
   ],
   "source": [
    "df1.query(\n",
    "    'locality_name == \"санкт-петербург\"').groupby(\n",
    "    'center_distance_km').agg({\n",
    "    'last_price': 'mean'}).reset_index().sort_values(\n",
    "    by='center_distance_km', ascending=True).plot(\n",
    "    y='last_price', \n",
    "    grid = True,\n",
    "    title = 'Заголовок');"
   ]
  },
  {
   "cell_type": "markdown",
   "metadata": {},
   "source": [
    "На расстоянии 3км от центра Санкт-Петербурга, стоимость жилья дешевле чем на удалении в 5км."
   ]
  },
  {
   "cell_type": "markdown",
   "metadata": {},
   "source": [
    "### Общий вывод"
   ]
  },
  {
   "cell_type": "markdown",
   "metadata": {},
   "source": [
    "Во время выполнения задания была проделана следующая работа: \n",
    "- обработаны пропущенные значения\n",
    "- удалены неявные дубликаты\n",
    "- заменен тип данных где это было необходимо для дальнейшего анализа\n",
    "- посчитана и добавлена стоимость жилья за квадратный метр\n",
    "- добавлен тип этажа (первый, последний, другой)\n",
    "\n",
    "Изучены следующие параметры:\n",
    "- выбивающиеся значения\n",
    "- аномалии\n",
    "\n",
    "\n",
    "Выявили что встречаются аномалии на значениях 45, 60, 90 дней, связано это с тем, срок размещения объявлений для квартир стоимостью до 4,5 млн — 45 дней, от 4,5 до 10 млн — 60 дней, от 10 млн — 90 дней, эта информация указана в Яндекс.Справка, в графе \"как разместить объявление\" (https://yandex.ru/support/realty/owner/home/add-ads-housing.html), данная информация не относится к городу \"Санкт-Петербург\".\n",
    "\n",
    "Стоимость жилья зависит от:\n",
    "- количества комнат\n",
    "- типа этажа (первый, последний, другой)\n",
    "- населенный пункт, в котором находится квартира\n",
    "- удаленность от центра города\n",
    "- площади \n",
    "\n",
    "Стоимость жилья не зависит, или слабо зависит от:\n",
    "- жилой площади\n",
    "- общей площади\n",
    "- площади кухни\n",
    "- дня недели\n",
    "- месяца публикации \n",
    "\n",
    "С начала 2015 года по середину 2017, стоимость жилья была значительно ниже остальных периодов.\n",
    "Самое дорогое жилье находится в Санкт-Петербурге, чем ближе к центру - тем дороже. На удалении 3 км от центра стоимость квадратного метра ниже чем на удалении в 5 км.\n",
    "75% опубликованных квартир продается за 232 дня."
   ]
  }
 ],
 "metadata": {
  "ExecuteTimeLog": [
   {
    "duration": 592,
    "start_time": "2022-08-23T22:23:29.050Z"
   },
   {
    "duration": 80,
    "start_time": "2022-08-23T22:24:53.598Z"
   },
   {
    "duration": 98,
    "start_time": "2022-08-23T22:25:19.499Z"
   },
   {
    "duration": 148,
    "start_time": "2022-08-23T22:25:33.799Z"
   },
   {
    "duration": 67,
    "start_time": "2022-08-23T22:26:06.660Z"
   },
   {
    "duration": 100,
    "start_time": "2022-08-23T22:26:16.724Z"
   },
   {
    "duration": 8,
    "start_time": "2022-08-23T22:26:18.918Z"
   },
   {
    "duration": 100,
    "start_time": "2022-08-23T22:26:20.679Z"
   },
   {
    "duration": 107,
    "start_time": "2022-08-23T22:26:24.239Z"
   },
   {
    "duration": 17,
    "start_time": "2022-08-23T22:26:26.998Z"
   },
   {
    "duration": 110,
    "start_time": "2022-08-23T22:26:43.758Z"
   },
   {
    "duration": 2661,
    "start_time": "2022-08-23T22:27:37.608Z"
   },
   {
    "duration": 1834,
    "start_time": "2022-08-23T22:28:09.047Z"
   },
   {
    "duration": 2356,
    "start_time": "2022-08-23T22:28:24.908Z"
   },
   {
    "duration": 126,
    "start_time": "2022-08-23T22:30:57.697Z"
   },
   {
    "duration": 134,
    "start_time": "2022-08-23T22:31:27.078Z"
   },
   {
    "duration": 17,
    "start_time": "2022-08-23T22:33:17.688Z"
   },
   {
    "duration": 1991,
    "start_time": "2022-08-23T22:33:25.628Z"
   },
   {
    "duration": 59,
    "start_time": "2022-08-26T12:53:36.492Z"
   },
   {
    "duration": 748,
    "start_time": "2022-08-26T12:53:43.406Z"
   },
   {
    "duration": 14,
    "start_time": "2022-08-26T12:53:44.156Z"
   },
   {
    "duration": 2483,
    "start_time": "2022-08-26T12:53:44.172Z"
   },
   {
    "duration": 6,
    "start_time": "2022-08-26T12:53:46.658Z"
   },
   {
    "duration": 6,
    "start_time": "2022-08-26T12:54:18.585Z"
   },
   {
    "duration": 10,
    "start_time": "2022-08-26T12:56:30.287Z"
   },
   {
    "duration": 5,
    "start_time": "2022-08-26T12:56:41.287Z"
   },
   {
    "duration": 6,
    "start_time": "2022-08-26T12:57:48.335Z"
   },
   {
    "duration": 6,
    "start_time": "2022-08-26T12:58:03.864Z"
   },
   {
    "duration": 6,
    "start_time": "2022-08-26T12:59:10.715Z"
   },
   {
    "duration": 8,
    "start_time": "2022-08-26T13:02:06.285Z"
   },
   {
    "duration": 5,
    "start_time": "2022-08-26T13:03:46.674Z"
   },
   {
    "duration": 7,
    "start_time": "2022-08-26T13:05:00.115Z"
   },
   {
    "duration": 6,
    "start_time": "2022-08-26T13:26:32.126Z"
   },
   {
    "duration": 51,
    "start_time": "2022-08-28T09:47:23.371Z"
   },
   {
    "duration": 738,
    "start_time": "2022-08-28T09:47:29.222Z"
   },
   {
    "duration": 14,
    "start_time": "2022-08-28T09:47:29.962Z"
   },
   {
    "duration": 6,
    "start_time": "2022-08-28T09:47:29.978Z"
   },
   {
    "duration": 2246,
    "start_time": "2022-08-28T09:47:29.985Z"
   },
   {
    "duration": 18,
    "start_time": "2022-08-28T09:47:32.238Z"
   },
   {
    "duration": 18,
    "start_time": "2022-08-28T09:47:59.060Z"
   },
   {
    "duration": 3,
    "start_time": "2022-08-28T09:48:11.876Z"
   },
   {
    "duration": 4,
    "start_time": "2022-08-28T09:49:08.814Z"
   },
   {
    "duration": 19,
    "start_time": "2022-08-28T09:49:22.590Z"
   },
   {
    "duration": 21,
    "start_time": "2022-08-28T09:49:54.011Z"
   },
   {
    "duration": 4,
    "start_time": "2022-08-28T09:50:17.861Z"
   },
   {
    "duration": 31,
    "start_time": "2022-08-28T09:55:35.521Z"
   },
   {
    "duration": 39,
    "start_time": "2022-08-28T09:55:56.911Z"
   },
   {
    "duration": 33,
    "start_time": "2022-08-28T09:57:56.571Z"
   },
   {
    "duration": 46,
    "start_time": "2022-08-28T09:58:03.860Z"
   },
   {
    "duration": 2754,
    "start_time": "2022-08-28T10:00:34.022Z"
   },
   {
    "duration": 2379,
    "start_time": "2022-08-28T10:29:48.180Z"
   },
   {
    "duration": 25746,
    "start_time": "2022-08-28T10:30:11.121Z"
   },
   {
    "duration": 2368,
    "start_time": "2022-08-28T10:31:07.981Z"
   },
   {
    "duration": 2255,
    "start_time": "2022-08-28T10:31:49.151Z"
   },
   {
    "duration": 2019,
    "start_time": "2022-08-28T10:32:39.368Z"
   },
   {
    "duration": 37,
    "start_time": "2022-08-28T10:33:48.700Z"
   },
   {
    "duration": 36,
    "start_time": "2022-08-28T10:34:28.970Z"
   },
   {
    "duration": 28,
    "start_time": "2022-08-28T10:34:31.183Z"
   },
   {
    "duration": 6,
    "start_time": "2022-08-28T10:44:18.021Z"
   },
   {
    "duration": 77,
    "start_time": "2022-08-28T10:44:54.250Z"
   },
   {
    "duration": 8,
    "start_time": "2022-08-28T10:45:10.094Z"
   },
   {
    "duration": 5,
    "start_time": "2022-08-28T10:45:33.077Z"
   },
   {
    "duration": 6,
    "start_time": "2022-08-28T10:47:03.387Z"
   },
   {
    "duration": 40,
    "start_time": "2022-08-28T10:49:02.990Z"
   },
   {
    "duration": 505,
    "start_time": "2022-08-28T10:58:31.291Z"
   },
   {
    "duration": 15,
    "start_time": "2022-08-28T10:58:31.797Z"
   },
   {
    "duration": 6,
    "start_time": "2022-08-28T10:58:31.813Z"
   },
   {
    "duration": 2079,
    "start_time": "2022-08-28T10:58:31.839Z"
   },
   {
    "duration": 7,
    "start_time": "2022-08-28T10:58:33.920Z"
   },
   {
    "duration": 41,
    "start_time": "2022-08-28T10:58:33.939Z"
   },
   {
    "duration": 42,
    "start_time": "2022-08-28T10:58:33.981Z"
   },
   {
    "duration": 586,
    "start_time": "2022-08-28T11:10:01.022Z"
   },
   {
    "duration": 1,
    "start_time": "2022-08-28T11:10:01.609Z"
   },
   {
    "duration": 0,
    "start_time": "2022-08-28T11:10:01.611Z"
   },
   {
    "duration": 0,
    "start_time": "2022-08-28T11:10:01.612Z"
   },
   {
    "duration": 0,
    "start_time": "2022-08-28T11:10:01.613Z"
   },
   {
    "duration": 0,
    "start_time": "2022-08-28T11:10:01.614Z"
   },
   {
    "duration": 0,
    "start_time": "2022-08-28T11:10:01.615Z"
   },
   {
    "duration": 114,
    "start_time": "2022-08-28T11:10:13.053Z"
   },
   {
    "duration": 8,
    "start_time": "2022-08-28T11:10:19.133Z"
   },
   {
    "duration": 2110,
    "start_time": "2022-08-28T11:10:22.983Z"
   },
   {
    "duration": 8,
    "start_time": "2022-08-28T11:13:43.534Z"
   },
   {
    "duration": 18,
    "start_time": "2022-08-28T11:13:57.475Z"
   },
   {
    "duration": 6,
    "start_time": "2022-08-28T11:16:02.028Z"
   },
   {
    "duration": 19,
    "start_time": "2022-08-28T11:16:21.572Z"
   },
   {
    "duration": 4,
    "start_time": "2022-08-28T11:16:31.740Z"
   },
   {
    "duration": 13,
    "start_time": "2022-08-28T11:16:46.571Z"
   },
   {
    "duration": 8,
    "start_time": "2022-08-28T11:20:12.252Z"
   },
   {
    "duration": 5,
    "start_time": "2022-08-28T11:20:17.292Z"
   },
   {
    "duration": 15,
    "start_time": "2022-08-28T11:20:24.646Z"
   },
   {
    "duration": 17,
    "start_time": "2022-08-28T11:24:56.972Z"
   },
   {
    "duration": 16,
    "start_time": "2022-08-28T11:27:54.186Z"
   },
   {
    "duration": 4,
    "start_time": "2022-08-28T11:28:01.082Z"
   },
   {
    "duration": 490,
    "start_time": "2022-08-28T11:28:08.198Z"
   },
   {
    "duration": 15,
    "start_time": "2022-08-28T11:28:08.690Z"
   },
   {
    "duration": 7,
    "start_time": "2022-08-28T11:28:08.706Z"
   },
   {
    "duration": 2273,
    "start_time": "2022-08-28T11:28:08.714Z"
   },
   {
    "duration": 7,
    "start_time": "2022-08-28T11:28:10.989Z"
   },
   {
    "duration": 95,
    "start_time": "2022-08-28T11:28:10.998Z"
   },
   {
    "duration": 0,
    "start_time": "2022-08-28T11:28:11.095Z"
   },
   {
    "duration": 20,
    "start_time": "2022-08-28T11:28:39.060Z"
   },
   {
    "duration": 526,
    "start_time": "2022-08-28T11:51:16.561Z"
   },
   {
    "duration": 14,
    "start_time": "2022-08-28T11:51:17.089Z"
   },
   {
    "duration": 21,
    "start_time": "2022-08-28T11:51:17.105Z"
   },
   {
    "duration": 2107,
    "start_time": "2022-08-28T11:51:17.127Z"
   },
   {
    "duration": 7,
    "start_time": "2022-08-28T11:51:19.237Z"
   },
   {
    "duration": 8,
    "start_time": "2022-08-28T11:51:19.246Z"
   },
   {
    "duration": 49,
    "start_time": "2022-08-28T11:51:19.256Z"
   },
   {
    "duration": 0,
    "start_time": "2022-08-28T11:51:19.307Z"
   },
   {
    "duration": 4,
    "start_time": "2022-08-28T11:53:49.494Z"
   },
   {
    "duration": 7,
    "start_time": "2022-08-28T11:55:19.564Z"
   },
   {
    "duration": 520,
    "start_time": "2022-08-28T11:55:43.150Z"
   },
   {
    "duration": 17,
    "start_time": "2022-08-28T11:55:43.672Z"
   },
   {
    "duration": 6,
    "start_time": "2022-08-28T11:55:43.691Z"
   },
   {
    "duration": 2101,
    "start_time": "2022-08-28T11:55:43.699Z"
   },
   {
    "duration": 7,
    "start_time": "2022-08-28T11:55:45.802Z"
   },
   {
    "duration": 84,
    "start_time": "2022-08-28T11:55:45.811Z"
   },
   {
    "duration": 0,
    "start_time": "2022-08-28T11:55:45.897Z"
   },
   {
    "duration": 0,
    "start_time": "2022-08-28T11:55:45.898Z"
   },
   {
    "duration": 6,
    "start_time": "2022-08-28T11:55:59.792Z"
   },
   {
    "duration": 481,
    "start_time": "2022-08-28T12:02:45.291Z"
   },
   {
    "duration": 16,
    "start_time": "2022-08-28T12:02:45.775Z"
   },
   {
    "duration": 14,
    "start_time": "2022-08-28T12:02:45.793Z"
   },
   {
    "duration": 2127,
    "start_time": "2022-08-28T12:02:45.809Z"
   },
   {
    "duration": 9,
    "start_time": "2022-08-28T12:02:47.938Z"
   },
   {
    "duration": 27,
    "start_time": "2022-08-28T12:02:47.948Z"
   },
   {
    "duration": 21,
    "start_time": "2022-08-28T12:02:47.976Z"
   },
   {
    "duration": 68,
    "start_time": "2022-08-28T12:02:47.998Z"
   },
   {
    "duration": 6,
    "start_time": "2022-08-28T12:03:08.380Z"
   },
   {
    "duration": 49,
    "start_time": "2022-08-29T22:45:49.924Z"
   },
   {
    "duration": 5,
    "start_time": "2022-08-29T22:45:58.014Z"
   },
   {
    "duration": 750,
    "start_time": "2022-08-29T22:46:05.974Z"
   },
   {
    "duration": 12,
    "start_time": "2022-08-29T22:46:06.726Z"
   },
   {
    "duration": 2005,
    "start_time": "2022-08-29T22:46:06.739Z"
   },
   {
    "duration": 3,
    "start_time": "2022-08-29T22:46:08.746Z"
   },
   {
    "duration": 12,
    "start_time": "2022-08-29T22:46:08.751Z"
   },
   {
    "duration": 7,
    "start_time": "2022-08-29T22:46:08.764Z"
   },
   {
    "duration": 4,
    "start_time": "2022-08-29T22:46:08.772Z"
   },
   {
    "duration": 14,
    "start_time": "2022-08-29T22:46:28.571Z"
   },
   {
    "duration": 4,
    "start_time": "2022-08-29T22:46:37.844Z"
   },
   {
    "duration": 15,
    "start_time": "2022-08-29T22:47:19.774Z"
   },
   {
    "duration": 3,
    "start_time": "2022-08-29T22:47:33.976Z"
   },
   {
    "duration": 3,
    "start_time": "2022-08-29T22:48:11.526Z"
   },
   {
    "duration": 106,
    "start_time": "2022-08-29T22:54:29.124Z"
   },
   {
    "duration": 47,
    "start_time": "2022-08-29T22:56:24.175Z"
   },
   {
    "duration": 28,
    "start_time": "2022-08-29T22:56:41.313Z"
   },
   {
    "duration": 10,
    "start_time": "2022-08-29T22:56:56.429Z"
   },
   {
    "duration": 21,
    "start_time": "2022-08-29T22:58:52.312Z"
   },
   {
    "duration": 3,
    "start_time": "2022-08-29T22:59:18.861Z"
   },
   {
    "duration": 9,
    "start_time": "2022-08-29T23:01:08.930Z"
   },
   {
    "duration": 3,
    "start_time": "2022-08-29T23:02:51.571Z"
   },
   {
    "duration": 8,
    "start_time": "2022-08-29T23:03:50.572Z"
   },
   {
    "duration": 501,
    "start_time": "2022-08-29T23:22:16.383Z"
   },
   {
    "duration": 17,
    "start_time": "2022-08-29T23:22:16.885Z"
   },
   {
    "duration": 1829,
    "start_time": "2022-08-29T23:22:16.904Z"
   },
   {
    "duration": 2,
    "start_time": "2022-08-29T23:22:18.735Z"
   },
   {
    "duration": 13,
    "start_time": "2022-08-29T23:22:18.738Z"
   },
   {
    "duration": 9,
    "start_time": "2022-08-29T23:22:18.752Z"
   },
   {
    "duration": 5,
    "start_time": "2022-08-29T23:22:18.762Z"
   },
   {
    "duration": 18,
    "start_time": "2022-08-29T23:22:18.768Z"
   },
   {
    "duration": 20,
    "start_time": "2022-08-29T23:22:40.084Z"
   },
   {
    "duration": 23,
    "start_time": "2022-08-29T23:23:22.813Z"
   },
   {
    "duration": 8,
    "start_time": "2022-08-29T23:24:29.818Z"
   },
   {
    "duration": 9,
    "start_time": "2022-08-29T23:24:47.117Z"
   },
   {
    "duration": 5,
    "start_time": "2022-08-29T23:26:17.730Z"
   },
   {
    "duration": 8,
    "start_time": "2022-08-29T23:26:36.443Z"
   },
   {
    "duration": 11,
    "start_time": "2022-08-29T23:27:19.766Z"
   },
   {
    "duration": 9,
    "start_time": "2022-08-29T23:29:24.170Z"
   },
   {
    "duration": 1067,
    "start_time": "2022-08-29T23:31:56.488Z"
   },
   {
    "duration": 5,
    "start_time": "2022-08-29T23:32:34.358Z"
   },
   {
    "duration": 522,
    "start_time": "2022-08-29T23:32:39.782Z"
   },
   {
    "duration": 14,
    "start_time": "2022-08-29T23:32:40.306Z"
   },
   {
    "duration": 1847,
    "start_time": "2022-08-29T23:32:40.322Z"
   },
   {
    "duration": 2,
    "start_time": "2022-08-29T23:32:42.172Z"
   },
   {
    "duration": 14,
    "start_time": "2022-08-29T23:32:42.176Z"
   },
   {
    "duration": 16,
    "start_time": "2022-08-29T23:32:42.192Z"
   },
   {
    "duration": 6,
    "start_time": "2022-08-29T23:32:42.210Z"
   },
   {
    "duration": 11,
    "start_time": "2022-08-29T23:32:42.217Z"
   },
   {
    "duration": 5,
    "start_time": "2022-08-29T23:32:42.229Z"
   },
   {
    "duration": 3,
    "start_time": "2022-08-29T23:34:54.727Z"
   },
   {
    "duration": 6,
    "start_time": "2022-08-29T23:36:07.800Z"
   },
   {
    "duration": 31,
    "start_time": "2022-08-29T23:36:28.281Z"
   },
   {
    "duration": 3,
    "start_time": "2022-08-29T23:37:02.302Z"
   },
   {
    "duration": 544,
    "start_time": "2022-08-29T23:37:43.970Z"
   },
   {
    "duration": 15,
    "start_time": "2022-08-29T23:37:44.517Z"
   },
   {
    "duration": 1880,
    "start_time": "2022-08-29T23:37:44.533Z"
   },
   {
    "duration": 3,
    "start_time": "2022-08-29T23:37:46.415Z"
   },
   {
    "duration": 11,
    "start_time": "2022-08-29T23:37:46.419Z"
   },
   {
    "duration": 6,
    "start_time": "2022-08-29T23:37:46.431Z"
   },
   {
    "duration": 10,
    "start_time": "2022-08-29T23:37:46.439Z"
   },
   {
    "duration": 7,
    "start_time": "2022-08-29T23:37:46.451Z"
   },
   {
    "duration": 5,
    "start_time": "2022-08-29T23:37:46.459Z"
   },
   {
    "duration": 4,
    "start_time": "2022-08-29T23:37:46.466Z"
   },
   {
    "duration": 13,
    "start_time": "2022-08-29T23:37:55.890Z"
   },
   {
    "duration": 6,
    "start_time": "2022-08-29T23:43:47.292Z"
   },
   {
    "duration": 6,
    "start_time": "2022-08-29T23:44:15.914Z"
   },
   {
    "duration": 14,
    "start_time": "2022-08-29T23:47:14.694Z"
   },
   {
    "duration": 5,
    "start_time": "2022-08-29T23:47:49.452Z"
   },
   {
    "duration": 12,
    "start_time": "2022-08-29T23:47:52.723Z"
   },
   {
    "duration": 5,
    "start_time": "2022-08-29T23:48:32.782Z"
   },
   {
    "duration": 13,
    "start_time": "2022-08-29T23:50:19.111Z"
   },
   {
    "duration": 4,
    "start_time": "2022-08-29T23:50:49.732Z"
   },
   {
    "duration": 74,
    "start_time": "2022-08-29T23:53:12.862Z"
   },
   {
    "duration": 8,
    "start_time": "2022-08-29T23:53:32.773Z"
   },
   {
    "duration": 16,
    "start_time": "2022-08-29T23:53:36.564Z"
   },
   {
    "duration": 9,
    "start_time": "2022-08-29T23:53:42.674Z"
   },
   {
    "duration": 8,
    "start_time": "2022-08-29T23:54:24.634Z"
   },
   {
    "duration": 46,
    "start_time": "2022-08-30T00:08:43.125Z"
   },
   {
    "duration": 54,
    "start_time": "2022-08-30T00:08:51.767Z"
   },
   {
    "duration": 56,
    "start_time": "2022-08-30T00:09:07.307Z"
   },
   {
    "duration": 19,
    "start_time": "2022-08-30T00:09:12.960Z"
   },
   {
    "duration": 16,
    "start_time": "2022-08-30T00:09:47.874Z"
   },
   {
    "duration": 15,
    "start_time": "2022-08-30T00:10:03.535Z"
   },
   {
    "duration": 24,
    "start_time": "2022-08-30T00:10:15.589Z"
   },
   {
    "duration": 28,
    "start_time": "2022-08-30T00:10:48.695Z"
   },
   {
    "duration": 621,
    "start_time": "2022-08-30T13:33:21.895Z"
   },
   {
    "duration": 17,
    "start_time": "2022-08-30T13:33:22.518Z"
   },
   {
    "duration": 2481,
    "start_time": "2022-08-30T13:33:22.536Z"
   },
   {
    "duration": 3,
    "start_time": "2022-08-30T13:33:25.019Z"
   },
   {
    "duration": 15,
    "start_time": "2022-08-30T13:33:25.024Z"
   },
   {
    "duration": 8,
    "start_time": "2022-08-30T13:33:25.041Z"
   },
   {
    "duration": 6,
    "start_time": "2022-08-30T13:33:25.051Z"
   },
   {
    "duration": 33,
    "start_time": "2022-08-30T13:33:25.059Z"
   },
   {
    "duration": 7,
    "start_time": "2022-08-30T13:33:25.094Z"
   },
   {
    "duration": 9,
    "start_time": "2022-08-30T13:33:25.103Z"
   },
   {
    "duration": 9,
    "start_time": "2022-08-30T13:33:25.114Z"
   },
   {
    "duration": 18,
    "start_time": "2022-08-30T13:33:25.125Z"
   },
   {
    "duration": 6,
    "start_time": "2022-08-30T13:33:25.146Z"
   },
   {
    "duration": 47,
    "start_time": "2022-08-30T13:33:25.154Z"
   },
   {
    "duration": 31,
    "start_time": "2022-08-30T13:33:25.203Z"
   },
   {
    "duration": 291,
    "start_time": "2022-08-30T13:36:21.118Z"
   },
   {
    "duration": 579,
    "start_time": "2022-08-30T13:36:36.263Z"
   },
   {
    "duration": 17,
    "start_time": "2022-08-30T13:36:36.844Z"
   },
   {
    "duration": 2386,
    "start_time": "2022-08-30T13:36:36.862Z"
   },
   {
    "duration": 3,
    "start_time": "2022-08-30T13:36:39.250Z"
   },
   {
    "duration": 18,
    "start_time": "2022-08-30T13:36:39.255Z"
   },
   {
    "duration": 10,
    "start_time": "2022-08-30T13:36:39.275Z"
   },
   {
    "duration": 8,
    "start_time": "2022-08-30T13:36:39.287Z"
   },
   {
    "duration": 9,
    "start_time": "2022-08-30T13:36:39.298Z"
   },
   {
    "duration": 6,
    "start_time": "2022-08-30T13:36:39.309Z"
   },
   {
    "duration": 13,
    "start_time": "2022-08-30T13:36:39.318Z"
   },
   {
    "duration": 12,
    "start_time": "2022-08-30T13:36:39.333Z"
   },
   {
    "duration": 45,
    "start_time": "2022-08-30T13:36:39.346Z"
   },
   {
    "duration": 6,
    "start_time": "2022-08-30T13:36:39.394Z"
   },
   {
    "duration": 15,
    "start_time": "2022-08-30T13:36:39.402Z"
   },
   {
    "duration": 289,
    "start_time": "2022-08-30T13:36:39.420Z"
   },
   {
    "duration": 306,
    "start_time": "2022-08-30T13:37:11.741Z"
   },
   {
    "duration": 256,
    "start_time": "2022-08-30T13:56:51.751Z"
   },
   {
    "duration": 87,
    "start_time": "2022-08-30T13:57:25.528Z"
   },
   {
    "duration": 189,
    "start_time": "2022-08-30T13:58:52.560Z"
   },
   {
    "duration": 514,
    "start_time": "2022-08-30T13:59:02.031Z"
   },
   {
    "duration": 16,
    "start_time": "2022-08-30T13:59:02.547Z"
   },
   {
    "duration": 2309,
    "start_time": "2022-08-30T13:59:02.565Z"
   },
   {
    "duration": 3,
    "start_time": "2022-08-30T13:59:04.876Z"
   },
   {
    "duration": 10,
    "start_time": "2022-08-30T13:59:04.892Z"
   },
   {
    "duration": 22,
    "start_time": "2022-08-30T13:59:04.904Z"
   },
   {
    "duration": 12,
    "start_time": "2022-08-30T13:59:04.928Z"
   },
   {
    "duration": 24,
    "start_time": "2022-08-30T13:59:04.942Z"
   },
   {
    "duration": 11,
    "start_time": "2022-08-30T13:59:04.968Z"
   },
   {
    "duration": 10,
    "start_time": "2022-08-30T13:59:04.981Z"
   },
   {
    "duration": 9,
    "start_time": "2022-08-30T13:59:04.993Z"
   },
   {
    "duration": 18,
    "start_time": "2022-08-30T13:59:05.004Z"
   },
   {
    "duration": 8,
    "start_time": "2022-08-30T13:59:05.024Z"
   },
   {
    "duration": 56,
    "start_time": "2022-08-30T13:59:05.036Z"
   },
   {
    "duration": 221,
    "start_time": "2022-08-30T13:59:05.094Z"
   },
   {
    "duration": 304,
    "start_time": "2022-08-30T14:04:45.173Z"
   },
   {
    "duration": 588,
    "start_time": "2022-08-30T14:06:45.266Z"
   },
   {
    "duration": 16,
    "start_time": "2022-08-30T14:06:45.856Z"
   },
   {
    "duration": 2374,
    "start_time": "2022-08-30T14:06:45.874Z"
   },
   {
    "duration": 3,
    "start_time": "2022-08-30T14:06:48.249Z"
   },
   {
    "duration": 42,
    "start_time": "2022-08-30T14:06:48.254Z"
   },
   {
    "duration": 22,
    "start_time": "2022-08-30T14:06:48.298Z"
   },
   {
    "duration": 36,
    "start_time": "2022-08-30T14:06:48.322Z"
   },
   {
    "duration": 32,
    "start_time": "2022-08-30T14:06:48.360Z"
   },
   {
    "duration": 38,
    "start_time": "2022-08-30T14:06:48.394Z"
   },
   {
    "duration": 30,
    "start_time": "2022-08-30T14:06:48.433Z"
   },
   {
    "duration": 16,
    "start_time": "2022-08-30T14:06:48.465Z"
   },
   {
    "duration": 36,
    "start_time": "2022-08-30T14:06:48.483Z"
   },
   {
    "duration": 29,
    "start_time": "2022-08-30T14:06:48.521Z"
   },
   {
    "duration": 42,
    "start_time": "2022-08-30T14:06:48.553Z"
   },
   {
    "duration": 323,
    "start_time": "2022-08-30T14:06:48.597Z"
   },
   {
    "duration": 314,
    "start_time": "2022-08-30T14:07:00.232Z"
   },
   {
    "duration": 389,
    "start_time": "2022-08-30T14:07:35.210Z"
   },
   {
    "duration": 4,
    "start_time": "2022-08-30T14:08:12.901Z"
   },
   {
    "duration": 1555,
    "start_time": "2022-08-30T14:08:24.601Z"
   },
   {
    "duration": 363,
    "start_time": "2022-08-30T14:08:52.652Z"
   },
   {
    "duration": 340,
    "start_time": "2022-08-30T14:09:44.332Z"
   },
   {
    "duration": 397,
    "start_time": "2022-08-30T14:10:47.423Z"
   },
   {
    "duration": 52,
    "start_time": "2022-08-30T15:21:34.822Z"
   },
   {
    "duration": 684,
    "start_time": "2022-08-30T15:21:43.064Z"
   },
   {
    "duration": 14,
    "start_time": "2022-08-30T15:21:46.413Z"
   },
   {
    "duration": 2162,
    "start_time": "2022-08-30T15:21:51.189Z"
   },
   {
    "duration": 9,
    "start_time": "2022-08-30T15:21:57.102Z"
   },
   {
    "duration": 6,
    "start_time": "2022-08-30T15:21:58.709Z"
   },
   {
    "duration": 7,
    "start_time": "2022-08-30T15:21:59.138Z"
   },
   {
    "duration": 9,
    "start_time": "2022-08-30T15:21:59.652Z"
   },
   {
    "duration": 6,
    "start_time": "2022-08-30T15:22:00.553Z"
   },
   {
    "duration": 5,
    "start_time": "2022-08-30T15:22:00.923Z"
   },
   {
    "duration": 8,
    "start_time": "2022-08-30T15:22:01.423Z"
   },
   {
    "duration": 15,
    "start_time": "2022-08-30T15:22:02.501Z"
   },
   {
    "duration": 6,
    "start_time": "2022-08-30T15:22:05.890Z"
   },
   {
    "duration": 12,
    "start_time": "2022-08-30T15:22:06.444Z"
   },
   {
    "duration": 325,
    "start_time": "2022-08-30T15:22:08.299Z"
   },
   {
    "duration": 23,
    "start_time": "2022-08-30T15:22:09.562Z"
   },
   {
    "duration": 17,
    "start_time": "2022-08-30T15:22:47.031Z"
   },
   {
    "duration": 4,
    "start_time": "2022-08-30T15:24:02.069Z"
   },
   {
    "duration": 2236,
    "start_time": "2022-08-30T15:24:11.881Z"
   },
   {
    "duration": 40,
    "start_time": "2022-08-30T15:26:18.202Z"
   },
   {
    "duration": 4,
    "start_time": "2022-08-30T15:26:24.830Z"
   },
   {
    "duration": 20,
    "start_time": "2022-08-30T15:26:46.223Z"
   },
   {
    "duration": 25,
    "start_time": "2022-08-30T15:27:09.433Z"
   },
   {
    "duration": 13,
    "start_time": "2022-08-30T15:28:46.833Z"
   },
   {
    "duration": 4,
    "start_time": "2022-08-30T15:31:30.128Z"
   },
   {
    "duration": 16,
    "start_time": "2022-08-30T15:31:47.227Z"
   },
   {
    "duration": 16,
    "start_time": "2022-08-30T15:32:12.267Z"
   },
   {
    "duration": 5,
    "start_time": "2022-08-30T15:33:37.083Z"
   },
   {
    "duration": 5975,
    "start_time": "2022-08-30T15:36:47.163Z"
   },
   {
    "duration": 6038,
    "start_time": "2022-08-30T15:37:15.076Z"
   },
   {
    "duration": 6098,
    "start_time": "2022-08-30T15:37:49.387Z"
   },
   {
    "duration": 5867,
    "start_time": "2022-08-30T15:39:44.158Z"
   },
   {
    "duration": 7871,
    "start_time": "2022-08-30T15:40:32.944Z"
   },
   {
    "duration": 544,
    "start_time": "2022-08-30T15:41:21.391Z"
   },
   {
    "duration": 14,
    "start_time": "2022-08-30T15:41:21.936Z"
   },
   {
    "duration": 20,
    "start_time": "2022-08-30T15:41:21.952Z"
   },
   {
    "duration": 2062,
    "start_time": "2022-08-30T15:41:21.973Z"
   },
   {
    "duration": 3,
    "start_time": "2022-08-30T15:41:24.037Z"
   },
   {
    "duration": 15,
    "start_time": "2022-08-30T15:41:24.041Z"
   },
   {
    "duration": 18,
    "start_time": "2022-08-30T15:41:24.057Z"
   },
   {
    "duration": 13,
    "start_time": "2022-08-30T15:41:24.076Z"
   },
   {
    "duration": 10,
    "start_time": "2022-08-30T15:41:24.090Z"
   },
   {
    "duration": 6,
    "start_time": "2022-08-30T15:41:24.102Z"
   },
   {
    "duration": 18,
    "start_time": "2022-08-30T15:41:24.110Z"
   },
   {
    "duration": 27,
    "start_time": "2022-08-30T15:41:24.129Z"
   },
   {
    "duration": 19,
    "start_time": "2022-08-30T15:41:24.158Z"
   },
   {
    "duration": 5,
    "start_time": "2022-08-30T15:41:24.180Z"
   },
   {
    "duration": 14,
    "start_time": "2022-08-30T15:41:24.186Z"
   },
   {
    "duration": 302,
    "start_time": "2022-08-30T15:41:24.201Z"
   },
   {
    "duration": 7942,
    "start_time": "2022-08-30T15:41:32.534Z"
   },
   {
    "duration": 18,
    "start_time": "2022-08-30T15:42:51.431Z"
   },
   {
    "duration": 6,
    "start_time": "2022-08-30T15:45:00.257Z"
   },
   {
    "duration": 8,
    "start_time": "2022-08-30T15:48:44.110Z"
   },
   {
    "duration": 90,
    "start_time": "2022-08-30T15:48:54.544Z"
   },
   {
    "duration": 12,
    "start_time": "2022-08-30T15:49:08.089Z"
   },
   {
    "duration": 8,
    "start_time": "2022-08-30T15:49:20.385Z"
   },
   {
    "duration": 19,
    "start_time": "2022-08-30T15:49:44.441Z"
   },
   {
    "duration": 24,
    "start_time": "2022-08-30T15:49:49.882Z"
   },
   {
    "duration": 490,
    "start_time": "2022-08-30T15:58:10.940Z"
   },
   {
    "duration": 16,
    "start_time": "2022-08-30T15:58:11.431Z"
   },
   {
    "duration": 7,
    "start_time": "2022-08-30T15:58:11.448Z"
   },
   {
    "duration": 2221,
    "start_time": "2022-08-30T15:58:11.458Z"
   },
   {
    "duration": 3,
    "start_time": "2022-08-30T15:58:13.680Z"
   },
   {
    "duration": 11,
    "start_time": "2022-08-30T15:58:13.684Z"
   },
   {
    "duration": 9,
    "start_time": "2022-08-30T15:58:13.697Z"
   },
   {
    "duration": 7,
    "start_time": "2022-08-30T15:58:13.707Z"
   },
   {
    "duration": 14,
    "start_time": "2022-08-30T15:58:13.715Z"
   },
   {
    "duration": 8,
    "start_time": "2022-08-30T15:58:13.731Z"
   },
   {
    "duration": 10,
    "start_time": "2022-08-30T15:58:13.740Z"
   },
   {
    "duration": 10,
    "start_time": "2022-08-30T15:58:13.751Z"
   },
   {
    "duration": 21,
    "start_time": "2022-08-30T15:58:13.763Z"
   },
   {
    "duration": 18,
    "start_time": "2022-08-30T15:58:13.785Z"
   },
   {
    "duration": 19,
    "start_time": "2022-08-30T15:58:13.804Z"
   },
   {
    "duration": 337,
    "start_time": "2022-08-30T15:58:13.825Z"
   },
   {
    "duration": 5,
    "start_time": "2022-08-30T15:58:14.164Z"
   },
   {
    "duration": 6,
    "start_time": "2022-08-30T15:58:45.966Z"
   },
   {
    "duration": 509,
    "start_time": "2022-08-30T15:58:57.064Z"
   },
   {
    "duration": 20,
    "start_time": "2022-08-30T15:58:57.575Z"
   },
   {
    "duration": 7,
    "start_time": "2022-08-30T15:58:57.601Z"
   },
   {
    "duration": 2125,
    "start_time": "2022-08-30T15:58:57.609Z"
   },
   {
    "duration": 2,
    "start_time": "2022-08-30T15:58:59.737Z"
   },
   {
    "duration": 16,
    "start_time": "2022-08-30T15:58:59.741Z"
   },
   {
    "duration": 10,
    "start_time": "2022-08-30T15:58:59.759Z"
   },
   {
    "duration": 6,
    "start_time": "2022-08-30T15:58:59.771Z"
   },
   {
    "duration": 11,
    "start_time": "2022-08-30T15:58:59.779Z"
   },
   {
    "duration": 10,
    "start_time": "2022-08-30T15:58:59.791Z"
   },
   {
    "duration": 9,
    "start_time": "2022-08-30T15:58:59.802Z"
   },
   {
    "duration": 8,
    "start_time": "2022-08-30T15:58:59.812Z"
   },
   {
    "duration": 14,
    "start_time": "2022-08-30T15:58:59.821Z"
   },
   {
    "duration": 5,
    "start_time": "2022-08-30T15:58:59.838Z"
   },
   {
    "duration": 19,
    "start_time": "2022-08-30T15:58:59.844Z"
   },
   {
    "duration": 335,
    "start_time": "2022-08-30T15:58:59.864Z"
   },
   {
    "duration": 6,
    "start_time": "2022-08-30T15:59:00.200Z"
   },
   {
    "duration": 15927,
    "start_time": "2022-08-30T15:59:00.207Z"
   },
   {
    "duration": 16567,
    "start_time": "2022-08-30T16:00:02.134Z"
   },
   {
    "duration": 4,
    "start_time": "2022-08-30T16:00:31.091Z"
   },
   {
    "duration": 272,
    "start_time": "2022-08-30T16:03:00.871Z"
   },
   {
    "duration": 84,
    "start_time": "2022-08-30T16:05:09.425Z"
   },
   {
    "duration": 12,
    "start_time": "2022-08-30T16:05:21.006Z"
   },
   {
    "duration": 17,
    "start_time": "2022-08-30T16:05:49.404Z"
   },
   {
    "duration": 391,
    "start_time": "2022-08-30T16:07:05.424Z"
   },
   {
    "duration": 286,
    "start_time": "2022-08-30T16:07:46.765Z"
   },
   {
    "duration": 282,
    "start_time": "2022-08-30T16:07:57.585Z"
   },
   {
    "duration": 284,
    "start_time": "2022-08-30T16:10:47.825Z"
   },
   {
    "duration": 305,
    "start_time": "2022-08-30T16:11:08.044Z"
   },
   {
    "duration": 293,
    "start_time": "2022-08-30T16:11:54.225Z"
   },
   {
    "duration": 403,
    "start_time": "2022-08-30T16:13:06.152Z"
   },
   {
    "duration": 293,
    "start_time": "2022-08-30T16:13:55.859Z"
   },
   {
    "duration": 284,
    "start_time": "2022-08-30T16:23:25.913Z"
   },
   {
    "duration": 275,
    "start_time": "2022-08-30T16:23:31.806Z"
   },
   {
    "duration": 267,
    "start_time": "2022-08-30T16:26:16.681Z"
   },
   {
    "duration": 412,
    "start_time": "2022-08-30T16:26:25.397Z"
   },
   {
    "duration": 2,
    "start_time": "2022-08-30T16:33:23.444Z"
   },
   {
    "duration": 265,
    "start_time": "2022-08-30T16:35:29.517Z"
   },
   {
    "duration": 284,
    "start_time": "2022-08-30T16:35:39.965Z"
   },
   {
    "duration": 271,
    "start_time": "2022-08-30T16:35:51.270Z"
   },
   {
    "duration": 246,
    "start_time": "2022-08-30T16:36:02.332Z"
   },
   {
    "duration": 672,
    "start_time": "2022-08-30T16:36:43.462Z"
   },
   {
    "duration": 616,
    "start_time": "2022-08-30T16:36:50.875Z"
   },
   {
    "duration": 1552,
    "start_time": "2022-08-30T16:37:29.620Z"
   },
   {
    "duration": 1011,
    "start_time": "2022-08-30T16:37:39.151Z"
   },
   {
    "duration": 808,
    "start_time": "2022-08-30T16:37:47.958Z"
   },
   {
    "duration": 862,
    "start_time": "2022-08-30T16:38:04.993Z"
   },
   {
    "duration": 571,
    "start_time": "2022-08-30T16:38:26.784Z"
   },
   {
    "duration": 628,
    "start_time": "2022-08-30T16:38:35.483Z"
   },
   {
    "duration": 647,
    "start_time": "2022-08-30T16:38:43.491Z"
   },
   {
    "duration": 674,
    "start_time": "2022-08-30T16:38:55.972Z"
   },
   {
    "duration": 462,
    "start_time": "2022-08-30T16:39:01.931Z"
   },
   {
    "duration": 483,
    "start_time": "2022-08-30T16:39:19.293Z"
   },
   {
    "duration": 516,
    "start_time": "2022-08-30T16:39:28.872Z"
   },
   {
    "duration": 684,
    "start_time": "2022-08-30T16:39:45.726Z"
   },
   {
    "duration": 578,
    "start_time": "2022-08-30T16:39:55.794Z"
   },
   {
    "duration": 1458,
    "start_time": "2022-08-30T16:40:25.013Z"
   },
   {
    "duration": 1015,
    "start_time": "2022-08-30T16:40:54.156Z"
   },
   {
    "duration": 845,
    "start_time": "2022-08-30T16:42:00.723Z"
   },
   {
    "duration": 100,
    "start_time": "2022-08-31T19:41:29.770Z"
   },
   {
    "duration": 13,
    "start_time": "2022-08-31T19:41:32.949Z"
   },
   {
    "duration": 6,
    "start_time": "2022-08-31T19:41:47.501Z"
   },
   {
    "duration": 106,
    "start_time": "2022-08-31T19:42:23.741Z"
   },
   {
    "duration": 14,
    "start_time": "2022-08-31T19:42:31.700Z"
   },
   {
    "duration": 3,
    "start_time": "2022-08-31T19:42:34.290Z"
   },
   {
    "duration": 1666,
    "start_time": "2022-08-31T19:42:37.960Z"
   },
   {
    "duration": 2,
    "start_time": "2022-08-31T19:42:45.380Z"
   },
   {
    "duration": 8,
    "start_time": "2022-08-31T19:42:46.470Z"
   },
   {
    "duration": 2,
    "start_time": "2022-08-31T19:42:46.790Z"
   },
   {
    "duration": 4,
    "start_time": "2022-08-31T19:42:46.980Z"
   },
   {
    "duration": 7,
    "start_time": "2022-08-31T19:42:47.160Z"
   },
   {
    "duration": 5,
    "start_time": "2022-08-31T19:42:47.328Z"
   },
   {
    "duration": 4,
    "start_time": "2022-08-31T19:42:49.877Z"
   },
   {
    "duration": 9,
    "start_time": "2022-08-31T19:42:50.070Z"
   },
   {
    "duration": 12,
    "start_time": "2022-08-31T19:42:50.259Z"
   },
   {
    "duration": 11,
    "start_time": "2022-08-31T19:42:53.820Z"
   },
   {
    "duration": 4,
    "start_time": "2022-08-31T19:42:57.800Z"
   },
   {
    "duration": 9,
    "start_time": "2022-08-31T19:42:58.258Z"
   },
   {
    "duration": 311,
    "start_time": "2022-08-31T19:42:58.668Z"
   },
   {
    "duration": 4,
    "start_time": "2022-08-31T19:42:59.919Z"
   },
   {
    "duration": 44,
    "start_time": "2022-08-31T19:43:00.524Z"
   },
   {
    "duration": 240,
    "start_time": "2022-08-31T19:43:03.040Z"
   },
   {
    "duration": 27,
    "start_time": "2022-08-31T19:45:09.360Z"
   },
   {
    "duration": 41,
    "start_time": "2022-08-31T19:45:29.690Z"
   },
   {
    "duration": 27,
    "start_time": "2022-08-31T19:46:01.342Z"
   },
   {
    "duration": 26,
    "start_time": "2022-08-31T19:46:17.669Z"
   },
   {
    "duration": 34,
    "start_time": "2022-08-31T19:47:05.860Z"
   },
   {
    "duration": 40,
    "start_time": "2022-08-31T19:47:31.020Z"
   },
   {
    "duration": 100,
    "start_time": "2022-08-31T19:47:37.156Z"
   },
   {
    "duration": 80,
    "start_time": "2022-08-31T19:47:37.690Z"
   },
   {
    "duration": 4,
    "start_time": "2022-08-31T19:47:39.989Z"
   },
   {
    "duration": 1656,
    "start_time": "2022-08-31T19:47:40.619Z"
   },
   {
    "duration": 3,
    "start_time": "2022-08-31T19:47:42.276Z"
   },
   {
    "duration": 8,
    "start_time": "2022-08-31T19:47:42.477Z"
   },
   {
    "duration": 2,
    "start_time": "2022-08-31T19:47:43.109Z"
   },
   {
    "duration": 3,
    "start_time": "2022-08-31T19:47:43.336Z"
   },
   {
    "duration": 8,
    "start_time": "2022-08-31T19:47:43.557Z"
   },
   {
    "duration": 6,
    "start_time": "2022-08-31T19:47:43.721Z"
   },
   {
    "duration": 4,
    "start_time": "2022-08-31T19:47:43.809Z"
   },
   {
    "duration": 36,
    "start_time": "2022-08-31T19:47:43.966Z"
   },
   {
    "duration": 48,
    "start_time": "2022-08-31T19:47:50.620Z"
   },
   {
    "duration": 33,
    "start_time": "2022-08-31T19:48:12.189Z"
   },
   {
    "duration": 9,
    "start_time": "2022-08-31T19:48:56.778Z"
   },
   {
    "duration": 9,
    "start_time": "2022-08-31T19:48:59.489Z"
   },
   {
    "duration": 566,
    "start_time": "2022-08-31T19:50:44.884Z"
   },
   {
    "duration": 87,
    "start_time": "2022-08-31T19:50:45.576Z"
   },
   {
    "duration": 14,
    "start_time": "2022-08-31T19:50:45.665Z"
   },
   {
    "duration": 18,
    "start_time": "2022-08-31T19:50:45.681Z"
   },
   {
    "duration": 1901,
    "start_time": "2022-08-31T19:50:45.701Z"
   },
   {
    "duration": 3,
    "start_time": "2022-08-31T19:50:47.603Z"
   },
   {
    "duration": 10,
    "start_time": "2022-08-31T19:50:47.607Z"
   },
   {
    "duration": 4,
    "start_time": "2022-08-31T19:50:47.619Z"
   },
   {
    "duration": 10,
    "start_time": "2022-08-31T19:50:47.624Z"
   },
   {
    "duration": 10,
    "start_time": "2022-08-31T19:50:47.635Z"
   },
   {
    "duration": 5,
    "start_time": "2022-08-31T19:50:47.647Z"
   },
   {
    "duration": 8,
    "start_time": "2022-08-31T19:50:47.653Z"
   },
   {
    "duration": 65,
    "start_time": "2022-08-31T19:50:47.662Z"
   },
   {
    "duration": 5,
    "start_time": "2022-08-31T19:50:47.728Z"
   },
   {
    "duration": 9,
    "start_time": "2022-08-31T19:50:47.734Z"
   },
   {
    "duration": 350,
    "start_time": "2022-08-31T19:50:47.745Z"
   },
   {
    "duration": 5,
    "start_time": "2022-08-31T19:50:48.096Z"
   },
   {
    "duration": 72,
    "start_time": "2022-08-31T19:50:48.102Z"
   },
   {
    "duration": 0,
    "start_time": "2022-08-31T19:50:48.175Z"
   },
   {
    "duration": 0,
    "start_time": "2022-08-31T19:50:48.176Z"
   },
   {
    "duration": 0,
    "start_time": "2022-08-31T19:50:48.177Z"
   },
   {
    "duration": 0,
    "start_time": "2022-08-31T19:50:48.178Z"
   },
   {
    "duration": 0,
    "start_time": "2022-08-31T19:50:48.179Z"
   },
   {
    "duration": 8,
    "start_time": "2022-08-31T19:51:49.214Z"
   },
   {
    "duration": 842,
    "start_time": "2022-08-31T19:52:01.460Z"
   },
   {
    "duration": 9,
    "start_time": "2022-08-31T19:53:34.815Z"
   },
   {
    "duration": 91,
    "start_time": "2022-08-31T19:54:05.609Z"
   },
   {
    "duration": 90,
    "start_time": "2022-08-31T19:56:37.226Z"
   },
   {
    "duration": 94,
    "start_time": "2022-08-31T19:59:26.858Z"
   },
   {
    "duration": 166,
    "start_time": "2022-08-31T19:59:47.846Z"
   },
   {
    "duration": 49,
    "start_time": "2022-08-31T20:03:20.486Z"
   },
   {
    "duration": 53,
    "start_time": "2022-08-31T20:03:36.026Z"
   },
   {
    "duration": 109,
    "start_time": "2022-08-31T20:03:44.036Z"
   },
   {
    "duration": 6,
    "start_time": "2022-08-31T20:04:01.666Z"
   },
   {
    "duration": 52,
    "start_time": "2022-08-31T20:08:04.869Z"
   },
   {
    "duration": 477,
    "start_time": "2022-08-31T20:08:29.036Z"
   },
   {
    "duration": 14,
    "start_time": "2022-08-31T20:08:29.642Z"
   },
   {
    "duration": 3,
    "start_time": "2022-08-31T20:08:30.093Z"
   },
   {
    "duration": 1975,
    "start_time": "2022-08-31T20:08:30.476Z"
   },
   {
    "duration": 2,
    "start_time": "2022-08-31T20:08:32.453Z"
   },
   {
    "duration": 12,
    "start_time": "2022-08-31T20:08:32.456Z"
   },
   {
    "duration": 7,
    "start_time": "2022-08-31T20:08:32.469Z"
   },
   {
    "duration": 121,
    "start_time": "2022-08-31T20:08:32.477Z"
   },
   {
    "duration": 5,
    "start_time": "2022-08-31T20:08:32.600Z"
   },
   {
    "duration": 5,
    "start_time": "2022-08-31T20:08:32.606Z"
   },
   {
    "duration": 4,
    "start_time": "2022-08-31T20:08:32.735Z"
   },
   {
    "duration": 14,
    "start_time": "2022-08-31T20:12:46.960Z"
   },
   {
    "duration": 112,
    "start_time": "2022-08-31T20:14:54.911Z"
   },
   {
    "duration": 5,
    "start_time": "2022-08-31T20:14:57.826Z"
   },
   {
    "duration": 4,
    "start_time": "2022-08-31T20:14:59.037Z"
   },
   {
    "duration": 22,
    "start_time": "2022-08-31T20:14:59.545Z"
   },
   {
    "duration": 12,
    "start_time": "2022-08-31T20:15:00.186Z"
   },
   {
    "duration": 111,
    "start_time": "2022-08-31T20:15:04.286Z"
   },
   {
    "duration": 14,
    "start_time": "2022-08-31T20:15:05.225Z"
   },
   {
    "duration": 3,
    "start_time": "2022-08-31T20:15:05.636Z"
   },
   {
    "duration": 1668,
    "start_time": "2022-08-31T20:15:05.959Z"
   },
   {
    "duration": 2,
    "start_time": "2022-08-31T20:15:07.629Z"
   },
   {
    "duration": 11,
    "start_time": "2022-08-31T20:15:07.632Z"
   },
   {
    "duration": 4,
    "start_time": "2022-08-31T20:15:07.645Z"
   },
   {
    "duration": 119,
    "start_time": "2022-08-31T20:15:07.650Z"
   },
   {
    "duration": 5,
    "start_time": "2022-08-31T20:15:07.771Z"
   },
   {
    "duration": 4,
    "start_time": "2022-08-31T20:15:07.777Z"
   },
   {
    "duration": 31,
    "start_time": "2022-08-31T20:15:07.798Z"
   },
   {
    "duration": 14,
    "start_time": "2022-08-31T20:15:07.831Z"
   },
   {
    "duration": 5,
    "start_time": "2022-08-31T20:15:08.159Z"
   },
   {
    "duration": 9,
    "start_time": "2022-08-31T20:15:08.317Z"
   },
   {
    "duration": 317,
    "start_time": "2022-08-31T20:15:08.492Z"
   },
   {
    "duration": 4,
    "start_time": "2022-08-31T20:15:08.811Z"
   },
   {
    "duration": 5,
    "start_time": "2022-08-31T20:15:08.816Z"
   },
   {
    "duration": 240,
    "start_time": "2022-08-31T20:15:09.117Z"
   },
   {
    "duration": 314,
    "start_time": "2022-08-31T20:15:09.416Z"
   },
   {
    "duration": 237,
    "start_time": "2022-08-31T20:15:09.732Z"
   },
   {
    "duration": 267,
    "start_time": "2022-08-31T20:15:10.041Z"
   },
   {
    "duration": 1017,
    "start_time": "2022-08-31T20:15:10.346Z"
   },
   {
    "duration": 5,
    "start_time": "2022-08-31T20:16:48.015Z"
   },
   {
    "duration": 366,
    "start_time": "2022-08-31T20:19:41.259Z"
   },
   {
    "duration": 395,
    "start_time": "2022-08-31T20:19:56.934Z"
   },
   {
    "duration": 24,
    "start_time": "2022-08-31T20:20:14.406Z"
   },
   {
    "duration": 19,
    "start_time": "2022-08-31T20:21:00.804Z"
   },
   {
    "duration": 23,
    "start_time": "2022-08-31T20:21:09.906Z"
   },
   {
    "duration": 17,
    "start_time": "2022-08-31T20:22:04.146Z"
   },
   {
    "duration": 462,
    "start_time": "2022-08-31T20:22:23.543Z"
   },
   {
    "duration": 14,
    "start_time": "2022-08-31T20:22:24.006Z"
   },
   {
    "duration": 3,
    "start_time": "2022-08-31T20:22:24.022Z"
   },
   {
    "duration": 1956,
    "start_time": "2022-08-31T20:22:24.026Z"
   },
   {
    "duration": 3,
    "start_time": "2022-08-31T20:22:25.984Z"
   },
   {
    "duration": 16,
    "start_time": "2022-08-31T20:22:25.989Z"
   },
   {
    "duration": 10,
    "start_time": "2022-08-31T20:22:26.006Z"
   },
   {
    "duration": 129,
    "start_time": "2022-08-31T20:22:26.018Z"
   },
   {
    "duration": 8,
    "start_time": "2022-08-31T20:22:26.148Z"
   },
   {
    "duration": 5,
    "start_time": "2022-08-31T20:22:26.157Z"
   },
   {
    "duration": 56,
    "start_time": "2022-08-31T20:22:26.163Z"
   },
   {
    "duration": 14,
    "start_time": "2022-08-31T20:22:26.221Z"
   },
   {
    "duration": 5,
    "start_time": "2022-08-31T20:22:26.236Z"
   },
   {
    "duration": 10,
    "start_time": "2022-08-31T20:22:26.243Z"
   },
   {
    "duration": 350,
    "start_time": "2022-08-31T20:22:26.255Z"
   },
   {
    "duration": 18,
    "start_time": "2022-08-31T20:22:26.606Z"
   },
   {
    "duration": 2,
    "start_time": "2022-08-31T20:22:26.626Z"
   },
   {
    "duration": 284,
    "start_time": "2022-08-31T20:22:26.630Z"
   },
   {
    "duration": 317,
    "start_time": "2022-08-31T20:22:26.915Z"
   },
   {
    "duration": 240,
    "start_time": "2022-08-31T20:22:27.233Z"
   },
   {
    "duration": 269,
    "start_time": "2022-08-31T20:22:27.475Z"
   },
   {
    "duration": 3,
    "start_time": "2022-08-31T20:22:27.745Z"
   },
   {
    "duration": 91,
    "start_time": "2022-08-31T20:23:20.343Z"
   },
   {
    "duration": 17,
    "start_time": "2022-08-31T20:23:41.065Z"
   },
   {
    "duration": 16,
    "start_time": "2022-08-31T20:24:20.560Z"
   },
   {
    "duration": 37,
    "start_time": "2022-08-31T20:30:24.903Z"
   },
   {
    "duration": 15,
    "start_time": "2022-08-31T20:30:33.126Z"
   },
   {
    "duration": 32,
    "start_time": "2022-08-31T20:30:38.635Z"
   },
   {
    "duration": 19,
    "start_time": "2022-08-31T20:31:23.774Z"
   },
   {
    "duration": 15,
    "start_time": "2022-08-31T20:32:00.992Z"
   },
   {
    "duration": 4,
    "start_time": "2022-08-31T20:32:49.860Z"
   },
   {
    "duration": 16,
    "start_time": "2022-08-31T20:33:31.214Z"
   },
   {
    "duration": 18,
    "start_time": "2022-08-31T20:33:42.917Z"
   },
   {
    "duration": 14,
    "start_time": "2022-08-31T20:34:08.133Z"
   },
   {
    "duration": 17,
    "start_time": "2022-08-31T20:34:21.605Z"
   },
   {
    "duration": 12,
    "start_time": "2022-08-31T20:34:25.344Z"
   },
   {
    "duration": 11,
    "start_time": "2022-08-31T20:34:51.465Z"
   },
   {
    "duration": 12,
    "start_time": "2022-08-31T20:35:08.897Z"
   },
   {
    "duration": 5,
    "start_time": "2022-08-31T20:35:27.864Z"
   },
   {
    "duration": 47,
    "start_time": "2022-08-31T20:36:55.175Z"
   },
   {
    "duration": 43,
    "start_time": "2022-08-31T20:37:01.686Z"
   },
   {
    "duration": 953,
    "start_time": "2022-08-31T20:37:24.858Z"
   },
   {
    "duration": 14,
    "start_time": "2022-08-31T20:37:33.159Z"
   },
   {
    "duration": 56,
    "start_time": "2022-09-01T12:58:06.781Z"
   },
   {
    "duration": 1092,
    "start_time": "2022-09-01T12:58:13.410Z"
   },
   {
    "duration": 16,
    "start_time": "2022-09-01T12:58:15.285Z"
   },
   {
    "duration": 3,
    "start_time": "2022-09-01T12:58:15.846Z"
   },
   {
    "duration": 2391,
    "start_time": "2022-09-01T12:58:16.227Z"
   },
   {
    "duration": 3,
    "start_time": "2022-09-01T12:58:18.621Z"
   },
   {
    "duration": 14,
    "start_time": "2022-09-01T12:58:18.626Z"
   },
   {
    "duration": 8,
    "start_time": "2022-09-01T12:58:18.643Z"
   },
   {
    "duration": 118,
    "start_time": "2022-09-01T12:58:18.653Z"
   },
   {
    "duration": 14,
    "start_time": "2022-09-01T12:58:18.773Z"
   },
   {
    "duration": 4,
    "start_time": "2022-09-01T12:58:18.788Z"
   },
   {
    "duration": 37,
    "start_time": "2022-09-01T12:58:18.794Z"
   },
   {
    "duration": 14,
    "start_time": "2022-09-01T12:58:18.833Z"
   },
   {
    "duration": 5,
    "start_time": "2022-09-01T12:58:18.849Z"
   },
   {
    "duration": 42,
    "start_time": "2022-09-01T12:58:18.856Z"
   },
   {
    "duration": 326,
    "start_time": "2022-09-01T12:58:18.900Z"
   },
   {
    "duration": 41,
    "start_time": "2022-09-01T12:58:19.227Z"
   },
   {
    "duration": 0,
    "start_time": "2022-09-01T12:58:19.271Z"
   },
   {
    "duration": 0,
    "start_time": "2022-09-01T12:58:19.272Z"
   },
   {
    "duration": 0,
    "start_time": "2022-09-01T12:58:19.274Z"
   },
   {
    "duration": 0,
    "start_time": "2022-09-01T12:58:19.287Z"
   },
   {
    "duration": 0,
    "start_time": "2022-09-01T12:58:19.289Z"
   },
   {
    "duration": 0,
    "start_time": "2022-09-01T12:58:19.290Z"
   },
   {
    "duration": 0,
    "start_time": "2022-09-01T12:58:19.291Z"
   },
   {
    "duration": 0,
    "start_time": "2022-09-01T12:58:19.293Z"
   },
   {
    "duration": 0,
    "start_time": "2022-09-01T12:58:19.294Z"
   },
   {
    "duration": 0,
    "start_time": "2022-09-01T12:58:19.295Z"
   },
   {
    "duration": 0,
    "start_time": "2022-09-01T12:58:19.297Z"
   },
   {
    "duration": 0,
    "start_time": "2022-09-01T12:58:19.298Z"
   },
   {
    "duration": 0,
    "start_time": "2022-09-01T12:58:19.300Z"
   },
   {
    "duration": 404,
    "start_time": "2022-09-01T12:59:01.848Z"
   },
   {
    "duration": 16,
    "start_time": "2022-09-01T12:59:31.078Z"
   },
   {
    "duration": 278,
    "start_time": "2022-09-01T13:00:13.134Z"
   },
   {
    "duration": 296,
    "start_time": "2022-09-01T13:00:18.980Z"
   },
   {
    "duration": 315,
    "start_time": "2022-09-01T13:00:36.608Z"
   },
   {
    "duration": 42,
    "start_time": "2022-09-01T13:01:40.710Z"
   },
   {
    "duration": 275,
    "start_time": "2022-09-01T13:02:23.446Z"
   },
   {
    "duration": 1453,
    "start_time": "2022-09-01T13:05:19.447Z"
   },
   {
    "duration": 264,
    "start_time": "2022-09-01T13:05:39.606Z"
   },
   {
    "duration": 356,
    "start_time": "2022-09-01T13:05:52.477Z"
   },
   {
    "duration": 1019,
    "start_time": "2022-09-01T13:09:00.379Z"
   },
   {
    "duration": 287,
    "start_time": "2022-09-01T13:09:05.847Z"
   },
   {
    "duration": 306,
    "start_time": "2022-09-01T13:11:43.606Z"
   },
   {
    "duration": 300,
    "start_time": "2022-09-01T13:11:54.326Z"
   },
   {
    "duration": 272,
    "start_time": "2022-09-01T13:13:48.726Z"
   },
   {
    "duration": 464,
    "start_time": "2022-09-01T13:14:03.698Z"
   },
   {
    "duration": 49,
    "start_time": "2022-09-01T13:14:40.846Z"
   },
   {
    "duration": 6,
    "start_time": "2022-09-01T13:18:38.057Z"
   },
   {
    "duration": 6,
    "start_time": "2022-09-01T13:18:46.323Z"
   },
   {
    "duration": 15,
    "start_time": "2022-09-01T13:20:12.875Z"
   },
   {
    "duration": 324,
    "start_time": "2022-09-01T13:21:09.060Z"
   },
   {
    "duration": 300,
    "start_time": "2022-09-01T13:21:20.758Z"
   },
   {
    "duration": 290,
    "start_time": "2022-09-01T13:24:34.382Z"
   },
   {
    "duration": 271,
    "start_time": "2022-09-01T13:24:41.136Z"
   },
   {
    "duration": 270,
    "start_time": "2022-09-01T13:24:49.177Z"
   },
   {
    "duration": 375,
    "start_time": "2022-09-01T13:24:53.649Z"
   },
   {
    "duration": 288,
    "start_time": "2022-09-01T13:26:27.869Z"
   },
   {
    "duration": 333,
    "start_time": "2022-09-01T13:26:41.902Z"
   },
   {
    "duration": 399,
    "start_time": "2022-09-01T13:29:10.245Z"
   },
   {
    "duration": 308,
    "start_time": "2022-09-01T13:29:17.415Z"
   },
   {
    "duration": 361,
    "start_time": "2022-09-01T13:29:33.397Z"
   },
   {
    "duration": 310,
    "start_time": "2022-09-01T13:29:40.198Z"
   },
   {
    "duration": 88,
    "start_time": "2022-09-01T13:30:39.575Z"
   },
   {
    "duration": 278,
    "start_time": "2022-09-01T13:31:52.778Z"
   },
   {
    "duration": 293,
    "start_time": "2022-09-01T13:32:09.526Z"
   },
   {
    "duration": 12,
    "start_time": "2022-09-01T13:34:02.014Z"
   },
   {
    "duration": 284,
    "start_time": "2022-09-01T13:35:27.861Z"
   },
   {
    "duration": 554,
    "start_time": "2022-09-01T13:57:07.059Z"
   },
   {
    "duration": 22,
    "start_time": "2022-09-01T13:57:07.616Z"
   },
   {
    "duration": 14,
    "start_time": "2022-09-01T13:57:07.640Z"
   },
   {
    "duration": 2514,
    "start_time": "2022-09-01T13:57:07.656Z"
   },
   {
    "duration": 3,
    "start_time": "2022-09-01T13:57:10.172Z"
   },
   {
    "duration": 29,
    "start_time": "2022-09-01T13:57:10.177Z"
   },
   {
    "duration": 15,
    "start_time": "2022-09-01T13:57:10.208Z"
   },
   {
    "duration": 196,
    "start_time": "2022-09-01T13:57:10.225Z"
   },
   {
    "duration": 10,
    "start_time": "2022-09-01T13:57:10.423Z"
   },
   {
    "duration": 9,
    "start_time": "2022-09-01T13:57:10.437Z"
   },
   {
    "duration": 73,
    "start_time": "2022-09-01T13:57:10.448Z"
   },
   {
    "duration": 15,
    "start_time": "2022-09-01T13:57:10.523Z"
   },
   {
    "duration": 6,
    "start_time": "2022-09-01T13:57:10.540Z"
   },
   {
    "duration": 15,
    "start_time": "2022-09-01T13:57:10.547Z"
   },
   {
    "duration": 351,
    "start_time": "2022-09-01T13:57:10.564Z"
   },
   {
    "duration": 16,
    "start_time": "2022-09-01T13:57:10.917Z"
   },
   {
    "duration": 301,
    "start_time": "2022-09-01T13:57:10.934Z"
   },
   {
    "duration": 367,
    "start_time": "2022-09-01T13:57:11.237Z"
   },
   {
    "duration": 280,
    "start_time": "2022-09-01T13:57:11.606Z"
   },
   {
    "duration": 303,
    "start_time": "2022-09-01T13:57:11.888Z"
   },
   {
    "duration": 273,
    "start_time": "2022-09-01T13:57:12.193Z"
   },
   {
    "duration": 317,
    "start_time": "2022-09-01T13:57:12.468Z"
   },
   {
    "duration": 395,
    "start_time": "2022-09-01T13:57:12.787Z"
   },
   {
    "duration": 297,
    "start_time": "2022-09-01T13:57:13.186Z"
   },
   {
    "duration": 302,
    "start_time": "2022-09-01T13:57:13.487Z"
   },
   {
    "duration": 288,
    "start_time": "2022-09-01T13:57:13.791Z"
   },
   {
    "duration": 305,
    "start_time": "2022-09-01T13:57:14.081Z"
   },
   {
    "duration": 307,
    "start_time": "2022-09-01T13:57:14.390Z"
   },
   {
    "duration": 392,
    "start_time": "2022-09-01T13:57:14.700Z"
   },
   {
    "duration": 308,
    "start_time": "2022-09-01T13:57:15.094Z"
   },
   {
    "duration": 2,
    "start_time": "2022-09-01T13:57:15.404Z"
   },
   {
    "duration": 31,
    "start_time": "2022-09-01T13:57:15.408Z"
   },
   {
    "duration": 16,
    "start_time": "2022-09-01T13:57:15.440Z"
   },
   {
    "duration": 3,
    "start_time": "2022-09-01T13:57:15.458Z"
   },
   {
    "duration": 30,
    "start_time": "2022-09-01T13:57:15.462Z"
   },
   {
    "duration": 5,
    "start_time": "2022-09-01T13:57:15.494Z"
   },
   {
    "duration": 18,
    "start_time": "2022-09-01T13:57:15.501Z"
   },
   {
    "duration": 115,
    "start_time": "2022-09-01T13:57:38.606Z"
   },
   {
    "duration": 280,
    "start_time": "2022-09-01T13:59:38.604Z"
   },
   {
    "duration": 35,
    "start_time": "2022-09-01T15:17:25.755Z"
   },
   {
    "duration": 29,
    "start_time": "2022-09-01T15:17:35.714Z"
   },
   {
    "duration": 523,
    "start_time": "2022-09-01T15:18:35.242Z"
   },
   {
    "duration": 23,
    "start_time": "2022-09-01T15:18:35.767Z"
   },
   {
    "duration": 3,
    "start_time": "2022-09-01T15:18:35.792Z"
   },
   {
    "duration": 2285,
    "start_time": "2022-09-01T15:18:35.797Z"
   },
   {
    "duration": 6,
    "start_time": "2022-09-01T15:18:38.084Z"
   },
   {
    "duration": 15,
    "start_time": "2022-09-01T15:18:38.092Z"
   },
   {
    "duration": 16,
    "start_time": "2022-09-01T15:18:38.108Z"
   },
   {
    "duration": 113,
    "start_time": "2022-09-01T15:18:38.126Z"
   },
   {
    "duration": 9,
    "start_time": "2022-09-01T15:18:38.241Z"
   },
   {
    "duration": 6,
    "start_time": "2022-09-01T15:18:38.254Z"
   },
   {
    "duration": 65,
    "start_time": "2022-09-01T15:18:38.262Z"
   },
   {
    "duration": 17,
    "start_time": "2022-09-01T15:18:38.329Z"
   },
   {
    "duration": 5,
    "start_time": "2022-09-01T15:18:38.348Z"
   },
   {
    "duration": 40,
    "start_time": "2022-09-01T15:18:38.355Z"
   },
   {
    "duration": 327,
    "start_time": "2022-09-01T15:18:38.396Z"
   },
   {
    "duration": 18,
    "start_time": "2022-09-01T15:18:38.725Z"
   },
   {
    "duration": 304,
    "start_time": "2022-09-01T15:18:38.744Z"
   },
   {
    "duration": 371,
    "start_time": "2022-09-01T15:18:39.050Z"
   },
   {
    "duration": 293,
    "start_time": "2022-09-01T15:18:39.423Z"
   },
   {
    "duration": 287,
    "start_time": "2022-09-01T15:18:39.718Z"
   },
   {
    "duration": 302,
    "start_time": "2022-09-01T15:18:40.007Z"
   },
   {
    "duration": 292,
    "start_time": "2022-09-01T15:18:40.310Z"
   },
   {
    "duration": 389,
    "start_time": "2022-09-01T15:18:40.604Z"
   },
   {
    "duration": 282,
    "start_time": "2022-09-01T15:18:40.995Z"
   },
   {
    "duration": 299,
    "start_time": "2022-09-01T15:18:41.278Z"
   },
   {
    "duration": 277,
    "start_time": "2022-09-01T15:18:41.579Z"
   },
   {
    "duration": 306,
    "start_time": "2022-09-01T15:18:41.857Z"
   },
   {
    "duration": 286,
    "start_time": "2022-09-01T15:18:42.166Z"
   },
   {
    "duration": 409,
    "start_time": "2022-09-01T15:18:42.453Z"
   },
   {
    "duration": 287,
    "start_time": "2022-09-01T15:18:42.865Z"
   },
   {
    "duration": 138,
    "start_time": "2022-09-01T15:18:43.154Z"
   },
   {
    "duration": 520,
    "start_time": "2022-09-01T15:21:15.211Z"
   },
   {
    "duration": 16,
    "start_time": "2022-09-01T15:21:15.733Z"
   },
   {
    "duration": 23,
    "start_time": "2022-09-01T15:21:15.750Z"
   },
   {
    "duration": 2335,
    "start_time": "2022-09-01T15:21:15.775Z"
   },
   {
    "duration": 3,
    "start_time": "2022-09-01T15:21:18.112Z"
   },
   {
    "duration": 12,
    "start_time": "2022-09-01T15:21:18.116Z"
   },
   {
    "duration": 15,
    "start_time": "2022-09-01T15:21:18.130Z"
   },
   {
    "duration": 120,
    "start_time": "2022-09-01T15:21:18.147Z"
   },
   {
    "duration": 8,
    "start_time": "2022-09-01T15:21:18.268Z"
   },
   {
    "duration": 5,
    "start_time": "2022-09-01T15:21:18.289Z"
   },
   {
    "duration": 35,
    "start_time": "2022-09-01T15:21:18.295Z"
   },
   {
    "duration": 15,
    "start_time": "2022-09-01T15:21:18.331Z"
   },
   {
    "duration": 5,
    "start_time": "2022-09-01T15:21:18.347Z"
   },
   {
    "duration": 13,
    "start_time": "2022-09-01T15:21:18.387Z"
   },
   {
    "duration": 333,
    "start_time": "2022-09-01T15:21:18.402Z"
   },
   {
    "duration": 16,
    "start_time": "2022-09-01T15:21:18.737Z"
   },
   {
    "duration": 304,
    "start_time": "2022-09-01T15:21:18.755Z"
   },
   {
    "duration": 379,
    "start_time": "2022-09-01T15:21:19.061Z"
   },
   {
    "duration": 291,
    "start_time": "2022-09-01T15:21:19.441Z"
   },
   {
    "duration": 313,
    "start_time": "2022-09-01T15:21:19.733Z"
   },
   {
    "duration": 308,
    "start_time": "2022-09-01T15:21:20.047Z"
   },
   {
    "duration": 322,
    "start_time": "2022-09-01T15:21:20.358Z"
   },
   {
    "duration": 413,
    "start_time": "2022-09-01T15:21:20.682Z"
   },
   {
    "duration": 292,
    "start_time": "2022-09-01T15:21:21.097Z"
   },
   {
    "duration": 323,
    "start_time": "2022-09-01T15:21:21.390Z"
   },
   {
    "duration": 287,
    "start_time": "2022-09-01T15:21:21.715Z"
   },
   {
    "duration": 303,
    "start_time": "2022-09-01T15:21:22.004Z"
   },
   {
    "duration": 292,
    "start_time": "2022-09-01T15:21:22.311Z"
   },
   {
    "duration": 396,
    "start_time": "2022-09-01T15:21:22.605Z"
   },
   {
    "duration": 306,
    "start_time": "2022-09-01T15:21:23.003Z"
   },
   {
    "duration": 138,
    "start_time": "2022-09-01T15:21:23.312Z"
   },
   {
    "duration": 506,
    "start_time": "2022-09-01T16:17:52.802Z"
   },
   {
    "duration": 15,
    "start_time": "2022-09-01T16:17:55.575Z"
   },
   {
    "duration": 4,
    "start_time": "2022-09-01T16:17:56.015Z"
   },
   {
    "duration": 2124,
    "start_time": "2022-09-01T16:17:56.346Z"
   },
   {
    "duration": 3,
    "start_time": "2022-09-01T16:17:58.472Z"
   },
   {
    "duration": 8,
    "start_time": "2022-09-01T16:17:58.487Z"
   },
   {
    "duration": 13,
    "start_time": "2022-09-01T16:17:58.497Z"
   },
   {
    "duration": 134,
    "start_time": "2022-09-01T16:17:58.511Z"
   },
   {
    "duration": 8,
    "start_time": "2022-09-01T16:17:58.647Z"
   },
   {
    "duration": 31,
    "start_time": "2022-09-01T16:17:58.657Z"
   },
   {
    "duration": 34,
    "start_time": "2022-09-01T16:17:58.690Z"
   },
   {
    "duration": 14,
    "start_time": "2022-09-01T16:17:58.725Z"
   },
   {
    "duration": 8,
    "start_time": "2022-09-01T16:17:58.741Z"
   },
   {
    "duration": 44,
    "start_time": "2022-09-01T16:17:58.751Z"
   },
   {
    "duration": 325,
    "start_time": "2022-09-01T16:17:58.949Z"
   },
   {
    "duration": 22,
    "start_time": "2022-09-01T16:17:59.276Z"
   },
   {
    "duration": 296,
    "start_time": "2022-09-01T16:17:59.502Z"
   },
   {
    "duration": 368,
    "start_time": "2022-09-01T16:18:00.005Z"
   },
   {
    "duration": 274,
    "start_time": "2022-09-01T16:18:00.475Z"
   },
   {
    "duration": 286,
    "start_time": "2022-09-01T16:18:00.837Z"
   },
   {
    "duration": 297,
    "start_time": "2022-09-01T16:18:01.181Z"
   },
   {
    "duration": 298,
    "start_time": "2022-09-01T16:18:01.556Z"
   },
   {
    "duration": 388,
    "start_time": "2022-09-01T16:18:01.920Z"
   },
   {
    "duration": 312,
    "start_time": "2022-09-01T16:18:02.310Z"
   },
   {
    "duration": 282,
    "start_time": "2022-09-01T16:18:02.639Z"
   },
   {
    "duration": 283,
    "start_time": "2022-09-01T16:18:03.026Z"
   },
   {
    "duration": 304,
    "start_time": "2022-09-01T16:18:03.429Z"
   },
   {
    "duration": 311,
    "start_time": "2022-09-01T16:18:03.838Z"
   },
   {
    "duration": 402,
    "start_time": "2022-09-01T16:18:04.231Z"
   },
   {
    "duration": 303,
    "start_time": "2022-09-01T16:18:04.636Z"
   },
   {
    "duration": 153,
    "start_time": "2022-09-01T16:18:04.941Z"
   },
   {
    "duration": 2,
    "start_time": "2022-09-01T16:18:05.096Z"
   },
   {
    "duration": 2,
    "start_time": "2022-09-01T16:18:05.455Z"
   },
   {
    "duration": 2,
    "start_time": "2022-09-01T16:18:05.646Z"
   },
   {
    "duration": 3,
    "start_time": "2022-09-01T16:18:08.054Z"
   },
   {
    "duration": 3,
    "start_time": "2022-09-01T16:18:08.256Z"
   },
   {
    "duration": 2,
    "start_time": "2022-09-01T16:18:08.415Z"
   },
   {
    "duration": 2,
    "start_time": "2022-09-01T16:18:08.597Z"
   },
   {
    "duration": 31,
    "start_time": "2022-09-01T16:18:46.775Z"
   },
   {
    "duration": 494,
    "start_time": "2022-09-01T16:22:44.243Z"
   },
   {
    "duration": 15,
    "start_time": "2022-09-01T16:22:44.739Z"
   },
   {
    "duration": 10,
    "start_time": "2022-09-01T16:22:44.755Z"
   },
   {
    "duration": 2185,
    "start_time": "2022-09-01T16:22:44.786Z"
   },
   {
    "duration": 13,
    "start_time": "2022-09-01T16:22:46.973Z"
   },
   {
    "duration": 10,
    "start_time": "2022-09-01T16:22:46.988Z"
   },
   {
    "duration": 12,
    "start_time": "2022-09-01T16:22:47.000Z"
   },
   {
    "duration": 144,
    "start_time": "2022-09-01T16:22:47.014Z"
   },
   {
    "duration": 27,
    "start_time": "2022-09-01T16:22:47.160Z"
   },
   {
    "duration": 4,
    "start_time": "2022-09-01T16:22:47.189Z"
   },
   {
    "duration": 42,
    "start_time": "2022-09-01T16:22:47.195Z"
   },
   {
    "duration": 15,
    "start_time": "2022-09-01T16:22:47.238Z"
   },
   {
    "duration": 33,
    "start_time": "2022-09-01T16:22:47.254Z"
   },
   {
    "duration": 18,
    "start_time": "2022-09-01T16:22:47.291Z"
   },
   {
    "duration": 366,
    "start_time": "2022-09-01T16:22:47.311Z"
   },
   {
    "duration": 22,
    "start_time": "2022-09-01T16:22:47.679Z"
   },
   {
    "duration": 297,
    "start_time": "2022-09-01T16:22:47.702Z"
   },
   {
    "duration": 389,
    "start_time": "2022-09-01T16:22:48.000Z"
   },
   {
    "duration": 268,
    "start_time": "2022-09-01T16:22:48.390Z"
   },
   {
    "duration": 310,
    "start_time": "2022-09-01T16:22:48.659Z"
   },
   {
    "duration": 308,
    "start_time": "2022-09-01T16:22:48.970Z"
   },
   {
    "duration": 283,
    "start_time": "2022-09-01T16:22:49.280Z"
   },
   {
    "duration": 403,
    "start_time": "2022-09-01T16:22:49.564Z"
   },
   {
    "duration": 292,
    "start_time": "2022-09-01T16:22:49.969Z"
   },
   {
    "duration": 294,
    "start_time": "2022-09-01T16:22:50.263Z"
   },
   {
    "duration": 282,
    "start_time": "2022-09-01T16:22:50.558Z"
   },
   {
    "duration": 309,
    "start_time": "2022-09-01T16:22:50.842Z"
   },
   {
    "duration": 301,
    "start_time": "2022-09-01T16:22:51.153Z"
   },
   {
    "duration": 406,
    "start_time": "2022-09-01T16:22:51.456Z"
   },
   {
    "duration": 314,
    "start_time": "2022-09-01T16:22:51.864Z"
   },
   {
    "duration": 147,
    "start_time": "2022-09-01T16:22:52.179Z"
   },
   {
    "duration": 36,
    "start_time": "2022-09-01T16:22:52.328Z"
   },
   {
    "duration": 3,
    "start_time": "2022-09-01T16:22:52.387Z"
   },
   {
    "duration": 9,
    "start_time": "2022-09-01T16:22:52.391Z"
   },
   {
    "duration": 6,
    "start_time": "2022-09-01T16:22:52.402Z"
   },
   {
    "duration": 8,
    "start_time": "2022-09-01T16:22:52.410Z"
   },
   {
    "duration": 7,
    "start_time": "2022-09-01T16:22:52.420Z"
   },
   {
    "duration": 19,
    "start_time": "2022-09-01T16:22:52.429Z"
   },
   {
    "duration": 49,
    "start_time": "2022-09-01T16:25:02.246Z"
   },
   {
    "duration": 606,
    "start_time": "2022-09-01T16:25:09.968Z"
   },
   {
    "duration": 112,
    "start_time": "2022-09-01T16:25:12.218Z"
   },
   {
    "duration": 14,
    "start_time": "2022-09-01T16:25:12.918Z"
   },
   {
    "duration": 5,
    "start_time": "2022-09-01T16:25:13.234Z"
   },
   {
    "duration": 2202,
    "start_time": "2022-09-01T16:25:13.399Z"
   },
   {
    "duration": 3,
    "start_time": "2022-09-01T16:25:15.604Z"
   },
   {
    "duration": 19,
    "start_time": "2022-09-01T16:25:15.609Z"
   },
   {
    "duration": 8,
    "start_time": "2022-09-01T16:25:15.630Z"
   },
   {
    "duration": 158,
    "start_time": "2022-09-01T16:25:15.640Z"
   },
   {
    "duration": 7,
    "start_time": "2022-09-01T16:25:15.800Z"
   },
   {
    "duration": 16,
    "start_time": "2022-09-01T16:25:15.810Z"
   },
   {
    "duration": 89,
    "start_time": "2022-09-01T16:25:15.828Z"
   },
   {
    "duration": 21,
    "start_time": "2022-09-01T16:25:15.919Z"
   },
   {
    "duration": 6,
    "start_time": "2022-09-01T16:25:15.944Z"
   },
   {
    "duration": 59,
    "start_time": "2022-09-01T16:25:15.952Z"
   },
   {
    "duration": 387,
    "start_time": "2022-09-01T16:25:16.014Z"
   },
   {
    "duration": 20,
    "start_time": "2022-09-01T16:25:16.403Z"
   },
   {
    "duration": 389,
    "start_time": "2022-09-01T16:25:16.426Z"
   },
   {
    "duration": 402,
    "start_time": "2022-09-01T16:25:16.817Z"
   },
   {
    "duration": 293,
    "start_time": "2022-09-01T16:25:17.221Z"
   },
   {
    "duration": 343,
    "start_time": "2022-09-01T16:25:17.516Z"
   },
   {
    "duration": 298,
    "start_time": "2022-09-01T16:25:17.861Z"
   },
   {
    "duration": 333,
    "start_time": "2022-09-01T16:25:18.161Z"
   },
   {
    "duration": 426,
    "start_time": "2022-09-01T16:25:18.496Z"
   },
   {
    "duration": 311,
    "start_time": "2022-09-01T16:25:18.923Z"
   },
   {
    "duration": 317,
    "start_time": "2022-09-01T16:25:19.235Z"
   },
   {
    "duration": 286,
    "start_time": "2022-09-01T16:25:19.553Z"
   },
   {
    "duration": 376,
    "start_time": "2022-09-01T16:25:19.841Z"
   },
   {
    "duration": 328,
    "start_time": "2022-09-01T16:25:20.219Z"
   },
   {
    "duration": 414,
    "start_time": "2022-09-01T16:25:20.550Z"
   },
   {
    "duration": 302,
    "start_time": "2022-09-01T16:25:20.966Z"
   },
   {
    "duration": 155,
    "start_time": "2022-09-01T16:25:21.271Z"
   },
   {
    "duration": 545,
    "start_time": "2022-09-01T16:26:49.972Z"
   },
   {
    "duration": 19,
    "start_time": "2022-09-01T16:26:50.520Z"
   },
   {
    "duration": 23,
    "start_time": "2022-09-01T16:26:50.541Z"
   },
   {
    "duration": 2312,
    "start_time": "2022-09-01T16:26:50.566Z"
   },
   {
    "duration": 8,
    "start_time": "2022-09-01T16:26:52.880Z"
   },
   {
    "duration": 22,
    "start_time": "2022-09-01T16:26:52.890Z"
   },
   {
    "duration": 12,
    "start_time": "2022-09-01T16:26:52.914Z"
   },
   {
    "duration": 187,
    "start_time": "2022-09-01T16:26:52.927Z"
   },
   {
    "duration": 10,
    "start_time": "2022-09-01T16:26:53.116Z"
   },
   {
    "duration": 16,
    "start_time": "2022-09-01T16:26:53.130Z"
   },
   {
    "duration": 65,
    "start_time": "2022-09-01T16:26:53.149Z"
   },
   {
    "duration": 18,
    "start_time": "2022-09-01T16:26:53.216Z"
   },
   {
    "duration": 8,
    "start_time": "2022-09-01T16:26:53.237Z"
   },
   {
    "duration": 51,
    "start_time": "2022-09-01T16:26:53.249Z"
   },
   {
    "duration": 344,
    "start_time": "2022-09-01T16:26:53.302Z"
   },
   {
    "duration": 17,
    "start_time": "2022-09-01T16:26:53.648Z"
   },
   {
    "duration": 313,
    "start_time": "2022-09-01T16:26:53.667Z"
   },
   {
    "duration": 388,
    "start_time": "2022-09-01T16:26:53.987Z"
   },
   {
    "duration": 318,
    "start_time": "2022-09-01T16:26:54.386Z"
   },
   {
    "duration": 325,
    "start_time": "2022-09-01T16:26:54.706Z"
   },
   {
    "duration": 337,
    "start_time": "2022-09-01T16:26:55.033Z"
   },
   {
    "duration": 316,
    "start_time": "2022-09-01T16:26:55.372Z"
   },
   {
    "duration": 459,
    "start_time": "2022-09-01T16:26:55.690Z"
   },
   {
    "duration": 446,
    "start_time": "2022-09-01T16:26:56.151Z"
   },
   {
    "duration": 376,
    "start_time": "2022-09-01T16:26:56.599Z"
   },
   {
    "duration": 339,
    "start_time": "2022-09-01T16:26:56.986Z"
   },
   {
    "duration": 355,
    "start_time": "2022-09-01T16:26:57.328Z"
   },
   {
    "duration": 464,
    "start_time": "2022-09-01T16:26:57.687Z"
   },
   {
    "duration": 414,
    "start_time": "2022-09-01T16:26:58.152Z"
   },
   {
    "duration": 301,
    "start_time": "2022-09-01T16:26:58.569Z"
   },
   {
    "duration": 156,
    "start_time": "2022-09-01T16:26:58.871Z"
   },
   {
    "duration": 2,
    "start_time": "2022-09-01T16:26:59.029Z"
   },
   {
    "duration": 18,
    "start_time": "2022-09-01T16:26:59.033Z"
   },
   {
    "duration": 15,
    "start_time": "2022-09-01T16:26:59.054Z"
   },
   {
    "duration": 28,
    "start_time": "2022-09-01T16:26:59.072Z"
   },
   {
    "duration": 5,
    "start_time": "2022-09-01T16:26:59.103Z"
   },
   {
    "duration": 26,
    "start_time": "2022-09-01T16:26:59.110Z"
   },
   {
    "duration": 217,
    "start_time": "2022-09-01T16:59:05.506Z"
   },
   {
    "duration": 53,
    "start_time": "2022-09-01T16:59:11.606Z"
   },
   {
    "duration": 386,
    "start_time": "2022-09-01T17:00:51.206Z"
   },
   {
    "duration": 33825,
    "start_time": "2022-09-01T17:01:11.116Z"
   },
   {
    "duration": 421,
    "start_time": "2022-09-01T17:02:22.646Z"
   },
   {
    "duration": 33,
    "start_time": "2022-09-01T17:03:22.497Z"
   },
   {
    "duration": 20,
    "start_time": "2022-09-01T17:08:00.503Z"
   },
   {
    "duration": 178,
    "start_time": "2022-09-01T17:09:09.557Z"
   },
   {
    "duration": 305,
    "start_time": "2022-09-01T17:09:53.314Z"
   },
   {
    "duration": 10,
    "start_time": "2022-09-01T17:10:42.266Z"
   },
   {
    "duration": 153,
    "start_time": "2022-09-01T17:10:50.278Z"
   },
   {
    "duration": 153,
    "start_time": "2022-09-01T17:11:22.618Z"
   },
   {
    "duration": 162,
    "start_time": "2022-09-01T17:12:18.297Z"
   },
   {
    "duration": 166,
    "start_time": "2022-09-01T17:15:52.117Z"
   },
   {
    "duration": 169,
    "start_time": "2022-09-01T17:18:14.135Z"
   },
   {
    "duration": 87,
    "start_time": "2022-09-01T17:19:41.777Z"
   },
   {
    "duration": 202,
    "start_time": "2022-09-01T17:25:33.336Z"
   },
   {
    "duration": 148,
    "start_time": "2022-09-01T17:29:24.841Z"
   },
   {
    "duration": 178,
    "start_time": "2022-09-01T17:30:25.286Z"
   },
   {
    "duration": 165,
    "start_time": "2022-09-01T17:30:57.027Z"
   },
   {
    "duration": 99,
    "start_time": "2022-09-01T17:40:45.537Z"
   },
   {
    "duration": 53,
    "start_time": "2022-09-01T17:41:02.925Z"
   },
   {
    "duration": 544,
    "start_time": "2022-09-01T17:42:53.926Z"
   },
   {
    "duration": 176,
    "start_time": "2022-09-01T17:43:49.031Z"
   },
   {
    "duration": 199,
    "start_time": "2022-09-01T17:46:17.622Z"
   },
   {
    "duration": 265,
    "start_time": "2022-09-01T19:35:42.405Z"
   },
   {
    "duration": 252,
    "start_time": "2022-09-01T19:35:52.853Z"
   },
   {
    "duration": 292,
    "start_time": "2022-09-01T19:36:14.880Z"
   },
   {
    "duration": 113,
    "start_time": "2022-09-01T19:39:41.440Z"
   },
   {
    "duration": 2820,
    "start_time": "2022-09-01T19:40:00.332Z"
   },
   {
    "duration": 9,
    "start_time": "2022-09-01T19:45:02.960Z"
   },
   {
    "duration": 4,
    "start_time": "2022-09-01T19:45:10.463Z"
   },
   {
    "duration": 40,
    "start_time": "2022-09-01T19:45:35.677Z"
   },
   {
    "duration": 42,
    "start_time": "2022-09-01T19:45:56.532Z"
   },
   {
    "duration": 15,
    "start_time": "2022-09-01T19:46:59.260Z"
   },
   {
    "duration": 40,
    "start_time": "2022-09-01T19:49:13.462Z"
   },
   {
    "duration": 17,
    "start_time": "2022-09-01T19:50:21.366Z"
   },
   {
    "duration": 16,
    "start_time": "2022-09-01T19:50:53.879Z"
   },
   {
    "duration": 18,
    "start_time": "2022-09-01T19:51:05.236Z"
   },
   {
    "duration": 17,
    "start_time": "2022-09-01T19:51:16.701Z"
   },
   {
    "duration": 17,
    "start_time": "2022-09-01T19:51:18.842Z"
   },
   {
    "duration": 19,
    "start_time": "2022-09-01T19:52:46.971Z"
   },
   {
    "duration": 49,
    "start_time": "2022-09-01T19:53:32.114Z"
   },
   {
    "duration": 19,
    "start_time": "2022-09-01T19:53:54.813Z"
   },
   {
    "duration": 8,
    "start_time": "2022-09-01T19:57:52.446Z"
   },
   {
    "duration": 35,
    "start_time": "2022-09-01T19:57:59.603Z"
   },
   {
    "duration": 149,
    "start_time": "2022-09-01T20:02:45.379Z"
   },
   {
    "duration": 17,
    "start_time": "2022-09-01T20:03:53.499Z"
   },
   {
    "duration": 164,
    "start_time": "2022-09-01T20:03:58.589Z"
   },
   {
    "duration": 150,
    "start_time": "2022-09-01T20:04:10.949Z"
   },
   {
    "duration": 181,
    "start_time": "2022-09-01T20:04:26.229Z"
   },
   {
    "duration": 44,
    "start_time": "2022-09-01T23:05:35.293Z"
   },
   {
    "duration": 735,
    "start_time": "2022-09-01T23:05:44.014Z"
   },
   {
    "duration": 123,
    "start_time": "2022-09-01T23:05:48.921Z"
   },
   {
    "duration": 14,
    "start_time": "2022-09-01T23:05:49.924Z"
   },
   {
    "duration": 3,
    "start_time": "2022-09-01T23:05:50.733Z"
   },
   {
    "duration": 2174,
    "start_time": "2022-09-01T23:05:51.683Z"
   },
   {
    "duration": 2,
    "start_time": "2022-09-01T23:05:54.044Z"
   },
   {
    "duration": 10,
    "start_time": "2022-09-01T23:05:56.073Z"
   },
   {
    "duration": 6,
    "start_time": "2022-09-01T23:05:56.684Z"
   },
   {
    "duration": 102,
    "start_time": "2022-09-01T23:05:57.110Z"
   },
   {
    "duration": 7,
    "start_time": "2022-09-01T23:05:57.631Z"
   },
   {
    "duration": 12,
    "start_time": "2022-09-01T23:05:57.640Z"
   },
   {
    "duration": 42,
    "start_time": "2022-09-01T23:05:57.677Z"
   },
   {
    "duration": 17,
    "start_time": "2022-09-01T23:05:57.721Z"
   },
   {
    "duration": 6,
    "start_time": "2022-09-01T23:05:57.787Z"
   },
   {
    "duration": 12,
    "start_time": "2022-09-01T23:05:57.833Z"
   },
   {
    "duration": 298,
    "start_time": "2022-09-01T23:05:57.865Z"
   },
   {
    "duration": 14,
    "start_time": "2022-09-01T23:05:58.165Z"
   },
   {
    "duration": 357,
    "start_time": "2022-09-01T23:05:58.181Z"
   },
   {
    "duration": 271,
    "start_time": "2022-09-01T23:05:58.540Z"
   },
   {
    "duration": 307,
    "start_time": "2022-09-01T23:05:58.813Z"
   },
   {
    "duration": 274,
    "start_time": "2022-09-01T23:05:59.122Z"
   },
   {
    "duration": 256,
    "start_time": "2022-09-01T23:05:59.398Z"
   },
   {
    "duration": 257,
    "start_time": "2022-09-01T23:05:59.656Z"
   },
   {
    "duration": 337,
    "start_time": "2022-09-01T23:05:59.915Z"
   },
   {
    "duration": 267,
    "start_time": "2022-09-01T23:06:00.255Z"
   },
   {
    "duration": 278,
    "start_time": "2022-09-01T23:06:00.524Z"
   },
   {
    "duration": 262,
    "start_time": "2022-09-01T23:06:00.804Z"
   },
   {
    "duration": 278,
    "start_time": "2022-09-01T23:06:01.068Z"
   },
   {
    "duration": 341,
    "start_time": "2022-09-01T23:06:01.348Z"
   },
   {
    "duration": 274,
    "start_time": "2022-09-01T23:06:01.691Z"
   },
   {
    "duration": 259,
    "start_time": "2022-09-01T23:06:01.967Z"
   },
   {
    "duration": 119,
    "start_time": "2022-09-01T23:06:02.229Z"
   },
   {
    "duration": 152,
    "start_time": "2022-09-01T23:06:02.350Z"
   },
   {
    "duration": 153,
    "start_time": "2022-09-01T23:06:02.503Z"
   },
   {
    "duration": 138,
    "start_time": "2022-09-01T23:06:02.658Z"
   },
   {
    "duration": 164,
    "start_time": "2022-09-01T23:06:02.798Z"
   },
   {
    "duration": 135,
    "start_time": "2022-09-01T23:06:02.963Z"
   },
   {
    "duration": 211,
    "start_time": "2022-09-01T23:06:03.100Z"
   },
   {
    "duration": 148,
    "start_time": "2022-09-01T23:06:03.313Z"
   },
   {
    "duration": 145,
    "start_time": "2022-09-01T23:06:03.463Z"
   },
   {
    "duration": 3,
    "start_time": "2022-09-01T23:06:03.610Z"
   },
   {
    "duration": 20,
    "start_time": "2022-09-01T23:06:03.615Z"
   },
   {
    "duration": 4,
    "start_time": "2022-09-01T23:06:03.638Z"
   },
   {
    "duration": 22,
    "start_time": "2022-09-01T23:06:03.643Z"
   },
   {
    "duration": 7,
    "start_time": "2022-09-01T23:06:03.666Z"
   },
   {
    "duration": 151,
    "start_time": "2022-09-01T23:06:03.675Z"
   },
   {
    "duration": 129,
    "start_time": "2022-09-01T23:16:50.372Z"
   },
   {
    "duration": 130,
    "start_time": "2022-09-01T23:17:59.357Z"
   },
   {
    "duration": 144,
    "start_time": "2022-09-01T23:18:16.005Z"
   },
   {
    "duration": 170,
    "start_time": "2022-09-01T23:19:29.002Z"
   },
   {
    "duration": 8,
    "start_time": "2022-09-01T23:20:24.947Z"
   },
   {
    "duration": 9,
    "start_time": "2022-09-01T23:20:29.072Z"
   },
   {
    "duration": 5,
    "start_time": "2022-09-01T23:20:29.552Z"
   },
   {
    "duration": 18,
    "start_time": "2022-09-01T23:20:29.568Z"
   },
   {
    "duration": 6,
    "start_time": "2022-09-01T23:20:29.601Z"
   },
   {
    "duration": 147,
    "start_time": "2022-09-01T23:20:29.634Z"
   },
   {
    "duration": 8,
    "start_time": "2022-09-01T23:21:16.993Z"
   },
   {
    "duration": 5,
    "start_time": "2022-09-01T23:21:19.273Z"
   },
   {
    "duration": 18,
    "start_time": "2022-09-01T23:21:19.453Z"
   },
   {
    "duration": 8,
    "start_time": "2022-09-01T23:21:19.601Z"
   },
   {
    "duration": 123,
    "start_time": "2022-09-01T23:21:19.758Z"
   },
   {
    "duration": 489,
    "start_time": "2022-09-02T00:10:37.056Z"
   },
   {
    "duration": 14,
    "start_time": "2022-09-02T00:10:37.547Z"
   },
   {
    "duration": 3,
    "start_time": "2022-09-02T00:10:37.563Z"
   },
   {
    "duration": 2255,
    "start_time": "2022-09-02T00:10:37.568Z"
   },
   {
    "duration": 2,
    "start_time": "2022-09-02T00:10:39.825Z"
   },
   {
    "duration": 26,
    "start_time": "2022-09-02T00:10:39.829Z"
   },
   {
    "duration": 36,
    "start_time": "2022-09-02T00:10:39.857Z"
   },
   {
    "duration": 131,
    "start_time": "2022-09-02T00:10:39.895Z"
   },
   {
    "duration": 8,
    "start_time": "2022-09-02T00:10:40.028Z"
   },
   {
    "duration": 32,
    "start_time": "2022-09-02T00:10:40.039Z"
   },
   {
    "duration": 41,
    "start_time": "2022-09-02T00:10:40.073Z"
   },
   {
    "duration": 14,
    "start_time": "2022-09-02T00:10:40.116Z"
   },
   {
    "duration": 5,
    "start_time": "2022-09-02T00:10:40.131Z"
   },
   {
    "duration": 17,
    "start_time": "2022-09-02T00:10:40.138Z"
   },
   {
    "duration": 588,
    "start_time": "2022-09-02T00:10:40.157Z"
   },
   {
    "duration": 68,
    "start_time": "2022-09-02T00:10:40.747Z"
   },
   {
    "duration": 614,
    "start_time": "2022-09-02T00:10:40.817Z"
   },
   {
    "duration": 751,
    "start_time": "2022-09-02T00:10:41.433Z"
   },
   {
    "duration": 294,
    "start_time": "2022-09-02T00:10:42.186Z"
   },
   {
    "duration": 302,
    "start_time": "2022-09-02T00:10:42.481Z"
   },
   {
    "duration": 283,
    "start_time": "2022-09-02T00:10:42.784Z"
   },
   {
    "duration": 304,
    "start_time": "2022-09-02T00:10:43.069Z"
   },
   {
    "duration": 403,
    "start_time": "2022-09-02T00:10:43.375Z"
   },
   {
    "duration": 313,
    "start_time": "2022-09-02T00:10:43.780Z"
   },
   {
    "duration": 313,
    "start_time": "2022-09-02T00:10:44.095Z"
   },
   {
    "duration": 295,
    "start_time": "2022-09-02T00:10:44.410Z"
   },
   {
    "duration": 316,
    "start_time": "2022-09-02T00:10:44.707Z"
   },
   {
    "duration": 304,
    "start_time": "2022-09-02T00:10:45.027Z"
   },
   {
    "duration": 392,
    "start_time": "2022-09-02T00:10:45.332Z"
   },
   {
    "duration": 303,
    "start_time": "2022-09-02T00:10:45.726Z"
   },
   {
    "duration": 133,
    "start_time": "2022-09-02T00:10:46.030Z"
   },
   {
    "duration": 171,
    "start_time": "2022-09-02T00:10:46.165Z"
   },
   {
    "duration": 190,
    "start_time": "2022-09-02T00:10:46.338Z"
   },
   {
    "duration": 161,
    "start_time": "2022-09-02T00:10:46.530Z"
   },
   {
    "duration": 187,
    "start_time": "2022-09-02T00:10:46.693Z"
   },
   {
    "duration": 163,
    "start_time": "2022-09-02T00:10:46.882Z"
   },
   {
    "duration": 166,
    "start_time": "2022-09-02T00:10:47.046Z"
   },
   {
    "duration": 249,
    "start_time": "2022-09-02T00:10:47.214Z"
   },
   {
    "duration": 179,
    "start_time": "2022-09-02T00:10:47.465Z"
   },
   {
    "duration": 12,
    "start_time": "2022-09-02T00:10:47.646Z"
   },
   {
    "duration": 5,
    "start_time": "2022-09-02T00:10:47.659Z"
   },
   {
    "duration": 44,
    "start_time": "2022-09-02T00:10:47.666Z"
   },
   {
    "duration": 7,
    "start_time": "2022-09-02T00:10:47.712Z"
   },
   {
    "duration": 162,
    "start_time": "2022-09-02T00:10:47.721Z"
   },
   {
    "duration": 190,
    "start_time": "2022-09-02T00:13:30.827Z"
   },
   {
    "duration": 125,
    "start_time": "2022-09-02T00:13:45.863Z"
   },
   {
    "duration": 113,
    "start_time": "2022-09-02T00:13:49.041Z"
   },
   {
    "duration": 155,
    "start_time": "2022-09-02T00:20:22.318Z"
   },
   {
    "duration": 156,
    "start_time": "2022-09-02T00:20:30.067Z"
   },
   {
    "duration": 52,
    "start_time": "2022-09-02T13:19:07.708Z"
   },
   {
    "duration": 574,
    "start_time": "2022-09-02T13:19:14.113Z"
   },
   {
    "duration": 14,
    "start_time": "2022-09-02T13:19:14.689Z"
   },
   {
    "duration": 12,
    "start_time": "2022-09-02T13:19:14.705Z"
   },
   {
    "duration": 2396,
    "start_time": "2022-09-02T13:19:14.719Z"
   },
   {
    "duration": 2,
    "start_time": "2022-09-02T13:19:17.118Z"
   },
   {
    "duration": 12,
    "start_time": "2022-09-02T13:19:17.122Z"
   },
   {
    "duration": 19,
    "start_time": "2022-09-02T13:19:17.135Z"
   },
   {
    "duration": 121,
    "start_time": "2022-09-02T13:19:17.156Z"
   },
   {
    "duration": 128,
    "start_time": "2022-09-02T13:19:17.279Z"
   },
   {
    "duration": 7,
    "start_time": "2022-09-02T13:19:17.409Z"
   },
   {
    "duration": 8,
    "start_time": "2022-09-02T13:19:17.418Z"
   },
   {
    "duration": 40,
    "start_time": "2022-09-02T13:19:17.428Z"
   },
   {
    "duration": 27,
    "start_time": "2022-09-02T13:19:17.470Z"
   },
   {
    "duration": 43,
    "start_time": "2022-09-02T13:19:17.499Z"
   },
   {
    "duration": 34,
    "start_time": "2022-09-02T13:19:17.543Z"
   },
   {
    "duration": 337,
    "start_time": "2022-09-02T13:19:17.579Z"
   },
   {
    "duration": 18,
    "start_time": "2022-09-02T13:19:17.917Z"
   },
   {
    "duration": 396,
    "start_time": "2022-09-02T13:19:17.937Z"
   },
   {
    "duration": 302,
    "start_time": "2022-09-02T13:19:18.335Z"
   },
   {
    "duration": 291,
    "start_time": "2022-09-02T13:19:18.639Z"
   },
   {
    "duration": 316,
    "start_time": "2022-09-02T13:19:18.931Z"
   },
   {
    "duration": 303,
    "start_time": "2022-09-02T13:19:19.249Z"
   },
   {
    "duration": 377,
    "start_time": "2022-09-02T13:19:19.553Z"
   },
   {
    "duration": 313,
    "start_time": "2022-09-02T13:19:19.932Z"
   },
   {
    "duration": 305,
    "start_time": "2022-09-02T13:19:20.246Z"
   },
   {
    "duration": 330,
    "start_time": "2022-09-02T13:19:20.553Z"
   },
   {
    "duration": 286,
    "start_time": "2022-09-02T13:19:20.892Z"
   },
   {
    "duration": 304,
    "start_time": "2022-09-02T13:19:21.180Z"
   },
   {
    "duration": 432,
    "start_time": "2022-09-02T13:19:21.486Z"
   },
   {
    "duration": 360,
    "start_time": "2022-09-02T13:19:21.920Z"
   },
   {
    "duration": 282,
    "start_time": "2022-09-02T13:19:22.282Z"
   },
   {
    "duration": 130,
    "start_time": "2022-09-02T13:19:22.566Z"
   },
   {
    "duration": 159,
    "start_time": "2022-09-02T13:19:22.699Z"
   },
   {
    "duration": 166,
    "start_time": "2022-09-02T13:19:22.860Z"
   },
   {
    "duration": 151,
    "start_time": "2022-09-02T13:19:23.027Z"
   },
   {
    "duration": 179,
    "start_time": "2022-09-02T13:19:23.180Z"
   },
   {
    "duration": 234,
    "start_time": "2022-09-02T13:19:23.362Z"
   },
   {
    "duration": 169,
    "start_time": "2022-09-02T13:19:23.598Z"
   },
   {
    "duration": 157,
    "start_time": "2022-09-02T13:19:23.769Z"
   },
   {
    "duration": 170,
    "start_time": "2022-09-02T13:19:23.928Z"
   },
   {
    "duration": 10,
    "start_time": "2022-09-02T13:19:24.099Z"
   },
   {
    "duration": 4,
    "start_time": "2022-09-02T13:19:24.111Z"
   },
   {
    "duration": 23,
    "start_time": "2022-09-02T13:19:24.116Z"
   },
   {
    "duration": 7,
    "start_time": "2022-09-02T13:19:24.140Z"
   },
   {
    "duration": 190,
    "start_time": "2022-09-02T13:19:24.149Z"
   },
   {
    "duration": 8,
    "start_time": "2022-09-02T13:21:24.405Z"
   },
   {
    "duration": 6,
    "start_time": "2022-09-02T13:21:42.881Z"
   },
   {
    "duration": 43,
    "start_time": "2022-09-02T13:22:55.354Z"
   },
   {
    "duration": 41,
    "start_time": "2022-09-02T13:23:04.495Z"
   },
   {
    "duration": 8,
    "start_time": "2022-09-02T13:25:43.754Z"
   },
   {
    "duration": 37,
    "start_time": "2022-09-02T13:26:20.975Z"
   },
   {
    "duration": 11,
    "start_time": "2022-09-02T13:26:30.016Z"
   },
   {
    "duration": 39,
    "start_time": "2022-09-02T13:28:41.469Z"
   },
   {
    "duration": 11,
    "start_time": "2022-09-02T13:28:47.995Z"
   },
   {
    "duration": 519,
    "start_time": "2022-09-02T14:06:03.033Z"
   },
   {
    "duration": 18,
    "start_time": "2022-09-02T14:06:03.554Z"
   },
   {
    "duration": 18,
    "start_time": "2022-09-02T14:06:03.574Z"
   },
   {
    "duration": 2221,
    "start_time": "2022-09-02T14:06:03.594Z"
   },
   {
    "duration": 3,
    "start_time": "2022-09-02T14:06:05.818Z"
   },
   {
    "duration": 20,
    "start_time": "2022-09-02T14:06:05.822Z"
   },
   {
    "duration": 19,
    "start_time": "2022-09-02T14:06:05.843Z"
   },
   {
    "duration": 137,
    "start_time": "2022-09-02T14:06:05.864Z"
   },
   {
    "duration": 124,
    "start_time": "2022-09-02T14:06:06.002Z"
   },
   {
    "duration": 7,
    "start_time": "2022-09-02T14:06:06.127Z"
   },
   {
    "duration": 9,
    "start_time": "2022-09-02T14:06:06.136Z"
   },
   {
    "duration": 47,
    "start_time": "2022-09-02T14:06:06.147Z"
   },
   {
    "duration": 21,
    "start_time": "2022-09-02T14:06:06.196Z"
   },
   {
    "duration": 4,
    "start_time": "2022-09-02T14:06:06.220Z"
   },
   {
    "duration": 9,
    "start_time": "2022-09-02T14:06:06.226Z"
   },
   {
    "duration": 13,
    "start_time": "2022-09-02T14:06:06.237Z"
   },
   {
    "duration": 13,
    "start_time": "2022-09-02T14:06:06.252Z"
   },
   {
    "duration": 302,
    "start_time": "2022-09-02T14:06:06.291Z"
   },
   {
    "duration": 317,
    "start_time": "2022-09-02T14:06:06.595Z"
   },
   {
    "duration": 392,
    "start_time": "2022-09-02T14:06:06.913Z"
   },
   {
    "duration": 290,
    "start_time": "2022-09-02T14:06:07.306Z"
   },
   {
    "duration": 303,
    "start_time": "2022-09-02T14:06:07.598Z"
   },
   {
    "duration": 298,
    "start_time": "2022-09-02T14:06:07.903Z"
   },
   {
    "duration": 309,
    "start_time": "2022-09-02T14:06:08.203Z"
   },
   {
    "duration": 382,
    "start_time": "2022-09-02T14:06:08.514Z"
   },
   {
    "duration": 326,
    "start_time": "2022-09-02T14:06:08.897Z"
   },
   {
    "duration": 321,
    "start_time": "2022-09-02T14:06:09.225Z"
   },
   {
    "duration": 333,
    "start_time": "2022-09-02T14:06:09.548Z"
   },
   {
    "duration": 314,
    "start_time": "2022-09-02T14:06:09.883Z"
   },
   {
    "duration": 333,
    "start_time": "2022-09-02T14:06:10.200Z"
   },
   {
    "duration": 414,
    "start_time": "2022-09-02T14:06:10.535Z"
   },
   {
    "duration": 116,
    "start_time": "2022-09-02T14:06:10.951Z"
   },
   {
    "duration": 167,
    "start_time": "2022-09-02T14:06:11.069Z"
   },
   {
    "duration": 190,
    "start_time": "2022-09-02T14:06:11.238Z"
   },
   {
    "duration": 195,
    "start_time": "2022-09-02T14:06:11.430Z"
   },
   {
    "duration": 216,
    "start_time": "2022-09-02T14:06:11.627Z"
   },
   {
    "duration": 225,
    "start_time": "2022-09-02T14:06:11.845Z"
   },
   {
    "duration": 151,
    "start_time": "2022-09-02T14:06:12.071Z"
   },
   {
    "duration": 178,
    "start_time": "2022-09-02T14:06:12.223Z"
   },
   {
    "duration": 192,
    "start_time": "2022-09-02T14:06:12.403Z"
   },
   {
    "duration": 9,
    "start_time": "2022-09-02T14:06:12.600Z"
   },
   {
    "duration": 35,
    "start_time": "2022-09-02T14:06:12.611Z"
   },
   {
    "duration": 24,
    "start_time": "2022-09-02T14:06:12.648Z"
   },
   {
    "duration": 17,
    "start_time": "2022-09-02T14:06:12.674Z"
   },
   {
    "duration": 247,
    "start_time": "2022-09-02T14:06:12.693Z"
   },
   {
    "duration": 7,
    "start_time": "2022-09-02T14:09:07.449Z"
   },
   {
    "duration": 513,
    "start_time": "2022-09-02T14:09:19.327Z"
   },
   {
    "duration": 13,
    "start_time": "2022-09-02T14:09:19.842Z"
   },
   {
    "duration": 29,
    "start_time": "2022-09-02T14:09:19.856Z"
   },
   {
    "duration": 2284,
    "start_time": "2022-09-02T14:09:19.887Z"
   },
   {
    "duration": 3,
    "start_time": "2022-09-02T14:09:22.173Z"
   },
   {
    "duration": 11,
    "start_time": "2022-09-02T14:09:22.177Z"
   },
   {
    "duration": 9,
    "start_time": "2022-09-02T14:09:22.189Z"
   },
   {
    "duration": 130,
    "start_time": "2022-09-02T14:09:22.200Z"
   },
   {
    "duration": 118,
    "start_time": "2022-09-02T14:09:22.331Z"
   },
   {
    "duration": 7,
    "start_time": "2022-09-02T14:09:22.452Z"
   },
   {
    "duration": 7,
    "start_time": "2022-09-02T14:09:22.460Z"
   },
   {
    "duration": 51,
    "start_time": "2022-09-02T14:09:22.469Z"
   },
   {
    "duration": 9,
    "start_time": "2022-09-02T14:09:22.522Z"
   },
   {
    "duration": 5,
    "start_time": "2022-09-02T14:09:22.533Z"
   },
   {
    "duration": 18,
    "start_time": "2022-09-02T14:09:22.539Z"
   },
   {
    "duration": 332,
    "start_time": "2022-09-02T14:09:22.559Z"
   },
   {
    "duration": 17,
    "start_time": "2022-09-02T14:09:22.893Z"
   },
   {
    "duration": 377,
    "start_time": "2022-09-02T14:09:22.912Z"
   },
   {
    "duration": 302,
    "start_time": "2022-09-02T14:09:23.292Z"
   },
   {
    "duration": 280,
    "start_time": "2022-09-02T14:09:23.596Z"
   },
   {
    "duration": 304,
    "start_time": "2022-09-02T14:09:23.878Z"
   },
   {
    "duration": 264,
    "start_time": "2022-09-02T14:09:24.184Z"
   },
   {
    "duration": 297,
    "start_time": "2022-09-02T14:09:24.450Z"
   },
   {
    "duration": 386,
    "start_time": "2022-09-02T14:09:24.750Z"
   },
   {
    "duration": 292,
    "start_time": "2022-09-02T14:09:25.138Z"
   },
   {
    "duration": 316,
    "start_time": "2022-09-02T14:09:25.432Z"
   },
   {
    "duration": 302,
    "start_time": "2022-09-02T14:09:25.750Z"
   },
   {
    "duration": 286,
    "start_time": "2022-09-02T14:09:26.055Z"
   },
   {
    "duration": 360,
    "start_time": "2022-09-02T14:09:26.343Z"
   },
   {
    "duration": 324,
    "start_time": "2022-09-02T14:09:26.705Z"
   },
   {
    "duration": 294,
    "start_time": "2022-09-02T14:09:27.031Z"
   },
   {
    "duration": 129,
    "start_time": "2022-09-02T14:09:27.326Z"
   },
   {
    "duration": 167,
    "start_time": "2022-09-02T14:09:27.456Z"
   },
   {
    "duration": 192,
    "start_time": "2022-09-02T14:09:27.625Z"
   },
   {
    "duration": 160,
    "start_time": "2022-09-02T14:09:27.818Z"
   },
   {
    "duration": 183,
    "start_time": "2022-09-02T14:09:27.980Z"
   },
   {
    "duration": 153,
    "start_time": "2022-09-02T14:09:28.164Z"
   },
   {
    "duration": 245,
    "start_time": "2022-09-02T14:09:28.319Z"
   },
   {
    "duration": 187,
    "start_time": "2022-09-02T14:09:28.566Z"
   },
   {
    "duration": 171,
    "start_time": "2022-09-02T14:09:28.755Z"
   },
   {
    "duration": 10,
    "start_time": "2022-09-02T14:09:28.928Z"
   },
   {
    "duration": 17,
    "start_time": "2022-09-02T14:09:28.939Z"
   },
   {
    "duration": 43,
    "start_time": "2022-09-02T14:09:28.958Z"
   },
   {
    "duration": 17,
    "start_time": "2022-09-02T14:09:29.003Z"
   },
   {
    "duration": 167,
    "start_time": "2022-09-02T14:09:29.022Z"
   },
   {
    "duration": 29,
    "start_time": "2022-09-02T14:14:58.698Z"
   },
   {
    "duration": 102,
    "start_time": "2022-09-02T14:16:15.068Z"
   },
   {
    "duration": 33,
    "start_time": "2022-09-02T14:16:36.680Z"
   },
   {
    "duration": 36,
    "start_time": "2022-09-02T14:16:41.927Z"
   },
   {
    "duration": 59,
    "start_time": "2022-09-02T14:20:58.818Z"
   },
   {
    "duration": 26,
    "start_time": "2022-09-02T14:21:24.347Z"
   },
   {
    "duration": 8,
    "start_time": "2022-09-02T14:21:35.508Z"
   },
   {
    "duration": 9,
    "start_time": "2022-09-02T14:22:39.690Z"
   },
   {
    "duration": 9,
    "start_time": "2022-09-02T14:22:45.838Z"
   },
   {
    "duration": 25,
    "start_time": "2022-09-02T14:22:55.879Z"
   },
   {
    "duration": 602,
    "start_time": "2022-09-02T14:23:14.001Z"
   },
   {
    "duration": 16,
    "start_time": "2022-09-02T14:23:14.605Z"
   },
   {
    "duration": 4,
    "start_time": "2022-09-02T14:23:14.623Z"
   },
   {
    "duration": 2393,
    "start_time": "2022-09-02T14:23:14.630Z"
   },
   {
    "duration": 2,
    "start_time": "2022-09-02T14:23:17.026Z"
   },
   {
    "duration": 18,
    "start_time": "2022-09-02T14:23:17.029Z"
   },
   {
    "duration": 12,
    "start_time": "2022-09-02T14:23:17.049Z"
   },
   {
    "duration": 145,
    "start_time": "2022-09-02T14:23:17.063Z"
   },
   {
    "duration": 232,
    "start_time": "2022-09-02T14:23:17.211Z"
   },
   {
    "duration": 9,
    "start_time": "2022-09-02T14:23:17.446Z"
   },
   {
    "duration": 27,
    "start_time": "2022-09-02T14:23:17.457Z"
   },
   {
    "duration": 57,
    "start_time": "2022-09-02T14:23:17.486Z"
   },
   {
    "duration": 45,
    "start_time": "2022-09-02T14:23:17.545Z"
   },
   {
    "duration": 6,
    "start_time": "2022-09-02T14:23:17.591Z"
   },
   {
    "duration": 32,
    "start_time": "2022-09-02T14:23:17.598Z"
   },
   {
    "duration": 428,
    "start_time": "2022-09-02T14:23:17.631Z"
   },
   {
    "duration": 32,
    "start_time": "2022-09-02T14:23:18.061Z"
   },
   {
    "duration": 425,
    "start_time": "2022-09-02T14:23:18.095Z"
   },
   {
    "duration": 345,
    "start_time": "2022-09-02T14:23:18.523Z"
   },
   {
    "duration": 340,
    "start_time": "2022-09-02T14:23:18.871Z"
   },
   {
    "duration": 357,
    "start_time": "2022-09-02T14:23:19.213Z"
   },
   {
    "duration": 366,
    "start_time": "2022-09-02T14:23:19.572Z"
   },
   {
    "duration": 351,
    "start_time": "2022-09-02T14:23:19.941Z"
   },
   {
    "duration": 463,
    "start_time": "2022-09-02T14:23:20.294Z"
   },
   {
    "duration": 316,
    "start_time": "2022-09-02T14:23:20.759Z"
   },
   {
    "duration": 332,
    "start_time": "2022-09-02T14:23:21.077Z"
   },
   {
    "duration": 310,
    "start_time": "2022-09-02T14:23:21.411Z"
   },
   {
    "duration": 427,
    "start_time": "2022-09-02T14:23:21.725Z"
   },
   {
    "duration": 394,
    "start_time": "2022-09-02T14:23:22.154Z"
   },
   {
    "duration": 308,
    "start_time": "2022-09-02T14:23:22.550Z"
   },
   {
    "duration": 299,
    "start_time": "2022-09-02T14:23:22.860Z"
   },
   {
    "duration": 132,
    "start_time": "2022-09-02T14:23:23.161Z"
   },
   {
    "duration": 181,
    "start_time": "2022-09-02T14:23:23.295Z"
   },
   {
    "duration": 197,
    "start_time": "2022-09-02T14:23:23.478Z"
   },
   {
    "duration": 169,
    "start_time": "2022-09-02T14:23:23.676Z"
   },
   {
    "duration": 201,
    "start_time": "2022-09-02T14:23:23.848Z"
   },
   {
    "duration": 169,
    "start_time": "2022-09-02T14:23:24.051Z"
   },
   {
    "duration": 272,
    "start_time": "2022-09-02T14:23:24.222Z"
   },
   {
    "duration": 183,
    "start_time": "2022-09-02T14:23:24.496Z"
   },
   {
    "duration": 182,
    "start_time": "2022-09-02T14:23:24.680Z"
   },
   {
    "duration": 10,
    "start_time": "2022-09-02T14:23:24.864Z"
   },
   {
    "duration": 21,
    "start_time": "2022-09-02T14:23:24.876Z"
   },
   {
    "duration": 36,
    "start_time": "2022-09-02T14:23:24.899Z"
   },
   {
    "duration": 8,
    "start_time": "2022-09-02T14:23:24.937Z"
   },
   {
    "duration": 185,
    "start_time": "2022-09-02T14:23:24.947Z"
   },
   {
    "duration": 49,
    "start_time": "2022-09-02T14:24:48.221Z"
   },
   {
    "duration": 114,
    "start_time": "2022-09-02T14:25:11.241Z"
   },
   {
    "duration": 16,
    "start_time": "2022-09-02T14:25:11.750Z"
   },
   {
    "duration": 22,
    "start_time": "2022-09-02T14:25:11.768Z"
   },
   {
    "duration": 1942,
    "start_time": "2022-09-02T14:25:11.791Z"
   },
   {
    "duration": 3,
    "start_time": "2022-09-02T14:25:13.735Z"
   },
   {
    "duration": 13,
    "start_time": "2022-09-02T14:25:13.740Z"
   },
   {
    "duration": 24,
    "start_time": "2022-09-02T14:25:13.754Z"
   },
   {
    "duration": 114,
    "start_time": "2022-09-02T14:25:13.779Z"
   },
   {
    "duration": 125,
    "start_time": "2022-09-02T14:25:13.895Z"
   },
   {
    "duration": 6,
    "start_time": "2022-09-02T14:25:14.021Z"
   },
   {
    "duration": 9,
    "start_time": "2022-09-02T14:25:14.029Z"
   },
   {
    "duration": 50,
    "start_time": "2022-09-02T14:25:14.040Z"
   },
   {
    "duration": 23,
    "start_time": "2022-09-02T14:25:14.092Z"
   },
   {
    "duration": 5,
    "start_time": "2022-09-02T14:25:14.117Z"
   },
   {
    "duration": 17,
    "start_time": "2022-09-02T14:25:14.123Z"
   },
   {
    "duration": 331,
    "start_time": "2022-09-02T14:25:14.141Z"
   },
   {
    "duration": 18,
    "start_time": "2022-09-02T14:25:14.474Z"
   },
   {
    "duration": 301,
    "start_time": "2022-09-02T14:25:14.494Z"
   },
   {
    "duration": 304,
    "start_time": "2022-09-02T14:25:14.797Z"
   },
   {
    "duration": 416,
    "start_time": "2022-09-02T14:25:15.103Z"
   },
   {
    "duration": 320,
    "start_time": "2022-09-02T14:25:15.523Z"
   },
   {
    "duration": 291,
    "start_time": "2022-09-02T14:25:15.845Z"
   },
   {
    "duration": 300,
    "start_time": "2022-09-02T14:25:16.138Z"
   },
   {
    "duration": 315,
    "start_time": "2022-09-02T14:25:16.439Z"
   },
   {
    "duration": 413,
    "start_time": "2022-09-02T14:25:16.756Z"
   },
   {
    "duration": 330,
    "start_time": "2022-09-02T14:25:17.171Z"
   },
   {
    "duration": 297,
    "start_time": "2022-09-02T14:25:17.503Z"
   },
   {
    "duration": 336,
    "start_time": "2022-09-02T14:25:17.803Z"
   },
   {
    "duration": 317,
    "start_time": "2022-09-02T14:25:18.141Z"
   },
   {
    "duration": 327,
    "start_time": "2022-09-02T14:25:18.459Z"
   },
   {
    "duration": 406,
    "start_time": "2022-09-02T14:25:18.791Z"
   },
   {
    "duration": 124,
    "start_time": "2022-09-02T14:25:19.198Z"
   },
   {
    "duration": 180,
    "start_time": "2022-09-02T14:25:19.323Z"
   },
   {
    "duration": 185,
    "start_time": "2022-09-02T14:25:19.504Z"
   },
   {
    "duration": 156,
    "start_time": "2022-09-02T14:25:19.692Z"
   },
   {
    "duration": 185,
    "start_time": "2022-09-02T14:25:19.850Z"
   },
   {
    "duration": 161,
    "start_time": "2022-09-02T14:25:20.036Z"
   },
   {
    "duration": 163,
    "start_time": "2022-09-02T14:25:20.199Z"
   },
   {
    "duration": 167,
    "start_time": "2022-09-02T14:25:20.366Z"
   },
   {
    "duration": 182,
    "start_time": "2022-09-02T14:25:20.535Z"
   },
   {
    "duration": 11,
    "start_time": "2022-09-02T14:25:20.719Z"
   },
   {
    "duration": 11,
    "start_time": "2022-09-02T14:25:20.732Z"
   },
   {
    "duration": 33,
    "start_time": "2022-09-02T14:25:20.745Z"
   },
   {
    "duration": 23,
    "start_time": "2022-09-02T14:25:20.780Z"
   },
   {
    "duration": 230,
    "start_time": "2022-09-02T14:25:20.805Z"
   },
   {
    "duration": 29,
    "start_time": "2022-09-02T14:26:47.390Z"
   },
   {
    "duration": 112,
    "start_time": "2022-09-02T14:26:53.331Z"
   },
   {
    "duration": 14,
    "start_time": "2022-09-02T14:26:53.445Z"
   },
   {
    "duration": 3,
    "start_time": "2022-09-02T14:26:53.461Z"
   },
   {
    "duration": 1883,
    "start_time": "2022-09-02T14:26:53.466Z"
   },
   {
    "duration": 3,
    "start_time": "2022-09-02T14:26:55.351Z"
   },
   {
    "duration": 12,
    "start_time": "2022-09-02T14:26:55.355Z"
   },
   {
    "duration": 8,
    "start_time": "2022-09-02T14:26:55.369Z"
   },
   {
    "duration": 127,
    "start_time": "2022-09-02T14:26:55.379Z"
   },
   {
    "duration": 228,
    "start_time": "2022-09-02T14:26:55.508Z"
   },
   {
    "duration": 7,
    "start_time": "2022-09-02T14:26:55.738Z"
   },
   {
    "duration": 22,
    "start_time": "2022-09-02T14:26:55.746Z"
   },
   {
    "duration": 57,
    "start_time": "2022-09-02T14:26:55.770Z"
   },
   {
    "duration": 23,
    "start_time": "2022-09-02T14:26:55.829Z"
   },
   {
    "duration": 26,
    "start_time": "2022-09-02T14:26:55.854Z"
   },
   {
    "duration": 42,
    "start_time": "2022-09-02T14:26:55.882Z"
   },
   {
    "duration": 310,
    "start_time": "2022-09-02T14:26:55.926Z"
   },
   {
    "duration": 18,
    "start_time": "2022-09-02T14:26:56.237Z"
   },
   {
    "duration": 286,
    "start_time": "2022-09-02T14:26:56.257Z"
   },
   {
    "duration": 307,
    "start_time": "2022-09-02T14:26:56.545Z"
   },
   {
    "duration": 276,
    "start_time": "2022-09-02T14:26:56.854Z"
   },
   {
    "duration": 353,
    "start_time": "2022-09-02T14:26:57.132Z"
   },
   {
    "duration": 280,
    "start_time": "2022-09-02T14:26:57.486Z"
   },
   {
    "duration": 310,
    "start_time": "2022-09-02T14:26:57.768Z"
   },
   {
    "duration": 331,
    "start_time": "2022-09-02T14:26:58.080Z"
   },
   {
    "duration": 302,
    "start_time": "2022-09-02T14:26:58.412Z"
   },
   {
    "duration": 305,
    "start_time": "2022-09-02T14:26:58.716Z"
   },
   {
    "duration": 371,
    "start_time": "2022-09-02T14:26:59.023Z"
   },
   {
    "duration": 300,
    "start_time": "2022-09-02T14:26:59.395Z"
   },
   {
    "duration": 303,
    "start_time": "2022-09-02T14:26:59.696Z"
   },
   {
    "duration": 307,
    "start_time": "2022-09-02T14:27:00.001Z"
   },
   {
    "duration": 288,
    "start_time": "2022-09-02T14:27:00.310Z"
   },
   {
    "duration": 125,
    "start_time": "2022-09-02T14:27:00.602Z"
   },
   {
    "duration": 255,
    "start_time": "2022-09-02T14:27:00.728Z"
   },
   {
    "duration": 173,
    "start_time": "2022-09-02T14:27:00.992Z"
   },
   {
    "duration": 158,
    "start_time": "2022-09-02T14:27:01.167Z"
   },
   {
    "duration": 169,
    "start_time": "2022-09-02T14:27:01.327Z"
   },
   {
    "duration": 161,
    "start_time": "2022-09-02T14:27:01.498Z"
   },
   {
    "duration": 173,
    "start_time": "2022-09-02T14:27:01.660Z"
   },
   {
    "duration": 235,
    "start_time": "2022-09-02T14:27:01.835Z"
   },
   {
    "duration": 187,
    "start_time": "2022-09-02T14:27:02.073Z"
   },
   {
    "duration": 11,
    "start_time": "2022-09-02T14:27:02.261Z"
   },
   {
    "duration": 18,
    "start_time": "2022-09-02T14:27:02.274Z"
   },
   {
    "duration": 30,
    "start_time": "2022-09-02T14:27:02.294Z"
   },
   {
    "duration": 9,
    "start_time": "2022-09-02T14:27:02.325Z"
   },
   {
    "duration": 166,
    "start_time": "2022-09-02T14:27:02.336Z"
   },
   {
    "duration": 112,
    "start_time": "2022-09-02T14:27:35.326Z"
   },
   {
    "duration": 56,
    "start_time": "2022-09-02T14:27:44.568Z"
   },
   {
    "duration": 45,
    "start_time": "2022-09-02T14:28:04.301Z"
   },
   {
    "duration": 45,
    "start_time": "2022-09-02T14:28:26.508Z"
   },
   {
    "duration": 546,
    "start_time": "2022-09-02T14:28:40.749Z"
   },
   {
    "duration": 16,
    "start_time": "2022-09-02T14:28:41.298Z"
   },
   {
    "duration": 3,
    "start_time": "2022-09-02T14:28:41.316Z"
   },
   {
    "duration": 2306,
    "start_time": "2022-09-02T14:28:41.321Z"
   },
   {
    "duration": 3,
    "start_time": "2022-09-02T14:28:43.629Z"
   },
   {
    "duration": 11,
    "start_time": "2022-09-02T14:28:43.633Z"
   },
   {
    "duration": 11,
    "start_time": "2022-09-02T14:28:43.646Z"
   },
   {
    "duration": 118,
    "start_time": "2022-09-02T14:28:43.658Z"
   },
   {
    "duration": 119,
    "start_time": "2022-09-02T14:28:43.778Z"
   },
   {
    "duration": 8,
    "start_time": "2022-09-02T14:28:43.900Z"
   },
   {
    "duration": 4,
    "start_time": "2022-09-02T14:28:43.910Z"
   },
   {
    "duration": 44,
    "start_time": "2022-09-02T14:28:43.915Z"
   },
   {
    "duration": 40,
    "start_time": "2022-09-02T14:28:43.961Z"
   },
   {
    "duration": 5,
    "start_time": "2022-09-02T14:28:44.003Z"
   },
   {
    "duration": 21,
    "start_time": "2022-09-02T14:28:44.009Z"
   },
   {
    "duration": 346,
    "start_time": "2022-09-02T14:28:44.031Z"
   },
   {
    "duration": 22,
    "start_time": "2022-09-02T14:28:44.379Z"
   },
   {
    "duration": 399,
    "start_time": "2022-09-02T14:28:44.403Z"
   },
   {
    "duration": 311,
    "start_time": "2022-09-02T14:28:44.804Z"
   },
   {
    "duration": 321,
    "start_time": "2022-09-02T14:28:45.116Z"
   },
   {
    "duration": 327,
    "start_time": "2022-09-02T14:28:45.439Z"
   },
   {
    "duration": 304,
    "start_time": "2022-09-02T14:28:45.767Z"
   },
   {
    "duration": 314,
    "start_time": "2022-09-02T14:28:46.072Z"
   },
   {
    "duration": 422,
    "start_time": "2022-09-02T14:28:46.388Z"
   },
   {
    "duration": 332,
    "start_time": "2022-09-02T14:28:46.812Z"
   },
   {
    "duration": 341,
    "start_time": "2022-09-02T14:28:47.146Z"
   },
   {
    "duration": 293,
    "start_time": "2022-09-02T14:28:47.491Z"
   },
   {
    "duration": 321,
    "start_time": "2022-09-02T14:28:47.791Z"
   },
   {
    "duration": 389,
    "start_time": "2022-09-02T14:28:48.114Z"
   },
   {
    "duration": 328,
    "start_time": "2022-09-02T14:28:48.505Z"
   },
   {
    "duration": 299,
    "start_time": "2022-09-02T14:28:48.835Z"
   },
   {
    "duration": 126,
    "start_time": "2022-09-02T14:28:49.135Z"
   },
   {
    "duration": 193,
    "start_time": "2022-09-02T14:28:49.262Z"
   },
   {
    "duration": 175,
    "start_time": "2022-09-02T14:28:49.457Z"
   },
   {
    "duration": 164,
    "start_time": "2022-09-02T14:28:49.634Z"
   },
   {
    "duration": 178,
    "start_time": "2022-09-02T14:28:49.800Z"
   },
   {
    "duration": 173,
    "start_time": "2022-09-02T14:28:49.980Z"
   },
   {
    "duration": 248,
    "start_time": "2022-09-02T14:28:50.155Z"
   },
   {
    "duration": 176,
    "start_time": "2022-09-02T14:28:50.404Z"
   },
   {
    "duration": 189,
    "start_time": "2022-09-02T14:28:50.582Z"
   },
   {
    "duration": 20,
    "start_time": "2022-09-02T14:28:50.773Z"
   },
   {
    "duration": 5,
    "start_time": "2022-09-02T14:28:50.795Z"
   },
   {
    "duration": 34,
    "start_time": "2022-09-02T14:28:50.801Z"
   },
   {
    "duration": 9,
    "start_time": "2022-09-02T14:28:50.837Z"
   },
   {
    "duration": 164,
    "start_time": "2022-09-02T14:28:50.848Z"
   },
   {
    "duration": 13,
    "start_time": "2022-09-02T14:30:53.050Z"
   },
   {
    "duration": 59,
    "start_time": "2022-09-02T14:31:39.950Z"
   },
   {
    "duration": 86,
    "start_time": "2022-09-02T14:38:50.440Z"
   },
   {
    "duration": 54,
    "start_time": "2022-09-02T14:40:44.723Z"
   },
   {
    "duration": 562,
    "start_time": "2022-09-02T14:40:57.112Z"
   },
   {
    "duration": 25,
    "start_time": "2022-09-02T14:40:57.676Z"
   },
   {
    "duration": 6,
    "start_time": "2022-09-02T14:40:57.704Z"
   },
   {
    "duration": 2647,
    "start_time": "2022-09-02T14:40:57.712Z"
   },
   {
    "duration": 2,
    "start_time": "2022-09-02T14:41:00.363Z"
   },
   {
    "duration": 28,
    "start_time": "2022-09-02T14:41:00.367Z"
   },
   {
    "duration": 33,
    "start_time": "2022-09-02T14:41:00.398Z"
   },
   {
    "duration": 139,
    "start_time": "2022-09-02T14:41:00.433Z"
   },
   {
    "duration": 146,
    "start_time": "2022-09-02T14:41:00.574Z"
   },
   {
    "duration": 7,
    "start_time": "2022-09-02T14:41:00.722Z"
   },
   {
    "duration": 8,
    "start_time": "2022-09-02T14:41:00.731Z"
   },
   {
    "duration": 50,
    "start_time": "2022-09-02T14:41:00.741Z"
   },
   {
    "duration": 33,
    "start_time": "2022-09-02T14:41:00.794Z"
   },
   {
    "duration": 5,
    "start_time": "2022-09-02T14:41:00.830Z"
   },
   {
    "duration": 89,
    "start_time": "2022-09-02T14:41:00.837Z"
   },
   {
    "duration": 385,
    "start_time": "2022-09-02T14:41:00.927Z"
   },
   {
    "duration": 19,
    "start_time": "2022-09-02T14:41:01.315Z"
   },
   {
    "duration": 438,
    "start_time": "2022-09-02T14:41:01.336Z"
   },
   {
    "duration": 445,
    "start_time": "2022-09-02T14:41:01.775Z"
   },
   {
    "duration": 302,
    "start_time": "2022-09-02T14:41:02.222Z"
   },
   {
    "duration": 328,
    "start_time": "2022-09-02T14:41:02.526Z"
   },
   {
    "duration": 314,
    "start_time": "2022-09-02T14:41:02.857Z"
   },
   {
    "duration": 333,
    "start_time": "2022-09-02T14:41:03.173Z"
   },
   {
    "duration": 480,
    "start_time": "2022-09-02T14:41:03.509Z"
   },
   {
    "duration": 331,
    "start_time": "2022-09-02T14:41:03.993Z"
   },
   {
    "duration": 338,
    "start_time": "2022-09-02T14:41:04.326Z"
   },
   {
    "duration": 322,
    "start_time": "2022-09-02T14:41:04.665Z"
   },
   {
    "duration": 364,
    "start_time": "2022-09-02T14:41:04.991Z"
   },
   {
    "duration": 456,
    "start_time": "2022-09-02T14:41:05.357Z"
   },
   {
    "duration": 334,
    "start_time": "2022-09-02T14:41:05.816Z"
   },
   {
    "duration": 326,
    "start_time": "2022-09-02T14:41:06.151Z"
   },
   {
    "duration": 149,
    "start_time": "2022-09-02T14:41:06.479Z"
   },
   {
    "duration": 190,
    "start_time": "2022-09-02T14:41:06.630Z"
   },
   {
    "duration": 207,
    "start_time": "2022-09-02T14:41:06.821Z"
   },
   {
    "duration": 172,
    "start_time": "2022-09-02T14:41:07.030Z"
   },
   {
    "duration": 196,
    "start_time": "2022-09-02T14:41:07.207Z"
   },
   {
    "duration": 178,
    "start_time": "2022-09-02T14:41:07.405Z"
   },
   {
    "duration": 276,
    "start_time": "2022-09-02T14:41:07.585Z"
   },
   {
    "duration": 198,
    "start_time": "2022-09-02T14:41:07.863Z"
   },
   {
    "duration": 195,
    "start_time": "2022-09-02T14:41:08.062Z"
   },
   {
    "duration": 11,
    "start_time": "2022-09-02T14:41:08.261Z"
   },
   {
    "duration": 20,
    "start_time": "2022-09-02T14:41:08.274Z"
   },
   {
    "duration": 30,
    "start_time": "2022-09-02T14:41:08.295Z"
   },
   {
    "duration": 9,
    "start_time": "2022-09-02T14:41:08.327Z"
   },
   {
    "duration": 214,
    "start_time": "2022-09-02T14:41:08.337Z"
   },
   {
    "duration": 55,
    "start_time": "2022-09-02T14:41:35.110Z"
   },
   {
    "duration": 546,
    "start_time": "2022-09-02T14:41:53.932Z"
   },
   {
    "duration": 18,
    "start_time": "2022-09-02T14:41:54.479Z"
   },
   {
    "duration": 4,
    "start_time": "2022-09-02T14:41:54.499Z"
   },
   {
    "duration": 2345,
    "start_time": "2022-09-02T14:41:54.506Z"
   },
   {
    "duration": 3,
    "start_time": "2022-09-02T14:41:56.853Z"
   },
   {
    "duration": 15,
    "start_time": "2022-09-02T14:41:56.857Z"
   },
   {
    "duration": 8,
    "start_time": "2022-09-02T14:41:56.874Z"
   },
   {
    "duration": 131,
    "start_time": "2022-09-02T14:41:56.883Z"
   },
   {
    "duration": 124,
    "start_time": "2022-09-02T14:41:57.016Z"
   },
   {
    "duration": 9,
    "start_time": "2022-09-02T14:41:57.142Z"
   },
   {
    "duration": 5,
    "start_time": "2022-09-02T14:41:57.154Z"
   },
   {
    "duration": 55,
    "start_time": "2022-09-02T14:41:57.161Z"
   },
   {
    "duration": 32,
    "start_time": "2022-09-02T14:41:57.217Z"
   },
   {
    "duration": 6,
    "start_time": "2022-09-02T14:41:57.251Z"
   },
   {
    "duration": 75,
    "start_time": "2022-09-02T14:41:57.258Z"
   },
   {
    "duration": 351,
    "start_time": "2022-09-02T14:41:57.335Z"
   },
   {
    "duration": 27,
    "start_time": "2022-09-02T14:41:57.688Z"
   },
   {
    "duration": 440,
    "start_time": "2022-09-02T14:41:57.718Z"
   },
   {
    "duration": 332,
    "start_time": "2022-09-02T14:41:58.160Z"
   },
   {
    "duration": 316,
    "start_time": "2022-09-02T14:41:58.495Z"
   },
   {
    "duration": 325,
    "start_time": "2022-09-02T14:41:58.814Z"
   },
   {
    "duration": 326,
    "start_time": "2022-09-02T14:41:59.141Z"
   },
   {
    "duration": 300,
    "start_time": "2022-09-02T14:41:59.469Z"
   },
   {
    "duration": 418,
    "start_time": "2022-09-02T14:41:59.770Z"
   },
   {
    "duration": 340,
    "start_time": "2022-09-02T14:42:00.191Z"
   },
   {
    "duration": 324,
    "start_time": "2022-09-02T14:42:00.533Z"
   },
   {
    "duration": 309,
    "start_time": "2022-09-02T14:42:00.859Z"
   },
   {
    "duration": 341,
    "start_time": "2022-09-02T14:42:01.171Z"
   },
   {
    "duration": 449,
    "start_time": "2022-09-02T14:42:01.514Z"
   },
   {
    "duration": 381,
    "start_time": "2022-09-02T14:42:01.965Z"
   },
   {
    "duration": 326,
    "start_time": "2022-09-02T14:42:02.348Z"
   },
   {
    "duration": 144,
    "start_time": "2022-09-02T14:42:02.676Z"
   },
   {
    "duration": 172,
    "start_time": "2022-09-02T14:42:02.822Z"
   },
   {
    "duration": 190,
    "start_time": "2022-09-02T14:42:02.997Z"
   },
   {
    "duration": 171,
    "start_time": "2022-09-02T14:42:03.188Z"
   },
   {
    "duration": 205,
    "start_time": "2022-09-02T14:42:03.360Z"
   },
   {
    "duration": 168,
    "start_time": "2022-09-02T14:42:03.567Z"
   },
   {
    "duration": 258,
    "start_time": "2022-09-02T14:42:03.737Z"
   },
   {
    "duration": 175,
    "start_time": "2022-09-02T14:42:03.998Z"
   },
   {
    "duration": 181,
    "start_time": "2022-09-02T14:42:04.175Z"
   },
   {
    "duration": 9,
    "start_time": "2022-09-02T14:42:04.358Z"
   },
   {
    "duration": 5,
    "start_time": "2022-09-02T14:42:04.369Z"
   },
   {
    "duration": 29,
    "start_time": "2022-09-02T14:42:04.392Z"
   },
   {
    "duration": 8,
    "start_time": "2022-09-02T14:42:04.423Z"
   },
   {
    "duration": 190,
    "start_time": "2022-09-02T14:42:04.433Z"
   },
   {
    "duration": 19,
    "start_time": "2022-09-02T14:43:23.947Z"
   },
   {
    "duration": 633,
    "start_time": "2022-09-02T14:43:59.589Z"
   },
   {
    "duration": 16,
    "start_time": "2022-09-02T14:44:00.224Z"
   },
   {
    "duration": 15,
    "start_time": "2022-09-02T14:44:00.242Z"
   },
   {
    "duration": 2592,
    "start_time": "2022-09-02T14:44:00.259Z"
   },
   {
    "duration": 2,
    "start_time": "2022-09-02T14:44:02.854Z"
   },
   {
    "duration": 12,
    "start_time": "2022-09-02T14:44:02.857Z"
   },
   {
    "duration": 19,
    "start_time": "2022-09-02T14:44:02.871Z"
   },
   {
    "duration": 135,
    "start_time": "2022-09-02T14:44:02.891Z"
   },
   {
    "duration": 128,
    "start_time": "2022-09-02T14:44:03.028Z"
   },
   {
    "duration": 8,
    "start_time": "2022-09-02T14:44:03.157Z"
   },
   {
    "duration": 4,
    "start_time": "2022-09-02T14:44:03.167Z"
   },
   {
    "duration": 59,
    "start_time": "2022-09-02T14:44:03.174Z"
   },
   {
    "duration": 25,
    "start_time": "2022-09-02T14:44:03.235Z"
   },
   {
    "duration": 5,
    "start_time": "2022-09-02T14:44:03.263Z"
   },
   {
    "duration": 32,
    "start_time": "2022-09-02T14:44:03.270Z"
   },
   {
    "duration": 363,
    "start_time": "2022-09-02T14:44:03.305Z"
   },
   {
    "duration": 22,
    "start_time": "2022-09-02T14:44:03.670Z"
   },
   {
    "duration": 435,
    "start_time": "2022-09-02T14:44:03.694Z"
   },
   {
    "duration": 338,
    "start_time": "2022-09-02T14:44:04.131Z"
   },
   {
    "duration": 317,
    "start_time": "2022-09-02T14:44:04.471Z"
   },
   {
    "duration": 343,
    "start_time": "2022-09-02T14:44:04.791Z"
   },
   {
    "duration": 328,
    "start_time": "2022-09-02T14:44:05.136Z"
   },
   {
    "duration": 316,
    "start_time": "2022-09-02T14:44:05.465Z"
   },
   {
    "duration": 418,
    "start_time": "2022-09-02T14:44:05.782Z"
   },
   {
    "duration": 319,
    "start_time": "2022-09-02T14:44:06.203Z"
   },
   {
    "duration": 335,
    "start_time": "2022-09-02T14:44:06.524Z"
   },
   {
    "duration": 316,
    "start_time": "2022-09-02T14:44:06.860Z"
   },
   {
    "duration": 338,
    "start_time": "2022-09-02T14:44:07.178Z"
   },
   {
    "duration": 420,
    "start_time": "2022-09-02T14:44:07.518Z"
   },
   {
    "duration": 335,
    "start_time": "2022-09-02T14:44:07.940Z"
   },
   {
    "duration": 326,
    "start_time": "2022-09-02T14:44:08.277Z"
   },
   {
    "duration": 139,
    "start_time": "2022-09-02T14:44:08.605Z"
   },
   {
    "duration": 180,
    "start_time": "2022-09-02T14:44:08.745Z"
   },
   {
    "duration": 188,
    "start_time": "2022-09-02T14:44:08.926Z"
   },
   {
    "duration": 164,
    "start_time": "2022-09-02T14:44:09.116Z"
   },
   {
    "duration": 213,
    "start_time": "2022-09-02T14:44:09.282Z"
   },
   {
    "duration": 178,
    "start_time": "2022-09-02T14:44:09.498Z"
   },
   {
    "duration": 262,
    "start_time": "2022-09-02T14:44:09.678Z"
   },
   {
    "duration": 187,
    "start_time": "2022-09-02T14:44:09.942Z"
   },
   {
    "duration": 210,
    "start_time": "2022-09-02T14:44:10.131Z"
   },
   {
    "duration": 11,
    "start_time": "2022-09-02T14:44:10.346Z"
   },
   {
    "duration": 9,
    "start_time": "2022-09-02T14:44:10.359Z"
   },
   {
    "duration": 46,
    "start_time": "2022-09-02T14:44:10.370Z"
   },
   {
    "duration": 10,
    "start_time": "2022-09-02T14:44:10.421Z"
   },
   {
    "duration": 207,
    "start_time": "2022-09-02T14:44:10.433Z"
   },
   {
    "duration": 284,
    "start_time": "2022-09-02T14:52:17.642Z"
   },
   {
    "duration": 307,
    "start_time": "2022-09-02T14:55:13.997Z"
   },
   {
    "duration": 301,
    "start_time": "2022-09-02T14:55:37.679Z"
   },
   {
    "duration": 79,
    "start_time": "2022-09-02T14:59:53.397Z"
   },
   {
    "duration": 17,
    "start_time": "2022-09-02T15:04:59.007Z"
   },
   {
    "duration": 11,
    "start_time": "2022-09-02T15:09:22.707Z"
   },
   {
    "duration": 349,
    "start_time": "2022-09-02T15:09:38.778Z"
   },
   {
    "duration": 1667,
    "start_time": "2022-09-02T15:10:03.036Z"
   },
   {
    "duration": 133,
    "start_time": "2022-09-02T15:10:13.397Z"
   },
   {
    "duration": 626,
    "start_time": "2022-09-02T15:24:30.448Z"
   },
   {
    "duration": 597,
    "start_time": "2022-09-02T15:24:56.476Z"
   },
   {
    "duration": 538,
    "start_time": "2022-09-02T15:25:17.677Z"
   },
   {
    "duration": 445,
    "start_time": "2022-09-02T15:26:20.969Z"
   },
   {
    "duration": 290,
    "start_time": "2022-09-02T15:28:40.845Z"
   },
   {
    "duration": 295,
    "start_time": "2022-09-02T15:28:55.377Z"
   },
   {
    "duration": 357,
    "start_time": "2022-09-02T15:29:10.317Z"
   },
   {
    "duration": 2965,
    "start_time": "2022-09-02T15:29:37.159Z"
   },
   {
    "duration": 3158,
    "start_time": "2022-09-02T15:29:55.696Z"
   },
   {
    "duration": 333,
    "start_time": "2022-09-02T15:30:06.946Z"
   },
   {
    "duration": 285,
    "start_time": "2022-09-02T15:30:24.167Z"
   },
   {
    "duration": 492,
    "start_time": "2022-09-02T15:34:04.528Z"
   },
   {
    "duration": 129,
    "start_time": "2022-09-02T15:56:12.478Z"
   },
   {
    "duration": 151,
    "start_time": "2022-09-02T15:56:22.481Z"
   },
   {
    "duration": 121,
    "start_time": "2022-09-02T15:56:38.488Z"
   },
   {
    "duration": 133,
    "start_time": "2022-09-02T15:56:47.119Z"
   },
   {
    "duration": 185,
    "start_time": "2022-09-02T16:00:52.566Z"
   },
   {
    "duration": 22,
    "start_time": "2022-09-02T16:01:31.435Z"
   },
   {
    "duration": 187,
    "start_time": "2022-09-02T16:02:20.198Z"
   },
   {
    "duration": 179,
    "start_time": "2022-09-02T16:02:28.082Z"
   },
   {
    "duration": 214,
    "start_time": "2022-09-02T16:02:35.025Z"
   },
   {
    "duration": 205,
    "start_time": "2022-09-02T16:02:37.804Z"
   },
   {
    "duration": 286,
    "start_time": "2022-09-02T16:02:54.924Z"
   },
   {
    "duration": 205,
    "start_time": "2022-09-02T16:03:07.477Z"
   },
   {
    "duration": 38,
    "start_time": "2022-09-02T16:04:28.913Z"
   },
   {
    "duration": 31,
    "start_time": "2022-09-02T16:07:14.618Z"
   },
   {
    "duration": 77,
    "start_time": "2022-09-02T16:08:02.107Z"
   },
   {
    "duration": 170,
    "start_time": "2022-09-02T16:08:09.883Z"
   },
   {
    "duration": 54,
    "start_time": "2022-09-02T16:10:01.957Z"
   },
   {
    "duration": 160,
    "start_time": "2022-09-02T16:10:25.014Z"
   },
   {
    "duration": 175,
    "start_time": "2022-09-02T16:15:32.981Z"
   },
   {
    "duration": 349,
    "start_time": "2022-09-02T16:34:49.616Z"
   },
   {
    "duration": 313,
    "start_time": "2022-09-02T16:35:32.057Z"
   },
   {
    "duration": 283,
    "start_time": "2022-09-02T16:35:42.906Z"
   },
   {
    "duration": 407,
    "start_time": "2022-09-02T16:36:05.155Z"
   },
   {
    "duration": 454,
    "start_time": "2022-09-02T16:36:11.785Z"
   },
   {
    "duration": 150,
    "start_time": "2022-09-02T16:36:16.905Z"
   },
   {
    "duration": 143,
    "start_time": "2022-09-02T16:36:26.225Z"
   },
   {
    "duration": 156,
    "start_time": "2022-09-02T16:36:37.005Z"
   },
   {
    "duration": 210,
    "start_time": "2022-09-02T16:36:47.315Z"
   },
   {
    "duration": 252,
    "start_time": "2022-09-02T16:36:53.975Z"
   },
   {
    "duration": 220,
    "start_time": "2022-09-02T16:37:04.356Z"
   },
   {
    "duration": 525,
    "start_time": "2022-09-02T16:37:29.722Z"
   },
   {
    "duration": 16,
    "start_time": "2022-09-02T16:37:30.250Z"
   },
   {
    "duration": 3,
    "start_time": "2022-09-02T16:37:30.268Z"
   },
   {
    "duration": 2438,
    "start_time": "2022-09-02T16:37:30.273Z"
   },
   {
    "duration": 3,
    "start_time": "2022-09-02T16:37:32.714Z"
   },
   {
    "duration": 15,
    "start_time": "2022-09-02T16:37:32.719Z"
   },
   {
    "duration": 19,
    "start_time": "2022-09-02T16:37:32.736Z"
   },
   {
    "duration": 113,
    "start_time": "2022-09-02T16:37:32.757Z"
   },
   {
    "duration": 120,
    "start_time": "2022-09-02T16:37:32.872Z"
   },
   {
    "duration": 7,
    "start_time": "2022-09-02T16:37:32.994Z"
   },
   {
    "duration": 6,
    "start_time": "2022-09-02T16:37:33.003Z"
   },
   {
    "duration": 40,
    "start_time": "2022-09-02T16:37:33.010Z"
   },
   {
    "duration": 42,
    "start_time": "2022-09-02T16:37:33.052Z"
   },
   {
    "duration": 5,
    "start_time": "2022-09-02T16:37:33.098Z"
   },
   {
    "duration": 17,
    "start_time": "2022-09-02T16:37:33.104Z"
   },
   {
    "duration": 341,
    "start_time": "2022-09-02T16:37:33.122Z"
   },
   {
    "duration": 17,
    "start_time": "2022-09-02T16:37:33.464Z"
   },
   {
    "duration": 390,
    "start_time": "2022-09-02T16:37:33.492Z"
   },
   {
    "duration": 328,
    "start_time": "2022-09-02T16:37:33.883Z"
   },
   {
    "duration": 286,
    "start_time": "2022-09-02T16:37:34.213Z"
   },
   {
    "duration": 293,
    "start_time": "2022-09-02T16:37:34.500Z"
   },
   {
    "duration": 160,
    "start_time": "2022-09-02T16:37:34.795Z"
   },
   {
    "duration": 162,
    "start_time": "2022-09-02T16:37:34.956Z"
   },
   {
    "duration": 221,
    "start_time": "2022-09-02T16:37:35.120Z"
   },
   {
    "duration": 226,
    "start_time": "2022-09-02T16:37:35.343Z"
   },
   {
    "duration": 54128,
    "start_time": "2022-09-02T16:37:35.571Z"
   },
   {
    "duration": 310,
    "start_time": "2022-09-02T16:38:29.700Z"
   },
   {
    "duration": 318,
    "start_time": "2022-09-02T16:38:30.012Z"
   },
   {
    "duration": 329,
    "start_time": "2022-09-02T16:38:30.331Z"
   },
   {
    "duration": 326,
    "start_time": "2022-09-02T16:38:30.662Z"
   },
   {
    "duration": 448,
    "start_time": "2022-09-02T16:38:30.991Z"
   },
   {
    "duration": 304,
    "start_time": "2022-09-02T16:38:31.441Z"
   },
   {
    "duration": 163,
    "start_time": "2022-09-02T16:38:31.747Z"
   },
   {
    "duration": 196,
    "start_time": "2022-09-02T16:38:31.912Z"
   },
   {
    "duration": 184,
    "start_time": "2022-09-02T16:38:32.110Z"
   },
   {
    "duration": 163,
    "start_time": "2022-09-02T16:38:32.297Z"
   },
   {
    "duration": 178,
    "start_time": "2022-09-02T16:38:32.462Z"
   },
   {
    "duration": 168,
    "start_time": "2022-09-02T16:38:32.642Z"
   },
   {
    "duration": 170,
    "start_time": "2022-09-02T16:38:32.812Z"
   },
   {
    "duration": 179,
    "start_time": "2022-09-02T16:38:32.983Z"
   },
   {
    "duration": 198,
    "start_time": "2022-09-02T16:38:33.166Z"
   },
   {
    "duration": 165,
    "start_time": "2022-09-02T16:38:33.366Z"
   },
   {
    "duration": 178,
    "start_time": "2022-09-02T16:38:33.533Z"
   },
   {
    "duration": 87,
    "start_time": "2022-09-02T16:38:33.713Z"
   },
   {
    "duration": 0,
    "start_time": "2022-09-02T16:38:33.802Z"
   },
   {
    "duration": 0,
    "start_time": "2022-09-02T16:38:33.803Z"
   },
   {
    "duration": 0,
    "start_time": "2022-09-02T16:38:33.804Z"
   },
   {
    "duration": 0,
    "start_time": "2022-09-02T16:38:33.806Z"
   },
   {
    "duration": 0,
    "start_time": "2022-09-02T16:38:33.807Z"
   },
   {
    "duration": 10,
    "start_time": "2022-09-02T16:39:37.122Z"
   },
   {
    "duration": 4,
    "start_time": "2022-09-02T16:39:38.244Z"
   },
   {
    "duration": 28,
    "start_time": "2022-09-02T16:39:39.381Z"
   },
   {
    "duration": 9,
    "start_time": "2022-09-02T16:39:41.282Z"
   },
   {
    "duration": 159,
    "start_time": "2022-09-02T16:39:41.493Z"
   },
   {
    "duration": 184,
    "start_time": "2022-09-02T16:40:11.951Z"
   },
   {
    "duration": 152,
    "start_time": "2022-09-02T16:40:29.153Z"
   },
   {
    "duration": 185,
    "start_time": "2022-09-02T16:40:37.715Z"
   },
   {
    "duration": 159,
    "start_time": "2022-09-02T16:40:52.361Z"
   },
   {
    "duration": 502,
    "start_time": "2022-09-02T17:17:43.625Z"
   },
   {
    "duration": 15,
    "start_time": "2022-09-02T17:17:44.129Z"
   },
   {
    "duration": 3,
    "start_time": "2022-09-02T17:17:44.145Z"
   },
   {
    "duration": 1877,
    "start_time": "2022-09-02T17:17:44.151Z"
   },
   {
    "duration": 2,
    "start_time": "2022-09-02T17:17:46.030Z"
   },
   {
    "duration": 9,
    "start_time": "2022-09-02T17:17:46.038Z"
   },
   {
    "duration": 10,
    "start_time": "2022-09-02T17:17:46.048Z"
   },
   {
    "duration": 129,
    "start_time": "2022-09-02T17:17:46.059Z"
   },
   {
    "duration": 106,
    "start_time": "2022-09-02T17:17:46.189Z"
   },
   {
    "duration": 7,
    "start_time": "2022-09-02T17:17:46.297Z"
   },
   {
    "duration": 5,
    "start_time": "2022-09-02T17:17:46.305Z"
   },
   {
    "duration": 48,
    "start_time": "2022-09-02T17:17:46.311Z"
   },
   {
    "duration": 21,
    "start_time": "2022-09-02T17:17:46.360Z"
   },
   {
    "duration": 4,
    "start_time": "2022-09-02T17:17:46.382Z"
   },
   {
    "duration": 16,
    "start_time": "2022-09-02T17:17:46.387Z"
   },
   {
    "duration": 314,
    "start_time": "2022-09-02T17:17:46.404Z"
   },
   {
    "duration": 21,
    "start_time": "2022-09-02T17:17:46.720Z"
   },
   {
    "duration": 348,
    "start_time": "2022-09-02T17:17:46.742Z"
   },
   {
    "duration": 257,
    "start_time": "2022-09-02T17:17:47.092Z"
   },
   {
    "duration": 241,
    "start_time": "2022-09-02T17:17:47.351Z"
   },
   {
    "duration": 282,
    "start_time": "2022-09-02T17:17:47.593Z"
   },
   {
    "duration": 130,
    "start_time": "2022-09-02T17:17:47.876Z"
   },
   {
    "duration": 136,
    "start_time": "2022-09-02T17:17:48.008Z"
   },
   {
    "duration": 181,
    "start_time": "2022-09-02T17:17:48.146Z"
   },
   {
    "duration": 163,
    "start_time": "2022-09-02T17:17:48.328Z"
   },
   {
    "duration": 47818,
    "start_time": "2022-09-02T17:17:48.492Z"
   },
   {
    "duration": 258,
    "start_time": "2022-09-02T17:18:36.311Z"
   },
   {
    "duration": 274,
    "start_time": "2022-09-02T17:18:36.572Z"
   },
   {
    "duration": 138,
    "start_time": "2022-09-02T17:18:36.848Z"
   },
   {
    "duration": 140,
    "start_time": "2022-09-02T17:18:36.987Z"
   },
   {
    "duration": 393,
    "start_time": "2022-09-02T17:18:37.128Z"
   },
   {
    "duration": 261,
    "start_time": "2022-09-02T17:18:37.522Z"
   },
   {
    "duration": 116,
    "start_time": "2022-09-02T17:18:37.785Z"
   },
   {
    "duration": 140,
    "start_time": "2022-09-02T17:18:37.903Z"
   },
   {
    "duration": 161,
    "start_time": "2022-09-02T17:18:38.045Z"
   },
   {
    "duration": 141,
    "start_time": "2022-09-02T17:18:38.208Z"
   },
   {
    "duration": 158,
    "start_time": "2022-09-02T17:18:38.351Z"
   },
   {
    "duration": 135,
    "start_time": "2022-09-02T17:18:38.510Z"
   },
   {
    "duration": 137,
    "start_time": "2022-09-02T17:18:38.647Z"
   },
   {
    "duration": 175,
    "start_time": "2022-09-02T17:18:38.786Z"
   },
   {
    "duration": 169,
    "start_time": "2022-09-02T17:18:38.963Z"
   },
   {
    "duration": 224,
    "start_time": "2022-09-02T17:18:39.137Z"
   },
   {
    "duration": 294,
    "start_time": "2022-09-02T17:18:39.363Z"
   },
   {
    "duration": 8,
    "start_time": "2022-09-02T17:18:39.658Z"
   },
   {
    "duration": 6,
    "start_time": "2022-09-02T17:18:39.667Z"
   },
   {
    "duration": 82,
    "start_time": "2022-09-02T17:18:39.675Z"
   },
   {
    "duration": 7,
    "start_time": "2022-09-02T17:18:39.758Z"
   },
   {
    "duration": 298,
    "start_time": "2022-09-02T17:18:39.766Z"
   }
  ],
  "kernelspec": {
   "display_name": "Python 3 (ipykernel)",
   "language": "python",
   "name": "python3"
  },
  "language_info": {
   "codemirror_mode": {
    "name": "ipython",
    "version": 3
   },
   "file_extension": ".py",
   "mimetype": "text/x-python",
   "name": "python",
   "nbconvert_exporter": "python",
   "pygments_lexer": "ipython3",
   "version": "3.11.3"
  },
  "toc": {
   "base_numbering": 1,
   "nav_menu": {},
   "number_sections": true,
   "sideBar": true,
   "skip_h1_title": true,
   "title_cell": "Table of Contents",
   "title_sidebar": "Contents",
   "toc_cell": false,
   "toc_position": {
    "height": "calc(100% - 180px)",
    "left": "10px",
    "top": "150px",
    "width": "165px"
   },
   "toc_section_display": true,
   "toc_window_display": true
  }
 },
 "nbformat": 4,
 "nbformat_minor": 2
}
