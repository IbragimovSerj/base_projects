{
 "cells": [
  {
   "cell_type": "markdown",
   "id": "d3b292ef",
   "metadata": {},
   "source": [
    "# Проектная работа:\n",
    "# \"Рынок заведений общественного питания Москвы\""
   ]
  },
  {
   "cell_type": "markdown",
   "id": "c8fc3caa",
   "metadata": {},
   "source": [
    "## Описание проекта\n",
    "\n",
    "Инвесторы из фонда «Shut Up and Take My Money» решили попробовать себя в новой области и открыть заведение общественного питания в Москве. Заказчики ещё не знают, что это будет за место: кафе, ресторан, пиццерия, паб или бар, — и какими будут расположение, меню и цены.\n",
    "\n",
    "### Задачи проекта:\n",
    "\n",
    "- Подготовить исследование рынка Москвы, \n",
    "- найти интересные особенности и презентовать полученные результаты, которые в будущем помогут в выборе подходящего инвесторам места.\n",
    "\n",
    "Доступен датасет с заведениями общественного питания Москвы, составленный на основе данных сервисов Яндекс Карты и Яндекс Бизнес на лето 2022 года. Информация, размещённая в сервисе Яндекс Бизнес, могла быть добавлена пользователями или найдена в общедоступных источниках."
   ]
  },
  {
   "cell_type": "markdown",
   "id": "ddd4caa3",
   "metadata": {},
   "source": [
    "### План проекта:\n",
    " 1. Загрузить данные и изучите общую информацию\n",
    " 2. Выполнить предобработку данных\n",
    " 3. Анализ данных\n",
    " 4. Детализация исследования: открытие кофейни\n",
    " 5. Подготовка презентации"
   ]
  },
  {
   "cell_type": "code",
   "execution_count": null,
   "id": "9e9a9461",
   "metadata": {},
   "outputs": [],
   "source": [
    "#модули\n",
    "import pandas as pd\n",
    "import datetime as dt\n",
    "import matplotlib.pyplot as plt \n",
    "import seaborn as sns\n",
    "import plotly.express as px\n",
    "import folium\n",
    "from folium import Map, Choropleth, Marker\n",
    "from folium.plugins import MarkerCluster\n",
    "import warnings\n",
    "import json\n",
    "warnings.filterwarnings('ignore')"
   ]
  },
  {
   "cell_type": "markdown",
   "id": "a55edbd8",
   "metadata": {},
   "source": [
    "### 1. Загрузить данные и изучите общую информацию"
   ]
  },
  {
   "cell_type": "markdown",
   "id": "ce040351",
   "metadata": {},
   "source": [
    "##### Задачи:\n",
    "- Загрузить данные о заведениях общественного питания Москвы. (Путь к файлу: /datasets/moscow_places.csv)\n",
    "- Изучить общую информацию о датасете. Сколько заведений представлено? Что можно сказать о каждом столбце? Значения какого типа они хранят? \n",
    "\n",
    "##### Цель:\n",
    "- Прочитать датасет и ознакомиться с ним. "
   ]
  },
  {
   "cell_type": "code",
   "execution_count": null,
   "id": "28e26984",
   "metadata": {},
   "outputs": [],
   "source": [
    "try:\n",
    "    df = pd.read_csv('https://code.s3.yandex.net/datasets/moscow_places.csv')  \n",
    "except:\n",
    "    pass"
   ]
  },
  {
   "cell_type": "code",
   "execution_count": null,
   "id": "0dab62c6",
   "metadata": {},
   "outputs": [],
   "source": [
    "len(df.index)"
   ]
  },
  {
   "cell_type": "markdown",
   "id": "b89fe5d9",
   "metadata": {},
   "source": [
    "В датафрейме представлено 8406 строк"
   ]
  },
  {
   "cell_type": "code",
   "execution_count": null,
   "id": "a28da83e",
   "metadata": {},
   "outputs": [],
   "source": [
    "df.info()"
   ]
  },
  {
   "cell_type": "code",
   "execution_count": null,
   "id": "36e8ab96",
   "metadata": {
    "scrolled": false
   },
   "outputs": [],
   "source": [
    "df.head(5)"
   ]
  },
  {
   "cell_type": "markdown",
   "id": "17044346",
   "metadata": {},
   "source": [
    "В датафрейме 14 столбцов, в которых:\n",
    "\n",
    "- ***name*** - название заведения, тип данных - object, пропусков - нет, ***столбец в порядке.***\n",
    "- ***category*** - категория заведения (например «кафе», «пиццерия» или «кофейня»), тип данных - object, пропусков - нет, ***столбец в порядке.***\n",
    "- ***address*** - адрес заведения, тип данных - object, пропусков - нет, ***столбец в порядке.***\n",
    "- ***district*** - административный район, в котором находится заведение тип данных - object, пропусков - нет, ***столбец в порядке.***\n",
    "- ***hours*** - нформация о днях и часах работы, тип данных - object, пропусков ~ 6%, ***столбец необходимо привести в порядок, допустимое количество пропусков.***\n",
    "- ***lat*** - широта географической точки, тип данных - float64, в которой находится заведение, пропусков - нет, ***столбец в порядке.***\n",
    "- ***lng*** - долгота географической точки, тип данных - float64, в которой находится заведение, пропусков - нет, ***столбец в порядке.***\n",
    "- ***rating*** - рейтинг заведения по оценкам пользователей в Яндекс Картах, тип данных - float64, пропусков - нет, ***столбец в порядке.***\n",
    "- ***price*** - категория цен в заведении,тип - object, пропусков ~ 60%, ***столбец необходимо привести в порядок.***\n",
    "- ***avg_bill*** - строка, которая хранит среднюю стоимость заказа в виде диапазона, тип данных - object, пропусков ~ 60%, ***столбец необходимо привести в порядок.***\n",
    "- ***middle_avg_bill*** - число с оценкой среднего чека, тип данных - float64, пропусков ~ 60%, ***столбец необходимо привести в порядок.***\n",
    "- ***middle_coffee_cup*** - число с оценкой одной чашки капучино,  тип данных - float64, пропусков ~ 90%, ***столбец необходимо привести в порядок.***\n",
    "- ***chain*** - число, которое показывает, является ли заведение сетевым, тип данных - float64, пропусков нет, ***столбец необходимо привести в порядок.***\n",
    "- ***seats*** - количество посадочных мест, тип данных - float64, пропусков ~ 45%, ***столбец необходимо привести в порядок.***"
   ]
  },
  {
   "cell_type": "markdown",
   "id": "a6e29f99",
   "metadata": {},
   "source": [
    "### Вывод"
   ]
  },
  {
   "cell_type": "markdown",
   "id": "deb38938",
   "metadata": {},
   "source": [
    "В датафрейме представлено 8406 строк в 14 столбцах, которые необходимо проработать."
   ]
  },
  {
   "cell_type": "markdown",
   "id": "c77ab351",
   "metadata": {},
   "source": [
    "Необходимо проделать следующую работу с данными в столбцах и строках:\n",
    "- ***hours*** - перевести в удобный формат работы со временем.\n",
    "- ***price*** -  заполнить пропуски на основании avg_bill, перевести в int - значения по четырехбальной шкале.\n",
    "- ***avg_bill*** - заполнить пропуски значениями по типу заведения.\n",
    "- ***middle_avg_bill*** - заполнить пропуски значениями по типу заведения.\n",
    "- ***middle_coffee_cup*** - заполнить пропуски значениями по типу заведения.\n",
    "- ***chain*** - заменить 0 и 1 на True и False.\n",
    "- ***seats*** - заполнить пропуски значениями по типу заведения."
   ]
  },
  {
   "cell_type": "markdown",
   "id": "1e24e59f",
   "metadata": {},
   "source": [
    "### 2. Выполнить предобработку данных"
   ]
  },
  {
   "cell_type": "markdown",
   "id": "7ab55f3b",
   "metadata": {},
   "source": [
    "##### Задачи:\n",
    "- Отработать пропуски, внести необходимые изменения в данные.\n",
    "- Изучить дубликаты в данных. \n",
    "- Выполнить предобработку данных:\n",
    "\n",
    "    - Создать столбец street с названиями улиц из столбца с адресом.\n",
    "    - Создать столбец is_24/7 с обозначением, что заведение работает ежедневно и круглосуточно (24/7):\n",
    "        - логическое значение True — если заведение работает ежедневно и круглосуточно;\n",
    "        - логическое значение False — в противоположном случае.\n",
    "\n",
    "##### Цель:\n",
    "- Подготовить датасет для дальнейшей работы."
   ]
  },
  {
   "cell_type": "markdown",
   "id": "8b249d05",
   "metadata": {},
   "source": [
    "##### 2.1 Обработка пропусков, внесение изменений в тип данных."
   ]
  },
  {
   "cell_type": "code",
   "execution_count": null,
   "id": "c2e49a04",
   "metadata": {},
   "outputs": [],
   "source": [
    "df['price'].unique()"
   ]
  },
  {
   "cell_type": "code",
   "execution_count": null,
   "id": "3ade5c8e",
   "metadata": {},
   "outputs": [],
   "source": [
    "#замена значенй в столбце price\n",
    "df['price'] = df['price'].replace('низкие', 1)\n",
    "df['price'] = df['price'].replace('средние', 2)\n",
    "df['price'] = df['price'].replace('выше среднего', 3)\n",
    "df['price'] = df['price'].replace('высокие', 4)"
   ]
  },
  {
   "cell_type": "code",
   "execution_count": null,
   "id": "599b6b6d",
   "metadata": {},
   "outputs": [],
   "source": [
    "#обработка пропусков в столбце price по типу заведения\n",
    "#может ввести дальнейший анализ в заблуждение, так как этот столбец зависит от avg_bill."
   ]
  },
  {
   "cell_type": "code",
   "execution_count": null,
   "id": "ca325a69",
   "metadata": {},
   "outputs": [],
   "source": [
    "#обработка пропусков в столбце avg_bill по типу заведения на данном этапе\n",
    "#методом заполнения медианным значением для заведения может ввести в заблуждение дальнейший анализ\n",
    "#оставим пропуски как есть"
   ]
  },
  {
   "cell_type": "code",
   "execution_count": null,
   "id": "09dce5a9",
   "metadata": {},
   "outputs": [],
   "source": [
    "#обработка пропусков в столбце middle_coffee_cup по типу заведения\n",
    "#может ввести дальнейший анализ в заблуждение, так как этот столбец зависит от avg_bill."
   ]
  },
  {
   "cell_type": "code",
   "execution_count": null,
   "id": "1e69efb4",
   "metadata": {},
   "outputs": [],
   "source": [
    "#обработка пропусков в столбце middle_avg_bill по типу заведения\n",
    "#может ввести дальнейший анализ в заблуждение, так как этот столбец зависит от avg_bill."
   ]
  },
  {
   "cell_type": "code",
   "execution_count": null,
   "id": "ffb79e5c",
   "metadata": {},
   "outputs": [],
   "source": [
    "#замена значенй в столбце chain\n",
    "df['chain'] = df['chain'].replace([0, 1], [False, True])\n",
    "#df['chain'] = df['chain'].replace(0, False)\n",
    "#df['chain'] = df['chain'].replace(1, True)"
   ]
  },
  {
   "cell_type": "code",
   "execution_count": null,
   "id": "c7811a52",
   "metadata": {},
   "outputs": [],
   "source": [
    "#обработка пропусков в столбце seats проходит следующим образом: вероятнее всего,\n",
    "#в таких заведениях отсутствуют посадочные места\n",
    "#df['seats'] = df['seats'].fillna(0)\n",
    "#df['seats'] = df['seats'].astype(int)\n",
    "#вернемся к данному столбцу позже"
   ]
  },
  {
   "cell_type": "code",
   "execution_count": null,
   "id": "dde382e6",
   "metadata": {},
   "outputs": [],
   "source": [
    "columns = df.columns\n",
    "for i in columns:\n",
    "    print(f'Количество пропусков в столбце {i} - {df[i].isna().sum()}, что составляет - {df[i].isna().sum()/len(df) * 100:.2f}%')"
   ]
  },
  {
   "cell_type": "markdown",
   "id": "be3b08fe",
   "metadata": {},
   "source": [
    "Цены в дальнейшем, при необходимости, можно предугадать в зависимости от места расположения заведения."
   ]
  },
  {
   "cell_type": "markdown",
   "id": "b2cfffbf",
   "metadata": {},
   "source": [
    "##### 2.2 Дубликаты датафрейма"
   ]
  },
  {
   "cell_type": "code",
   "execution_count": null,
   "id": "9f9d4640",
   "metadata": {},
   "outputs": [],
   "source": [
    "print('Количество дубликатов: ' + str(df.duplicated().sum()))"
   ]
  },
  {
   "cell_type": "markdown",
   "id": "ccd95fd9",
   "metadata": {},
   "source": [
    "##### 2.3 Создание столбца street с названиями улиц из столбца с адресом"
   ]
  },
  {
   "cell_type": "code",
   "execution_count": null,
   "id": "cdd53550",
   "metadata": {},
   "outputs": [],
   "source": [
    "df['street'] = df['address'].apply(lambda x: x.split(',')[1].strip())"
   ]
  },
  {
   "cell_type": "markdown",
   "id": "97084c2f",
   "metadata": {},
   "source": [
    "##### 2.4 Создание столбца is_24/7 с обозначением ежедневно работающих круглосуточных и некруглосуточных заведений"
   ]
  },
  {
   "cell_type": "code",
   "execution_count": null,
   "id": "4aa85fde",
   "metadata": {},
   "outputs": [],
   "source": [
    "df['is_24/7'] = df['hours'].apply(lambda x: True if x == 'ежедневно, круглосуточно' else False)"
   ]
  },
  {
   "cell_type": "markdown",
   "id": "5caf134d",
   "metadata": {},
   "source": [
    "### Вывод"
   ]
  },
  {
   "cell_type": "markdown",
   "id": "fb16a6c8",
   "metadata": {},
   "source": [
    "В датафрейме дубликатов нет. Созданы дополнительные столбцы по техническому заданию."
   ]
  },
  {
   "cell_type": "markdown",
   "id": "700279d4",
   "metadata": {},
   "source": [
    "### 3. Анализ данных"
   ]
  },
  {
   "cell_type": "markdown",
   "id": "b0175154",
   "metadata": {},
   "source": [
    "##### Задачи:\n",
    "\n",
    "- Выяснить, какие категории заведений представлены в данных. Исследовать количество объектов общественного питания по категориям: рестораны, кофейни, пиццерии, бары и так далее. Построить визуализации. Рассмотреть распределение заведений по категориям.\n",
    "- Исследовать количество посадочных мест в местах по категориям: рестораны, кофейни, пиццерии, бары и так далее. Построить визуализации. Проанализировать результаты и сделать выводы.\n",
    "- Рассмотреть и изобразить соотношение сетевых и несетевых заведений в датасете.\n",
    "- Выяснить, какие категории заведений чаще являются сетевыми. Исследовать данные и построить график.\n",
    "- Сгруппировать данные по названиям заведений и найти топ-15 популярных сетей в Москве. Построить подходящую для такой информации визуализацию.\n",
    "- Узнать какие административные районы Москвы присутствуют в датасете. Отобразить общее количество заведений и количество заведений каждой категории по районам. Проиллюстрировать эту информацию одним графиком.\n",
    "- Визуализировать распределение средних рейтингов по категориям заведений. Сделать вывод, сильно ли различаются усреднённые рейтинги в разных типах общепита?\n",
    "- Построить фоновую картограмму (хороплет) со средним рейтингом заведений каждого района. Границы районов Москвы, которые встречаются в датасете, хранятся в файле admin_level_geomap.geojson.\n",
    "- Отобразить все заведения датасета на карте с помощью кластеров средствами библиотеки folium.\n",
    "- Найти топ-15 улиц по количеству заведений. Построить график распределения количества заведений и их категорий по этим улицам. Проиллюстрировать эту информацию одним графиком.\n",
    "- Найти улицы, на которых находится только один объект общепита. Что можно сказать об этих заведениях?\n",
    "- Значения средних чеков заведений хранятся в столбце middle_avg_bill. Эти числа показывают примерную стоимость заказа в рублях, которая чаще всего выражена диапазоном. Посчитать медиану этого столбца для каждого района. Использовать это значение в качестве ценового индикатора района. Построить фоновую картограмму (хороплет) с полученными значениями для каждого района. Проанализируйте цены в центральном административном округе и других. Как удалённость от центра влияет на цены в заведениях?\n",
    "- Собрать наблюдения по вопросам выше в один общий вывод.\n",
    "\n",
    "##### Цель:\n",
    "\n",
    "- Получить необходимую информацию из датасета, провести анализ по полученным данным."
   ]
  },
  {
   "cell_type": "markdown",
   "id": "0b9ac5f5",
   "metadata": {},
   "source": [
    "Подготовим функцию для визуализации необходимой информации"
   ]
  },
  {
   "cell_type": "code",
   "execution_count": null,
   "id": "d47a5148",
   "metadata": {},
   "outputs": [],
   "source": [
    "def display_countplot(df, column, title, ylabel, xlabel):     \n",
    "    plt.figure(figsize=(18, 8))\n",
    "    \n",
    "    palette = sns.color_palette('Greens', df[column].nunique()) \n",
    "    palette.reverse() \n",
    "    #столбцы в порядке убывания\n",
    "    ax = sns.countplot(x=column, data=df, order = df[column].value_counts().index, palette=palette)\n",
    "    # разворот названий столбцов, размер шрифта по оси х\n",
    "    plt.xticks(rotation=90, fontsize=16)\n",
    "    #шрифт по оси y\n",
    "    plt.yticks(fontsize=16)\n",
    "    # подписи ко всем осям и самому графику\n",
    "    ax.set_title(title, fontsize=18)\n",
    "    ax.set_ylabel(ylabel, fontsize=18)\n",
    "    ax.set_xlabel(xlabel, fontsize=18)"
   ]
  },
  {
   "cell_type": "markdown",
   "id": "10e32662",
   "metadata": {},
   "source": [
    "##### 3.1 Визуализация и анализ по категории заведения"
   ]
  },
  {
   "cell_type": "code",
   "execution_count": null,
   "id": "a77217da",
   "metadata": {
    "scrolled": false
   },
   "outputs": [],
   "source": [
    "display_countplot(df, 'category',\\\n",
    "                  'Количество заведений по категориям',\\\n",
    "                  'Количество заведений в категории',\\\n",
    "                  'Название категории')"
   ]
  },
  {
   "cell_type": "markdown",
   "id": "8d055553",
   "metadata": {},
   "source": [
    "Кафе(2378шт), рестораны(2043шт) и кофейни(1413шт) являются достаточно популярными категориями заведений на фоне других типов.\n",
    "Отсальных типов заведений - много меньше тысячи."
   ]
  },
  {
   "cell_type": "markdown",
   "id": "3c03b091",
   "metadata": {},
   "source": [
    "##### 3.2 Визуализация и анализ по посадочным местам в заведении"
   ]
  },
  {
   "cell_type": "code",
   "execution_count": null,
   "id": "6fc9c62b",
   "metadata": {},
   "outputs": [],
   "source": [
    "plt.figure(figsize=(18, 10))\n",
    "palette = sns.color_palette('Greens', df['category'].nunique())\n",
    "palette.reverse()\n",
    "box_order = df.groupby('category')['seats'].median().sort_values(ascending=False).index\n",
    "ax = sns.boxplot(x='category', y='seats', data=df, order=box_order, palette=palette, showfliers=False) \n",
    "ax.set_ylabel('Количество мест', fontsize=18)\n",
    "ax.set_xlabel('Тип заведения', fontsize=18)\n",
    "plt.xticks(fontsize=14)\n",
    "ax.set_title('Количество посадочных мест по категориям', fontsize=18);"
   ]
  },
  {
   "cell_type": "code",
   "execution_count": null,
   "id": "bcf33271",
   "metadata": {},
   "outputs": [],
   "source": [
    "df.groupby('category')['seats'].median().sort_values(ascending=False)"
   ]
  },
  {
   "cell_type": "markdown",
   "id": "0bb76259",
   "metadata": {},
   "source": [
    "Построив визуализацию и упорядочив категории по медианным значениям видно, что в ресторанах, барах и кофейнях медианные значения количества посадочных мест более 80. Наименьшее медианное значение по посадочным местам наблюдается в кафе, пиццериях и булочных - в диапазоне 50-60 мест."
   ]
  },
  {
   "cell_type": "markdown",
   "id": "b7bb112f",
   "metadata": {},
   "source": [
    "##### 3.3 Визуализация и анализ по принадлежности к сетевой принадлежности"
   ]
  },
  {
   "cell_type": "code",
   "execution_count": null,
   "id": "87deaa58",
   "metadata": {},
   "outputs": [],
   "source": [
    "chain_rat = df.groupby('chain', as_index=False)['chain'].count()\n",
    "chain_rat = chain_rat.reset_index()\n",
    "chain_rat.columns = ['Тип заведения', 'Количество']\n",
    "chain_rat['Тип заведения'] = chain_rat['Тип заведения'].apply(lambda x: 'несетевое' if x == 0 else 'сетевое')\n",
    "chain_rat"
   ]
  },
  {
   "cell_type": "code",
   "execution_count": null,
   "id": "94b6d05d",
   "metadata": {},
   "outputs": [],
   "source": [
    "plt.figure(figsize=(5, 5))\n",
    "y = chain_rat['Количество']\n",
    "lables = ['Сеть', 'Не сеть']\n",
    "colors = ['DarkGreen', 'LightGreen']\n",
    "plt.pie(y, labels = lables, colors=colors, autopct='%1.0f%%', textprops={'fontsize': 30})\n",
    "plt.show() "
   ]
  },
  {
   "cell_type": "markdown",
   "id": "59341176",
   "metadata": {},
   "source": [
    "Сетевых заведений на порядок выше чем несетевых."
   ]
  },
  {
   "cell_type": "code",
   "execution_count": null,
   "id": "a8317000",
   "metadata": {},
   "outputs": [],
   "source": [
    "df_chain = df[['category','chain']]\n",
    "df_chain['chain'] = df_chain['chain'].apply(lambda x: 'несетевое' if x == 0 else 'сетевое')\n",
    "df_g = df_chain.groupby(['category', 'chain']).size().reset_index()\n",
    "df_g['percentage'] = df_chain.groupby(['category', 'chain']).size().groupby(level=0).apply(\n",
    "    lambda x: 100 * x / float(x.sum())).values\n",
    "df_g.columns = ['category', 'chain', 'Counts', 'Percentage']\n",
    "fig = px.bar(\n",
    "    df_g, x='category', \n",
    "    y=['Counts'], color='chain', \n",
    "    text=df_g['Percentage'].apply(\n",
    "        lambda x: '{0:1.2f}%'.format(x)),\n",
    "       color_discrete_sequence=px.colors.sequential.Darkmint,\n",
    "                       labels={\n",
    "                     \"value\": \"Количество заведений\",\n",
    "                     \"category\": \"Название категории\",\n",
    "                     \"chain\": \"сетевое / несетевое\"\n",
    "                 },\n",
    "                title=\"Отношение сетевых к несетевым заведениям по категориям\")\n",
    "fig.update_traces(textfont_size=20, textangle=0)\n",
    "fig.update_layout(xaxis={'categoryorder': 'total descending'})\n",
    "fig.show()"
   ]
  },
  {
   "cell_type": "markdown",
   "id": "7ab2a0f6",
   "metadata": {},
   "source": [
    "Кафе, рестораны, бары и столовые чаще других категорий являются несетевыми заведениями – половина и более завезений этой категории не принадлежит к сетям."
   ]
  },
  {
   "cell_type": "markdown",
   "id": "1ee778c9",
   "metadata": {},
   "source": [
    "##### 3.4 Визуализация и анализ топ-15 популярных сетей в Москве"
   ]
  },
  {
   "cell_type": "code",
   "execution_count": null,
   "id": "35e2d89a",
   "metadata": {},
   "outputs": [],
   "source": [
    "top_15 = df.query('chain == 1').groupby(['name', 'category'])['name'].count().sort_values(ascending=False).to_frame().head(15)\n",
    "top_15.columns = ['count']\n",
    "top_15 = top_15.reset_index(level=0).reset_index(level=0).sort_values(by='category')\n",
    "top_15"
   ]
  },
  {
   "cell_type": "code",
   "execution_count": null,
   "id": "135245bc",
   "metadata": {},
   "outputs": [],
   "source": [
    "top_15_category = top_15.groupby('category')['count'].sum().to_frame().reset_index(level=0)\n",
    "top_15_category"
   ]
  },
  {
   "cell_type": "code",
   "execution_count": null,
   "id": "fbf42ddb",
   "metadata": {},
   "outputs": [],
   "source": [
    "top_15 = df.query('chain == 1').pivot_table(index=['category', 'name'], values='chain', aggfunc='count')\\\n",
    ".reset_index().sort_values(by='chain', ascending=False).head(15)\n",
    "\n",
    "fig = px.sunburst(top_15, path=['category', 'name'], values='chain',\\\n",
    "                  \n",
    "                  color_discrete_sequence=px.colors.qualitative.Pastel2\n",
    "                  )\n",
    "fig.update_layout(\n",
    "    margin = dict(t=10, l=10, r=10, b=10),\\\n",
    "    title='Топ 15 заведений по категориям.',\\\n",
    "    title_xanchor=\"auto\",\\\n",
    "    title_y=0\n",
    ")\n",
    "fig.show()"
   ]
  },
  {
   "cell_type": "markdown",
   "id": "2d1ad0e8",
   "metadata": {},
   "source": [
    "Большая часть заведений относится к кофейням: среди топ-15 популярных сетей 45% (350) заведений принадлежат к категории кофейня. Наименее популярная категория 3% (25) – булочная. В целом относительное распределение заведений по категориям имеет следующий вид:\n",
    "кофейня – 45% (350)\n",
    "ресторан – 20% (157)\n",
    "пиццерия – 19,5% (150)\n",
    "кафе – 11,5% (89)\n",
    "булочная – 3.2% (25)"
   ]
  },
  {
   "cell_type": "markdown",
   "id": "6979ab82",
   "metadata": {},
   "source": [
    "##### 3.5 Визуализация и анализ районов в Москве"
   ]
  },
  {
   "cell_type": "code",
   "execution_count": null,
   "id": "ef0f167b",
   "metadata": {},
   "outputs": [],
   "source": [
    "df['district'].unique()"
   ]
  },
  {
   "cell_type": "code",
   "execution_count": null,
   "id": "310871a8",
   "metadata": {},
   "outputs": [],
   "source": [
    "district_abbr = {\n",
    "    'Северный административный округ': 'САО',\n",
    "    'Северо-Западный административный округ': 'СЗАО',\n",
    "    'Западный административный округ': 'ЗАО',\n",
    "    'Восточный административный округ': 'ВАО',\n",
    "    'Юго-Западный административный округ': 'ЮЗАО',\n",
    "    'Южный административный округ': 'ЮАО',\n",
    "    'Юго-Восточный административный округ': 'ЮВАО',\n",
    "    'Центральный административный округ': 'ЦАО',\n",
    "    'Северо-Восточный административный округ': 'СВАО',\n",
    "    'Зеленоградский административный округ': 'ЗАО'\n",
    "}\n",
    "\n",
    "df['district_cont'] = df['district'].replace(district_abbr)"
   ]
  },
  {
   "cell_type": "code",
   "execution_count": null,
   "id": "21317016",
   "metadata": {},
   "outputs": [],
   "source": [
    "regions_category = df.groupby(['district_cont', 'category'], as_index=False)['name'].count()\\\n",
    ".sort_values(by= ['district_cont', 'name'], ascending=False)\n",
    "regions_category"
   ]
  },
  {
   "cell_type": "code",
   "execution_count": null,
   "id": "056123de",
   "metadata": {},
   "outputs": [],
   "source": [
    "data = df[['district_cont','category']]\n",
    "df_g = data.groupby(['district_cont', 'category']).size().reset_index()\n",
    "df_g['percentage'] = data.groupby(['district_cont','category']).size().groupby(level=0).apply(lambda x: 100 * x / float(x.sum())).values\n",
    "df_g.columns = ['district_cont', 'category', 'counts', 'percentage']\n",
    "fig = px.bar(df_g, x='district_cont', y=['counts'], color='category', text=df_g['percentage'].apply(lambda x: '{0:1.2f}%'.format(x)),\\\n",
    "       color_discrete_sequence=px.colors.sequential.Darkmint,\\\n",
    "                       labels={\n",
    "                     'value': 'Количество заведений',\n",
    "                     'district_cont': 'Pайон',\n",
    "                     'category': 'Категория'\n",
    "                 },\n",
    "                title='Процент категорий в разных округах',\n",
    "      height= 1000, \n",
    "            )\n",
    "fig.update_traces(textfont_size=50, textangle=0)\n",
    "fig.update_layout(xaxis={'categoryorder': 'total descending'})\n",
    "fig"
   ]
  },
  {
   "cell_type": "markdown",
   "id": "985a52c8",
   "metadata": {},
   "source": [
    "На фоне всех остальных административных округов заметно выделяется центральный административный: в нем не только больше заведений в сравнении с остальными округами, но и соотношение по категориям заведений тоже имеет различие в определенных категориях. В центральном административном округе значительно больше баров (в 2-3 раза) и ресторанов (примерно на 10% в сравнении с остальными округами). Но при этом популярность кафе в центральном административном округе заметно ниже, чем в остальных округах. Больше всего кафе в юго-восточном административном округе"
   ]
  },
  {
   "cell_type": "markdown",
   "id": "795ff605",
   "metadata": {},
   "source": [
    "##### 3.6 Визуализация и анализ распределения рейтингов заведения"
   ]
  },
  {
   "cell_type": "code",
   "execution_count": null,
   "id": "0d78a759",
   "metadata": {},
   "outputs": [],
   "source": [
    "avg_rating = df.groupby('category', as_index=False)['rating'].mean().sort_values(by='rating', ascending=False)\n",
    "avg_rating.columns = ['category', 'avg_rating']\n",
    "avg_rating"
   ]
  },
  {
   "cell_type": "code",
   "execution_count": null,
   "id": "1544701e",
   "metadata": {},
   "outputs": [],
   "source": [
    "def display_barplot(df, column_1, column_2, title, ylabel, xlabel, ylim_bott, ylim_top):\n",
    "    plt.figure(figsize=(18, 8))\n",
    "    palette = sns.color_palette('Greens', df[column_1].nunique())\n",
    "    palette.reverse()\n",
    "    ax = sns.barplot(x=df[column_1], y=df[column_2], palette=palette)\n",
    "    ax.set_xlabel(xlabel, fontsize=18)\n",
    "    ax.set_ylabel(ylabel, fontsize=18)\n",
    "    ax.set_title(title, fontsize=18);\n",
    "    plt.xticks(fontsize=14)\n",
    "    plt.yticks(fontsize=14)\n",
    "    ax.set_ylim(ylim_bott, ylim_top)\n",
    "    \n",
    "    for i in ax.patches:\n",
    "        _x = i.get_x() + i.get_width() / 2\n",
    "        _y = i.get_y() + i.get_height() + (i.get_height()*0.01)\n",
    "        value = '{:.2f}'.format(i.get_height())\n",
    "        ax.text(_x, _y, value, ha=\"center\")"
   ]
  },
  {
   "cell_type": "code",
   "execution_count": null,
   "id": "36ba1687",
   "metadata": {
    "scrolled": false
   },
   "outputs": [],
   "source": [
    "display_barplot(avg_rating, 'category', 'avg_rating',\\\n",
    "               'Средний рейтинг по категориям заведений',\\\n",
    "               'Средний рейтинг',\\\n",
    "               'Категория заведения',\\\n",
    "               4, 4.5)"
   ]
  },
  {
   "cell_type": "markdown",
   "id": "77dd5d9a",
   "metadata": {},
   "source": [
    "Средние рейтинги по категориям отличаются: наивысшие оценки получают бары и пабы, а самые низкие оценки ставят посетители заведений быстрого питания."
   ]
  },
  {
   "cell_type": "markdown",
   "id": "6ab96e4f",
   "metadata": {},
   "source": [
    "##### 3.7 Построение картограммы со средним рейтингом заведений каждого района."
   ]
  },
  {
   "cell_type": "code",
   "execution_count": null,
   "id": "8541dce5",
   "metadata": {},
   "outputs": [],
   "source": [
    "mid_rating_df = df.pivot_table(index='district', values='rating', aggfunc='mean').reset_index()\n",
    "mid_rating_df = mid_rating_df.sort_values(by='rating', ascending=False)\n",
    "mid_rating_df"
   ]
  },
  {
   "cell_type": "code",
   "execution_count": null,
   "id": "43f3b85d",
   "metadata": {},
   "outputs": [],
   "source": [
    "#работал локально, с другого источника не вышло подключить json\n",
    "#r'C:\\Users\\soibr\\OneDrive\\Рабочий стол\\jupyter notebook\\prj_data_history\\admin_level_geomap.geojson'\n",
    "with open('/datasets/admin_level_geomap.geojson', encoding='utf-8') as a:\n",
    "    geo_json = json.load(a)\n",
    "moscow_lat, moscow_lng = 55.751244, 37.618423\n",
    "m = Map(location=[moscow_lat, moscow_lng], zoom_start=10)\n",
    "\n",
    "def f_Choropleth(data,columns,name):\n",
    "    Choropleth(\n",
    "        geo_data=geo_json,\n",
    "        data=data,\n",
    "        columns=columns,\n",
    "        key_on='feature.name',\n",
    "        fill_color='YlGn',\n",
    "        fill_opacity=0.8,\n",
    "        legend_name=name,\n",
    "    ).add_to(m)\n",
    "    return m"
   ]
  },
  {
   "cell_type": "code",
   "execution_count": null,
   "id": "89033314",
   "metadata": {
    "scrolled": true
   },
   "outputs": [],
   "source": [
    "f_Choropleth(mid_rating_df,['district', 'rating'],'Медианный рейтинг заведений по районам')"
   ]
  },
  {
   "cell_type": "markdown",
   "id": "87d03893",
   "metadata": {},
   "source": [
    "##### 3.7.1 Вывод всех заведений на карте"
   ]
  },
  {
   "cell_type": "code",
   "execution_count": null,
   "id": "7c34e6dd",
   "metadata": {
    "scrolled": true
   },
   "outputs": [],
   "source": [
    "marker_cluster = MarkerCluster().add_to(m)\n",
    "\n",
    "def create_clusters(row):\n",
    "    Marker(\n",
    "        [row['lat'], row['lng']],\n",
    "        popup=f\"{row['name']} {row['rating']}\",\n",
    "    ).add_to(marker_cluster)\n",
    "\n",
    "df.apply(create_clusters, axis=1)\n",
    "m"
   ]
  },
  {
   "cell_type": "markdown",
   "id": "63723da3",
   "metadata": {},
   "source": [
    "##### Вывод\n",
    "\n",
    "По данной визуализации можно детальнее рассмотреть нахождение заведений в районах административных округов."
   ]
  },
  {
   "cell_type": "markdown",
   "id": "03326fd3",
   "metadata": {},
   "source": [
    "##### 3.8 Визуализация и анализ топ-15  улиц в Москве"
   ]
  },
  {
   "cell_type": "code",
   "execution_count": null,
   "id": "1cff8b65",
   "metadata": {},
   "outputs": [],
   "source": [
    "street_df = df.groupby(['street'], as_index=False)['name'].count().sort_values(by='name', ascending=False).head(15)\n",
    "street_df = street_df.sort_values(by='name', ascending=False)\n",
    "street_df.columns = ['street', 'counts']\n",
    "street_df"
   ]
  },
  {
   "cell_type": "code",
   "execution_count": null,
   "id": "24a44818",
   "metadata": {},
   "outputs": [],
   "source": [
    "category_df = df.groupby(['street', 'category'], as_index=False)['name'].count().sort_values(by='name', ascending=False)\n",
    "category_df = category_df.sort_values(by='name', ascending=False)\n",
    "category_df.columns = ['street', 'category', 'counts']\n",
    "category_df.sort_values(by='counts', ascending=False, inplace=True)\n",
    "category_df"
   ]
  },
  {
   "cell_type": "code",
   "execution_count": null,
   "id": "7f46d480",
   "metadata": {
    "scrolled": false
   },
   "outputs": [],
   "source": [
    "df_merge = category_df.merge(street_df, how='inner', on='street')\n",
    "df_merge"
   ]
  },
  {
   "cell_type": "code",
   "execution_count": null,
   "id": "43a8e0cc",
   "metadata": {},
   "outputs": [],
   "source": [
    "df_merge['percent'] = df_merge['counts_x'] / df_merge['counts_y'] * 100\n",
    "df_merge['percent'] = df_merge['percent'].apply(lambda x: '{0:1.2f}%'.format(x))  \n",
    "df_merge.columns = ['street', 'category', 'count', 'count_street', 'percent']\n",
    "df_merge"
   ]
  },
  {
   "cell_type": "code",
   "execution_count": null,
   "id": "25295c08",
   "metadata": {},
   "outputs": [],
   "source": [
    "fig = px.bar(df_merge, x='street', y=['count'], color='category', text=df_merge['percent'],\\\n",
    "                       labels={\n",
    "                     \"value\": \"Количество заведений\",\n",
    "                     \"street\": \"Название улицы\",\n",
    "                     \"category\": \"Категория\"\n",
    "                 },\n",
    "    title=\"Отношение категорий в разных административных округах\",\\\n",
    "    color_discrete_sequence=px.colors.sequential.Darkmint,\\\n",
    "    height= 1000)\n",
    "fig.update_traces(textfont_size=20, textangle=0)\n",
    "fig.update_layout(xaxis={'categoryorder': 'total descending'})\n",
    "fig.show()"
   ]
  },
  {
   "cell_type": "markdown",
   "id": "dfb0de1d",
   "metadata": {},
   "source": [
    "Открыв карту москвы, можно выяснить, что длина улицы влияет на количество заведений. При наличии данных о длинне улиц можно было бы визуализировать зависимость. "
   ]
  },
  {
   "cell_type": "markdown",
   "id": "51f3bf82",
   "metadata": {},
   "source": [
    "##### 3.9 Улицы с одним объектом общепита"
   ]
  },
  {
   "cell_type": "code",
   "execution_count": null,
   "id": "9a8cf1c6",
   "metadata": {},
   "outputs": [],
   "source": [
    "alone_obj = df.pivot_table(index='street', values='name', aggfunc='count').reset_index()\n",
    "alone_obj.query('name==1')"
   ]
  },
  {
   "cell_type": "markdown",
   "id": "37fe3c4a",
   "metadata": {},
   "source": [
    "Всего 458 улиц с одним объектом общепита."
   ]
  },
  {
   "cell_type": "code",
   "execution_count": null,
   "id": "07cef37a",
   "metadata": {},
   "outputs": [],
   "source": [
    "alone_obj = df.pivot_table(index=['district_cont', 'street'], values='name', aggfunc='count').reset_index()\n",
    "alone_obj = alone_obj.query('name==1')\n",
    "alone_obj"
   ]
  },
  {
   "cell_type": "code",
   "execution_count": null,
   "id": "1a7a0cbe",
   "metadata": {
    "scrolled": false
   },
   "outputs": [],
   "source": [
    "display_countplot(alone_obj, 'district_cont',\\\n",
    "    'Количество улиц с одним заведением по округам',\\\n",
    "    'Название округа',\\\n",
    "    'Количество улиц с одним заведением')"
   ]
  },
  {
   "cell_type": "markdown",
   "id": "916737d4",
   "metadata": {},
   "source": [
    "Округ с большим количеством улиц с одним заведением - ЦАО."
   ]
  },
  {
   "cell_type": "markdown",
   "id": "62037bcd",
   "metadata": {},
   "source": [
    "##### 3.10 Медиана средних чеков для каждого района"
   ]
  },
  {
   "cell_type": "code",
   "execution_count": null,
   "id": "2a05fd8f",
   "metadata": {},
   "outputs": [],
   "source": [
    "avg_bill = df.pivot_table(index='district', values='middle_avg_bill', aggfunc='median').reset_index()\n",
    "avg_bill"
   ]
  },
  {
   "cell_type": "code",
   "execution_count": null,
   "id": "f5aa0d52",
   "metadata": {
    "scrolled": false
   },
   "outputs": [],
   "source": [
    "moscow_lat, moscow_lng = 55.751244, 37.618423\n",
    "m = Map(location=[moscow_lat, moscow_lng], zoom_start=10)\n",
    "marker_cluster = MarkerCluster().add_to(m)\n",
    "f_Choropleth(avg_bill,['district', 'middle_avg_bill'],'Медианный средний чек по районам')"
   ]
  },
  {
   "cell_type": "markdown",
   "id": "4b11e7b7",
   "metadata": {},
   "source": [
    "### Вывод"
   ]
  },
  {
   "cell_type": "markdown",
   "id": "be82cc6f",
   "metadata": {},
   "source": [
    "### 4. Детализация исследования: открытие кофейни"
   ]
  },
  {
   "cell_type": "markdown",
   "id": "c0188cd5",
   "metadata": {},
   "source": [
    "##### Задачи:\n",
    "Выяснить\n",
    "- Сколько всего кофеен в датасете. В каких районах их больше всего, каковы особенности их расположения.\n",
    "- Есть ли круглосуточные кофейни.\n",
    "- Какие у кофеен рейтинги? Как они распределяются по районам.\n",
    "- На какую стоимость чашки капучино стоит ориентироваться при открытии и почему.\n",
    "- Построить визуализации.Дать рекомендацию для открытия нового заведения.\n",
    "\n",
    "##### Цель:\n",
    "- Определить, ожидает ли основателей фонда «Shut Up and Take My Money» успех."
   ]
  },
  {
   "cell_type": "markdown",
   "id": "f8e2d979",
   "metadata": {},
   "source": [
    "##### 4.1 Сколько всего кофеен в датасете. В каких районах их больше всего, каковы особенности их расположения."
   ]
  },
  {
   "cell_type": "code",
   "execution_count": null,
   "id": "87139578",
   "metadata": {},
   "outputs": [],
   "source": [
    "coffee_count = df.query('category == \"кофейня\"').pivot_table(index='district', values='name', aggfunc='count').reset_index().sort_values(by='name', ascending=False)\n",
    "coffee_count.columns = ['district', 'count']\n",
    "coffee_count"
   ]
  },
  {
   "cell_type": "code",
   "execution_count": null,
   "id": "7d5a72e6",
   "metadata": {},
   "outputs": [],
   "source": [
    "moscow_lat, moscow_lng = 55.751244, 37.618423\n",
    "m = Map(location=[moscow_lat, moscow_lng], zoom_start=10)\n",
    "f_Choropleth(coffee_count,['district', 'count'],'плотность распределения кофеен по районам')"
   ]
  },
  {
   "cell_type": "code",
   "execution_count": null,
   "id": "3f01e2bf",
   "metadata": {},
   "outputs": [],
   "source": [
    "coffee_count['count'].sum()"
   ]
  },
  {
   "cell_type": "markdown",
   "id": "e47178ce",
   "metadata": {},
   "source": [
    "Всего таких заведений в датасете - 1413"
   ]
  },
  {
   "cell_type": "markdown",
   "id": "6ba52858",
   "metadata": {},
   "source": [
    "##### 4.2 Есть ли круглосуточные кофейни."
   ]
  },
  {
   "cell_type": "code",
   "execution_count": null,
   "id": "0f6a9b56",
   "metadata": {},
   "outputs": [],
   "source": [
    "round(df.query('category == \"кофейня\"')['is_24/7'].mean()*100, 2)"
   ]
  },
  {
   "cell_type": "markdown",
   "id": "4b943010",
   "metadata": {},
   "source": [
    "Заведений с таким графиком - 4.18% от общего числа заведений."
   ]
  },
  {
   "cell_type": "code",
   "execution_count": null,
   "id": "5fad8e73",
   "metadata": {},
   "outputs": [],
   "source": [
    "df.query('category == \"кофейня\"')['hours'].value_counts().head(10)"
   ]
  },
  {
   "cell_type": "code",
   "execution_count": null,
   "id": "b24bca52",
   "metadata": {},
   "outputs": [],
   "source": [
    "cofee_24 = df.query('category == \"кофейня\" & hours == \"ежедневно, круглосуточно\"')['hours'].value_counts()#.to_frame().reset_index(level=0)\n",
    "cofee_24"
   ]
  },
  {
   "cell_type": "markdown",
   "id": "dd2550bb",
   "metadata": {},
   "source": [
    "##### Вывод\n",
    "\n",
    "Круглосуточные коофейни – редкое явление. Таких - 4,2%, а именно – 59 заведений. В основном график таких заведений такого типа - с утра и до позднего вечера."
   ]
  },
  {
   "cell_type": "markdown",
   "id": "c7d616dc",
   "metadata": {},
   "source": [
    "##### 4.3 Какие у кофеен рейтинги? Как они распределяются по районам."
   ]
  },
  {
   "cell_type": "code",
   "execution_count": null,
   "id": "0b35fe33",
   "metadata": {},
   "outputs": [],
   "source": [
    "coffee_rating = df.query('category == \"кофейня\"').pivot_table(index='district', values='rating', aggfunc='mean').reset_index()\\\n",
    ".sort_values(by='rating', ascending=False)\n",
    "coffee_rating.columns = ['district', 'avg_rating']"
   ]
  },
  {
   "cell_type": "code",
   "execution_count": null,
   "id": "f5313d29",
   "metadata": {},
   "outputs": [],
   "source": [
    "coffee_rating"
   ]
  },
  {
   "cell_type": "code",
   "execution_count": null,
   "id": "197ccd5a",
   "metadata": {},
   "outputs": [],
   "source": [
    "moscow_lat, moscow_lng = 55.751244, 37.618423\n",
    "m = Map(location=[moscow_lat, moscow_lng], zoom_start=10)\n",
    "f_Choropleth(coffee_rating,['district', 'avg_rating'],'плотность распределения кофеен по районам')"
   ]
  },
  {
   "cell_type": "markdown",
   "id": "c22c0af9",
   "metadata": {},
   "source": [
    "##### 4.4 На какую стоимость чашки капучино стоит ориентироваться при открытии и почему."
   ]
  },
  {
   "cell_type": "code",
   "execution_count": null,
   "id": "aa79daa9",
   "metadata": {},
   "outputs": [],
   "source": [
    "coffee_price = df.query('category == \"кофейня\"')\\\n",
    ".pivot_table(index='district_cont', values='middle_coffee_cup', aggfunc=['mean','count']).reset_index()\n",
    "coffee_price.columns = ['district', 'mean_bill', 'count']\n",
    "coffee_price = coffee_price.sort_values(by='mean_bill', ascending=False)\n",
    "coffee_price"
   ]
  },
  {
   "cell_type": "markdown",
   "id": "15ba825a",
   "metadata": {},
   "source": [
    "150 - 200 рублей оптимальная цена за кружку кофе.\n",
    "Самый дорогой стаканчик кофе - на западе, а дешевый - в южной части города"
   ]
  },
  {
   "cell_type": "code",
   "execution_count": null,
   "id": "dc29cd91",
   "metadata": {},
   "outputs": [],
   "source": [
    "display_barplot(coffee_price, 'district', 'mean_bill',\\\n",
    "               'Средняя цена за чашку капучино по округам',\\\n",
    "               'Средняя цена за чашку капучино',\\\n",
    "               'Название округа',\n",
    "               140, 200)"
   ]
  },
  {
   "cell_type": "markdown",
   "id": "2f99e253",
   "metadata": {},
   "source": [
    "В зависимости от округа открытия заведения возможно следует задать цены немного ниже средних по округу для привлечения потока первых клиентов.\n",
    "Даже при отстутствии конкуренции стоит учитывать, что, в центральном округе очень много кофеен, и необходимо будет приложить очень много усилий на привлечении первых клиентов. "
   ]
  },
  {
   "cell_type": "markdown",
   "id": "4adffd69",
   "metadata": {},
   "source": [
    "##### 4.5 Построить визуализации. Дать рекомендацию для открытия нового заведения."
   ]
  },
  {
   "cell_type": "markdown",
   "id": "78ead8d9",
   "metadata": {},
   "source": [
    "В качестве наглядного примера был выбран ЦАО, так как ценник на кружку кофе в этом районе достаточно высок, что позволит создать конкурентноспособный ценник для привлечения новых клиентов  а соотношение кофеен к другому типа заведений не так высока как в остальных административных округах - примерно из 5 заведений - только 1 является кофейней (20,7%)."
   ]
  },
  {
   "cell_type": "code",
   "execution_count": null,
   "id": "7f52a2f6",
   "metadata": {
    "scrolled": false
   },
   "outputs": [],
   "source": [
    "moscow_lat, moscow_lng = 55.751244, 37.618423\n",
    "\n",
    "m = Map(location=[moscow_lat, moscow_lng], zoom_start=11)\n",
    "marker_cluster = MarkerCluster().add_to(m)\n",
    "def create_marker(row):\n",
    "    Marker([row['lat'], row['lng']],\n",
    "        popup=f\"{row['name']} {row['rating']}\"\n",
    "    ).add_to(m)\n",
    "\n",
    "df.query('category == \"кофейня\" and district == \"Центральный административный округ\"').apply(create_marker, axis=1)\n",
    "\n",
    "m"
   ]
  },
  {
   "cell_type": "markdown",
   "id": "cd900534",
   "metadata": {},
   "source": [
    "### Вывод"
   ]
  },
  {
   "cell_type": "markdown",
   "id": "b9d3ea83",
   "metadata": {},
   "source": [
    "Для работы был получен датафрейм с заведениях общественного питания в Москве.\n",
    "\n",
    "Была проведена предобработка данных: \n",
    "\n",
    "- Отработаны пропуски, внесены необходимые изменения в данные.\n",
    "- Изучены дубликаты в данных.\n",
    "- Создан столбец street с названиями улиц из столбца с адресом.\n",
    "- Создан столбец is_24/7 с обозначением, что заведение работает ежедневно и круглосуточно (24/7)\n",
    "\n",
    "Была построена визуализация по категориям заведений, которая показала, что наиболее популярные категории заведений:\n",
    "\n",
    "- кафе – 2378 заведений\n",
    "- ресторан – 2043 заведений\n",
    "- кофейня – 1413 заведений\n",
    "\n",
    "По количеству посадочных мест по медианным значениям топ возглавляют следующие 3 категории заведений:\n",
    "\n",
    "- ресторан – 86 посадочных мест по медиане\n",
    "- бар/паб – 82 посадочных места по медиане\n",
    "- кофейня – 80 посадочных мест по медиане\n",
    "\n",
    "По полученным данным, можно сделать вывод о том, что в данных категориях заведений люди любят проводить длительное время, чем и обосновывается количество посадочных мест.\n",
    "\n",
    "Несетевых заведений в данных больше, а именно 5201 заведение, что составляет - 62%\n",
    "\n",
    "Соотношение сетевых заведений к общему датафрейму:\n",
    "\n",
    "- кофейня – 45% (350)\n",
    "- ресторан – 20% (157)\n",
    "- пиццерия – 19,5% (150)\n",
    "- кафе – 11,5% (89)\n",
    "- булочная – 3.2% (25)\n",
    "\n",
    "Центральный административный округ сильно отличается от всех остальных районов распределением по категориям заведений – в этом округе значительно больше баров и ресторанов, а популярность кафе снижена.\n",
    "\n",
    "Центральный и западный административные округа обладают самыми высокими ценами, а юго-восточный и южный административные округа самыми низкими."
   ]
  },
  {
   "cell_type": "markdown",
   "id": "921f6d43",
   "metadata": {},
   "source": [
    "##### Портрет потенциально успешного заведения по проанализированным данным"
   ]
  },
  {
   "cell_type": "markdown",
   "id": "475aeca1",
   "metadata": {},
   "source": [
    "**Портрет** потенциально **успешного** заведения будет состоять:\n",
    "\n",
    "**Тип заведения - кофейня**\n",
    "\n",
    "**Время работы заведения - 24/7**\n",
    "\n",
    "**Месторасположение - ЦАО** или ЗАО, если необходимо тратить меньше ресурсов на борьбу с огромной конкуренцией в Центральном округе\n",
    "\n",
    "**Наличие посадочных мест**\n",
    "\n",
    "**Средний чек - в рассматриваемых районах - 1000**, не стоит забывать о \"сарафанном радио\", как минимум на первое время - конкурентноспособная цена позволит набрать постоянных клиентов за достаточно короткий срок\n",
    "\n",
    "Основной **конкурент - сетевые заведения** в выбранных районах, так что при выборе места заведения, стоит учитывать этот фактор\n",
    "\n",
    "**Сетевое развитие - реально** в исполнении"
   ]
  },
  {
   "cell_type": "markdown",
   "id": "97d24abc",
   "metadata": {},
   "source": [
    "### 5. Подготовка презентации"
   ]
  },
  {
   "cell_type": "markdown",
   "id": "f256e0b5",
   "metadata": {},
   "source": [
    "##### Задача:\n",
    "\n",
    "- Подготовить презентацию исследования для инвесторов. \n",
    "\n",
    "##### Цель:\n",
    "\n",
    "- Приложить ссылку на презентацию"
   ]
  },
  {
   "cell_type": "markdown",
   "id": "878fbd57",
   "metadata": {},
   "source": [
    "https://disk.yandex.ru/i/XFtKfpGvTGRGNw"
   ]
  }
 ],
 "metadata": {
  "ExecuteTimeLog": [
   {
    "duration": 2088,
    "start_time": "2023-03-16T16:42:33.327Z"
   },
   {
    "duration": 133,
    "start_time": "2023-03-16T16:42:35.417Z"
   },
   {
    "duration": 6,
    "start_time": "2023-03-16T16:42:35.552Z"
   },
   {
    "duration": 32,
    "start_time": "2023-03-16T16:42:35.560Z"
   },
   {
    "duration": 19,
    "start_time": "2023-03-16T16:42:35.595Z"
   },
   {
    "duration": 6,
    "start_time": "2023-03-16T16:42:35.616Z"
   },
   {
    "duration": 14,
    "start_time": "2023-03-16T16:42:35.624Z"
   },
   {
    "duration": 7,
    "start_time": "2023-03-16T16:42:35.640Z"
   },
   {
    "duration": 21,
    "start_time": "2023-03-16T16:42:35.649Z"
   },
   {
    "duration": 7,
    "start_time": "2023-03-16T16:42:35.672Z"
   },
   {
    "duration": 17,
    "start_time": "2023-03-16T16:42:35.681Z"
   },
   {
    "duration": 12,
    "start_time": "2023-03-16T16:42:35.700Z"
   },
   {
    "duration": 26,
    "start_time": "2023-03-16T16:42:35.714Z"
   },
   {
    "duration": 20,
    "start_time": "2023-03-16T16:42:35.743Z"
   },
   {
    "duration": 21,
    "start_time": "2023-03-16T16:42:35.766Z"
   },
   {
    "duration": 9,
    "start_time": "2023-03-16T16:42:35.790Z"
   },
   {
    "duration": 10,
    "start_time": "2023-03-16T16:42:35.801Z"
   },
   {
    "duration": 10,
    "start_time": "2023-03-16T16:42:35.813Z"
   },
   {
    "duration": 307,
    "start_time": "2023-03-16T16:42:35.825Z"
   },
   {
    "duration": 313,
    "start_time": "2023-03-16T16:42:36.135Z"
   },
   {
    "duration": 9,
    "start_time": "2023-03-16T16:42:36.450Z"
   },
   {
    "duration": 23,
    "start_time": "2023-03-16T16:42:36.460Z"
   },
   {
    "duration": 100,
    "start_time": "2023-03-16T16:42:36.485Z"
   },
   {
    "duration": 718,
    "start_time": "2023-03-16T16:42:36.587Z"
   },
   {
    "duration": 22,
    "start_time": "2023-03-16T16:42:37.307Z"
   },
   {
    "duration": 35,
    "start_time": "2023-03-16T16:42:37.331Z"
   },
   {
    "duration": 168,
    "start_time": "2023-03-16T16:42:37.368Z"
   },
   {
    "duration": 42,
    "start_time": "2023-03-16T16:42:37.538Z"
   },
   {
    "duration": 10,
    "start_time": "2023-03-16T16:42:37.582Z"
   },
   {
    "duration": 32,
    "start_time": "2023-03-16T16:42:37.593Z"
   },
   {
    "duration": 115,
    "start_time": "2023-03-16T16:42:37.627Z"
   },
   {
    "duration": 23,
    "start_time": "2023-03-16T16:42:37.744Z"
   },
   {
    "duration": 14,
    "start_time": "2023-03-16T16:42:37.770Z"
   },
   {
    "duration": 276,
    "start_time": "2023-03-16T16:42:37.786Z"
   },
   {
    "duration": 20,
    "start_time": "2023-03-16T16:42:38.064Z"
   },
   {
    "duration": 252,
    "start_time": "2023-03-16T16:42:38.086Z"
   },
   {
    "duration": 0,
    "start_time": "2023-03-16T16:42:38.340Z"
   },
   {
    "duration": 0,
    "start_time": "2023-03-16T16:42:38.341Z"
   },
   {
    "duration": 0,
    "start_time": "2023-03-16T16:42:38.343Z"
   },
   {
    "duration": 0,
    "start_time": "2023-03-16T16:42:38.344Z"
   },
   {
    "duration": 0,
    "start_time": "2023-03-16T16:42:38.346Z"
   },
   {
    "duration": 0,
    "start_time": "2023-03-16T16:42:38.347Z"
   },
   {
    "duration": 0,
    "start_time": "2023-03-16T16:42:38.349Z"
   },
   {
    "duration": 0,
    "start_time": "2023-03-16T16:42:38.372Z"
   },
   {
    "duration": 0,
    "start_time": "2023-03-16T16:42:38.375Z"
   },
   {
    "duration": 0,
    "start_time": "2023-03-16T16:42:38.376Z"
   },
   {
    "duration": 0,
    "start_time": "2023-03-16T16:42:38.378Z"
   },
   {
    "duration": 0,
    "start_time": "2023-03-16T16:42:38.380Z"
   },
   {
    "duration": 0,
    "start_time": "2023-03-16T16:42:38.386Z"
   },
   {
    "duration": 0,
    "start_time": "2023-03-16T16:42:38.388Z"
   },
   {
    "duration": 0,
    "start_time": "2023-03-16T16:42:38.389Z"
   },
   {
    "duration": 0,
    "start_time": "2023-03-16T16:42:38.390Z"
   },
   {
    "duration": 0,
    "start_time": "2023-03-16T16:42:38.391Z"
   },
   {
    "duration": 0,
    "start_time": "2023-03-16T16:42:38.393Z"
   },
   {
    "duration": 0,
    "start_time": "2023-03-16T16:42:38.394Z"
   },
   {
    "duration": 0,
    "start_time": "2023-03-16T16:42:38.396Z"
   },
   {
    "duration": 0,
    "start_time": "2023-03-16T16:42:38.397Z"
   },
   {
    "duration": 0,
    "start_time": "2023-03-16T16:42:38.399Z"
   },
   {
    "duration": 0,
    "start_time": "2023-03-16T16:42:38.400Z"
   },
   {
    "duration": 127,
    "start_time": "2023-03-16T16:43:19.899Z"
   },
   {
    "duration": 85,
    "start_time": "2023-03-16T16:43:30.200Z"
   },
   {
    "duration": 80,
    "start_time": "2023-03-16T16:43:33.690Z"
   },
   {
    "duration": 94,
    "start_time": "2023-03-16T16:43:39.534Z"
   },
   {
    "duration": 107,
    "start_time": "2023-03-16T16:43:41.940Z"
   },
   {
    "duration": 11884,
    "start_time": "2023-03-16T16:43:45.653Z"
   },
   {
    "duration": 35,
    "start_time": "2023-03-16T16:43:57.540Z"
   },
   {
    "duration": 32,
    "start_time": "2023-03-16T16:43:57.577Z"
   },
   {
    "duration": 27,
    "start_time": "2023-03-16T16:43:57.665Z"
   },
   {
    "duration": 74,
    "start_time": "2023-03-16T16:43:57.695Z"
   },
   {
    "duration": 222,
    "start_time": "2023-03-16T16:43:57.771Z"
   },
   {
    "duration": 74,
    "start_time": "2023-03-16T16:43:57.996Z"
   },
   {
    "duration": 34,
    "start_time": "2023-03-16T16:43:58.072Z"
   },
   {
    "duration": 308,
    "start_time": "2023-03-16T16:43:58.108Z"
   },
   {
    "duration": 20,
    "start_time": "2023-03-16T16:43:58.418Z"
   },
   {
    "duration": 141,
    "start_time": "2023-03-16T16:43:58.441Z"
   },
   {
    "duration": 21,
    "start_time": "2023-03-16T16:43:58.584Z"
   },
   {
    "duration": 134,
    "start_time": "2023-03-16T16:43:58.607Z"
   },
   {
    "duration": 20,
    "start_time": "2023-03-16T16:43:58.746Z"
   },
   {
    "duration": 13,
    "start_time": "2023-03-16T16:43:58.768Z"
   },
   {
    "duration": 22,
    "start_time": "2023-03-16T16:43:58.784Z"
   },
   {
    "duration": 10,
    "start_time": "2023-03-16T16:43:58.808Z"
   },
   {
    "duration": 48,
    "start_time": "2023-03-16T16:43:58.821Z"
   },
   {
    "duration": 12,
    "start_time": "2023-03-16T16:43:58.872Z"
   },
   {
    "duration": 39,
    "start_time": "2023-03-16T16:43:58.886Z"
   },
   {
    "duration": 314,
    "start_time": "2023-03-16T16:43:58.927Z"
   },
   {
    "duration": 774,
    "start_time": "2023-03-16T16:43:59.243Z"
   },
   {
    "duration": 8,
    "start_time": "2023-03-16T16:44:51.143Z"
   },
   {
    "duration": 72,
    "start_time": "2023-03-16T16:57:18.170Z"
   },
   {
    "duration": 29,
    "start_time": "2023-03-16T16:58:55.248Z"
   },
   {
    "duration": 75,
    "start_time": "2023-03-16T16:59:26.320Z"
   },
   {
    "duration": 76,
    "start_time": "2023-03-16T17:00:38.239Z"
   },
   {
    "duration": 2032,
    "start_time": "2023-03-17T16:18:28.857Z"
   },
   {
    "duration": 125,
    "start_time": "2023-03-17T16:18:30.891Z"
   },
   {
    "duration": 8,
    "start_time": "2023-03-17T16:18:31.018Z"
   },
   {
    "duration": 50,
    "start_time": "2023-03-17T16:18:31.028Z"
   },
   {
    "duration": 53,
    "start_time": "2023-03-17T16:18:31.081Z"
   },
   {
    "duration": 49,
    "start_time": "2023-03-17T16:18:31.136Z"
   },
   {
    "duration": 41,
    "start_time": "2023-03-17T16:18:31.187Z"
   },
   {
    "duration": 61,
    "start_time": "2023-03-17T16:18:31.230Z"
   },
   {
    "duration": 19,
    "start_time": "2023-03-17T16:18:31.293Z"
   },
   {
    "duration": 28,
    "start_time": "2023-03-17T16:18:31.315Z"
   },
   {
    "duration": 47,
    "start_time": "2023-03-17T16:18:31.344Z"
   },
   {
    "duration": 15,
    "start_time": "2023-03-17T16:18:31.393Z"
   },
   {
    "duration": 43,
    "start_time": "2023-03-17T16:18:31.410Z"
   },
   {
    "duration": 73,
    "start_time": "2023-03-17T16:18:31.455Z"
   },
   {
    "duration": 62,
    "start_time": "2023-03-17T16:18:31.530Z"
   },
   {
    "duration": 48,
    "start_time": "2023-03-17T16:18:31.594Z"
   },
   {
    "duration": 39,
    "start_time": "2023-03-17T16:18:31.644Z"
   },
   {
    "duration": 27,
    "start_time": "2023-03-17T16:18:31.685Z"
   },
   {
    "duration": 314,
    "start_time": "2023-03-17T16:18:31.714Z"
   },
   {
    "duration": 312,
    "start_time": "2023-03-17T16:18:32.030Z"
   },
   {
    "duration": 30,
    "start_time": "2023-03-17T16:18:32.345Z"
   },
   {
    "duration": 18,
    "start_time": "2023-03-17T16:18:32.377Z"
   },
   {
    "duration": 102,
    "start_time": "2023-03-17T16:18:32.397Z"
   },
   {
    "duration": 6,
    "start_time": "2023-03-17T16:21:16.899Z"
   },
   {
    "duration": 3,
    "start_time": "2023-03-17T16:21:30.872Z"
   },
   {
    "duration": 4,
    "start_time": "2023-03-17T16:21:44.935Z"
   },
   {
    "duration": 1670,
    "start_time": "2023-03-17T16:21:51.852Z"
   },
   {
    "duration": 138,
    "start_time": "2023-03-17T16:21:53.525Z"
   },
   {
    "duration": 7,
    "start_time": "2023-03-17T16:21:53.665Z"
   },
   {
    "duration": 17,
    "start_time": "2023-03-17T16:21:53.675Z"
   },
   {
    "duration": 21,
    "start_time": "2023-03-17T16:21:53.695Z"
   },
   {
    "duration": 7,
    "start_time": "2023-03-17T16:21:53.718Z"
   },
   {
    "duration": 12,
    "start_time": "2023-03-17T16:21:53.765Z"
   },
   {
    "duration": 12,
    "start_time": "2023-03-17T16:21:53.779Z"
   },
   {
    "duration": 6,
    "start_time": "2023-03-17T16:21:53.793Z"
   },
   {
    "duration": 2,
    "start_time": "2023-03-17T16:21:53.803Z"
   },
   {
    "duration": 7,
    "start_time": "2023-03-17T16:21:53.808Z"
   },
   {
    "duration": 8,
    "start_time": "2023-03-17T16:21:53.817Z"
   },
   {
    "duration": 3,
    "start_time": "2023-03-17T16:21:53.827Z"
   },
   {
    "duration": 47,
    "start_time": "2023-03-17T16:21:53.832Z"
   },
   {
    "duration": 18,
    "start_time": "2023-03-17T16:21:53.881Z"
   },
   {
    "duration": 10,
    "start_time": "2023-03-17T16:21:53.900Z"
   },
   {
    "duration": 7,
    "start_time": "2023-03-17T16:21:53.912Z"
   },
   {
    "duration": 5,
    "start_time": "2023-03-17T16:21:53.921Z"
   },
   {
    "duration": 282,
    "start_time": "2023-03-17T16:21:53.928Z"
   },
   {
    "duration": 338,
    "start_time": "2023-03-17T16:21:54.211Z"
   },
   {
    "duration": 19,
    "start_time": "2023-03-17T16:21:54.551Z"
   },
   {
    "duration": 30,
    "start_time": "2023-03-17T16:21:54.572Z"
   },
   {
    "duration": 118,
    "start_time": "2023-03-17T16:21:54.605Z"
   },
   {
    "duration": 560,
    "start_time": "2023-03-17T16:21:54.725Z"
   },
   {
    "duration": 23,
    "start_time": "2023-03-17T16:21:55.286Z"
   },
   {
    "duration": 12,
    "start_time": "2023-03-17T16:21:55.310Z"
   },
   {
    "duration": 187,
    "start_time": "2023-03-17T16:21:55.324Z"
   },
   {
    "duration": 6,
    "start_time": "2023-03-17T16:21:55.515Z"
   },
   {
    "duration": 15,
    "start_time": "2023-03-17T16:21:55.522Z"
   },
   {
    "duration": 38,
    "start_time": "2023-03-17T16:21:55.539Z"
   },
   {
    "duration": 116,
    "start_time": "2023-03-17T16:21:55.579Z"
   },
   {
    "duration": 14,
    "start_time": "2023-03-17T16:21:55.697Z"
   },
   {
    "duration": 6,
    "start_time": "2023-03-17T16:21:55.712Z"
   },
   {
    "duration": 290,
    "start_time": "2023-03-17T16:21:55.720Z"
   },
   {
    "duration": 19,
    "start_time": "2023-03-17T16:21:56.012Z"
   },
   {
    "duration": 41,
    "start_time": "2023-03-17T16:21:56.032Z"
   },
   {
    "duration": 106,
    "start_time": "2023-03-17T16:21:56.074Z"
   },
   {
    "duration": 10784,
    "start_time": "2023-03-17T16:21:56.182Z"
   },
   {
    "duration": 18,
    "start_time": "2023-03-17T16:22:06.968Z"
   },
   {
    "duration": 77,
    "start_time": "2023-03-17T16:22:06.988Z"
   },
   {
    "duration": 16,
    "start_time": "2023-03-17T16:22:07.067Z"
   },
   {
    "duration": 18,
    "start_time": "2023-03-17T16:22:07.085Z"
   },
   {
    "duration": 196,
    "start_time": "2023-03-17T16:22:07.104Z"
   },
   {
    "duration": 72,
    "start_time": "2023-03-17T16:22:07.302Z"
   },
   {
    "duration": 24,
    "start_time": "2023-03-17T16:22:07.376Z"
   },
   {
    "duration": 269,
    "start_time": "2023-03-17T16:22:07.401Z"
   },
   {
    "duration": 17,
    "start_time": "2023-03-17T16:22:07.672Z"
   },
   {
    "duration": 110,
    "start_time": "2023-03-17T16:22:07.691Z"
   },
   {
    "duration": 20,
    "start_time": "2023-03-17T16:22:07.803Z"
   },
   {
    "duration": 123,
    "start_time": "2023-03-17T16:22:07.825Z"
   },
   {
    "duration": 6,
    "start_time": "2023-03-17T16:22:07.949Z"
   },
   {
    "duration": 10,
    "start_time": "2023-03-17T16:22:07.964Z"
   },
   {
    "duration": 11,
    "start_time": "2023-03-17T16:22:07.976Z"
   },
   {
    "duration": 10,
    "start_time": "2023-03-17T16:22:07.990Z"
   },
   {
    "duration": 20,
    "start_time": "2023-03-17T16:22:08.002Z"
   },
   {
    "duration": 9,
    "start_time": "2023-03-17T16:22:08.063Z"
   },
   {
    "duration": 27,
    "start_time": "2023-03-17T16:22:08.074Z"
   },
   {
    "duration": 293,
    "start_time": "2023-03-17T16:22:08.102Z"
   },
   {
    "duration": 723,
    "start_time": "2023-03-17T16:22:08.397Z"
   },
   {
    "duration": 1867,
    "start_time": "2023-03-17T16:30:48.994Z"
   },
   {
    "duration": 168,
    "start_time": "2023-03-17T16:30:50.863Z"
   },
   {
    "duration": 8,
    "start_time": "2023-03-17T16:30:51.033Z"
   },
   {
    "duration": 37,
    "start_time": "2023-03-17T16:30:51.043Z"
   },
   {
    "duration": 24,
    "start_time": "2023-03-17T16:30:51.086Z"
   },
   {
    "duration": 8,
    "start_time": "2023-03-17T16:30:51.113Z"
   },
   {
    "duration": 21,
    "start_time": "2023-03-17T16:30:51.124Z"
   },
   {
    "duration": 29,
    "start_time": "2023-03-17T16:30:51.148Z"
   },
   {
    "duration": 17,
    "start_time": "2023-03-17T16:30:51.179Z"
   },
   {
    "duration": 10,
    "start_time": "2023-03-17T16:30:51.199Z"
   },
   {
    "duration": 9,
    "start_time": "2023-03-17T16:30:51.211Z"
   },
   {
    "duration": 10,
    "start_time": "2023-03-17T16:30:51.222Z"
   },
   {
    "duration": 4,
    "start_time": "2023-03-17T16:30:51.233Z"
   },
   {
    "duration": 21,
    "start_time": "2023-03-17T16:30:51.239Z"
   },
   {
    "duration": 36,
    "start_time": "2023-03-17T16:30:51.262Z"
   },
   {
    "duration": 18,
    "start_time": "2023-03-17T16:30:51.302Z"
   },
   {
    "duration": 13,
    "start_time": "2023-03-17T16:30:51.322Z"
   },
   {
    "duration": 14,
    "start_time": "2023-03-17T16:30:51.336Z"
   },
   {
    "duration": 301,
    "start_time": "2023-03-17T16:30:51.352Z"
   },
   {
    "duration": 352,
    "start_time": "2023-03-17T16:30:51.655Z"
   },
   {
    "duration": 11,
    "start_time": "2023-03-17T16:30:52.009Z"
   },
   {
    "duration": 24,
    "start_time": "2023-03-17T16:30:52.021Z"
   },
   {
    "duration": 106,
    "start_time": "2023-03-17T16:30:52.047Z"
   },
   {
    "duration": 606,
    "start_time": "2023-03-17T16:30:52.164Z"
   },
   {
    "duration": 34,
    "start_time": "2023-03-17T16:30:52.774Z"
   },
   {
    "duration": 59,
    "start_time": "2023-03-17T16:30:52.811Z"
   },
   {
    "duration": 283,
    "start_time": "2023-03-17T16:30:52.876Z"
   },
   {
    "duration": 0,
    "start_time": "2023-03-17T16:30:53.164Z"
   },
   {
    "duration": 0,
    "start_time": "2023-03-17T16:30:53.166Z"
   },
   {
    "duration": 0,
    "start_time": "2023-03-17T16:30:53.167Z"
   },
   {
    "duration": 0,
    "start_time": "2023-03-17T16:30:53.168Z"
   },
   {
    "duration": 0,
    "start_time": "2023-03-17T16:30:53.169Z"
   },
   {
    "duration": 0,
    "start_time": "2023-03-17T16:30:53.170Z"
   },
   {
    "duration": 0,
    "start_time": "2023-03-17T16:30:53.172Z"
   },
   {
    "duration": 1,
    "start_time": "2023-03-17T16:30:53.173Z"
   },
   {
    "duration": 0,
    "start_time": "2023-03-17T16:30:53.175Z"
   },
   {
    "duration": 0,
    "start_time": "2023-03-17T16:30:53.177Z"
   },
   {
    "duration": 0,
    "start_time": "2023-03-17T16:30:53.179Z"
   },
   {
    "duration": 1,
    "start_time": "2023-03-17T16:30:53.180Z"
   },
   {
    "duration": 0,
    "start_time": "2023-03-17T16:30:53.182Z"
   },
   {
    "duration": 0,
    "start_time": "2023-03-17T16:30:53.184Z"
   },
   {
    "duration": 0,
    "start_time": "2023-03-17T16:30:53.186Z"
   },
   {
    "duration": 0,
    "start_time": "2023-03-17T16:30:53.188Z"
   },
   {
    "duration": 0,
    "start_time": "2023-03-17T16:30:53.190Z"
   },
   {
    "duration": 0,
    "start_time": "2023-03-17T16:30:53.192Z"
   },
   {
    "duration": 0,
    "start_time": "2023-03-17T16:30:53.194Z"
   },
   {
    "duration": 0,
    "start_time": "2023-03-17T16:30:53.195Z"
   },
   {
    "duration": 0,
    "start_time": "2023-03-17T16:30:53.197Z"
   },
   {
    "duration": 0,
    "start_time": "2023-03-17T16:30:53.198Z"
   },
   {
    "duration": 0,
    "start_time": "2023-03-17T16:30:53.200Z"
   },
   {
    "duration": 0,
    "start_time": "2023-03-17T16:30:53.201Z"
   },
   {
    "duration": 0,
    "start_time": "2023-03-17T16:30:53.203Z"
   },
   {
    "duration": 0,
    "start_time": "2023-03-17T16:30:53.204Z"
   },
   {
    "duration": 0,
    "start_time": "2023-03-17T16:30:53.206Z"
   },
   {
    "duration": 0,
    "start_time": "2023-03-17T16:30:53.208Z"
   },
   {
    "duration": 0,
    "start_time": "2023-03-17T16:30:53.210Z"
   },
   {
    "duration": 0,
    "start_time": "2023-03-17T16:30:53.212Z"
   },
   {
    "duration": 0,
    "start_time": "2023-03-17T16:30:53.271Z"
   },
   {
    "duration": 0,
    "start_time": "2023-03-17T16:30:53.272Z"
   },
   {
    "duration": 27,
    "start_time": "2023-03-17T16:33:24.834Z"
   },
   {
    "duration": 28,
    "start_time": "2023-03-17T16:33:56.334Z"
   },
   {
    "duration": 37,
    "start_time": "2023-03-17T16:35:18.476Z"
   },
   {
    "duration": 60,
    "start_time": "2023-03-17T16:36:16.728Z"
   },
   {
    "duration": 105,
    "start_time": "2023-03-17T16:37:18.435Z"
   },
   {
    "duration": 93,
    "start_time": "2023-03-17T16:37:35.394Z"
   },
   {
    "duration": 95,
    "start_time": "2023-03-17T16:37:51.920Z"
   },
   {
    "duration": 109,
    "start_time": "2023-03-17T16:38:18.593Z"
   },
   {
    "duration": 95,
    "start_time": "2023-03-17T16:39:02.304Z"
   },
   {
    "duration": 1650,
    "start_time": "2023-03-17T16:39:29.091Z"
   },
   {
    "duration": 206,
    "start_time": "2023-03-17T16:39:30.743Z"
   },
   {
    "duration": 6,
    "start_time": "2023-03-17T16:39:30.951Z"
   },
   {
    "duration": 80,
    "start_time": "2023-03-17T16:39:30.959Z"
   },
   {
    "duration": 61,
    "start_time": "2023-03-17T16:39:31.041Z"
   },
   {
    "duration": 34,
    "start_time": "2023-03-17T16:39:31.104Z"
   },
   {
    "duration": 59,
    "start_time": "2023-03-17T16:39:31.140Z"
   },
   {
    "duration": 29,
    "start_time": "2023-03-17T16:39:31.201Z"
   },
   {
    "duration": 22,
    "start_time": "2023-03-17T16:39:31.232Z"
   },
   {
    "duration": 32,
    "start_time": "2023-03-17T16:39:31.257Z"
   },
   {
    "duration": 23,
    "start_time": "2023-03-17T16:39:31.292Z"
   },
   {
    "duration": 18,
    "start_time": "2023-03-17T16:39:31.316Z"
   },
   {
    "duration": 20,
    "start_time": "2023-03-17T16:39:31.336Z"
   },
   {
    "duration": 52,
    "start_time": "2023-03-17T16:39:31.358Z"
   },
   {
    "duration": 22,
    "start_time": "2023-03-17T16:39:31.412Z"
   },
   {
    "duration": 11,
    "start_time": "2023-03-17T16:39:31.436Z"
   },
   {
    "duration": 30,
    "start_time": "2023-03-17T16:39:31.449Z"
   },
   {
    "duration": 72,
    "start_time": "2023-03-17T16:39:31.481Z"
   },
   {
    "duration": 321,
    "start_time": "2023-03-17T16:39:31.555Z"
   },
   {
    "duration": 326,
    "start_time": "2023-03-17T16:39:31.882Z"
   },
   {
    "duration": 9,
    "start_time": "2023-03-17T16:39:32.209Z"
   },
   {
    "duration": 14,
    "start_time": "2023-03-17T16:39:32.221Z"
   },
   {
    "duration": 107,
    "start_time": "2023-03-17T16:39:32.237Z"
   },
   {
    "duration": 578,
    "start_time": "2023-03-17T16:39:32.347Z"
   },
   {
    "duration": 22,
    "start_time": "2023-03-17T16:39:32.928Z"
   },
   {
    "duration": 27,
    "start_time": "2023-03-17T16:39:32.952Z"
   },
   {
    "duration": 148,
    "start_time": "2023-03-17T16:39:32.981Z"
   },
   {
    "duration": 13,
    "start_time": "2023-03-17T16:39:33.165Z"
   },
   {
    "duration": 18,
    "start_time": "2023-03-17T16:39:33.180Z"
   },
   {
    "duration": 20,
    "start_time": "2023-03-17T16:39:33.199Z"
   },
   {
    "duration": 121,
    "start_time": "2023-03-17T16:39:33.221Z"
   },
   {
    "duration": 35,
    "start_time": "2023-03-17T16:39:33.344Z"
   },
   {
    "duration": 6,
    "start_time": "2023-03-17T16:39:33.381Z"
   },
   {
    "duration": 261,
    "start_time": "2023-03-17T16:39:33.876Z"
   },
   {
    "duration": 43,
    "start_time": "2023-03-17T16:39:34.140Z"
   },
   {
    "duration": 50,
    "start_time": "2023-03-17T16:39:34.187Z"
   },
   {
    "duration": 105,
    "start_time": "2023-03-17T16:39:34.239Z"
   },
   {
    "duration": 11695,
    "start_time": "2023-03-17T16:39:34.346Z"
   },
   {
    "duration": 41,
    "start_time": "2023-03-17T16:39:46.044Z"
   },
   {
    "duration": 82,
    "start_time": "2023-03-17T16:39:46.086Z"
   },
   {
    "duration": 18,
    "start_time": "2023-03-17T16:39:46.175Z"
   },
   {
    "duration": 70,
    "start_time": "2023-03-17T16:39:46.195Z"
   },
   {
    "duration": 214,
    "start_time": "2023-03-17T16:39:46.268Z"
   },
   {
    "duration": 25,
    "start_time": "2023-03-17T16:39:46.485Z"
   },
   {
    "duration": 26,
    "start_time": "2023-03-17T16:39:46.512Z"
   },
   {
    "duration": 283,
    "start_time": "2023-03-17T16:39:46.569Z"
   },
   {
    "duration": 31,
    "start_time": "2023-03-17T16:39:46.853Z"
   },
   {
    "duration": 109,
    "start_time": "2023-03-17T16:39:46.886Z"
   },
   {
    "duration": 19,
    "start_time": "2023-03-17T16:39:46.997Z"
   },
   {
    "duration": 131,
    "start_time": "2023-03-17T16:39:47.018Z"
   },
   {
    "duration": 22,
    "start_time": "2023-03-17T16:39:47.151Z"
   },
   {
    "duration": 10,
    "start_time": "2023-03-17T16:39:47.184Z"
   },
   {
    "duration": 16,
    "start_time": "2023-03-17T16:39:47.195Z"
   },
   {
    "duration": 16,
    "start_time": "2023-03-17T16:39:47.213Z"
   },
   {
    "duration": 50,
    "start_time": "2023-03-17T16:39:47.232Z"
   },
   {
    "duration": 16,
    "start_time": "2023-03-17T16:39:47.284Z"
   },
   {
    "duration": 32,
    "start_time": "2023-03-17T16:39:47.302Z"
   },
   {
    "duration": 285,
    "start_time": "2023-03-17T16:39:47.336Z"
   },
   {
    "duration": 787,
    "start_time": "2023-03-17T16:39:47.623Z"
   },
   {
    "duration": 108,
    "start_time": "2023-03-17T16:39:59.778Z"
   },
   {
    "duration": 101,
    "start_time": "2023-03-17T16:40:20.633Z"
   },
   {
    "duration": 91,
    "start_time": "2023-03-17T16:41:27.848Z"
   },
   {
    "duration": 109,
    "start_time": "2023-03-17T16:41:33.976Z"
   },
   {
    "duration": 91,
    "start_time": "2023-03-17T16:41:49.292Z"
   },
   {
    "duration": 91,
    "start_time": "2023-03-17T16:41:58.017Z"
   },
   {
    "duration": 315,
    "start_time": "2023-03-17T16:42:53.836Z"
   },
   {
    "duration": 91,
    "start_time": "2023-03-17T16:43:07.117Z"
   },
   {
    "duration": 926,
    "start_time": "2023-03-17T16:55:40.052Z"
   },
   {
    "duration": 875,
    "start_time": "2023-03-17T16:56:13.535Z"
   },
   {
    "duration": 29,
    "start_time": "2023-03-17T16:56:25.105Z"
   },
   {
    "duration": 30,
    "start_time": "2023-03-17T16:56:27.956Z"
   },
   {
    "duration": 20,
    "start_time": "2023-03-17T16:56:50.162Z"
   },
   {
    "duration": 1809,
    "start_time": "2023-03-17T16:59:18.835Z"
   },
   {
    "duration": 206,
    "start_time": "2023-03-17T16:59:20.646Z"
   },
   {
    "duration": 6,
    "start_time": "2023-03-17T16:59:20.854Z"
   },
   {
    "duration": 29,
    "start_time": "2023-03-17T16:59:20.863Z"
   },
   {
    "duration": 25,
    "start_time": "2023-03-17T16:59:20.894Z"
   },
   {
    "duration": 14,
    "start_time": "2023-03-17T16:59:20.921Z"
   },
   {
    "duration": 15,
    "start_time": "2023-03-17T16:59:20.937Z"
   },
   {
    "duration": 28,
    "start_time": "2023-03-17T16:59:20.954Z"
   },
   {
    "duration": 6,
    "start_time": "2023-03-17T16:59:20.984Z"
   },
   {
    "duration": 8,
    "start_time": "2023-03-17T16:59:20.993Z"
   },
   {
    "duration": 8,
    "start_time": "2023-03-17T16:59:21.003Z"
   },
   {
    "duration": 14,
    "start_time": "2023-03-17T16:59:21.013Z"
   },
   {
    "duration": 5,
    "start_time": "2023-03-17T16:59:21.029Z"
   },
   {
    "duration": 32,
    "start_time": "2023-03-17T16:59:21.036Z"
   },
   {
    "duration": 25,
    "start_time": "2023-03-17T16:59:21.074Z"
   },
   {
    "duration": 11,
    "start_time": "2023-03-17T16:59:21.101Z"
   },
   {
    "duration": 9,
    "start_time": "2023-03-17T16:59:21.114Z"
   },
   {
    "duration": 7,
    "start_time": "2023-03-17T16:59:21.125Z"
   },
   {
    "duration": 298,
    "start_time": "2023-03-17T16:59:21.133Z"
   },
   {
    "duration": 316,
    "start_time": "2023-03-17T16:59:21.433Z"
   },
   {
    "duration": 28,
    "start_time": "2023-03-17T16:59:21.751Z"
   },
   {
    "duration": 15,
    "start_time": "2023-03-17T16:59:21.781Z"
   },
   {
    "duration": 95,
    "start_time": "2023-03-17T16:59:21.797Z"
   },
   {
    "duration": 577,
    "start_time": "2023-03-17T16:59:21.894Z"
   },
   {
    "duration": 32,
    "start_time": "2023-03-17T16:59:22.483Z"
   },
   {
    "duration": 65,
    "start_time": "2023-03-17T16:59:22.517Z"
   },
   {
    "duration": 157,
    "start_time": "2023-03-17T16:59:22.584Z"
   },
   {
    "duration": 13,
    "start_time": "2023-03-17T16:59:22.767Z"
   },
   {
    "duration": 13,
    "start_time": "2023-03-17T16:59:22.782Z"
   },
   {
    "duration": 23,
    "start_time": "2023-03-17T16:59:22.797Z"
   },
   {
    "duration": 136,
    "start_time": "2023-03-17T16:59:22.823Z"
   },
   {
    "duration": 19,
    "start_time": "2023-03-17T16:59:22.961Z"
   },
   {
    "duration": 11,
    "start_time": "2023-03-17T16:59:22.983Z"
   },
   {
    "duration": 289,
    "start_time": "2023-03-17T16:59:22.996Z"
   },
   {
    "duration": 20,
    "start_time": "2023-03-17T16:59:23.287Z"
   },
   {
    "duration": 40,
    "start_time": "2023-03-17T16:59:23.309Z"
   },
   {
    "duration": 107,
    "start_time": "2023-03-17T16:59:23.351Z"
   },
   {
    "duration": 11989,
    "start_time": "2023-03-17T16:59:23.460Z"
   },
   {
    "duration": 36,
    "start_time": "2023-03-17T16:59:35.452Z"
   },
   {
    "duration": 87,
    "start_time": "2023-03-17T16:59:35.490Z"
   },
   {
    "duration": 28,
    "start_time": "2023-03-17T16:59:35.584Z"
   },
   {
    "duration": 89,
    "start_time": "2023-03-17T16:59:35.615Z"
   },
   {
    "duration": 501,
    "start_time": "2023-03-17T16:59:35.707Z"
   },
   {
    "duration": 0,
    "start_time": "2023-03-17T16:59:36.211Z"
   },
   {
    "duration": 0,
    "start_time": "2023-03-17T16:59:36.213Z"
   },
   {
    "duration": 0,
    "start_time": "2023-03-17T16:59:36.214Z"
   },
   {
    "duration": 0,
    "start_time": "2023-03-17T16:59:36.216Z"
   },
   {
    "duration": 0,
    "start_time": "2023-03-17T16:59:36.219Z"
   },
   {
    "duration": 0,
    "start_time": "2023-03-17T16:59:36.220Z"
   },
   {
    "duration": 0,
    "start_time": "2023-03-17T16:59:36.222Z"
   },
   {
    "duration": 0,
    "start_time": "2023-03-17T16:59:36.224Z"
   },
   {
    "duration": 1,
    "start_time": "2023-03-17T16:59:36.225Z"
   },
   {
    "duration": 0,
    "start_time": "2023-03-17T16:59:36.228Z"
   },
   {
    "duration": 0,
    "start_time": "2023-03-17T16:59:36.229Z"
   },
   {
    "duration": 0,
    "start_time": "2023-03-17T16:59:36.273Z"
   },
   {
    "duration": 0,
    "start_time": "2023-03-17T16:59:36.274Z"
   },
   {
    "duration": 0,
    "start_time": "2023-03-17T16:59:36.277Z"
   },
   {
    "duration": 0,
    "start_time": "2023-03-17T16:59:36.278Z"
   },
   {
    "duration": 0,
    "start_time": "2023-03-17T16:59:36.280Z"
   },
   {
    "duration": 113,
    "start_time": "2023-03-17T17:00:25.304Z"
   },
   {
    "duration": 64,
    "start_time": "2023-03-17T17:02:53.203Z"
   },
   {
    "duration": 97,
    "start_time": "2023-03-17T17:03:04.216Z"
   },
   {
    "duration": 1725,
    "start_time": "2023-03-17T17:03:29.685Z"
   },
   {
    "duration": 187,
    "start_time": "2023-03-17T17:03:31.413Z"
   },
   {
    "duration": 7,
    "start_time": "2023-03-17T17:03:31.602Z"
   },
   {
    "duration": 48,
    "start_time": "2023-03-17T17:03:31.611Z"
   },
   {
    "duration": 35,
    "start_time": "2023-03-17T17:03:31.662Z"
   },
   {
    "duration": 18,
    "start_time": "2023-03-17T17:03:31.699Z"
   },
   {
    "duration": 29,
    "start_time": "2023-03-17T17:03:31.719Z"
   },
   {
    "duration": 21,
    "start_time": "2023-03-17T17:03:31.749Z"
   },
   {
    "duration": 41,
    "start_time": "2023-03-17T17:03:31.772Z"
   },
   {
    "duration": 24,
    "start_time": "2023-03-17T17:03:31.815Z"
   },
   {
    "duration": 21,
    "start_time": "2023-03-17T17:03:31.842Z"
   },
   {
    "duration": 39,
    "start_time": "2023-03-17T17:03:31.866Z"
   },
   {
    "duration": 14,
    "start_time": "2023-03-17T17:03:31.907Z"
   },
   {
    "duration": 33,
    "start_time": "2023-03-17T17:03:31.926Z"
   },
   {
    "duration": 38,
    "start_time": "2023-03-17T17:03:31.961Z"
   },
   {
    "duration": 20,
    "start_time": "2023-03-17T17:03:32.001Z"
   },
   {
    "duration": 13,
    "start_time": "2023-03-17T17:03:32.022Z"
   },
   {
    "duration": 13,
    "start_time": "2023-03-17T17:03:32.037Z"
   },
   {
    "duration": 269,
    "start_time": "2023-03-17T17:03:32.052Z"
   },
   {
    "duration": 301,
    "start_time": "2023-03-17T17:03:32.323Z"
   },
   {
    "duration": 8,
    "start_time": "2023-03-17T17:03:32.626Z"
   },
   {
    "duration": 30,
    "start_time": "2023-03-17T17:03:32.636Z"
   },
   {
    "duration": 79,
    "start_time": "2023-03-17T17:03:32.668Z"
   },
   {
    "duration": 532,
    "start_time": "2023-03-17T17:03:32.764Z"
   },
   {
    "duration": 23,
    "start_time": "2023-03-17T17:03:33.298Z"
   },
   {
    "duration": 43,
    "start_time": "2023-03-17T17:03:33.322Z"
   },
   {
    "duration": 163,
    "start_time": "2023-03-17T17:03:33.367Z"
   },
   {
    "duration": 35,
    "start_time": "2023-03-17T17:03:33.532Z"
   },
   {
    "duration": 9,
    "start_time": "2023-03-17T17:03:33.569Z"
   },
   {
    "duration": 25,
    "start_time": "2023-03-17T17:03:33.579Z"
   },
   {
    "duration": 133,
    "start_time": "2023-03-17T17:03:33.606Z"
   },
   {
    "duration": 28,
    "start_time": "2023-03-17T17:03:33.741Z"
   },
   {
    "duration": 7,
    "start_time": "2023-03-17T17:03:33.771Z"
   },
   {
    "duration": 284,
    "start_time": "2023-03-17T17:03:33.779Z"
   },
   {
    "duration": 20,
    "start_time": "2023-03-17T17:03:34.065Z"
   },
   {
    "duration": 45,
    "start_time": "2023-03-17T17:03:34.088Z"
   },
   {
    "duration": 97,
    "start_time": "2023-03-17T17:03:34.134Z"
   },
   {
    "duration": 10577,
    "start_time": "2023-03-17T17:03:34.233Z"
   },
   {
    "duration": 53,
    "start_time": "2023-03-17T17:03:44.812Z"
   },
   {
    "duration": 24,
    "start_time": "2023-03-17T17:03:44.868Z"
   },
   {
    "duration": 70,
    "start_time": "2023-03-17T17:03:44.896Z"
   },
   {
    "duration": 18,
    "start_time": "2023-03-17T17:03:44.968Z"
   },
   {
    "duration": 196,
    "start_time": "2023-03-17T17:03:44.988Z"
   },
   {
    "duration": 20,
    "start_time": "2023-03-17T17:03:45.186Z"
   },
   {
    "duration": 75,
    "start_time": "2023-03-17T17:03:45.208Z"
   },
   {
    "duration": 243,
    "start_time": "2023-03-17T17:03:45.286Z"
   },
   {
    "duration": 16,
    "start_time": "2023-03-17T17:03:45.531Z"
   },
   {
    "duration": 116,
    "start_time": "2023-03-17T17:03:45.548Z"
   },
   {
    "duration": 20,
    "start_time": "2023-03-17T17:03:45.666Z"
   },
   {
    "duration": 116,
    "start_time": "2023-03-17T17:03:45.687Z"
   },
   {
    "duration": 5,
    "start_time": "2023-03-17T17:03:45.805Z"
   },
   {
    "duration": 11,
    "start_time": "2023-03-17T17:03:45.812Z"
   },
   {
    "duration": 39,
    "start_time": "2023-03-17T17:03:45.825Z"
   },
   {
    "duration": 10,
    "start_time": "2023-03-17T17:03:45.866Z"
   },
   {
    "duration": 20,
    "start_time": "2023-03-17T17:03:45.878Z"
   },
   {
    "duration": 11,
    "start_time": "2023-03-17T17:03:45.900Z"
   },
   {
    "duration": 28,
    "start_time": "2023-03-17T17:03:45.913Z"
   },
   {
    "duration": 271,
    "start_time": "2023-03-17T17:03:45.963Z"
   },
   {
    "duration": 726,
    "start_time": "2023-03-17T17:03:46.236Z"
   },
   {
    "duration": 86,
    "start_time": "2023-03-17T17:03:57.616Z"
   },
   {
    "duration": 109,
    "start_time": "2023-03-17T17:04:20.283Z"
   },
   {
    "duration": 108,
    "start_time": "2023-03-17T17:04:24.911Z"
   },
   {
    "duration": 61,
    "start_time": "2023-03-17T17:06:07.874Z"
   },
   {
    "duration": 118,
    "start_time": "2023-03-17T17:07:57.712Z"
   },
   {
    "duration": 78,
    "start_time": "2023-03-17T17:18:34.483Z"
   },
   {
    "duration": 2629,
    "start_time": "2023-03-18T12:00:21.466Z"
   },
   {
    "duration": 224,
    "start_time": "2023-03-18T12:00:24.098Z"
   },
   {
    "duration": 7,
    "start_time": "2023-03-18T12:00:24.324Z"
   },
   {
    "duration": 81,
    "start_time": "2023-03-18T12:00:24.334Z"
   },
   {
    "duration": 73,
    "start_time": "2023-03-18T12:00:24.417Z"
   },
   {
    "duration": 6,
    "start_time": "2023-03-18T12:00:24.493Z"
   },
   {
    "duration": 16,
    "start_time": "2023-03-18T12:00:24.501Z"
   },
   {
    "duration": 3,
    "start_time": "2023-03-18T12:00:24.520Z"
   },
   {
    "duration": 8,
    "start_time": "2023-03-18T12:00:24.524Z"
   },
   {
    "duration": 53,
    "start_time": "2023-03-18T12:00:24.536Z"
   },
   {
    "duration": 5,
    "start_time": "2023-03-18T12:00:24.591Z"
   },
   {
    "duration": 7,
    "start_time": "2023-03-18T12:00:24.598Z"
   },
   {
    "duration": 6,
    "start_time": "2023-03-18T12:00:24.607Z"
   },
   {
    "duration": 79,
    "start_time": "2023-03-18T12:00:24.615Z"
   },
   {
    "duration": 37,
    "start_time": "2023-03-18T12:00:24.697Z"
   },
   {
    "duration": 53,
    "start_time": "2023-03-18T12:00:24.736Z"
   },
   {
    "duration": 9,
    "start_time": "2023-03-18T12:00:24.791Z"
   },
   {
    "duration": 13,
    "start_time": "2023-03-18T12:00:24.802Z"
   },
   {
    "duration": 263,
    "start_time": "2023-03-18T12:00:24.817Z"
   },
   {
    "duration": 321,
    "start_time": "2023-03-18T12:00:25.082Z"
   },
   {
    "duration": 8,
    "start_time": "2023-03-18T12:00:25.405Z"
   },
   {
    "duration": 13,
    "start_time": "2023-03-18T12:00:25.415Z"
   },
   {
    "duration": 136,
    "start_time": "2023-03-18T12:00:25.430Z"
   },
   {
    "duration": 961,
    "start_time": "2023-03-18T12:00:25.568Z"
   },
   {
    "duration": 73,
    "start_time": "2023-03-18T12:00:26.531Z"
   },
   {
    "duration": 12,
    "start_time": "2023-03-18T12:00:26.606Z"
   },
   {
    "duration": 278,
    "start_time": "2023-03-18T12:00:26.620Z"
   },
   {
    "duration": 6,
    "start_time": "2023-03-18T12:00:26.903Z"
   },
   {
    "duration": 13,
    "start_time": "2023-03-18T12:00:26.911Z"
   },
   {
    "duration": 80,
    "start_time": "2023-03-18T12:00:26.926Z"
   },
   {
    "duration": 208,
    "start_time": "2023-03-18T12:00:27.007Z"
   },
   {
    "duration": 17,
    "start_time": "2023-03-18T12:00:27.217Z"
   },
   {
    "duration": 9,
    "start_time": "2023-03-18T12:00:27.288Z"
   },
   {
    "duration": 623,
    "start_time": "2023-03-18T12:00:27.299Z"
   },
   {
    "duration": 69,
    "start_time": "2023-03-18T12:00:27.924Z"
   },
   {
    "duration": 146,
    "start_time": "2023-03-18T12:00:27.996Z"
   },
   {
    "duration": 127,
    "start_time": "2023-03-18T12:00:28.144Z"
   },
   {
    "duration": 10357,
    "start_time": "2023-03-18T12:00:28.273Z"
   },
   {
    "duration": 59,
    "start_time": "2023-03-18T12:00:38.632Z"
   },
   {
    "duration": 29,
    "start_time": "2023-03-18T12:00:38.693Z"
   },
   {
    "duration": 66,
    "start_time": "2023-03-18T12:00:38.725Z"
   },
   {
    "duration": 17,
    "start_time": "2023-03-18T12:00:38.793Z"
   },
   {
    "duration": 191,
    "start_time": "2023-03-18T12:00:38.812Z"
   },
   {
    "duration": 18,
    "start_time": "2023-03-18T12:00:39.005Z"
   },
   {
    "duration": 75,
    "start_time": "2023-03-18T12:00:39.025Z"
   },
   {
    "duration": 278,
    "start_time": "2023-03-18T12:00:39.102Z"
   },
   {
    "duration": 16,
    "start_time": "2023-03-18T12:00:39.388Z"
   },
   {
    "duration": 102,
    "start_time": "2023-03-18T12:00:39.406Z"
   },
   {
    "duration": 25,
    "start_time": "2023-03-18T12:00:39.510Z"
   },
   {
    "duration": 133,
    "start_time": "2023-03-18T12:00:39.538Z"
   },
   {
    "duration": 16,
    "start_time": "2023-03-18T12:00:39.673Z"
   },
   {
    "duration": 10,
    "start_time": "2023-03-18T12:00:39.691Z"
   },
   {
    "duration": 14,
    "start_time": "2023-03-18T12:00:39.703Z"
   },
   {
    "duration": 14,
    "start_time": "2023-03-18T12:00:39.719Z"
   },
   {
    "duration": 57,
    "start_time": "2023-03-18T12:00:39.735Z"
   },
   {
    "duration": 12,
    "start_time": "2023-03-18T12:00:39.797Z"
   },
   {
    "duration": 107,
    "start_time": "2023-03-18T12:00:39.811Z"
   },
   {
    "duration": 25,
    "start_time": "2023-03-18T12:00:39.920Z"
   },
   {
    "duration": 293,
    "start_time": "2023-03-18T12:00:39.947Z"
   },
   {
    "duration": 699,
    "start_time": "2023-03-18T12:00:40.242Z"
   },
   {
    "duration": 52,
    "start_time": "2023-03-18T12:02:14.730Z"
   }
  ],
  "kernelspec": {
   "display_name": "Python 3 (ipykernel)",
   "language": "python",
   "name": "python3"
  },
  "language_info": {
   "codemirror_mode": {
    "name": "ipython",
    "version": 3
   },
   "file_extension": ".py",
   "mimetype": "text/x-python",
   "name": "python",
   "nbconvert_exporter": "python",
   "pygments_lexer": "ipython3",
   "version": "3.11.3"
  },
  "toc": {
   "base_numbering": 1,
   "nav_menu": {},
   "number_sections": true,
   "sideBar": true,
   "skip_h1_title": true,
   "title_cell": "Table of Contents",
   "title_sidebar": "Contents",
   "toc_cell": false,
   "toc_position": {},
   "toc_section_display": true,
   "toc_window_display": false
  }
 },
 "nbformat": 4,
 "nbformat_minor": 5
}
