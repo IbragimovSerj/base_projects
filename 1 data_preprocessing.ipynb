{
 "cells": [
  {
   "cell_type": "markdown",
   "id": "c81daeeb",
   "metadata": {
    "deletable": false,
    "id": "c81daeeb"
   },
   "source": [
    "# Исследование надежности заемщиков\n"
   ]
  },
  {
   "cell_type": "markdown",
   "id": "827c20bf",
   "metadata": {
    "id": "827c20bf"
   },
   "source": [
    "Во второй части проекта вы выполните шаги 3 и 4. Их вручную проверит ревьюер.\n",
    "Чтобы вам не пришлось писать код заново для шагов 1 и 2, мы добавили авторские решения в ячейки с кодом. \n",
    "\n"
   ]
  },
  {
   "cell_type": "markdown",
   "id": "744d7639",
   "metadata": {
    "deletable": false,
    "id": "744d7639"
   },
   "source": [
    "## Откройте таблицу и изучите общую информацию о данных"
   ]
  },
  {
   "cell_type": "markdown",
   "id": "e7a14c31",
   "metadata": {
    "deletable": false,
    "id": "e7a14c31"
   },
   "source": [
    "**Задание 1. Импортируйте библиотеку pandas. Считайте данные из csv-файла в датафрейм и сохраните в переменную `data`. Путь к файлу:**\n",
    "\n",
    "`/datasets/data.csv`"
   ]
  },
  {
   "cell_type": "code",
   "execution_count": 1,
   "id": "7bcf75c9",
   "metadata": {
    "deletable": false,
    "id": "7bcf75c9"
   },
   "outputs": [],
   "source": [
    "import pandas as pd\n",
    "\n",
    "try:\n",
    "    data = pd.read_csv('/datasets/data.csv')    \n",
    "except:\n",
    "    data = pd.read_csv('https://code.s3.yandex.net/datasets/data.csv')"
   ]
  },
  {
   "cell_type": "markdown",
   "id": "b8038fe3",
   "metadata": {
    "deletable": false,
    "id": "b8038fe3"
   },
   "source": [
    "**Задание 2. Выведите первые 20 строчек датафрейма `data` на экран.**"
   ]
  },
  {
   "cell_type": "code",
   "execution_count": 2,
   "id": "2a7cab99",
   "metadata": {
    "deletable": false,
    "id": "2a7cab99",
    "outputId": "1a8f3ef2-d323-4ec2-ddf7-89670b5944c4"
   },
   "outputs": [
    {
     "data": {
      "text/html": [
       "<div>\n",
       "<style scoped>\n",
       "    .dataframe tbody tr th:only-of-type {\n",
       "        vertical-align: middle;\n",
       "    }\n",
       "\n",
       "    .dataframe tbody tr th {\n",
       "        vertical-align: top;\n",
       "    }\n",
       "\n",
       "    .dataframe thead th {\n",
       "        text-align: right;\n",
       "    }\n",
       "</style>\n",
       "<table border=\"1\" class=\"dataframe\">\n",
       "  <thead>\n",
       "    <tr style=\"text-align: right;\">\n",
       "      <th></th>\n",
       "      <th>children</th>\n",
       "      <th>days_employed</th>\n",
       "      <th>dob_years</th>\n",
       "      <th>education</th>\n",
       "      <th>education_id</th>\n",
       "      <th>family_status</th>\n",
       "      <th>family_status_id</th>\n",
       "      <th>gender</th>\n",
       "      <th>income_type</th>\n",
       "      <th>debt</th>\n",
       "      <th>total_income</th>\n",
       "      <th>purpose</th>\n",
       "    </tr>\n",
       "  </thead>\n",
       "  <tbody>\n",
       "    <tr>\n",
       "      <th>0</th>\n",
       "      <td>1</td>\n",
       "      <td>-8437.673028</td>\n",
       "      <td>42</td>\n",
       "      <td>высшее</td>\n",
       "      <td>0</td>\n",
       "      <td>женат / замужем</td>\n",
       "      <td>0</td>\n",
       "      <td>F</td>\n",
       "      <td>сотрудник</td>\n",
       "      <td>0</td>\n",
       "      <td>253875.639453</td>\n",
       "      <td>покупка жилья</td>\n",
       "    </tr>\n",
       "    <tr>\n",
       "      <th>1</th>\n",
       "      <td>1</td>\n",
       "      <td>-4024.803754</td>\n",
       "      <td>36</td>\n",
       "      <td>среднее</td>\n",
       "      <td>1</td>\n",
       "      <td>женат / замужем</td>\n",
       "      <td>0</td>\n",
       "      <td>F</td>\n",
       "      <td>сотрудник</td>\n",
       "      <td>0</td>\n",
       "      <td>112080.014102</td>\n",
       "      <td>приобретение автомобиля</td>\n",
       "    </tr>\n",
       "    <tr>\n",
       "      <th>2</th>\n",
       "      <td>0</td>\n",
       "      <td>-5623.422610</td>\n",
       "      <td>33</td>\n",
       "      <td>Среднее</td>\n",
       "      <td>1</td>\n",
       "      <td>женат / замужем</td>\n",
       "      <td>0</td>\n",
       "      <td>M</td>\n",
       "      <td>сотрудник</td>\n",
       "      <td>0</td>\n",
       "      <td>145885.952297</td>\n",
       "      <td>покупка жилья</td>\n",
       "    </tr>\n",
       "    <tr>\n",
       "      <th>3</th>\n",
       "      <td>3</td>\n",
       "      <td>-4124.747207</td>\n",
       "      <td>32</td>\n",
       "      <td>среднее</td>\n",
       "      <td>1</td>\n",
       "      <td>женат / замужем</td>\n",
       "      <td>0</td>\n",
       "      <td>M</td>\n",
       "      <td>сотрудник</td>\n",
       "      <td>0</td>\n",
       "      <td>267628.550329</td>\n",
       "      <td>дополнительное образование</td>\n",
       "    </tr>\n",
       "    <tr>\n",
       "      <th>4</th>\n",
       "      <td>0</td>\n",
       "      <td>340266.072047</td>\n",
       "      <td>53</td>\n",
       "      <td>среднее</td>\n",
       "      <td>1</td>\n",
       "      <td>гражданский брак</td>\n",
       "      <td>1</td>\n",
       "      <td>F</td>\n",
       "      <td>пенсионер</td>\n",
       "      <td>0</td>\n",
       "      <td>158616.077870</td>\n",
       "      <td>сыграть свадьбу</td>\n",
       "    </tr>\n",
       "    <tr>\n",
       "      <th>5</th>\n",
       "      <td>0</td>\n",
       "      <td>-926.185831</td>\n",
       "      <td>27</td>\n",
       "      <td>высшее</td>\n",
       "      <td>0</td>\n",
       "      <td>гражданский брак</td>\n",
       "      <td>1</td>\n",
       "      <td>M</td>\n",
       "      <td>компаньон</td>\n",
       "      <td>0</td>\n",
       "      <td>255763.565419</td>\n",
       "      <td>покупка жилья</td>\n",
       "    </tr>\n",
       "    <tr>\n",
       "      <th>6</th>\n",
       "      <td>0</td>\n",
       "      <td>-2879.202052</td>\n",
       "      <td>43</td>\n",
       "      <td>высшее</td>\n",
       "      <td>0</td>\n",
       "      <td>женат / замужем</td>\n",
       "      <td>0</td>\n",
       "      <td>F</td>\n",
       "      <td>компаньон</td>\n",
       "      <td>0</td>\n",
       "      <td>240525.971920</td>\n",
       "      <td>операции с жильем</td>\n",
       "    </tr>\n",
       "    <tr>\n",
       "      <th>7</th>\n",
       "      <td>0</td>\n",
       "      <td>-152.779569</td>\n",
       "      <td>50</td>\n",
       "      <td>СРЕДНЕЕ</td>\n",
       "      <td>1</td>\n",
       "      <td>женат / замужем</td>\n",
       "      <td>0</td>\n",
       "      <td>M</td>\n",
       "      <td>сотрудник</td>\n",
       "      <td>0</td>\n",
       "      <td>135823.934197</td>\n",
       "      <td>образование</td>\n",
       "    </tr>\n",
       "    <tr>\n",
       "      <th>8</th>\n",
       "      <td>2</td>\n",
       "      <td>-6929.865299</td>\n",
       "      <td>35</td>\n",
       "      <td>ВЫСШЕЕ</td>\n",
       "      <td>0</td>\n",
       "      <td>гражданский брак</td>\n",
       "      <td>1</td>\n",
       "      <td>F</td>\n",
       "      <td>сотрудник</td>\n",
       "      <td>0</td>\n",
       "      <td>95856.832424</td>\n",
       "      <td>на проведение свадьбы</td>\n",
       "    </tr>\n",
       "    <tr>\n",
       "      <th>9</th>\n",
       "      <td>0</td>\n",
       "      <td>-2188.756445</td>\n",
       "      <td>41</td>\n",
       "      <td>среднее</td>\n",
       "      <td>1</td>\n",
       "      <td>женат / замужем</td>\n",
       "      <td>0</td>\n",
       "      <td>M</td>\n",
       "      <td>сотрудник</td>\n",
       "      <td>0</td>\n",
       "      <td>144425.938277</td>\n",
       "      <td>покупка жилья для семьи</td>\n",
       "    </tr>\n",
       "    <tr>\n",
       "      <th>10</th>\n",
       "      <td>2</td>\n",
       "      <td>-4171.483647</td>\n",
       "      <td>36</td>\n",
       "      <td>высшее</td>\n",
       "      <td>0</td>\n",
       "      <td>женат / замужем</td>\n",
       "      <td>0</td>\n",
       "      <td>M</td>\n",
       "      <td>компаньон</td>\n",
       "      <td>0</td>\n",
       "      <td>113943.491460</td>\n",
       "      <td>покупка недвижимости</td>\n",
       "    </tr>\n",
       "    <tr>\n",
       "      <th>11</th>\n",
       "      <td>0</td>\n",
       "      <td>-792.701887</td>\n",
       "      <td>40</td>\n",
       "      <td>среднее</td>\n",
       "      <td>1</td>\n",
       "      <td>женат / замужем</td>\n",
       "      <td>0</td>\n",
       "      <td>F</td>\n",
       "      <td>сотрудник</td>\n",
       "      <td>0</td>\n",
       "      <td>77069.234271</td>\n",
       "      <td>покупка коммерческой недвижимости</td>\n",
       "    </tr>\n",
       "    <tr>\n",
       "      <th>12</th>\n",
       "      <td>0</td>\n",
       "      <td>NaN</td>\n",
       "      <td>65</td>\n",
       "      <td>среднее</td>\n",
       "      <td>1</td>\n",
       "      <td>гражданский брак</td>\n",
       "      <td>1</td>\n",
       "      <td>M</td>\n",
       "      <td>пенсионер</td>\n",
       "      <td>0</td>\n",
       "      <td>NaN</td>\n",
       "      <td>сыграть свадьбу</td>\n",
       "    </tr>\n",
       "    <tr>\n",
       "      <th>13</th>\n",
       "      <td>0</td>\n",
       "      <td>-1846.641941</td>\n",
       "      <td>54</td>\n",
       "      <td>неоконченное высшее</td>\n",
       "      <td>2</td>\n",
       "      <td>женат / замужем</td>\n",
       "      <td>0</td>\n",
       "      <td>F</td>\n",
       "      <td>сотрудник</td>\n",
       "      <td>0</td>\n",
       "      <td>130458.228857</td>\n",
       "      <td>приобретение автомобиля</td>\n",
       "    </tr>\n",
       "    <tr>\n",
       "      <th>14</th>\n",
       "      <td>0</td>\n",
       "      <td>-1844.956182</td>\n",
       "      <td>56</td>\n",
       "      <td>высшее</td>\n",
       "      <td>0</td>\n",
       "      <td>гражданский брак</td>\n",
       "      <td>1</td>\n",
       "      <td>F</td>\n",
       "      <td>компаньон</td>\n",
       "      <td>1</td>\n",
       "      <td>165127.911772</td>\n",
       "      <td>покупка жилой недвижимости</td>\n",
       "    </tr>\n",
       "    <tr>\n",
       "      <th>15</th>\n",
       "      <td>1</td>\n",
       "      <td>-972.364419</td>\n",
       "      <td>26</td>\n",
       "      <td>среднее</td>\n",
       "      <td>1</td>\n",
       "      <td>женат / замужем</td>\n",
       "      <td>0</td>\n",
       "      <td>F</td>\n",
       "      <td>сотрудник</td>\n",
       "      <td>0</td>\n",
       "      <td>116820.904450</td>\n",
       "      <td>строительство собственной недвижимости</td>\n",
       "    </tr>\n",
       "    <tr>\n",
       "      <th>16</th>\n",
       "      <td>0</td>\n",
       "      <td>-1719.934226</td>\n",
       "      <td>35</td>\n",
       "      <td>среднее</td>\n",
       "      <td>1</td>\n",
       "      <td>женат / замужем</td>\n",
       "      <td>0</td>\n",
       "      <td>F</td>\n",
       "      <td>сотрудник</td>\n",
       "      <td>0</td>\n",
       "      <td>289202.704229</td>\n",
       "      <td>недвижимость</td>\n",
       "    </tr>\n",
       "    <tr>\n",
       "      <th>17</th>\n",
       "      <td>0</td>\n",
       "      <td>-2369.999720</td>\n",
       "      <td>33</td>\n",
       "      <td>высшее</td>\n",
       "      <td>0</td>\n",
       "      <td>гражданский брак</td>\n",
       "      <td>1</td>\n",
       "      <td>M</td>\n",
       "      <td>сотрудник</td>\n",
       "      <td>0</td>\n",
       "      <td>90410.586745</td>\n",
       "      <td>строительство недвижимости</td>\n",
       "    </tr>\n",
       "    <tr>\n",
       "      <th>18</th>\n",
       "      <td>0</td>\n",
       "      <td>400281.136913</td>\n",
       "      <td>53</td>\n",
       "      <td>среднее</td>\n",
       "      <td>1</td>\n",
       "      <td>вдовец / вдова</td>\n",
       "      <td>2</td>\n",
       "      <td>F</td>\n",
       "      <td>пенсионер</td>\n",
       "      <td>0</td>\n",
       "      <td>56823.777243</td>\n",
       "      <td>на покупку подержанного автомобиля</td>\n",
       "    </tr>\n",
       "    <tr>\n",
       "      <th>19</th>\n",
       "      <td>0</td>\n",
       "      <td>-10038.818549</td>\n",
       "      <td>48</td>\n",
       "      <td>СРЕДНЕЕ</td>\n",
       "      <td>1</td>\n",
       "      <td>в разводе</td>\n",
       "      <td>3</td>\n",
       "      <td>F</td>\n",
       "      <td>сотрудник</td>\n",
       "      <td>0</td>\n",
       "      <td>242831.107982</td>\n",
       "      <td>на покупку своего автомобиля</td>\n",
       "    </tr>\n",
       "  </tbody>\n",
       "</table>\n",
       "</div>"
      ],
      "text/plain": [
       "    children  days_employed  dob_years            education  education_id   \n",
       "0          1   -8437.673028         42               высшее             0  \\\n",
       "1          1   -4024.803754         36              среднее             1   \n",
       "2          0   -5623.422610         33              Среднее             1   \n",
       "3          3   -4124.747207         32              среднее             1   \n",
       "4          0  340266.072047         53              среднее             1   \n",
       "5          0    -926.185831         27               высшее             0   \n",
       "6          0   -2879.202052         43               высшее             0   \n",
       "7          0    -152.779569         50              СРЕДНЕЕ             1   \n",
       "8          2   -6929.865299         35               ВЫСШЕЕ             0   \n",
       "9          0   -2188.756445         41              среднее             1   \n",
       "10         2   -4171.483647         36               высшее             0   \n",
       "11         0    -792.701887         40              среднее             1   \n",
       "12         0            NaN         65              среднее             1   \n",
       "13         0   -1846.641941         54  неоконченное высшее             2   \n",
       "14         0   -1844.956182         56               высшее             0   \n",
       "15         1    -972.364419         26              среднее             1   \n",
       "16         0   -1719.934226         35              среднее             1   \n",
       "17         0   -2369.999720         33               высшее             0   \n",
       "18         0  400281.136913         53              среднее             1   \n",
       "19         0  -10038.818549         48              СРЕДНЕЕ             1   \n",
       "\n",
       "       family_status  family_status_id gender income_type  debt   \n",
       "0    женат / замужем                 0      F   сотрудник     0  \\\n",
       "1    женат / замужем                 0      F   сотрудник     0   \n",
       "2    женат / замужем                 0      M   сотрудник     0   \n",
       "3    женат / замужем                 0      M   сотрудник     0   \n",
       "4   гражданский брак                 1      F   пенсионер     0   \n",
       "5   гражданский брак                 1      M   компаньон     0   \n",
       "6    женат / замужем                 0      F   компаньон     0   \n",
       "7    женат / замужем                 0      M   сотрудник     0   \n",
       "8   гражданский брак                 1      F   сотрудник     0   \n",
       "9    женат / замужем                 0      M   сотрудник     0   \n",
       "10   женат / замужем                 0      M   компаньон     0   \n",
       "11   женат / замужем                 0      F   сотрудник     0   \n",
       "12  гражданский брак                 1      M   пенсионер     0   \n",
       "13   женат / замужем                 0      F   сотрудник     0   \n",
       "14  гражданский брак                 1      F   компаньон     1   \n",
       "15   женат / замужем                 0      F   сотрудник     0   \n",
       "16   женат / замужем                 0      F   сотрудник     0   \n",
       "17  гражданский брак                 1      M   сотрудник     0   \n",
       "18    вдовец / вдова                 2      F   пенсионер     0   \n",
       "19         в разводе                 3      F   сотрудник     0   \n",
       "\n",
       "     total_income                                 purpose  \n",
       "0   253875.639453                           покупка жилья  \n",
       "1   112080.014102                 приобретение автомобиля  \n",
       "2   145885.952297                           покупка жилья  \n",
       "3   267628.550329              дополнительное образование  \n",
       "4   158616.077870                         сыграть свадьбу  \n",
       "5   255763.565419                           покупка жилья  \n",
       "6   240525.971920                       операции с жильем  \n",
       "7   135823.934197                             образование  \n",
       "8    95856.832424                   на проведение свадьбы  \n",
       "9   144425.938277                 покупка жилья для семьи  \n",
       "10  113943.491460                    покупка недвижимости  \n",
       "11   77069.234271       покупка коммерческой недвижимости  \n",
       "12            NaN                         сыграть свадьбу  \n",
       "13  130458.228857                 приобретение автомобиля  \n",
       "14  165127.911772              покупка жилой недвижимости  \n",
       "15  116820.904450  строительство собственной недвижимости  \n",
       "16  289202.704229                            недвижимость  \n",
       "17   90410.586745              строительство недвижимости  \n",
       "18   56823.777243      на покупку подержанного автомобиля  \n",
       "19  242831.107982            на покупку своего автомобиля  "
      ]
     },
     "execution_count": 2,
     "metadata": {},
     "output_type": "execute_result"
    }
   ],
   "source": [
    "data.head(20)"
   ]
  },
  {
   "cell_type": "markdown",
   "id": "1c12e233",
   "metadata": {
    "deletable": false,
    "id": "1c12e233"
   },
   "source": [
    "**Задание 3. Выведите основную информацию о датафрейме с помощью метода `info()`.**"
   ]
  },
  {
   "cell_type": "code",
   "execution_count": 3,
   "id": "2b757bca",
   "metadata": {
    "deletable": false,
    "id": "2b757bca",
    "outputId": "15376089-8dad-46c9-b520-c05248d43158"
   },
   "outputs": [
    {
     "name": "stdout",
     "output_type": "stream",
     "text": [
      "<class 'pandas.core.frame.DataFrame'>\n",
      "RangeIndex: 21525 entries, 0 to 21524\n",
      "Data columns (total 12 columns):\n",
      " #   Column            Non-Null Count  Dtype  \n",
      "---  ------            --------------  -----  \n",
      " 0   children          21525 non-null  int64  \n",
      " 1   days_employed     19351 non-null  float64\n",
      " 2   dob_years         21525 non-null  int64  \n",
      " 3   education         21525 non-null  object \n",
      " 4   education_id      21525 non-null  int64  \n",
      " 5   family_status     21525 non-null  object \n",
      " 6   family_status_id  21525 non-null  int64  \n",
      " 7   gender            21525 non-null  object \n",
      " 8   income_type       21525 non-null  object \n",
      " 9   debt              21525 non-null  int64  \n",
      " 10  total_income      19351 non-null  float64\n",
      " 11  purpose           21525 non-null  object \n",
      "dtypes: float64(2), int64(5), object(5)\n",
      "memory usage: 2.0+ MB\n"
     ]
    }
   ],
   "source": [
    "data.info()"
   ]
  },
  {
   "cell_type": "markdown",
   "id": "333ec665",
   "metadata": {
    "deletable": false,
    "id": "333ec665"
   },
   "source": [
    "## Предобработка данных"
   ]
  },
  {
   "cell_type": "markdown",
   "id": "02d92d53",
   "metadata": {
    "deletable": false,
    "id": "02d92d53"
   },
   "source": [
    "### Удаление пропусков"
   ]
  },
  {
   "cell_type": "markdown",
   "id": "cd84967c",
   "metadata": {
    "deletable": false,
    "id": "cd84967c"
   },
   "source": [
    "**Задание 4. Выведите количество пропущенных значений для каждого столбца. Используйте комбинацию двух методов.**"
   ]
  },
  {
   "cell_type": "code",
   "execution_count": 4,
   "id": "7f9b2309",
   "metadata": {
    "deletable": false,
    "id": "7f9b2309",
    "outputId": "81f4d817-781c-465c-ed15-91ce4446810d"
   },
   "outputs": [
    {
     "data": {
      "text/plain": [
       "children               0\n",
       "days_employed       2174\n",
       "dob_years              0\n",
       "education              0\n",
       "education_id           0\n",
       "family_status          0\n",
       "family_status_id       0\n",
       "gender                 0\n",
       "income_type            0\n",
       "debt                   0\n",
       "total_income        2174\n",
       "purpose                0\n",
       "dtype: int64"
      ]
     },
     "execution_count": 4,
     "metadata": {},
     "output_type": "execute_result"
    }
   ],
   "source": [
    "data.isna().sum()"
   ]
  },
  {
   "cell_type": "markdown",
   "id": "db86e27b",
   "metadata": {
    "deletable": false,
    "id": "db86e27b"
   },
   "source": [
    "**Задание 5. В двух столбцах есть пропущенные значения. Один из них — `days_employed`. Пропуски в этом столбце вы обработаете на следующем этапе. Другой столбец с пропущенными значениями — `total_income` — хранит данные о доходах. На сумму дохода сильнее всего влияет тип занятости, поэтому заполнить пропуски в этом столбце нужно медианным значением по каждому типу из столбца `income_type`. Например, у человека с типом занятости `сотрудник` пропуск в столбце `total_income` должен быть заполнен медианным доходом среди всех записей с тем же типом.**"
   ]
  },
  {
   "cell_type": "code",
   "execution_count": 5,
   "id": "42006a93",
   "metadata": {
    "deletable": false,
    "id": "42006a93"
   },
   "outputs": [],
   "source": [
    "for t in data['income_type'].unique():\n",
    "    data.loc[(data['income_type'] == t) & (data['total_income'].isna()), 'total_income'] = \\\n",
    "    data.loc[(data['income_type'] == t), 'total_income'].median()"
   ]
  },
  {
   "cell_type": "markdown",
   "id": "89da5ece",
   "metadata": {
    "deletable": false,
    "id": "89da5ece"
   },
   "source": [
    "### Обработка аномальных значений"
   ]
  },
  {
   "cell_type": "markdown",
   "id": "57964554",
   "metadata": {
    "deletable": false,
    "id": "57964554"
   },
   "source": [
    "**Задание 6. В данных могут встречаться артефакты (аномалии) — значения, которые не отражают действительность и появились по какой-то ошибке. таким артефактом будет отрицательное количество дней трудового стажа в столбце `days_employed`. Для реальных данных это нормально. Обработайте значения в этом столбце: замените все отрицательные значения положительными с помощью метода `abs()`.**"
   ]
  },
  {
   "cell_type": "code",
   "execution_count": 6,
   "id": "f6f055bf",
   "metadata": {
    "deletable": false,
    "id": "f6f055bf"
   },
   "outputs": [],
   "source": [
    "data['days_employed'] = data['days_employed'].abs()"
   ]
  },
  {
   "cell_type": "markdown",
   "id": "6107dd2f",
   "metadata": {
    "deletable": false,
    "id": "6107dd2f"
   },
   "source": [
    "**Задание 7. Для каждого типа занятости выведите медианное значение трудового стажа `days_employed` в днях.**"
   ]
  },
  {
   "cell_type": "code",
   "execution_count": 7,
   "id": "85a5faf6",
   "metadata": {
    "deletable": false,
    "id": "85a5faf6",
    "outputId": "801ef80e-522b-4668-f34e-565af7432bcf"
   },
   "outputs": [
    {
     "data": {
      "text/plain": [
       "income_type\n",
       "безработный        366413.652744\n",
       "в декрете            3296.759962\n",
       "госслужащий          2689.368353\n",
       "компаньон            1547.382223\n",
       "пенсионер          365213.306266\n",
       "предприниматель       520.848083\n",
       "сотрудник            1574.202821\n",
       "студент               578.751554\n",
       "Name: days_employed, dtype: float64"
      ]
     },
     "execution_count": 7,
     "metadata": {},
     "output_type": "execute_result"
    }
   ],
   "source": [
    "data.groupby('income_type')['days_employed'].agg('median')"
   ]
  },
  {
   "cell_type": "markdown",
   "id": "38d1a030",
   "metadata": {
    "deletable": false,
    "id": "38d1a030"
   },
   "source": [
    "У двух типов (безработные и пенсионеры) получатся аномально большие значения. Исправить такие значения сложно, поэтому оставьте их как есть. Тем более этот столбец не понадобится вам для исследования."
   ]
  },
  {
   "cell_type": "markdown",
   "id": "d8a9f147",
   "metadata": {
    "deletable": false,
    "id": "d8a9f147"
   },
   "source": [
    "**Задание 8. Выведите перечень уникальных значений столбца `children`.**"
   ]
  },
  {
   "cell_type": "code",
   "execution_count": 8,
   "id": "ef5056eb",
   "metadata": {
    "deletable": false,
    "id": "ef5056eb",
    "outputId": "6975b15c-7f95-4697-d16d-a0c79b657b03"
   },
   "outputs": [
    {
     "data": {
      "text/plain": [
       "array([ 1,  0,  3,  2, -1,  4, 20,  5], dtype=int64)"
      ]
     },
     "execution_count": 8,
     "metadata": {},
     "output_type": "execute_result"
    }
   ],
   "source": [
    "data['children'].unique()"
   ]
  },
  {
   "cell_type": "markdown",
   "id": "40b9ebf2",
   "metadata": {
    "deletable": false,
    "id": "40b9ebf2"
   },
   "source": [
    "**Задание 9. В столбце `children` есть два аномальных значения. Удалите строки, в которых встречаются такие аномальные значения из датафрейма `data`.**"
   ]
  },
  {
   "cell_type": "code",
   "execution_count": 9,
   "id": "3ff9801d",
   "metadata": {
    "deletable": false,
    "id": "3ff9801d"
   },
   "outputs": [],
   "source": [
    "data = data[(data['children'] != -1) & (data['children'] != 20)]"
   ]
  },
  {
   "cell_type": "markdown",
   "id": "bbc4d0ce",
   "metadata": {
    "deletable": false,
    "id": "bbc4d0ce"
   },
   "source": [
    "**Задание 10. Ещё раз выведите перечень уникальных значений столбца `children`, чтобы убедиться, что артефакты удалены.**"
   ]
  },
  {
   "cell_type": "code",
   "execution_count": 10,
   "id": "ad4fa8b7",
   "metadata": {
    "deletable": false,
    "id": "ad4fa8b7",
    "outputId": "b2097101-d49d-44d9-901b-32a65c9463d1"
   },
   "outputs": [
    {
     "data": {
      "text/plain": [
       "array([1, 0, 3, 2, 4, 5], dtype=int64)"
      ]
     },
     "execution_count": 10,
     "metadata": {},
     "output_type": "execute_result"
    }
   ],
   "source": [
    "data['children'].unique()"
   ]
  },
  {
   "cell_type": "markdown",
   "id": "75440b63",
   "metadata": {
    "deletable": false,
    "id": "75440b63"
   },
   "source": [
    "### Удаление пропусков (продолжение)"
   ]
  },
  {
   "cell_type": "markdown",
   "id": "f4ea573f",
   "metadata": {
    "deletable": false,
    "id": "f4ea573f"
   },
   "source": [
    "**Задание 11. Заполните пропуски в столбце `days_employed` медианными значениями по каждого типа занятости `income_type`.**"
   ]
  },
  {
   "cell_type": "code",
   "execution_count": 11,
   "id": "af6b1a7e",
   "metadata": {
    "deletable": false,
    "id": "af6b1a7e"
   },
   "outputs": [],
   "source": [
    "for t in data['income_type'].unique():\n",
    "    data.loc[(data['income_type'] == t) & (data['days_employed'].isna()), 'days_employed'] = \\\n",
    "    data.loc[(data['income_type'] == t), 'days_employed'].median()"
   ]
  },
  {
   "cell_type": "markdown",
   "id": "2753f40d",
   "metadata": {
    "deletable": false,
    "id": "2753f40d"
   },
   "source": [
    "**Задание 12. Убедитесь, что все пропуски заполнены. Проверьте себя и ещё раз выведите количество пропущенных значений для каждого столбца с помощью двух методов.**"
   ]
  },
  {
   "cell_type": "code",
   "execution_count": 12,
   "id": "55f78bc2",
   "metadata": {
    "deletable": false,
    "id": "55f78bc2",
    "outputId": "8da1e4e1-358e-4e87-98c9-f261bce0a7b2"
   },
   "outputs": [
    {
     "data": {
      "text/plain": [
       "children            0\n",
       "days_employed       0\n",
       "dob_years           0\n",
       "education           0\n",
       "education_id        0\n",
       "family_status       0\n",
       "family_status_id    0\n",
       "gender              0\n",
       "income_type         0\n",
       "debt                0\n",
       "total_income        0\n",
       "purpose             0\n",
       "dtype: int64"
      ]
     },
     "execution_count": 12,
     "metadata": {},
     "output_type": "execute_result"
    }
   ],
   "source": [
    "data.isna().sum()"
   ]
  },
  {
   "cell_type": "markdown",
   "id": "ddc81e43",
   "metadata": {
    "deletable": false,
    "id": "ddc81e43"
   },
   "source": [
    "### Изменение типов данных"
   ]
  },
  {
   "cell_type": "markdown",
   "id": "42d19d24",
   "metadata": {
    "deletable": false,
    "id": "42d19d24"
   },
   "source": [
    "**Задание 13. Замените вещественный тип данных в столбце `total_income` на целочисленный с помощью метода `astype()`.**"
   ]
  },
  {
   "cell_type": "code",
   "execution_count": 13,
   "id": "920b65ad",
   "metadata": {
    "deletable": false,
    "id": "920b65ad"
   },
   "outputs": [],
   "source": [
    "data['total_income'] = data['total_income'].astype(int)"
   ]
  },
  {
   "cell_type": "markdown",
   "id": "80c420ba",
   "metadata": {
    "deletable": false,
    "id": "80c420ba"
   },
   "source": [
    "### Обработка дубликатов"
   ]
  },
  {
   "cell_type": "markdown",
   "id": "dc587695",
   "metadata": {
    "deletable": false,
    "id": "dc587695"
   },
   "source": [
    "**Задание 14. Выведите на экран количество строк-дубликатов в данных. Если такие строки присутствуют, удалите их.**"
   ]
  },
  {
   "cell_type": "code",
   "execution_count": 14,
   "id": "3ee445e4",
   "metadata": {
    "deletable": false,
    "id": "3ee445e4",
    "outputId": "9684deba-1934-42d1-99e1-cda61740f822"
   },
   "outputs": [
    {
     "data": {
      "text/plain": [
       "54"
      ]
     },
     "execution_count": 14,
     "metadata": {},
     "output_type": "execute_result"
    }
   ],
   "source": [
    "data.duplicated().sum()"
   ]
  },
  {
   "cell_type": "code",
   "execution_count": 15,
   "id": "8575fe05",
   "metadata": {
    "deletable": false,
    "id": "8575fe05"
   },
   "outputs": [],
   "source": [
    "data = data.drop_duplicates()"
   ]
  },
  {
   "cell_type": "markdown",
   "id": "9771a76c",
   "metadata": {
    "deletable": false,
    "id": "9771a76c"
   },
   "source": [
    "**Задание 15. Обработайте неявные дубликаты в столбце `education`. В этом столбце есть одни и те же значения, но записанные по-разному: с использованием заглавных и строчных букв. Приведите их к нижнему регистру. Проверьте остальные столбцы.**"
   ]
  },
  {
   "cell_type": "code",
   "execution_count": 16,
   "id": "a9f8e2bf",
   "metadata": {
    "deletable": false,
    "id": "a9f8e2bf"
   },
   "outputs": [],
   "source": [
    "data['education'] = data['education'].str.lower()"
   ]
  },
  {
   "cell_type": "markdown",
   "id": "9904cf55",
   "metadata": {
    "deletable": false,
    "id": "9904cf55"
   },
   "source": [
    "### Категоризация данных"
   ]
  },
  {
   "cell_type": "markdown",
   "id": "72fcc8a2",
   "metadata": {
    "deletable": false,
    "id": "72fcc8a2"
   },
   "source": [
    "**Задание 16. На основании диапазонов, указанных ниже, создайте в датафрейме `data` столбец `total_income_category` с категориями:**\n",
    "\n",
    "- 0–30000 — `'E'`;\n",
    "- 30001–50000 — `'D'`;\n",
    "- 50001–200000 — `'C'`;\n",
    "- 200001–1000000 — `'B'`;\n",
    "- 1000001 и выше — `'A'`.\n",
    "\n",
    "\n",
    "**Например, кредитополучателю с доходом 25000 нужно назначить категорию `'E'`, а клиенту, получающему 235000, — `'B'`. Используйте собственную функцию с именем `categorize_income()` и метод `apply()`.**"
   ]
  },
  {
   "cell_type": "code",
   "execution_count": 17,
   "id": "e1771346",
   "metadata": {
    "deletable": false,
    "id": "e1771346"
   },
   "outputs": [],
   "source": [
    "def categorize_income(income):\n",
    "    try:\n",
    "        if 0 <= income <= 30000:\n",
    "            return 'E'\n",
    "        elif 30001 <= income <= 50000:\n",
    "            return 'D'\n",
    "        elif 50001 <= income <= 200000:\n",
    "            return 'C'\n",
    "        elif 200001 <= income <= 1000000:\n",
    "            return 'B'\n",
    "        elif income >= 1000001:\n",
    "            return 'A'\n",
    "    except:\n",
    "        pass"
   ]
  },
  {
   "cell_type": "code",
   "execution_count": 18,
   "id": "d5f3586d",
   "metadata": {
    "deletable": false,
    "id": "d5f3586d"
   },
   "outputs": [],
   "source": [
    "data['total_income_category'] = data['total_income'].apply(categorize_income)"
   ]
  },
  {
   "cell_type": "markdown",
   "id": "dde49b5c",
   "metadata": {
    "deletable": false,
    "id": "dde49b5c"
   },
   "source": [
    "**Задание 17. Выведите на экран перечень уникальных целей взятия кредита из столбца `purpose`.**"
   ]
  },
  {
   "cell_type": "code",
   "execution_count": 19,
   "id": "f67ce9b3",
   "metadata": {
    "deletable": false,
    "id": "f67ce9b3",
    "outputId": "673c12d9-7d7e-4ae0-9812-c622c89dd244"
   },
   "outputs": [
    {
     "data": {
      "text/plain": [
       "array(['покупка жилья', 'приобретение автомобиля',\n",
       "       'дополнительное образование', 'сыграть свадьбу',\n",
       "       'операции с жильем', 'образование', 'на проведение свадьбы',\n",
       "       'покупка жилья для семьи', 'покупка недвижимости',\n",
       "       'покупка коммерческой недвижимости', 'покупка жилой недвижимости',\n",
       "       'строительство собственной недвижимости', 'недвижимость',\n",
       "       'строительство недвижимости', 'на покупку подержанного автомобиля',\n",
       "       'на покупку своего автомобиля',\n",
       "       'операции с коммерческой недвижимостью',\n",
       "       'строительство жилой недвижимости', 'жилье',\n",
       "       'операции со своей недвижимостью', 'автомобили',\n",
       "       'заняться образованием', 'сделка с подержанным автомобилем',\n",
       "       'получение образования', 'автомобиль', 'свадьба',\n",
       "       'получение дополнительного образования', 'покупка своего жилья',\n",
       "       'операции с недвижимостью', 'получение высшего образования',\n",
       "       'свой автомобиль', 'сделка с автомобилем',\n",
       "       'профильное образование', 'высшее образование',\n",
       "       'покупка жилья для сдачи', 'на покупку автомобиля', 'ремонт жилью',\n",
       "       'заняться высшим образованием'], dtype=object)"
      ]
     },
     "execution_count": 19,
     "metadata": {},
     "output_type": "execute_result"
    }
   ],
   "source": [
    "data['purpose'].unique()"
   ]
  },
  {
   "cell_type": "markdown",
   "id": "85d0aef0",
   "metadata": {
    "deletable": false,
    "id": "85d0aef0"
   },
   "source": [
    "**Задание 18. Создайте функцию, которая на основании данных из столбца `purpose` сформирует новый столбец `purpose_category`, в который войдут следующие категории:**\n",
    "\n",
    "- `'операции с автомобилем'`,\n",
    "- `'операции с недвижимостью'`,\n",
    "- `'проведение свадьбы'`,\n",
    "- `'получение образования'`.\n",
    "\n",
    "**Например, если в столбце `purpose` находится подстрока `'на покупку автомобиля'`, то в столбце `purpose_category` должна появиться строка `'операции с автомобилем'`.**\n",
    "\n",
    "**Используйте собственную функцию с именем `categorize_purpose()` и метод `apply()`. Изучите данные в столбце `purpose` и определите, какие подстроки помогут вам правильно определить категорию.**"
   ]
  },
  {
   "cell_type": "code",
   "execution_count": 20,
   "id": "e149fab4",
   "metadata": {
    "deletable": false,
    "id": "e149fab4"
   },
   "outputs": [],
   "source": [
    "def categorize_purpose(row):\n",
    "    try:\n",
    "        if 'автом' in row:\n",
    "            return 'операции с автомобилем'\n",
    "        elif 'жил' in row or 'недвиж' in row:\n",
    "            return 'операции с недвижимостью'\n",
    "        elif 'свад' in row:\n",
    "            return 'проведение свадьбы'\n",
    "        elif 'образов' in row:\n",
    "            return 'получение образования'\n",
    "    except:\n",
    "        return 'нет категории'"
   ]
  },
  {
   "cell_type": "code",
   "execution_count": 21,
   "id": "bf36e69b",
   "metadata": {
    "deletable": false,
    "id": "bf36e69b"
   },
   "outputs": [],
   "source": [
    "data['purpose_category'] = data['purpose'].apply(categorize_purpose)"
   ]
  },
  {
   "cell_type": "markdown",
   "id": "09b242bf",
   "metadata": {
    "deletable": false,
    "editable": false,
    "id": "09b242bf"
   },
   "source": [
    "## Исследуйте данные и ответьте на вопросы"
   ]
  },
  {
   "cell_type": "markdown",
   "id": "c5d66278",
   "metadata": {
    "deletable": false,
    "editable": false,
    "id": "c5d66278"
   },
   "source": [
    "**Задание 19. Есть ли зависимость между количеством детей и возвратом кредита в срок?**"
   ]
  },
  {
   "cell_type": "markdown",
   "id": "d2bfc641",
   "metadata": {},
   "source": [
    "`Рассмотрим датафреймы 'debt_availability' и 'no_debt_availability' с наличием и отсутствием задолженности у клиентов для дальнейшего анализа:`"
   ]
  },
  {
   "cell_type": "code",
   "execution_count": 22,
   "id": "2cacfc4a",
   "metadata": {
    "id": "2cacfc4a"
   },
   "outputs": [],
   "source": [
    "debt_availability = data[data['debt'] == 1] # датафрейм с наличием задолженности у клиентов\n",
    "no_debt_availability = data[data['debt'] != 1] # # датафрейм с отсутствием задолженности у клиентов"
   ]
  },
  {
   "cell_type": "markdown",
   "id": "a1ff2cb3",
   "metadata": {},
   "source": [
    "`Рассмотрим процентное соотношение клиентов по задолженностям:`"
   ]
  },
  {
   "cell_type": "code",
   "execution_count": 23,
   "id": "a822fefc",
   "metadata": {},
   "outputs": [
    {
     "name": "stdout",
     "output_type": "stream",
     "text": [
      "Общий процент по наличию задолженностей среди клиентов: 8.1 %\n",
      "Общий процент по отсутствию задолженностей среди клиентов: 91.9 %\n"
     ]
    }
   ],
   "source": [
    "percent_debt_availability = debt_availability['debt'].count() / data['debt'].count()\n",
    "percent_no_debt_availability = no_debt_availability['debt'].count() / data['debt'].count()\n",
    "print(f'Общий процент по наличию задолженностей среди клиентов: {round(percent_debt_availability, 3) * 100} %')\n",
    "print(f'Общий процент по отсутствию задолженностей среди клиентов: {round(percent_no_debt_availability, 3) * 100} %')"
   ]
  },
  {
   "cell_type": "markdown",
   "id": "7d3ffbad",
   "metadata": {},
   "source": [
    "`Разберемся с тем, как наличие и количество детей влияет на возврат кредита в срок:`"
   ]
  },
  {
   "cell_type": "code",
   "execution_count": 24,
   "id": "092916ee",
   "metadata": {},
   "outputs": [
    {
     "data": {
      "text/html": [
       "<div>\n",
       "<style scoped>\n",
       "    .dataframe tbody tr th:only-of-type {\n",
       "        vertical-align: middle;\n",
       "    }\n",
       "\n",
       "    .dataframe tbody tr th {\n",
       "        vertical-align: top;\n",
       "    }\n",
       "\n",
       "    .dataframe thead th {\n",
       "        text-align: right;\n",
       "    }\n",
       "</style>\n",
       "<table border=\"1\" class=\"dataframe\">\n",
       "  <thead>\n",
       "    <tr style=\"text-align: right;\">\n",
       "      <th></th>\n",
       "      <th>children</th>\n",
       "      <th>debt</th>\n",
       "    </tr>\n",
       "  </thead>\n",
       "  <tbody>\n",
       "    <tr>\n",
       "      <th>0</th>\n",
       "      <td>0</td>\n",
       "      <td>1063</td>\n",
       "    </tr>\n",
       "    <tr>\n",
       "      <th>1</th>\n",
       "      <td>1</td>\n",
       "      <td>444</td>\n",
       "    </tr>\n",
       "    <tr>\n",
       "      <th>2</th>\n",
       "      <td>2</td>\n",
       "      <td>194</td>\n",
       "    </tr>\n",
       "    <tr>\n",
       "      <th>3</th>\n",
       "      <td>3</td>\n",
       "      <td>27</td>\n",
       "    </tr>\n",
       "    <tr>\n",
       "      <th>4</th>\n",
       "      <td>4</td>\n",
       "      <td>4</td>\n",
       "    </tr>\n",
       "  </tbody>\n",
       "</table>\n",
       "</div>"
      ],
      "text/plain": [
       "   children  debt\n",
       "0         0  1063\n",
       "1         1   444\n",
       "2         2   194\n",
       "3         3    27\n",
       "4         4     4"
      ]
     },
     "metadata": {},
     "output_type": "display_data"
    },
    {
     "data": {
      "text/html": [
       "<div>\n",
       "<style scoped>\n",
       "    .dataframe tbody tr th:only-of-type {\n",
       "        vertical-align: middle;\n",
       "    }\n",
       "\n",
       "    .dataframe tbody tr th {\n",
       "        vertical-align: top;\n",
       "    }\n",
       "\n",
       "    .dataframe thead th {\n",
       "        text-align: right;\n",
       "    }\n",
       "</style>\n",
       "<table border=\"1\" class=\"dataframe\">\n",
       "  <thead>\n",
       "    <tr style=\"text-align: right;\">\n",
       "      <th></th>\n",
       "      <th>children</th>\n",
       "      <th>no_debt</th>\n",
       "    </tr>\n",
       "  </thead>\n",
       "  <tbody>\n",
       "    <tr>\n",
       "      <th>0</th>\n",
       "      <td>0</td>\n",
       "      <td>13044</td>\n",
       "    </tr>\n",
       "    <tr>\n",
       "      <th>1</th>\n",
       "      <td>1</td>\n",
       "      <td>4365</td>\n",
       "    </tr>\n",
       "    <tr>\n",
       "      <th>2</th>\n",
       "      <td>2</td>\n",
       "      <td>1858</td>\n",
       "    </tr>\n",
       "    <tr>\n",
       "      <th>3</th>\n",
       "      <td>3</td>\n",
       "      <td>303</td>\n",
       "    </tr>\n",
       "    <tr>\n",
       "      <th>4</th>\n",
       "      <td>4</td>\n",
       "      <td>37</td>\n",
       "    </tr>\n",
       "    <tr>\n",
       "      <th>5</th>\n",
       "      <td>5</td>\n",
       "      <td>9</td>\n",
       "    </tr>\n",
       "  </tbody>\n",
       "</table>\n",
       "</div>"
      ],
      "text/plain": [
       "   children  no_debt\n",
       "0         0    13044\n",
       "1         1     4365\n",
       "2         2     1858\n",
       "3         3      303\n",
       "4         4       37\n",
       "5         5        9"
      ]
     },
     "metadata": {},
     "output_type": "display_data"
    }
   ],
   "source": [
    "children_debt = debt_availability.groupby('children')['debt'].count().reset_index()\n",
    "children_no_debt = no_debt_availability.groupby('children')['debt'].count().reset_index()\n",
    "\n",
    "#добавим строку с нулевым значением, так как строка важна для дальнейшего анализа:\n",
    "#row = [{'children': 5, 'debt': 0}] \n",
    "#row = pd.DataFrame(row)\n",
    "#children_debt.loc[5] = row#children_debt.append(row, ignore_index=True)\n",
    "#переименование столбца для визуального упрощения:\n",
    "children_no_debt.rename(columns={'debt': 'no_debt'}, inplace=True)\n",
    "display(children_debt)\n",
    "display(children_no_debt)"
   ]
  },
  {
   "cell_type": "markdown",
   "id": "9bce9359",
   "metadata": {},
   "source": [
    "`Из чего можно сделать вывод:`"
   ]
  },
  {
   "cell_type": "code",
   "execution_count": 26,
   "id": "0d71197e",
   "metadata": {},
   "outputs": [
    {
     "name": "stdout",
     "output_type": "stream",
     "text": [
      "У клиента с 0 детьми вероятность возникновение задолженности: 8.1 %\n",
      "У клиента с 1 детьми вероятность возникновение задолженности: 10.2 %\n",
      "У клиента с 2 детьми вероятность возникновение задолженности: 10.4 %\n",
      "У клиента с 3 детьми вероятность возникновение задолженности: 8.9 %\n",
      "У клиента с 4 детьми вероятность возникновение задолженности: 10.8 %\n"
     ]
    }
   ],
   "source": [
    "absolut_value_child = children_debt['debt'] / children_no_debt['no_debt']\n",
    "for i in range(len(children_debt)):\n",
    "    absolut_value_child[i] = children_debt['debt'][i] / children_no_debt['no_debt'][i]\n",
    "    print(f'У клиента с {i} детьми вероятность возникновение задолженности: {round(absolut_value_child[i], 3) * 100} %')\n",
    "    "
   ]
  },
  {
   "cell_type": "markdown",
   "id": "3a6b99ec",
   "metadata": {
    "deletable": false,
    "id": "3a6b99ec"
   },
   "source": [
    "**Вывод:** \n",
    "\n",
    "По полученным данным, можно сказать следующее: Зависимости по наличию задолженности у клиентов и количеству их детей внутри категории незначительна. Исключение составляет только клиенты с 5 детьми, так как их выборка крайне мала (9 человек)."
   ]
  },
  {
   "cell_type": "markdown",
   "id": "97be82ca",
   "metadata": {
    "deletable": false,
    "editable": false,
    "id": "97be82ca"
   },
   "source": [
    "**Задание 20. Есть ли зависимость между семейным положением и возвратом кредита в срок?**"
   ]
  },
  {
   "cell_type": "code",
   "execution_count": 27,
   "id": "dc3f7ee8",
   "metadata": {
    "id": "dc3f7ee8"
   },
   "outputs": [],
   "source": [
    "family_status_debt = debt_availability.groupby('family_status')['debt'].count().reset_index()\n",
    "family_status_no_debt = no_debt_availability.groupby('family_status')['debt'].count().reset_index()\n",
    "family_status_no_debt.rename(columns={'debt': 'no_debt'}, inplace=True)"
   ]
  },
  {
   "cell_type": "code",
   "execution_count": 28,
   "id": "16c21d7c",
   "metadata": {},
   "outputs": [
    {
     "name": "stdout",
     "output_type": "stream",
     "text": [
      "У клиента, который Не женат / не замужем вероятность возникновение задолженности: 10.82 %\n",
      "У клиента, который в разводе вероятность возникновение задолженности: 7.602 %\n",
      "У клиента, который вдовец / вдова вероятность возникновение задолженности: 7.095 %\n",
      "У клиента, который гражданский брак вероятность возникновение задолженности: 10.237 %\n",
      "У клиента, который женат / замужем вероятность возникновение задолженности: 8.175 %\n"
     ]
    }
   ],
   "source": [
    "absolut_value_family_status = family_status_debt['debt'] / family_status_no_debt['no_debt']\n",
    "status = family_status_debt['family_status']\n",
    "for i in range(len(status)):\n",
    "    absolut_value_family_status[i] = family_status_debt['debt'][i] / family_status_no_debt['no_debt'][i]\n",
    "    print(f'У клиента, который {status[i]} вероятность возникновение задолженности: {round(absolut_value_family_status[i], 5) * 100} %')"
   ]
  },
  {
   "cell_type": "markdown",
   "id": "1cef7837",
   "metadata": {
    "deletable": false,
    "id": "1cef7837"
   },
   "source": [
    "**Вывод:** \n",
    "\n",
    "Такое семейное положение клиента как \"Не женат / не замужем\" и \"гражданский брак\" выделяются от остальных категорий не в лучшую сторону."
   ]
  },
  {
   "cell_type": "markdown",
   "id": "1e8b2fca",
   "metadata": {
    "deletable": false,
    "editable": false,
    "id": "1e8b2fca"
   },
   "source": [
    "**Задание 21. Есть ли зависимость между уровнем дохода и возвратом кредита в срок?**"
   ]
  },
  {
   "cell_type": "code",
   "execution_count": 29,
   "id": "cd7e3720",
   "metadata": {
    "id": "cd7e3720"
   },
   "outputs": [],
   "source": [
    "total_income_category_debt = debt_availability.groupby('total_income_category')['debt'].count().reset_index()\n",
    "total_income_category_no_debt = no_debt_availability.groupby('total_income_category')['debt'].count().reset_index()\n",
    "total_income_category_no_debt.rename(columns={'debt': 'no_debt'}, inplace=True)"
   ]
  },
  {
   "cell_type": "code",
   "execution_count": 30,
   "id": "fda9e1e8",
   "metadata": {},
   "outputs": [
    {
     "name": "stdout",
     "output_type": "stream",
     "text": [
      "У клиента, который относится к типу A по доходам вероятность возникновение задолженности: 8.7 %\n",
      "У клиента, который относится к типу B по доходам вероятность возникновение задолженности: 7.6 %\n",
      "У клиента, который относится к типу C по доходам вероятность возникновение задолженности: 9.28 %\n",
      "У клиента, который относится к типу D по доходам вероятность возникновение задолженности: 6.4 %\n",
      "У клиента, который относится к типу E по доходам вероятность возникновение задолженности: 10.0 %\n"
     ]
    }
   ],
   "source": [
    "absolut_value_category = total_income_category_debt['debt'] / total_income_category_no_debt['no_debt']\n",
    "category = total_income_category_debt['total_income_category']\n",
    "for i in range(len(category)):\n",
    "    absolut_value_category[i] = total_income_category_debt['debt'][i] / total_income_category_no_debt['no_debt'][i]\n",
    "    print(f'У клиента, который относится к типу {category[i]} по доходам вероятность возникновение задолженности: {round(absolut_value_category[i], 4) * 100} %')"
   ]
  },
  {
   "cell_type": "markdown",
   "id": "e8593def",
   "metadata": {
    "deletable": false,
    "id": "e8593def"
   },
   "source": [
    "**Вывод:** \n",
    "\n",
    "Клиенты категории С по доходам оказались самыми ненадежными клиентами по наличию задолженности. Клиентов категории Е рассматривать неуместно, их выборка мала. "
   ]
  },
  {
   "cell_type": "markdown",
   "id": "99ecbd1f",
   "metadata": {
    "deletable": false,
    "editable": false,
    "id": "99ecbd1f"
   },
   "source": [
    "**Задание 22. Как разные цели кредита влияют на его возврат в срок?**"
   ]
  },
  {
   "cell_type": "code",
   "execution_count": 31,
   "id": "2b687290",
   "metadata": {
    "id": "2b687290"
   },
   "outputs": [],
   "source": [
    "purpose_category_debt = debt_availability.groupby('purpose_category')['debt'].count().reset_index()\n",
    "purpose_category_no_debt = no_debt_availability.groupby('purpose_category')['debt'].count().reset_index()\n",
    "purpose_category_no_debt.rename(columns={'debt': 'no_debt'}, inplace=True)"
   ]
  },
  {
   "cell_type": "code",
   "execution_count": 32,
   "id": "c6c59e87",
   "metadata": {},
   "outputs": [
    {
     "name": "stdout",
     "output_type": "stream",
     "text": [
      "У клиента с целью операции с автомобилем на кредитные деньги вероятность возникновение задолженности: 10.31 %\n",
      "У клиента с целью операции с недвижимостью на кредитные деньги вероятность возникновение задолженности: 7.82 %\n",
      "У клиента с целью получение образования на кредитные деньги вероятность возникновение задолженности: 10.190000000000001 %\n",
      "У клиента с целью проведение свадьбы на кредитные деньги вероятность возникновение задолженности: 8.55 %\n"
     ]
    }
   ],
   "source": [
    "absolut_value_category = purpose_category_debt['debt'] / purpose_category_no_debt['no_debt']\n",
    "category = purpose_category_debt['purpose_category']\n",
    "for i in range(len(category)):\n",
    "    absolut_value_category[i] = purpose_category_debt['debt'][i] / purpose_category_no_debt['no_debt'][i]\n",
    "    print(f'У клиента с целью {category[i]} на кредитные деньги вероятность возникновение задолженности: {round(absolut_value_category[i], 4) * 100} %')"
   ]
  },
  {
   "cell_type": "markdown",
   "id": "b4bb2ce6",
   "metadata": {
    "deletable": false,
    "id": "b4bb2ce6"
   },
   "source": [
    "**Вывод:** \n",
    "\n",
    "Операции с авто и получение образования - категории, немного вырывающиеся вперед по вероятности появления задолженности у клиента."
   ]
  },
  {
   "cell_type": "markdown",
   "id": "09c3ac4c",
   "metadata": {
    "deletable": false,
    "editable": false,
    "id": "09c3ac4c"
   },
   "source": [
    "**Задание 23. Приведите возможные причины появления пропусков в исходных данных.**"
   ]
  },
  {
   "cell_type": "markdown",
   "id": "9da2ceda",
   "metadata": {
    "deletable": false,
    "id": "9da2ceda"
   },
   "source": [
    "причины появления пропусков в исходных данных можно разделить на 2 типа:\n",
    "- технический\n",
    "- человеческий фактор\n",
    "\n",
    "К первому типу можно отнести моменты, связанные с переносами датафреймов с одного сервера на другой, или же просто внутри директории. При таких действиях данные могут \"потеряться\". Так же несовершенство некоторых техпроцессов  могут привести к появлению пропусков (данные могут попросту потеряться по пути от клиента браузера до сервера).\n",
    "\n",
    "Человеческий фактр так же оказывает большое влияние на наличие пропусков, ведь большое количество данных заполняется сотрудниками организации или клиентами этих организаций вручную. "
   ]
  },
  {
   "cell_type": "markdown",
   "id": "7b0487d6",
   "metadata": {
    "deletable": false,
    "editable": false,
    "id": "7b0487d6"
   },
   "source": [
    "**Задание 24. Объясните, почему заполнить пропуски медианным значением — лучшее решение для количественных переменных.**"
   ]
  },
  {
   "cell_type": "markdown",
   "id": "7ecf2b8e",
   "metadata": {
    "deletable": false,
    "id": "7ecf2b8e"
   },
   "source": [
    "В базах данных встречаются аномальные значения(резко малые или резко большие), во избежания влияния их на результат анализа данных, стоит использовать медиану.\n",
    "(как по мне так лучше моду, но в анализе слишком большое разнообразие количественнных значений)"
   ]
  },
  {
   "cell_type": "markdown",
   "id": "6db5255a",
   "metadata": {
    "deletable": false,
    "editable": false,
    "id": "6db5255a"
   },
   "source": [
    "## Общий вывод."
   ]
  },
  {
   "cell_type": "markdown",
   "id": "bad65432",
   "metadata": {
    "id": "bad65432"
   },
   "source": [
    "Общий процент по наличию задолженностей среди клиентов:   8.1 %,\n",
    "\n",
    "Вероятность появления задолженности в зависимости:\n",
    "\n",
    "                                - количеству детей:    8.1 - 10.8 %,                                \n",
    "                                - семейное положение:  7.1 - 10.82 %,                               \n",
    "                                - уровень дохода:      6.4 - 10 %,                                \n",
    "                                - цель кредита:        7.8 - 10.3 %.                              \n",
    "Разброс в отдельно взятой категории незначительный. Но по всем категориям можно выделить потенциально нежелательного клиента для банка.\n",
    "\n",
    "Взять к примеру такого клиента: вдовца без детей, берущий кредитные средства на операциии с недвижимостью. \n",
    "\n"
   ]
  },
  {
   "cell_type": "code",
   "execution_count": 33,
   "id": "408e4357",
   "metadata": {},
   "outputs": [
    {
     "name": "stdout",
     "output_type": "stream",
     "text": [
      "Таких клиентов в банке: 470, с задолженностью из них - 22, что равно 4.680851063829787 %\n"
     ]
    }
   ],
   "source": [
    "positiv_client_probability = data[data['children'] == 0]\n",
    "positiv_client_probability = positiv_client_probability[positiv_client_probability['family_status'] == 'вдовец / вдова']\n",
    "positiv_client_probability = positiv_client_probability[positiv_client_probability['purpose_category'] == 'операции с недвижимостью']\n",
    "positiv_client_probability_count = positiv_client_probability['debt'].count()\n",
    "positiv_client_probability_debt = positiv_client_probability[positiv_client_probability['debt'] == 1]['debt'].count() \n",
    "print(f'Таких клиентов в банке: {positiv_client_probability_count}, с задолженностью из них - {positiv_client_probability_debt}, что равно {positiv_client_probability_debt / positiv_client_probability_count * 100} %')"
   ]
  },
  {
   "cell_type": "markdown",
   "id": "1bd53d85",
   "metadata": {},
   "source": [
    "Рассмотрим клиента по следующим характеристикам: 1 ребенок, не женат, цель кредита - приобретение автомобиля."
   ]
  },
  {
   "cell_type": "code",
   "execution_count": 34,
   "id": "9ea3798c",
   "metadata": {},
   "outputs": [
    {
     "name": "stdout",
     "output_type": "stream",
     "text": [
      "Таких клиентов в банке: 93, с задолженностью из них - 13, что равно 13.978494623655912 %\n"
     ]
    }
   ],
   "source": [
    "negative_client_probability = data[data['children'] == 1]\n",
    "negative_client_probability = negative_client_probability[negative_client_probability['family_status'] == 'Не женат / не замужем']\n",
    "negative_client_probability = negative_client_probability[negative_client_probability['purpose_category'] == 'операции с автомобилем']\n",
    "negative_client_probability_count = negative_client_probability['debt'].count()\n",
    "negative_client_probability_debt = negative_client_probability[negative_client_probability['debt'] == 1]['debt'].count() \n",
    "print(f'Таких клиентов в банке: {negative_client_probability_count}, с задолженностью из них - {negative_client_probability_debt}, что равно {negative_client_probability_debt / negative_client_probability_count * 100} %')"
   ]
  },
  {
   "cell_type": "markdown",
   "id": "b5a2f79e",
   "metadata": {},
   "source": [
    "Таким образом, имея полученные данные и применяя сортировку по категориям, банк может иметь представление о клиенте и принять дальнейшее решение как с ним стоит работать."
   ]
  }
 ],
 "metadata": {
  "ExecuteTimeLog": [
   {
    "duration": 426,
    "start_time": "2022-08-02T11:07:41.268Z"
   },
   {
    "duration": 66,
    "start_time": "2022-08-02T11:07:52.048Z"
   },
   {
    "duration": 751,
    "start_time": "2022-08-03T10:12:48.888Z"
   },
   {
    "duration": 4,
    "start_time": "2022-08-03T10:17:56.818Z"
   },
   {
    "duration": 445,
    "start_time": "2022-08-03T10:18:18.927Z"
   },
   {
    "duration": 20,
    "start_time": "2022-08-03T10:18:19.374Z"
   },
   {
    "duration": 12,
    "start_time": "2022-08-03T10:18:19.396Z"
   },
   {
    "duration": 8,
    "start_time": "2022-08-03T10:18:19.410Z"
   },
   {
    "duration": 42,
    "start_time": "2022-08-03T10:18:19.420Z"
   },
   {
    "duration": 4,
    "start_time": "2022-08-03T10:18:19.463Z"
   },
   {
    "duration": 14,
    "start_time": "2022-08-03T10:18:19.468Z"
   },
   {
    "duration": 5,
    "start_time": "2022-08-03T10:18:19.483Z"
   },
   {
    "duration": 9,
    "start_time": "2022-08-03T10:18:19.489Z"
   },
   {
    "duration": 13,
    "start_time": "2022-08-03T10:18:19.500Z"
   },
   {
    "duration": 31,
    "start_time": "2022-08-03T10:18:19.515Z"
   },
   {
    "duration": 8,
    "start_time": "2022-08-03T10:18:19.547Z"
   },
   {
    "duration": 8,
    "start_time": "2022-08-03T10:18:19.557Z"
   },
   {
    "duration": 19,
    "start_time": "2022-08-03T10:18:19.567Z"
   },
   {
    "duration": 37,
    "start_time": "2022-08-03T10:18:19.587Z"
   },
   {
    "duration": 12,
    "start_time": "2022-08-03T10:18:19.626Z"
   },
   {
    "duration": 4,
    "start_time": "2022-08-03T10:18:19.640Z"
   },
   {
    "duration": 11,
    "start_time": "2022-08-03T10:18:19.645Z"
   },
   {
    "duration": 7,
    "start_time": "2022-08-03T10:18:19.657Z"
   },
   {
    "duration": 3,
    "start_time": "2022-08-03T10:18:19.666Z"
   },
   {
    "duration": 12,
    "start_time": "2022-08-03T10:18:19.670Z"
   },
   {
    "duration": 3,
    "start_time": "2022-08-03T10:18:19.683Z"
   },
   {
    "duration": 23,
    "start_time": "2022-08-03T10:18:19.688Z"
   },
   {
    "duration": 4,
    "start_time": "2022-08-03T10:18:19.713Z"
   },
   {
    "duration": 6,
    "start_time": "2022-08-03T10:18:19.718Z"
   },
   {
    "duration": 710,
    "start_time": "2022-08-04T14:46:18.163Z"
   },
   {
    "duration": 22,
    "start_time": "2022-08-04T14:46:18.875Z"
   },
   {
    "duration": 17,
    "start_time": "2022-08-04T14:46:18.898Z"
   },
   {
    "duration": 19,
    "start_time": "2022-08-04T14:46:18.917Z"
   },
   {
    "duration": 32,
    "start_time": "2022-08-04T14:46:18.937Z"
   },
   {
    "duration": 3,
    "start_time": "2022-08-04T14:46:18.971Z"
   },
   {
    "duration": 39,
    "start_time": "2022-08-04T14:46:18.976Z"
   },
   {
    "duration": 9,
    "start_time": "2022-08-04T14:46:19.018Z"
   },
   {
    "duration": 13,
    "start_time": "2022-08-04T14:46:19.028Z"
   },
   {
    "duration": 5,
    "start_time": "2022-08-04T14:46:19.044Z"
   },
   {
    "duration": 55,
    "start_time": "2022-08-04T14:46:19.051Z"
   },
   {
    "duration": 12,
    "start_time": "2022-08-04T14:46:19.108Z"
   },
   {
    "duration": 7,
    "start_time": "2022-08-04T14:46:19.121Z"
   },
   {
    "duration": 20,
    "start_time": "2022-08-04T14:46:19.129Z"
   },
   {
    "duration": 20,
    "start_time": "2022-08-04T14:46:19.151Z"
   },
   {
    "duration": 17,
    "start_time": "2022-08-04T14:46:19.200Z"
   },
   {
    "duration": 6,
    "start_time": "2022-08-04T14:46:19.219Z"
   },
   {
    "duration": 15,
    "start_time": "2022-08-04T14:46:19.226Z"
   },
   {
    "duration": 9,
    "start_time": "2022-08-04T14:46:19.242Z"
   },
   {
    "duration": 3,
    "start_time": "2022-08-04T14:46:19.253Z"
   },
   {
    "duration": 19,
    "start_time": "2022-08-04T14:46:19.257Z"
   },
   {
    "duration": 6,
    "start_time": "2022-08-04T14:46:19.277Z"
   },
   {
    "duration": 17,
    "start_time": "2022-08-04T14:46:19.284Z"
   },
   {
    "duration": 8,
    "start_time": "2022-08-04T14:46:19.302Z"
   },
   {
    "duration": 46,
    "start_time": "2022-08-04T14:47:29.453Z"
   },
   {
    "duration": 59,
    "start_time": "2022-08-04T14:47:47.892Z"
   },
   {
    "duration": 9,
    "start_time": "2022-08-04T14:47:52.368Z"
   },
   {
    "duration": 10,
    "start_time": "2022-08-04T14:47:55.560Z"
   },
   {
    "duration": 6,
    "start_time": "2022-08-04T14:47:57.560Z"
   },
   {
    "duration": 15,
    "start_time": "2022-08-04T14:48:45.716Z"
   },
   {
    "duration": 6,
    "start_time": "2022-08-04T14:49:28.961Z"
   },
   {
    "duration": 9,
    "start_time": "2022-08-04T14:54:41.692Z"
   },
   {
    "duration": 10,
    "start_time": "2022-08-04T14:55:05.026Z"
   },
   {
    "duration": 9,
    "start_time": "2022-08-04T14:55:39.123Z"
   },
   {
    "duration": 6,
    "start_time": "2022-08-04T14:55:53.415Z"
   },
   {
    "duration": 12,
    "start_time": "2022-08-04T14:56:19.602Z"
   },
   {
    "duration": 8,
    "start_time": "2022-08-04T14:56:35.354Z"
   },
   {
    "duration": 60,
    "start_time": "2022-08-05T14:36:10.466Z"
   },
   {
    "duration": 7,
    "start_time": "2022-08-05T14:36:16.613Z"
   },
   {
    "duration": 1050,
    "start_time": "2022-08-05T14:36:24.052Z"
   },
   {
    "duration": 30,
    "start_time": "2022-08-05T14:36:25.104Z"
   },
   {
    "duration": 25,
    "start_time": "2022-08-05T14:36:25.136Z"
   },
   {
    "duration": 18,
    "start_time": "2022-08-05T14:36:25.164Z"
   },
   {
    "duration": 58,
    "start_time": "2022-08-05T14:36:25.183Z"
   },
   {
    "duration": 4,
    "start_time": "2022-08-05T14:36:25.243Z"
   },
   {
    "duration": 17,
    "start_time": "2022-08-05T14:36:25.249Z"
   },
   {
    "duration": 11,
    "start_time": "2022-08-05T14:36:25.268Z"
   },
   {
    "duration": 27,
    "start_time": "2022-08-05T14:36:25.282Z"
   },
   {
    "duration": 7,
    "start_time": "2022-08-05T14:36:25.314Z"
   },
   {
    "duration": 59,
    "start_time": "2022-08-05T14:36:25.323Z"
   },
   {
    "duration": 28,
    "start_time": "2022-08-05T14:36:25.384Z"
   },
   {
    "duration": 16,
    "start_time": "2022-08-05T14:36:25.414Z"
   },
   {
    "duration": 27,
    "start_time": "2022-08-05T14:36:25.432Z"
   },
   {
    "duration": 21,
    "start_time": "2022-08-05T14:36:25.461Z"
   },
   {
    "duration": 28,
    "start_time": "2022-08-05T14:36:25.484Z"
   },
   {
    "duration": 4,
    "start_time": "2022-08-05T14:36:25.514Z"
   },
   {
    "duration": 18,
    "start_time": "2022-08-05T14:36:25.521Z"
   },
   {
    "duration": 8,
    "start_time": "2022-08-05T14:36:25.542Z"
   },
   {
    "duration": 5,
    "start_time": "2022-08-05T14:36:25.552Z"
   },
   {
    "duration": 18,
    "start_time": "2022-08-05T14:36:25.558Z"
   },
   {
    "duration": 37,
    "start_time": "2022-08-05T14:36:25.577Z"
   },
   {
    "duration": 6,
    "start_time": "2022-08-05T14:36:25.616Z"
   },
   {
    "duration": 17,
    "start_time": "2022-08-05T14:36:25.624Z"
   },
   {
    "duration": 7,
    "start_time": "2022-08-05T14:36:25.643Z"
   },
   {
    "duration": 16,
    "start_time": "2022-08-05T14:36:25.652Z"
   },
   {
    "duration": 37,
    "start_time": "2022-08-05T14:36:25.672Z"
   },
   {
    "duration": 14,
    "start_time": "2022-08-05T14:36:25.714Z"
   },
   {
    "duration": 13,
    "start_time": "2022-08-05T14:36:25.730Z"
   },
   {
    "duration": 22,
    "start_time": "2022-08-05T14:36:25.745Z"
   },
   {
    "duration": 10,
    "start_time": "2022-08-05T14:36:25.769Z"
   },
   {
    "duration": 28,
    "start_time": "2022-08-05T14:36:25.781Z"
   },
   {
    "duration": 18,
    "start_time": "2022-08-05T14:36:37.048Z"
   },
   {
    "duration": 18,
    "start_time": "2022-08-05T14:39:25.546Z"
   },
   {
    "duration": 14,
    "start_time": "2022-08-05T14:40:41.108Z"
   },
   {
    "duration": 17,
    "start_time": "2022-08-05T14:40:49.209Z"
   },
   {
    "duration": 16,
    "start_time": "2022-08-05T14:41:26.135Z"
   },
   {
    "duration": 19,
    "start_time": "2022-08-05T14:42:14.867Z"
   },
   {
    "duration": 28,
    "start_time": "2022-08-05T14:43:22.703Z"
   },
   {
    "duration": 23,
    "start_time": "2022-08-05T14:43:41.928Z"
   },
   {
    "duration": 9,
    "start_time": "2022-08-05T14:44:28.420Z"
   },
   {
    "duration": 11,
    "start_time": "2022-08-05T14:44:31.688Z"
   },
   {
    "duration": 19,
    "start_time": "2022-08-05T14:44:42.475Z"
   },
   {
    "duration": 17,
    "start_time": "2022-08-05T14:44:50.531Z"
   },
   {
    "duration": 15,
    "start_time": "2022-08-05T14:45:26.408Z"
   },
   {
    "duration": 56,
    "start_time": "2022-08-05T14:46:39.408Z"
   },
   {
    "duration": 14,
    "start_time": "2022-08-05T14:46:44.839Z"
   },
   {
    "duration": 48,
    "start_time": "2022-08-05T14:48:45.987Z"
   },
   {
    "duration": 96,
    "start_time": "2022-08-05T14:49:06.958Z"
   },
   {
    "duration": 128,
    "start_time": "2022-08-05T14:49:42.980Z"
   },
   {
    "duration": 49,
    "start_time": "2022-08-05T14:50:08.619Z"
   },
   {
    "duration": 14,
    "start_time": "2022-08-05T14:51:59.909Z"
   },
   {
    "duration": 11,
    "start_time": "2022-08-05T14:54:21.145Z"
   },
   {
    "duration": 11,
    "start_time": "2022-08-05T15:38:18.970Z"
   },
   {
    "duration": 7,
    "start_time": "2022-08-05T15:38:41.787Z"
   },
   {
    "duration": 11,
    "start_time": "2022-08-05T15:38:59.890Z"
   },
   {
    "duration": 8,
    "start_time": "2022-08-05T15:39:07.682Z"
   },
   {
    "duration": 10,
    "start_time": "2022-08-05T15:39:18.851Z"
   },
   {
    "duration": 10,
    "start_time": "2022-08-05T15:41:16.733Z"
   },
   {
    "duration": 10,
    "start_time": "2022-08-05T15:41:31.774Z"
   },
   {
    "duration": 11,
    "start_time": "2022-08-05T15:46:09.835Z"
   }
  ],
  "colab": {
   "name": "dpp_template_part2.ipynb",
   "provenance": []
  },
  "kernelspec": {
   "display_name": "Python 3 (ipykernel)",
   "language": "python",
   "name": "python3"
  },
  "language_info": {
   "codemirror_mode": {
    "name": "ipython",
    "version": 3
   },
   "file_extension": ".py",
   "mimetype": "text/x-python",
   "name": "python",
   "nbconvert_exporter": "python",
   "pygments_lexer": "ipython3",
   "version": "3.11.3"
  },
  "toc": {
   "base_numbering": 1,
   "nav_menu": {},
   "number_sections": true,
   "sideBar": true,
   "skip_h1_title": true,
   "title_cell": "Table of Contents",
   "title_sidebar": "Contents",
   "toc_cell": false,
   "toc_position": {},
   "toc_section_display": true,
   "toc_window_display": false
  }
 },
 "nbformat": 4,
 "nbformat_minor": 5
}
