{
 "cells": [
  {
   "cell_type": "markdown",
   "id": "c41b18ce",
   "metadata": {},
   "source": [
    "# Часть 1. Приоритизация гипотез."
   ]
  },
  {
   "cell_type": "markdown",
   "id": "02fad8af",
   "metadata": {},
   "source": [
    "### Задачи\n",
    "\n",
    " - Применить фреймворк ICE для приоритизации гипотез. Отсортировать их по убыванию приоритета.\n",
    " - Применить фреймворк RICE для приоритизации гипотез. Отсортировать  их по убыванию приоритета.\n",
    " - Указать, как изменилась приоритизация гипотез при применении RICE вместо ICE. Объяснить, причину."
   ]
  },
  {
   "cell_type": "markdown",
   "id": "fd201274",
   "metadata": {},
   "source": [
    "ICE — это метод приоритизации, по факторам:\n",
    " - Impact — Влияние показывает, насколько ваша идея положительно повлияет на ключевой показатель, который вы пытаетесь улучшить.\n",
    " - Confidence — Легкость реализации — это о простоте реализации. Это оценка того, сколько усилий и ресурсов требуется для реализации этой идеи.\n",
    " - Ease — Уверенность показывает, насколько вы уверены в оценках влияния и легкости реализации."
   ]
  },
  {
   "cell_type": "markdown",
   "id": "039ff8e1",
   "metadata": {},
   "source": [
    "RICE — это метод приоритизации. Аббревиатура включает 4 фактора, которые менеджер продукта может смело использовать для оценки и приоритизации продуктовых фич, включают в себя такие факторы как:\n",
    "\n",
    " - Reach — это охват\n",
    " - Impact — влияние\n",
    " - Confidence — уверенность в вашей оценке охвата, влияния и трудозатрат\n",
    " - Effort — трудозатраты"
   ]
  },
  {
   "cell_type": "markdown",
   "id": "c0b5314a",
   "metadata": {},
   "source": [
    "## 1.1 ICE"
   ]
  },
  {
   "cell_type": "code",
   "execution_count": 2,
   "id": "847e38be",
   "metadata": {},
   "outputs": [],
   "source": [
    "import pandas as pd\n",
    "import datetime as dt\n",
    "import numpy as np\n",
    "import matplotlib.pyplot as plt\n",
    "from pandas.plotting import register_matplotlib_converters"
   ]
  },
  {
   "cell_type": "code",
   "execution_count": 3,
   "id": "7d46413f",
   "metadata": {},
   "outputs": [],
   "source": [
    "try:\n",
    "    hypothesis = pd.read_csv('https://code.s3.yandex.net/datasets/hypothesis.csv')  \n",
    "except:\n",
    "    pass"
   ]
  },
  {
   "cell_type": "code",
   "execution_count": 4,
   "id": "fd4a8138",
   "metadata": {},
   "outputs": [],
   "source": [
    "hypothesis.columns = [x.lower() for x in hypothesis.columns]"
   ]
  },
  {
   "cell_type": "code",
   "execution_count": 5,
   "id": "ec109352",
   "metadata": {},
   "outputs": [
    {
     "data": {
      "text/html": [
       "<div>\n",
       "<style scoped>\n",
       "    .dataframe tbody tr th:only-of-type {\n",
       "        vertical-align: middle;\n",
       "    }\n",
       "\n",
       "    .dataframe tbody tr th {\n",
       "        vertical-align: top;\n",
       "    }\n",
       "\n",
       "    .dataframe thead th {\n",
       "        text-align: right;\n",
       "    }\n",
       "</style>\n",
       "<table border=\"1\" class=\"dataframe\">\n",
       "  <thead>\n",
       "    <tr style=\"text-align: right;\">\n",
       "      <th></th>\n",
       "      <th>hypothesis</th>\n",
       "      <th>reach</th>\n",
       "      <th>impact</th>\n",
       "      <th>confidence</th>\n",
       "      <th>efforts</th>\n",
       "    </tr>\n",
       "  </thead>\n",
       "  <tbody>\n",
       "    <tr>\n",
       "      <th>0</th>\n",
       "      <td>Добавить два новых канала привлечения трафика, что позволит привлекать на 30% больше пользователей</td>\n",
       "      <td>3</td>\n",
       "      <td>10</td>\n",
       "      <td>8</td>\n",
       "      <td>6</td>\n",
       "    </tr>\n",
       "    <tr>\n",
       "      <th>1</th>\n",
       "      <td>Запустить собственную службу доставки, что сократит срок доставки заказов</td>\n",
       "      <td>2</td>\n",
       "      <td>5</td>\n",
       "      <td>4</td>\n",
       "      <td>10</td>\n",
       "    </tr>\n",
       "    <tr>\n",
       "      <th>2</th>\n",
       "      <td>Добавить блоки рекомендаций товаров на сайт интернет магазина, чтобы повысить конверсию и средний чек заказа</td>\n",
       "      <td>8</td>\n",
       "      <td>3</td>\n",
       "      <td>7</td>\n",
       "      <td>3</td>\n",
       "    </tr>\n",
       "    <tr>\n",
       "      <th>3</th>\n",
       "      <td>Изменить структура категорий, что увеличит конверсию, т.к. пользователи быстрее найдут нужный товар</td>\n",
       "      <td>8</td>\n",
       "      <td>3</td>\n",
       "      <td>3</td>\n",
       "      <td>8</td>\n",
       "    </tr>\n",
       "    <tr>\n",
       "      <th>4</th>\n",
       "      <td>Изменить цвет фона главной страницы, чтобы увеличить вовлеченность пользователей</td>\n",
       "      <td>3</td>\n",
       "      <td>1</td>\n",
       "      <td>1</td>\n",
       "      <td>1</td>\n",
       "    </tr>\n",
       "    <tr>\n",
       "      <th>5</th>\n",
       "      <td>Добавить страницу отзывов клиентов о магазине, что позволит увеличить количество заказов</td>\n",
       "      <td>3</td>\n",
       "      <td>2</td>\n",
       "      <td>2</td>\n",
       "      <td>3</td>\n",
       "    </tr>\n",
       "    <tr>\n",
       "      <th>6</th>\n",
       "      <td>Показать на главной странице баннеры с актуальными акциями и распродажами, чтобы увеличить конверсию</td>\n",
       "      <td>5</td>\n",
       "      <td>3</td>\n",
       "      <td>8</td>\n",
       "      <td>3</td>\n",
       "    </tr>\n",
       "    <tr>\n",
       "      <th>7</th>\n",
       "      <td>Добавить форму подписки на все основные страницы, чтобы собрать базу клиентов для email-рассылок</td>\n",
       "      <td>10</td>\n",
       "      <td>7</td>\n",
       "      <td>8</td>\n",
       "      <td>5</td>\n",
       "    </tr>\n",
       "    <tr>\n",
       "      <th>8</th>\n",
       "      <td>Запустить акцию, дающую скидку на товар в день рождения</td>\n",
       "      <td>1</td>\n",
       "      <td>9</td>\n",
       "      <td>9</td>\n",
       "      <td>5</td>\n",
       "    </tr>\n",
       "  </tbody>\n",
       "</table>\n",
       "</div>"
      ],
      "text/plain": [
       "                                                                                                     hypothesis  \\\n",
       "0            Добавить два новых канала привлечения трафика, что позволит привлекать на 30% больше пользователей   \n",
       "1                                     Запустить собственную службу доставки, что сократит срок доставки заказов   \n",
       "2  Добавить блоки рекомендаций товаров на сайт интернет магазина, чтобы повысить конверсию и средний чек заказа   \n",
       "3           Изменить структура категорий, что увеличит конверсию, т.к. пользователи быстрее найдут нужный товар   \n",
       "4                              Изменить цвет фона главной страницы, чтобы увеличить вовлеченность пользователей   \n",
       "5                      Добавить страницу отзывов клиентов о магазине, что позволит увеличить количество заказов   \n",
       "6          Показать на главной странице баннеры с актуальными акциями и распродажами, чтобы увеличить конверсию   \n",
       "7              Добавить форму подписки на все основные страницы, чтобы собрать базу клиентов для email-рассылок   \n",
       "8                                                       Запустить акцию, дающую скидку на товар в день рождения   \n",
       "\n",
       "   reach  impact  confidence  efforts  \n",
       "0      3      10           8        6  \n",
       "1      2       5           4       10  \n",
       "2      8       3           7        3  \n",
       "3      8       3           3        8  \n",
       "4      3       1           1        1  \n",
       "5      3       2           2        3  \n",
       "6      5       3           8        3  \n",
       "7     10       7           8        5  \n",
       "8      1       9           9        5  "
      ]
     },
     "execution_count": 5,
     "metadata": {},
     "output_type": "execute_result"
    }
   ],
   "source": [
    "pd.options.display.max_colwidth = 150\n",
    "hypothesis"
   ]
  },
  {
   "cell_type": "code",
   "execution_count": 6,
   "id": "b35d732b",
   "metadata": {},
   "outputs": [],
   "source": [
    "hypothesis['ICE'] = hypothesis['impact'] * hypothesis['confidence'] / hypothesis['efforts']\n",
    "hypothesis['ICE'] = round(hypothesis['ICE'], 2)"
   ]
  },
  {
   "cell_type": "code",
   "execution_count": 7,
   "id": "79fe0b9a",
   "metadata": {},
   "outputs": [],
   "source": [
    "hypothesis = hypothesis.sort_values('ICE', ascending=False)"
   ]
  },
  {
   "cell_type": "code",
   "execution_count": 8,
   "id": "dbaa188e",
   "metadata": {},
   "outputs": [
    {
     "data": {
      "text/html": [
       "<div>\n",
       "<style scoped>\n",
       "    .dataframe tbody tr th:only-of-type {\n",
       "        vertical-align: middle;\n",
       "    }\n",
       "\n",
       "    .dataframe tbody tr th {\n",
       "        vertical-align: top;\n",
       "    }\n",
       "\n",
       "    .dataframe thead th {\n",
       "        text-align: right;\n",
       "    }\n",
       "</style>\n",
       "<table border=\"1\" class=\"dataframe\">\n",
       "  <thead>\n",
       "    <tr style=\"text-align: right;\">\n",
       "      <th></th>\n",
       "      <th>hypothesis</th>\n",
       "      <th>reach</th>\n",
       "      <th>impact</th>\n",
       "      <th>confidence</th>\n",
       "      <th>efforts</th>\n",
       "      <th>ICE</th>\n",
       "    </tr>\n",
       "  </thead>\n",
       "  <tbody>\n",
       "    <tr>\n",
       "      <th>8</th>\n",
       "      <td>Запустить акцию, дающую скидку на товар в день рождения</td>\n",
       "      <td>1</td>\n",
       "      <td>9</td>\n",
       "      <td>9</td>\n",
       "      <td>5</td>\n",
       "      <td>16.20</td>\n",
       "    </tr>\n",
       "    <tr>\n",
       "      <th>0</th>\n",
       "      <td>Добавить два новых канала привлечения трафика, что позволит привлекать на 30% больше пользователей</td>\n",
       "      <td>3</td>\n",
       "      <td>10</td>\n",
       "      <td>8</td>\n",
       "      <td>6</td>\n",
       "      <td>13.33</td>\n",
       "    </tr>\n",
       "    <tr>\n",
       "      <th>7</th>\n",
       "      <td>Добавить форму подписки на все основные страницы, чтобы собрать базу клиентов для email-рассылок</td>\n",
       "      <td>10</td>\n",
       "      <td>7</td>\n",
       "      <td>8</td>\n",
       "      <td>5</td>\n",
       "      <td>11.20</td>\n",
       "    </tr>\n",
       "    <tr>\n",
       "      <th>6</th>\n",
       "      <td>Показать на главной странице баннеры с актуальными акциями и распродажами, чтобы увеличить конверсию</td>\n",
       "      <td>5</td>\n",
       "      <td>3</td>\n",
       "      <td>8</td>\n",
       "      <td>3</td>\n",
       "      <td>8.00</td>\n",
       "    </tr>\n",
       "    <tr>\n",
       "      <th>2</th>\n",
       "      <td>Добавить блоки рекомендаций товаров на сайт интернет магазина, чтобы повысить конверсию и средний чек заказа</td>\n",
       "      <td>8</td>\n",
       "      <td>3</td>\n",
       "      <td>7</td>\n",
       "      <td>3</td>\n",
       "      <td>7.00</td>\n",
       "    </tr>\n",
       "  </tbody>\n",
       "</table>\n",
       "</div>"
      ],
      "text/plain": [
       "                                                                                                     hypothesis  \\\n",
       "8                                                       Запустить акцию, дающую скидку на товар в день рождения   \n",
       "0            Добавить два новых канала привлечения трафика, что позволит привлекать на 30% больше пользователей   \n",
       "7              Добавить форму подписки на все основные страницы, чтобы собрать базу клиентов для email-рассылок   \n",
       "6          Показать на главной странице баннеры с актуальными акциями и распродажами, чтобы увеличить конверсию   \n",
       "2  Добавить блоки рекомендаций товаров на сайт интернет магазина, чтобы повысить конверсию и средний чек заказа   \n",
       "\n",
       "   reach  impact  confidence  efforts    ICE  \n",
       "8      1       9           9        5  16.20  \n",
       "0      3      10           8        6  13.33  \n",
       "7     10       7           8        5  11.20  \n",
       "6      5       3           8        3   8.00  \n",
       "2      8       3           7        3   7.00  "
      ]
     },
     "execution_count": 8,
     "metadata": {},
     "output_type": "execute_result"
    }
   ],
   "source": [
    "pd.options.display.max_colwidth = 150\n",
    "hypothesis.head()"
   ]
  },
  {
   "cell_type": "markdown",
   "id": "60639981",
   "metadata": {},
   "source": [
    "Появился топ потенциальных гипотез, среди которых есть \"акция, дающая скидку на товар в день рождения\". Вряд ли она будет первой в топе с учетом охвата аудитории. "
   ]
  },
  {
   "cell_type": "markdown",
   "id": "04e76cf6",
   "metadata": {},
   "source": [
    "## 1.2 RICE"
   ]
  },
  {
   "cell_type": "code",
   "execution_count": 9,
   "id": "fef68c96",
   "metadata": {},
   "outputs": [],
   "source": [
    "hypothesis['RICE'] = hypothesis['reach'] * hypothesis['impact'] * hypothesis['confidence'] / hypothesis['efforts']"
   ]
  },
  {
   "cell_type": "code",
   "execution_count": 10,
   "id": "2e5cf51a",
   "metadata": {},
   "outputs": [],
   "source": [
    "hypothesis = hypothesis.sort_values('RICE', ascending=False)"
   ]
  },
  {
   "cell_type": "code",
   "execution_count": 11,
   "id": "67e4a63b",
   "metadata": {},
   "outputs": [
    {
     "data": {
      "text/html": [
       "<div>\n",
       "<style scoped>\n",
       "    .dataframe tbody tr th:only-of-type {\n",
       "        vertical-align: middle;\n",
       "    }\n",
       "\n",
       "    .dataframe tbody tr th {\n",
       "        vertical-align: top;\n",
       "    }\n",
       "\n",
       "    .dataframe thead th {\n",
       "        text-align: right;\n",
       "    }\n",
       "</style>\n",
       "<table border=\"1\" class=\"dataframe\">\n",
       "  <thead>\n",
       "    <tr style=\"text-align: right;\">\n",
       "      <th></th>\n",
       "      <th>hypothesis</th>\n",
       "      <th>reach</th>\n",
       "      <th>impact</th>\n",
       "      <th>confidence</th>\n",
       "      <th>efforts</th>\n",
       "      <th>ICE</th>\n",
       "      <th>RICE</th>\n",
       "    </tr>\n",
       "  </thead>\n",
       "  <tbody>\n",
       "    <tr>\n",
       "      <th>7</th>\n",
       "      <td>Добавить форму подписки на все основные страницы, чтобы собрать базу клиентов для email-рассылок</td>\n",
       "      <td>10</td>\n",
       "      <td>7</td>\n",
       "      <td>8</td>\n",
       "      <td>5</td>\n",
       "      <td>11.20</td>\n",
       "      <td>112.0</td>\n",
       "    </tr>\n",
       "    <tr>\n",
       "      <th>2</th>\n",
       "      <td>Добавить блоки рекомендаций товаров на сайт интернет магазина, чтобы повысить конверсию и средний чек заказа</td>\n",
       "      <td>8</td>\n",
       "      <td>3</td>\n",
       "      <td>7</td>\n",
       "      <td>3</td>\n",
       "      <td>7.00</td>\n",
       "      <td>56.0</td>\n",
       "    </tr>\n",
       "    <tr>\n",
       "      <th>0</th>\n",
       "      <td>Добавить два новых канала привлечения трафика, что позволит привлекать на 30% больше пользователей</td>\n",
       "      <td>3</td>\n",
       "      <td>10</td>\n",
       "      <td>8</td>\n",
       "      <td>6</td>\n",
       "      <td>13.33</td>\n",
       "      <td>40.0</td>\n",
       "    </tr>\n",
       "    <tr>\n",
       "      <th>6</th>\n",
       "      <td>Показать на главной странице баннеры с актуальными акциями и распродажами, чтобы увеличить конверсию</td>\n",
       "      <td>5</td>\n",
       "      <td>3</td>\n",
       "      <td>8</td>\n",
       "      <td>3</td>\n",
       "      <td>8.00</td>\n",
       "      <td>40.0</td>\n",
       "    </tr>\n",
       "    <tr>\n",
       "      <th>8</th>\n",
       "      <td>Запустить акцию, дающую скидку на товар в день рождения</td>\n",
       "      <td>1</td>\n",
       "      <td>9</td>\n",
       "      <td>9</td>\n",
       "      <td>5</td>\n",
       "      <td>16.20</td>\n",
       "      <td>16.2</td>\n",
       "    </tr>\n",
       "  </tbody>\n",
       "</table>\n",
       "</div>"
      ],
      "text/plain": [
       "                                                                                                     hypothesis  \\\n",
       "7              Добавить форму подписки на все основные страницы, чтобы собрать базу клиентов для email-рассылок   \n",
       "2  Добавить блоки рекомендаций товаров на сайт интернет магазина, чтобы повысить конверсию и средний чек заказа   \n",
       "0            Добавить два новых канала привлечения трафика, что позволит привлекать на 30% больше пользователей   \n",
       "6          Показать на главной странице баннеры с актуальными акциями и распродажами, чтобы увеличить конверсию   \n",
       "8                                                       Запустить акцию, дающую скидку на товар в день рождения   \n",
       "\n",
       "   reach  impact  confidence  efforts    ICE   RICE  \n",
       "7     10       7           8        5  11.20  112.0  \n",
       "2      8       3           7        3   7.00   56.0  \n",
       "0      3      10           8        6  13.33   40.0  \n",
       "6      5       3           8        3   8.00   40.0  \n",
       "8      1       9           9        5  16.20   16.2  "
      ]
     },
     "execution_count": 11,
     "metadata": {},
     "output_type": "execute_result"
    }
   ],
   "source": [
    "hypothesis.head()"
   ]
  },
  {
   "cell_type": "markdown",
   "id": "299a6e6b",
   "metadata": {},
   "source": [
    "Картина отличается от ICE, приоритет гипотез абсолютно другой."
   ]
  },
  {
   "cell_type": "markdown",
   "id": "f5e4f920",
   "metadata": {},
   "source": [
    "## 1.3 Вывод"
   ]
  },
  {
   "cell_type": "markdown",
   "id": "95d6fe42",
   "metadata": {},
   "source": [
    "RICE и ICE очень разнятся, по причине того, что RICE охватывает так же и аудиторию. \n",
    "\n",
    "Таким образом, гипотеза o \"Добавлении формы подписки на все основные страницы, чтобы собрать базу клиентов для email-рассылок\" первая по приоритету!"
   ]
  },
  {
   "cell_type": "markdown",
   "id": "11660ddf",
   "metadata": {},
   "source": [
    "### Задачи\n",
    "\n",
    " - Построить график кумулятивной выручки по группам.\n",
    " - Построить график кумулятивного среднего чека по группам. \n",
    " - Построить график относительного изменения кумулятивного среднего чека группы B к группе A. \n",
    " - Построить график кумулятивного среднего количества заказов по группам. \n",
    " - Построить график относительного изменения кумулятивного среднего количества заказов группы B к группе A. \n",
    " - Построить точечный график количества заказов по пользователям.\n",
    " - Посчитать 95-й и 99-й перцентили количества заказов на пользователя. \n",
    " - Построить точечный график стоимостей заказов.\n",
    " - Посчитать 95-й и 99-й перцентили стоимости заказов.\n",
    " - Посчитать статистическую значимость различий в среднем количестве заказов между группами по «сырым» данным. \n",
    " - Посчитать статистическую значимость различий в среднем чеке заказа между группами по «сырым» данным. \n",
    " - Посчитать статистическую значимость различий в среднем количестве заказов между группами по «очищенным» данным. \n",
    " - Посчитать статистическую значимость различий в среднем чеке заказа между группами по «очищенным» данным.\n",
    " - Принять решение по результатам теста. \n",
    " \n",
    "Варианты решений: \n",
    "\n",
    "1. Остановить тест, зафиксировать победу одной из групп. \n",
    "2. Остановить тест, зафиксировать отсутствие различий между группами. \n",
    "3. Продолжить тест."
   ]
  },
  {
   "cell_type": "markdown",
   "id": "dd60b5c7",
   "metadata": {},
   "source": [
    "# Часть 2. Анализ A/B-теста"
   ]
  },
  {
   "cell_type": "markdown",
   "id": "7f87d3d2",
   "metadata": {},
   "source": [
    "### Подготовка датасетов"
   ]
  },
  {
   "cell_type": "code",
   "execution_count": 12,
   "id": "e2ef65be",
   "metadata": {},
   "outputs": [],
   "source": [
    "try:\n",
    "    orders = pd.read_csv('https://code.s3.yandex.net/datasets/orders.csv')  \n",
    "    visitors = pd.read_csv('https://code.s3.yandex.net/datasets/visitors.csv')\n",
    "except:\n",
    "    pass"
   ]
  },
  {
   "cell_type": "code",
   "execution_count": 13,
   "id": "08f96c9e",
   "metadata": {},
   "outputs": [],
   "source": [
    "#orders['group'].unique()\n",
    "#orders.info()"
   ]
  },
  {
   "cell_type": "code",
   "execution_count": 14,
   "id": "65644215",
   "metadata": {},
   "outputs": [
    {
     "name": "stdout",
     "output_type": "stream",
     "text": [
      "<class 'pandas.core.frame.DataFrame'>\n",
      "RangeIndex: 1197 entries, 0 to 1196\n",
      "Data columns (total 5 columns):\n",
      " #   Column         Non-Null Count  Dtype         \n",
      "---  ------         --------------  -----         \n",
      " 0   transactionId  1197 non-null   int64         \n",
      " 1   visitorId      1197 non-null   int64         \n",
      " 2   date           1197 non-null   datetime64[ns]\n",
      " 3   revenue        1197 non-null   int64         \n",
      " 4   group          1197 non-null   object        \n",
      "dtypes: datetime64[ns](1), int64(3), object(1)\n",
      "memory usage: 46.9+ KB\n"
     ]
    }
   ],
   "source": [
    "orders['date'] = orders['date'].map(\n",
    "    lambda x: dt.datetime.strptime(x, '%Y-%m-%d')\n",
    ")\n",
    "orders.info()"
   ]
  },
  {
   "cell_type": "code",
   "execution_count": 15,
   "id": "016cafc2",
   "metadata": {},
   "outputs": [
    {
     "data": {
      "text/html": [
       "<div>\n",
       "<style scoped>\n",
       "    .dataframe tbody tr th:only-of-type {\n",
       "        vertical-align: middle;\n",
       "    }\n",
       "\n",
       "    .dataframe tbody tr th {\n",
       "        vertical-align: top;\n",
       "    }\n",
       "\n",
       "    .dataframe thead th {\n",
       "        text-align: right;\n",
       "    }\n",
       "</style>\n",
       "<table border=\"1\" class=\"dataframe\">\n",
       "  <thead>\n",
       "    <tr style=\"text-align: right;\">\n",
       "      <th></th>\n",
       "      <th>transactionId</th>\n",
       "      <th>visitorId</th>\n",
       "      <th>date</th>\n",
       "      <th>revenue</th>\n",
       "      <th>group</th>\n",
       "    </tr>\n",
       "  </thead>\n",
       "  <tbody>\n",
       "    <tr>\n",
       "      <th>0</th>\n",
       "      <td>3667963787</td>\n",
       "      <td>3312258926</td>\n",
       "      <td>2019-08-15</td>\n",
       "      <td>1650</td>\n",
       "      <td>B</td>\n",
       "    </tr>\n",
       "    <tr>\n",
       "      <th>1</th>\n",
       "      <td>2804400009</td>\n",
       "      <td>3642806036</td>\n",
       "      <td>2019-08-15</td>\n",
       "      <td>730</td>\n",
       "      <td>B</td>\n",
       "    </tr>\n",
       "    <tr>\n",
       "      <th>2</th>\n",
       "      <td>2961555356</td>\n",
       "      <td>4069496402</td>\n",
       "      <td>2019-08-15</td>\n",
       "      <td>400</td>\n",
       "      <td>A</td>\n",
       "    </tr>\n",
       "    <tr>\n",
       "      <th>3</th>\n",
       "      <td>3797467345</td>\n",
       "      <td>1196621759</td>\n",
       "      <td>2019-08-15</td>\n",
       "      <td>9759</td>\n",
       "      <td>B</td>\n",
       "    </tr>\n",
       "    <tr>\n",
       "      <th>4</th>\n",
       "      <td>2282983706</td>\n",
       "      <td>2322279887</td>\n",
       "      <td>2019-08-15</td>\n",
       "      <td>2308</td>\n",
       "      <td>B</td>\n",
       "    </tr>\n",
       "  </tbody>\n",
       "</table>\n",
       "</div>"
      ],
      "text/plain": [
       "   transactionId   visitorId       date  revenue group\n",
       "0     3667963787  3312258926 2019-08-15     1650     B\n",
       "1     2804400009  3642806036 2019-08-15      730     B\n",
       "2     2961555356  4069496402 2019-08-15      400     A\n",
       "3     3797467345  1196621759 2019-08-15     9759     B\n",
       "4     2282983706  2322279887 2019-08-15     2308     B"
      ]
     },
     "execution_count": 15,
     "metadata": {},
     "output_type": "execute_result"
    }
   ],
   "source": [
    "orders.head(5)"
   ]
  },
  {
   "cell_type": "code",
   "execution_count": 16,
   "id": "99adfba8",
   "metadata": {},
   "outputs": [],
   "source": [
    "visitors['date'] = visitors['date'].map(\n",
    "    lambda x: dt.datetime.strptime(x, '%Y-%m-%d')\n",
    ")\n",
    "#visitors.info()"
   ]
  },
  {
   "cell_type": "markdown",
   "id": "e8321a18",
   "metadata": {},
   "source": [
    "### Проверка на дупликаты, пропуски, пересечение групп"
   ]
  },
  {
   "cell_type": "markdown",
   "id": "3758792e",
   "metadata": {},
   "source": [
    "##### Дубликаты"
   ]
  },
  {
   "cell_type": "code",
   "execution_count": 17,
   "id": "f72a8a03",
   "metadata": {},
   "outputs": [
    {
     "data": {
      "text/plain": [
       "0"
      ]
     },
     "execution_count": 17,
     "metadata": {},
     "output_type": "execute_result"
    }
   ],
   "source": [
    "orders.duplicated().sum()"
   ]
  },
  {
   "cell_type": "code",
   "execution_count": 18,
   "id": "2061d929",
   "metadata": {},
   "outputs": [
    {
     "data": {
      "text/plain": [
       "0"
      ]
     },
     "execution_count": 18,
     "metadata": {},
     "output_type": "execute_result"
    }
   ],
   "source": [
    "visitors.duplicated().sum()"
   ]
  },
  {
   "cell_type": "markdown",
   "id": "c604afca",
   "metadata": {},
   "source": [
    "##### Пропуски"
   ]
  },
  {
   "cell_type": "code",
   "execution_count": 19,
   "id": "8a0a7a49",
   "metadata": {},
   "outputs": [
    {
     "name": "stdout",
     "output_type": "stream",
     "text": [
      "<class 'pandas.core.frame.DataFrame'>\n",
      "RangeIndex: 1197 entries, 0 to 1196\n",
      "Data columns (total 5 columns):\n",
      " #   Column         Non-Null Count  Dtype         \n",
      "---  ------         --------------  -----         \n",
      " 0   transactionId  1197 non-null   int64         \n",
      " 1   visitorId      1197 non-null   int64         \n",
      " 2   date           1197 non-null   datetime64[ns]\n",
      " 3   revenue        1197 non-null   int64         \n",
      " 4   group          1197 non-null   object        \n",
      "dtypes: datetime64[ns](1), int64(3), object(1)\n",
      "memory usage: 46.9+ KB\n"
     ]
    }
   ],
   "source": [
    "orders.info()"
   ]
  },
  {
   "cell_type": "code",
   "execution_count": 20,
   "id": "b324779a",
   "metadata": {},
   "outputs": [
    {
     "name": "stdout",
     "output_type": "stream",
     "text": [
      "<class 'pandas.core.frame.DataFrame'>\n",
      "RangeIndex: 62 entries, 0 to 61\n",
      "Data columns (total 3 columns):\n",
      " #   Column    Non-Null Count  Dtype         \n",
      "---  ------    --------------  -----         \n",
      " 0   date      62 non-null     datetime64[ns]\n",
      " 1   group     62 non-null     object        \n",
      " 2   visitors  62 non-null     int64         \n",
      "dtypes: datetime64[ns](1), int64(1), object(1)\n",
      "memory usage: 1.6+ KB\n"
     ]
    }
   ],
   "source": [
    "visitors.info()"
   ]
  },
  {
   "cell_type": "markdown",
   "id": "ae610cfa",
   "metadata": {},
   "source": [
    "##### Пересечение групп"
   ]
  },
  {
   "cell_type": "code",
   "execution_count": 21,
   "id": "3fab4d68",
   "metadata": {},
   "outputs": [],
   "source": [
    "d = orders[orders['group'] == 'A'][['visitorId','group']].drop_duplicates().merge(\n",
    "    orders[orders['group'] == 'B'][['visitorId','group']].drop_duplicates(),\n",
    "    on = 'visitorId',\n",
    "    suffixes = ('_A','_B'),\n",
    "    how = 'outer'\n",
    ")"
   ]
  },
  {
   "cell_type": "code",
   "execution_count": 22,
   "id": "58a807f1",
   "metadata": {},
   "outputs": [],
   "source": [
    "d1 = d[~d['group_A'].isna()]"
   ]
  },
  {
   "cell_type": "code",
   "execution_count": 23,
   "id": "d2e94235",
   "metadata": {},
   "outputs": [
    {
     "data": {
      "text/plain": [
       "58"
      ]
     },
     "execution_count": 23,
     "metadata": {},
     "output_type": "execute_result"
    }
   ],
   "source": [
    "d1[~d1['group_B'].isna()]['visitorId'].nunique()"
   ]
  },
  {
   "cell_type": "code",
   "execution_count": 24,
   "id": "fb22d683",
   "metadata": {},
   "outputs": [],
   "source": [
    "a = d1[~d1['group_B'].isna()]['visitorId']"
   ]
  },
  {
   "cell_type": "code",
   "execution_count": 25,
   "id": "a89d83bb",
   "metadata": {},
   "outputs": [],
   "source": [
    "orders = orders.query('visitorId not in @a')"
   ]
  },
  {
   "cell_type": "markdown",
   "id": "209470df",
   "metadata": {},
   "source": [
    "**Вывод:** 58 пользовтелей попали в обе группы, исключили их, так же обработаны дубликаты и пропуски."
   ]
  },
  {
   "cell_type": "code",
   "execution_count": 26,
   "id": "f3624662",
   "metadata": {},
   "outputs": [
    {
     "name": "stdout",
     "output_type": "stream",
     "text": [
      "<class 'pandas.core.frame.DataFrame'>\n",
      "Int64Index: 1016 entries, 0 to 1196\n",
      "Data columns (total 5 columns):\n",
      " #   Column         Non-Null Count  Dtype         \n",
      "---  ------         --------------  -----         \n",
      " 0   transactionId  1016 non-null   int64         \n",
      " 1   visitorId      1016 non-null   int64         \n",
      " 2   date           1016 non-null   datetime64[ns]\n",
      " 3   revenue        1016 non-null   int64         \n",
      " 4   group          1016 non-null   object        \n",
      "dtypes: datetime64[ns](1), int64(3), object(1)\n",
      "memory usage: 47.6+ KB\n"
     ]
    }
   ],
   "source": [
    "orders.info()"
   ]
  },
  {
   "cell_type": "code",
   "execution_count": 27,
   "id": "2b9a92f8",
   "metadata": {},
   "outputs": [],
   "source": [
    "datesGroups = orders[['date', 'group']].drop_duplicates()"
   ]
  },
  {
   "cell_type": "code",
   "execution_count": 28,
   "id": "01d93292",
   "metadata": {},
   "outputs": [],
   "source": [
    "ordersAggregated = datesGroups.apply(\n",
    "    lambda x: orders[\n",
    "        np.logical_and(orders['date'] <= x['date'], orders['group'] == x['group'])\n",
    "    ].agg(\n",
    "        {\n",
    "            'date': 'max',\n",
    "            'group': 'max',\n",
    "            'transactionId': 'nunique',\n",
    "            'visitorId': 'nunique',\n",
    "            'revenue': 'sum',\n",
    "        }\n",
    "    ),\n",
    "    axis=1,\n",
    ").sort_values(by=['date', 'group'])"
   ]
  },
  {
   "cell_type": "code",
   "execution_count": 29,
   "id": "8c73e367",
   "metadata": {},
   "outputs": [],
   "source": [
    "visitorsAggregated = datesGroups.apply(\n",
    "    lambda x: visitors[\n",
    "        np.logical_and(visitors['date'] <= x['date'], visitors['group'] == x['group'])\n",
    "    ].agg({'date': 'max', 'group': 'max', 'visitors': 'sum'}),\n",
    "    axis=1,\n",
    ").sort_values(by=['date', 'group'])"
   ]
  },
  {
   "cell_type": "code",
   "execution_count": 30,
   "id": "3eead15c",
   "metadata": {},
   "outputs": [],
   "source": [
    "cumulativeData = ordersAggregated.merge(\n",
    "    visitorsAggregated, left_on=['date', 'group'], right_on=['date', 'group'])"
   ]
  },
  {
   "cell_type": "code",
   "execution_count": 31,
   "id": "8d77b638",
   "metadata": {},
   "outputs": [],
   "source": [
    "cumulativeData['avg_num'] = round(cumulativeData['transactionId'] / cumulativeData['visitorId'], 2)\n",
    "\n",
    "cumulativeData['avg_check'] = round(cumulativeData['revenue'] / cumulativeData['transactionId'] , 2)"
   ]
  },
  {
   "cell_type": "code",
   "execution_count": 32,
   "id": "5add284c",
   "metadata": {},
   "outputs": [
    {
     "data": {
      "text/html": [
       "<div>\n",
       "<style scoped>\n",
       "    .dataframe tbody tr th:only-of-type {\n",
       "        vertical-align: middle;\n",
       "    }\n",
       "\n",
       "    .dataframe tbody tr th {\n",
       "        vertical-align: top;\n",
       "    }\n",
       "\n",
       "    .dataframe thead th {\n",
       "        text-align: right;\n",
       "    }\n",
       "</style>\n",
       "<table border=\"1\" class=\"dataframe\">\n",
       "  <thead>\n",
       "    <tr style=\"text-align: right;\">\n",
       "      <th></th>\n",
       "      <th>date</th>\n",
       "      <th>group</th>\n",
       "      <th>transactionId</th>\n",
       "      <th>visitorId</th>\n",
       "      <th>revenue</th>\n",
       "      <th>visitors</th>\n",
       "      <th>avg_num</th>\n",
       "      <th>avg_check</th>\n",
       "    </tr>\n",
       "  </thead>\n",
       "  <tbody>\n",
       "    <tr>\n",
       "      <th>0</th>\n",
       "      <td>2019-08-01</td>\n",
       "      <td>A</td>\n",
       "      <td>23</td>\n",
       "      <td>19</td>\n",
       "      <td>142779</td>\n",
       "      <td>719</td>\n",
       "      <td>1.21</td>\n",
       "      <td>6207.78</td>\n",
       "    </tr>\n",
       "    <tr>\n",
       "      <th>1</th>\n",
       "      <td>2019-08-01</td>\n",
       "      <td>B</td>\n",
       "      <td>17</td>\n",
       "      <td>17</td>\n",
       "      <td>59758</td>\n",
       "      <td>713</td>\n",
       "      <td>1.00</td>\n",
       "      <td>3515.18</td>\n",
       "    </tr>\n",
       "    <tr>\n",
       "      <th>2</th>\n",
       "      <td>2019-08-02</td>\n",
       "      <td>A</td>\n",
       "      <td>42</td>\n",
       "      <td>36</td>\n",
       "      <td>234381</td>\n",
       "      <td>1338</td>\n",
       "      <td>1.17</td>\n",
       "      <td>5580.50</td>\n",
       "    </tr>\n",
       "    <tr>\n",
       "      <th>3</th>\n",
       "      <td>2019-08-02</td>\n",
       "      <td>B</td>\n",
       "      <td>40</td>\n",
       "      <td>39</td>\n",
       "      <td>221801</td>\n",
       "      <td>1294</td>\n",
       "      <td>1.03</td>\n",
       "      <td>5545.02</td>\n",
       "    </tr>\n",
       "    <tr>\n",
       "      <th>4</th>\n",
       "      <td>2019-08-03</td>\n",
       "      <td>A</td>\n",
       "      <td>66</td>\n",
       "      <td>60</td>\n",
       "      <td>346854</td>\n",
       "      <td>1845</td>\n",
       "      <td>1.10</td>\n",
       "      <td>5255.36</td>\n",
       "    </tr>\n",
       "  </tbody>\n",
       "</table>\n",
       "</div>"
      ],
      "text/plain": [
       "        date group  transactionId  visitorId  revenue  visitors  avg_num  \\\n",
       "0 2019-08-01     A             23         19   142779       719     1.21   \n",
       "1 2019-08-01     B             17         17    59758       713     1.00   \n",
       "2 2019-08-02     A             42         36   234381      1338     1.17   \n",
       "3 2019-08-02     B             40         39   221801      1294     1.03   \n",
       "4 2019-08-03     A             66         60   346854      1845     1.10   \n",
       "\n",
       "   avg_check  \n",
       "0    6207.78  \n",
       "1    3515.18  \n",
       "2    5580.50  \n",
       "3    5545.02  \n",
       "4    5255.36  "
      ]
     },
     "execution_count": 32,
     "metadata": {},
     "output_type": "execute_result"
    }
   ],
   "source": [
    "cumulativeData.head(5)"
   ]
  },
  {
   "cell_type": "markdown",
   "id": "0ecaaccc",
   "metadata": {},
   "source": [
    "В результате получился датасет, с которым можно работать."
   ]
  },
  {
   "cell_type": "code",
   "execution_count": 33,
   "id": "c632fd13",
   "metadata": {},
   "outputs": [
    {
     "name": "stdout",
     "output_type": "stream",
     "text": [
      "<class 'pandas.core.frame.DataFrame'>\n",
      "Int64Index: 62 entries, 0 to 61\n",
      "Data columns (total 8 columns):\n",
      " #   Column         Non-Null Count  Dtype         \n",
      "---  ------         --------------  -----         \n",
      " 0   date           62 non-null     datetime64[ns]\n",
      " 1   group          62 non-null     object        \n",
      " 2   transactionId  62 non-null     int64         \n",
      " 3   visitorId      62 non-null     int64         \n",
      " 4   revenue        62 non-null     int64         \n",
      " 5   visitors       62 non-null     int64         \n",
      " 6   avg_num        62 non-null     float64       \n",
      " 7   avg_check      62 non-null     float64       \n",
      "dtypes: datetime64[ns](1), float64(2), int64(4), object(1)\n",
      "memory usage: 4.4+ KB\n"
     ]
    }
   ],
   "source": [
    "cumulativeData.info()"
   ]
  },
  {
   "cell_type": "code",
   "execution_count": 34,
   "id": "7a5a937e",
   "metadata": {},
   "outputs": [
    {
     "data": {
      "text/plain": [
       "array(['A', 'B'], dtype=object)"
      ]
     },
     "execution_count": 34,
     "metadata": {},
     "output_type": "execute_result"
    }
   ],
   "source": [
    "cumulativeData['group'].unique()"
   ]
  },
  {
   "cell_type": "code",
   "execution_count": 35,
   "id": "ca8990fc",
   "metadata": {},
   "outputs": [
    {
     "data": {
      "text/plain": [
       "Timestamp('2019-08-01 00:00:00')"
      ]
     },
     "execution_count": 35,
     "metadata": {},
     "output_type": "execute_result"
    }
   ],
   "source": [
    "cumulativeData['date'].min()"
   ]
  },
  {
   "cell_type": "code",
   "execution_count": 36,
   "id": "4d35240b",
   "metadata": {},
   "outputs": [
    {
     "data": {
      "text/plain": [
       "Timestamp('2019-08-31 00:00:00')"
      ]
     },
     "execution_count": 36,
     "metadata": {},
     "output_type": "execute_result"
    }
   ],
   "source": [
    "cumulativeData['date'].max()"
   ]
  },
  {
   "cell_type": "code",
   "execution_count": 37,
   "id": "0cfc6a6a",
   "metadata": {},
   "outputs": [
    {
     "data": {
      "text/plain": [
       "31"
      ]
     },
     "execution_count": 37,
     "metadata": {},
     "output_type": "execute_result"
    }
   ],
   "source": [
    "cumulativeData['visitorId'][cumulativeData['group'] == 'A'].count()"
   ]
  },
  {
   "cell_type": "code",
   "execution_count": 38,
   "id": "369a6fd5",
   "metadata": {},
   "outputs": [
    {
     "data": {
      "text/plain": [
       "31"
      ]
     },
     "execution_count": 38,
     "metadata": {},
     "output_type": "execute_result"
    }
   ],
   "source": [
    "cumulativeData['visitorId'][cumulativeData['group'] == 'B'].count()"
   ]
  },
  {
   "cell_type": "markdown",
   "id": "ad09bf41",
   "metadata": {},
   "source": [
    "Таким образом имеем Датасет за месяц 01.08.19 - 31.08.19, с 2 чистыми группами для тестирования - А, В, по 31 человеку. "
   ]
  },
  {
   "cell_type": "markdown",
   "id": "4197ccdd",
   "metadata": {},
   "source": [
    "## 2.1 График кумулятивной выручки по группам."
   ]
  },
  {
   "cell_type": "code",
   "execution_count": 39,
   "id": "bfbcbda8",
   "metadata": {},
   "outputs": [],
   "source": [
    "cumulativeRevenueA = cumulativeData[cumulativeData['group']=='A'][['date','revenue']]\n",
    "cumulativeRevenueB = cumulativeData[cumulativeData['group']=='B'][['date','revenue']]"
   ]
  },
  {
   "cell_type": "code",
   "execution_count": 40,
   "id": "cc854315",
   "metadata": {},
   "outputs": [],
   "source": [
    "mergedCumulativeRevenue = cumulativeRevenueA.merge(cumulativeRevenueB, left_on='date', right_on='date', how='left', suffixes=['A', 'B'])"
   ]
  },
  {
   "cell_type": "code",
   "execution_count": 41,
   "id": "c9f5ef30",
   "metadata": {},
   "outputs": [
    {
     "data": {
      "image/png": "[encoded data removed]",
      "text/plain": [
       "<Figure size 432x288 with 1 Axes>"
      ]
     },
     "metadata": {
      "needs_background": "light"
     },
     "output_type": "display_data"
    }
   ],
   "source": [
    "plt.plot(cumulativeRevenueA['date'], cumulativeRevenueA['revenue'], label='A')\n",
    "plt.plot(cumulativeRevenueB['date'], cumulativeRevenueB['revenue'], label='B')\n",
    "\n",
    "plt.title('График кумулятивной выручки по группам')\n",
    "plt.ylabel('Выручка')\n",
    "plt.xticks(rotation=45)\n",
    "plt.legend()\n",
    "plt.show()"
   ]
  },
  {
   "cell_type": "markdown",
   "id": "20c7844b",
   "metadata": {},
   "source": [
    "У группы B резкий подскок от 2019-08-13, скорее всего - выброс. Группа А - растет линейно."
   ]
  },
  {
   "cell_type": "markdown",
   "id": "1c20ee6a",
   "metadata": {},
   "source": [
    "## 2.2 График кумулятивного среднего чека по группам. "
   ]
  },
  {
   "cell_type": "code",
   "execution_count": 42,
   "id": "89ddedac",
   "metadata": {},
   "outputs": [
    {
     "data": {
      "image/png": "[encoded data removed]",
      "text/plain": [
       "<Figure size 432x288 with 1 Axes>"
      ]
     },
     "metadata": {
      "needs_background": "light"
     },
     "output_type": "display_data"
    }
   ],
   "source": [
    "cumulativeAVGA = cumulativeData[cumulativeData['group']=='A'][['date', 'avg_check']]\n",
    "cumulativeAVGB = cumulativeData[cumulativeData['group']=='B'][['date', 'avg_check']]\n",
    "\n",
    "plt.plot(cumulativeAVGA['date'], cumulativeAVGA['avg_check'], label='A')\n",
    "plt.plot(cumulativeAVGB['date'], cumulativeAVGB['avg_check'], label='B')\n",
    "\n",
    "plt.title('График кумулятивного среднего чека по группам')\n",
    "plt.ylabel('Средний чек')\n",
    "plt.xticks(rotation=45)\n",
    "plt.legend()\n",
    "plt.show()"
   ]
  },
  {
   "cell_type": "markdown",
   "id": "0c2cb4a2",
   "metadata": {},
   "source": [
    "У группы В тоже самое - подскок от 2019-08-13."
   ]
  },
  {
   "cell_type": "markdown",
   "id": "313b1482",
   "metadata": {},
   "source": [
    "## 2.3 График относительного изменения кумулятивного среднего чека группы B к группе A."
   ]
  },
  {
   "cell_type": "code",
   "execution_count": 43,
   "id": "3b3ebb3a",
   "metadata": {},
   "outputs": [],
   "source": [
    "mergedCumulativeAVG = cumulativeAVGA.merge(cumulativeAVGB, left_on='date', right_on='date', how='left', suffixes=['A', 'B'])"
   ]
  },
  {
   "cell_type": "code",
   "execution_count": 44,
   "id": "764dbeec",
   "metadata": {},
   "outputs": [],
   "source": [
    "#mergedCumulativeAVG.head(5)"
   ]
  },
  {
   "cell_type": "code",
   "execution_count": 45,
   "id": "dea55175",
   "metadata": {},
   "outputs": [
    {
     "data": {
      "image/png": "[encoded data removed]",
      "text/plain": [
       "<Figure size 432x288 with 1 Axes>"
      ]
     },
     "metadata": {
      "needs_background": "light"
     },
     "output_type": "display_data"
    }
   ],
   "source": [
    "plt.plot(mergedCumulativeAVG['date'], (mergedCumulativeAVG['avg_checkB']/mergedCumulativeAVG['avg_checkA'])-1)\n",
    "\n",
    "plt.axhline(y=0, color='black', linestyle='--') \n",
    "plt.title('График изменения кумулятивного среднего чека группы B к группе A.')\n",
    "plt.xticks(rotation=45)\n",
    "plt.show()"
   ]
  },
  {
   "cell_type": "markdown",
   "id": "6a7193b6",
   "metadata": {},
   "source": [
    "8-17 явно присутствует аномалия, все 3 графика повторяют одну и ту же картину."
   ]
  },
  {
   "cell_type": "markdown",
   "id": "3c6ff5dd",
   "metadata": {},
   "source": [
    "## 2.4 График кумулятивного среднего количества заказов по группам."
   ]
  },
  {
   "cell_type": "code",
   "execution_count": 46,
   "id": "71fb9a7e",
   "metadata": {},
   "outputs": [
    {
     "data": {
      "image/png": "[encoded data removed]",
      "text/plain": [
       "<Figure size 432x288 with 1 Axes>"
      ]
     },
     "metadata": {
      "needs_background": "light"
     },
     "output_type": "display_data"
    }
   ],
   "source": [
    "cumulativeTransA = cumulativeData[cumulativeData['group']=='A'][['date', 'transactionId']]\n",
    "cumulativeTransB = cumulativeData[cumulativeData['group']=='B'][['date', 'transactionId']]\n",
    "\n",
    "plt.plot(cumulativeTransA['date'], cumulativeTransA['transactionId'], label='A')\n",
    "plt.plot(cumulativeTransB['date'], cumulativeTransB['transactionId'], label='B')\n",
    "\n",
    "plt.title('График кумулятивного среднего количества заказов по группам')\n",
    "plt.ylabel('Заказы')\n",
    "plt.xticks(rotation=45)\n",
    "plt.legend()\n",
    "plt.show()"
   ]
  },
  {
   "cell_type": "markdown",
   "id": "14ec4b46",
   "metadata": {},
   "source": [
    "Выбросов нет, среднее по группе В - немного выше группы А с 2019-08-05"
   ]
  },
  {
   "cell_type": "markdown",
   "id": "58968b76",
   "metadata": {},
   "source": [
    "## 2.5 График относительного изменения кумулятивного среднего количества заказов группы B к группе A."
   ]
  },
  {
   "cell_type": "code",
   "execution_count": 47,
   "id": "23c0ea24",
   "metadata": {},
   "outputs": [
    {
     "data": {
      "image/png": "[encoded data removed]",
      "text/plain": [
       "<Figure size 432x288 with 1 Axes>"
      ]
     },
     "metadata": {
      "needs_background": "light"
     },
     "output_type": "display_data"
    }
   ],
   "source": [
    "cumulativeAVGNUMA = cumulativeData[cumulativeData['group']=='A'][['date', 'avg_num']]\n",
    "cumulativeAVGNUMB = cumulativeData[cumulativeData['group']=='B'][['date', 'avg_num']]\n",
    "\n",
    "plt.plot(cumulativeAVGNUMA['date'], cumulativeAVGNUMA['avg_num'], label='A')\n",
    "plt.plot(cumulativeAVGNUMB['date'], cumulativeAVGNUMB['avg_num'], label='B')\n",
    "\n",
    "plt.title('График кумулятивного среднего количества заказов по группам')\n",
    "plt.ylabel('Заказы')\n",
    "plt.xticks(rotation=45)\n",
    "plt.legend()\n",
    "plt.show()"
   ]
  },
  {
   "cell_type": "markdown",
   "id": "48737eff",
   "metadata": {},
   "source": [
    "Несмотря на то, что у группы В среднее количество заказов меньше чем у группы А, виден ее плавный рост. В группе А присутствует аномалия от первого дня, которая, скорее всего влияет на график."
   ]
  },
  {
   "cell_type": "markdown",
   "id": "37e1592e",
   "metadata": {},
   "source": [
    "## 2.6 Точечный график количества заказов по пользователям."
   ]
  },
  {
   "cell_type": "code",
   "execution_count": 48,
   "id": "ac00f7a9",
   "metadata": {},
   "outputs": [],
   "source": [
    "orders_per_user = orders.groupby('visitorId', as_index=False).agg({'transactionId':'nunique'}).rename(columns={'transactionid':'orders'})\n",
    "#orders_per_user.head()"
   ]
  },
  {
   "cell_type": "code",
   "execution_count": 49,
   "id": "3e7ab070",
   "metadata": {},
   "outputs": [
    {
     "data": {
      "image/png": "[encoded data removed]",
      "text/plain": [
       "<Figure size 432x288 with 1 Axes>"
      ]
     },
     "metadata": {
      "needs_background": "light"
     },
     "output_type": "display_data"
    }
   ],
   "source": [
    "x_values = pd.Series(range(0,len(orders_per_user['transactionId'])))\n",
    "\n",
    "plt.scatter(x_values, orders_per_user['transactionId'])\n",
    "plt.title('Точечный график количества заказов по пользователям')\n",
    "plt.ylabel('Заказы')\n",
    "plt.show()"
   ]
  },
  {
   "cell_type": "markdown",
   "id": "5d8be9b1",
   "metadata": {},
   "source": [
    "В основном покупка происходит 1 раз, однако есть пользователи, совершившие 8+ покупок."
   ]
  },
  {
   "cell_type": "markdown",
   "id": "06aa5a01",
   "metadata": {},
   "source": [
    "## 2.7 95-й и 99-й перцентили количества заказов на пользователя."
   ]
  },
  {
   "cell_type": "code",
   "execution_count": 50,
   "id": "16867677",
   "metadata": {},
   "outputs": [
    {
     "name": "stdout",
     "output_type": "stream",
     "text": [
      "[1. 2.]\n"
     ]
    }
   ],
   "source": [
    "print(np.percentile(orders_per_user['transactionId'], [95, 99]))"
   ]
  },
  {
   "cell_type": "code",
   "execution_count": 51,
   "id": "7a0159f0",
   "metadata": {},
   "outputs": [],
   "source": [
    "orders_per_user_clear = orders_per_user[orders_per_user['transactionId'] >= 4]['visitorId'].to_list()"
   ]
  },
  {
   "cell_type": "markdown",
   "id": "29bd7903",
   "metadata": {},
   "source": [
    "Не более чем у 5% количество заказов превышает 2 раз, и не больше чем у 1% заказов - 4+.\n",
    "\n",
    "Все что сверх 99% - аномально."
   ]
  },
  {
   "cell_type": "markdown",
   "id": "ec6de82e",
   "metadata": {},
   "source": [
    "## 2.8 Точечный график стоимостей заказов."
   ]
  },
  {
   "cell_type": "code",
   "execution_count": 52,
   "id": "5ef80499",
   "metadata": {},
   "outputs": [
    {
     "data": {
      "image/png": "[encoded data removed]",
      "text/plain": [
       "<Figure size 432x288 with 1 Axes>"
      ]
     },
     "metadata": {
      "needs_background": "light"
     },
     "output_type": "display_data"
    }
   ],
   "source": [
    "x_values = pd.Series(range(0,len(orders['revenue'])))\n",
    "\n",
    "plt.scatter(x_values, orders['revenue'])\n",
    "plt.title('Точечный график стоимостей заказов по пользователям')\n",
    "plt.ylabel('Заказы')\n",
    "plt.show()"
   ]
  },
  {
   "cell_type": "markdown",
   "id": "61494b6c",
   "metadata": {},
   "source": [
    "Отчетливо видно, что присутствуют 2 выброса."
   ]
  },
  {
   "cell_type": "markdown",
   "id": "910cd667",
   "metadata": {},
   "source": [
    "## 2.9 95-й и 99-й перцентили стоимости заказов."
   ]
  },
  {
   "cell_type": "code",
   "execution_count": 53,
   "id": "66a58706",
   "metadata": {},
   "outputs": [
    {
     "name": "stdout",
     "output_type": "stream",
     "text": [
      "[26785. 53904.]\n"
     ]
    }
   ],
   "source": [
    "print(np.percentile(orders['revenue'], [95, 99]))"
   ]
  },
  {
   "cell_type": "code",
   "execution_count": 54,
   "id": "b9a61764",
   "metadata": {},
   "outputs": [],
   "source": [
    "orders_revenue_clear = orders.query('revenue <= 58233.2')"
   ]
  },
  {
   "cell_type": "markdown",
   "id": "c43e8f92",
   "metadata": {},
   "source": [
    "Не более чем у 5% стоимость заказов превышает 28000, и не больше чем у 1% стоимость заказов - 58233.2.\n",
    "\n",
    "Все что сверх 99% - аномально"
   ]
  },
  {
   "cell_type": "markdown",
   "id": "81afeb99",
   "metadata": {},
   "source": [
    "# 3 Расчет статистической значимости различий"
   ]
  },
  {
   "cell_type": "markdown",
   "id": "997b8f36",
   "metadata": {},
   "source": [
    "## 3.1 Статистическая значимость различий в среднем количестве заказов между группами по «сырым» данным."
   ]
  },
  {
   "cell_type": "code",
   "execution_count": 55,
   "id": "c3e756b4",
   "metadata": {},
   "outputs": [],
   "source": [
    "import math\n",
    "import scipy.stats as stats\n",
    "from scipy import stats as st"
   ]
  },
  {
   "cell_type": "code",
   "execution_count": 56,
   "id": "dbdf33c6",
   "metadata": {},
   "outputs": [
    {
     "data": {
      "text/html": [
       "<div>\n",
       "<style scoped>\n",
       "    .dataframe tbody tr th:only-of-type {\n",
       "        vertical-align: middle;\n",
       "    }\n",
       "\n",
       "    .dataframe tbody tr th {\n",
       "        vertical-align: top;\n",
       "    }\n",
       "\n",
       "    .dataframe thead th {\n",
       "        text-align: right;\n",
       "    }\n",
       "</style>\n",
       "<table border=\"1\" class=\"dataframe\">\n",
       "  <thead>\n",
       "    <tr style=\"text-align: right;\">\n",
       "      <th></th>\n",
       "      <th>transactionId</th>\n",
       "      <th>visitorId</th>\n",
       "      <th>date</th>\n",
       "      <th>revenue</th>\n",
       "      <th>group</th>\n",
       "    </tr>\n",
       "  </thead>\n",
       "  <tbody>\n",
       "    <tr>\n",
       "      <th>0</th>\n",
       "      <td>3667963787</td>\n",
       "      <td>3312258926</td>\n",
       "      <td>2019-08-15</td>\n",
       "      <td>1650</td>\n",
       "      <td>B</td>\n",
       "    </tr>\n",
       "    <tr>\n",
       "      <th>1</th>\n",
       "      <td>2804400009</td>\n",
       "      <td>3642806036</td>\n",
       "      <td>2019-08-15</td>\n",
       "      <td>730</td>\n",
       "      <td>B</td>\n",
       "    </tr>\n",
       "    <tr>\n",
       "      <th>3</th>\n",
       "      <td>3797467345</td>\n",
       "      <td>1196621759</td>\n",
       "      <td>2019-08-15</td>\n",
       "      <td>9759</td>\n",
       "      <td>B</td>\n",
       "    </tr>\n",
       "    <tr>\n",
       "      <th>4</th>\n",
       "      <td>2282983706</td>\n",
       "      <td>2322279887</td>\n",
       "      <td>2019-08-15</td>\n",
       "      <td>2308</td>\n",
       "      <td>B</td>\n",
       "    </tr>\n",
       "    <tr>\n",
       "      <th>5</th>\n",
       "      <td>182168103</td>\n",
       "      <td>935554773</td>\n",
       "      <td>2019-08-15</td>\n",
       "      <td>2210</td>\n",
       "      <td>B</td>\n",
       "    </tr>\n",
       "  </tbody>\n",
       "</table>\n",
       "</div>"
      ],
      "text/plain": [
       "   transactionId   visitorId       date  revenue group\n",
       "0     3667963787  3312258926 2019-08-15     1650     B\n",
       "1     2804400009  3642806036 2019-08-15      730     B\n",
       "3     3797467345  1196621759 2019-08-15     9759     B\n",
       "4     2282983706  2322279887 2019-08-15     2308     B\n",
       "5      182168103   935554773 2019-08-15     2210     B"
      ]
     },
     "execution_count": 56,
     "metadata": {},
     "output_type": "execute_result"
    }
   ],
   "source": [
    "orders.head(5)"
   ]
  },
  {
   "cell_type": "code",
   "execution_count": 57,
   "id": "b942d176",
   "metadata": {},
   "outputs": [
    {
     "data": {
      "text/html": [
       "<div>\n",
       "<style scoped>\n",
       "    .dataframe tbody tr th:only-of-type {\n",
       "        vertical-align: middle;\n",
       "    }\n",
       "\n",
       "    .dataframe tbody tr th {\n",
       "        vertical-align: top;\n",
       "    }\n",
       "\n",
       "    .dataframe thead th {\n",
       "        text-align: right;\n",
       "    }\n",
       "</style>\n",
       "<table border=\"1\" class=\"dataframe\">\n",
       "  <thead>\n",
       "    <tr style=\"text-align: right;\">\n",
       "      <th></th>\n",
       "      <th>date</th>\n",
       "      <th>group</th>\n",
       "      <th>visitors</th>\n",
       "    </tr>\n",
       "  </thead>\n",
       "  <tbody>\n",
       "    <tr>\n",
       "      <th>0</th>\n",
       "      <td>2019-08-01</td>\n",
       "      <td>A</td>\n",
       "      <td>719</td>\n",
       "    </tr>\n",
       "    <tr>\n",
       "      <th>1</th>\n",
       "      <td>2019-08-02</td>\n",
       "      <td>A</td>\n",
       "      <td>619</td>\n",
       "    </tr>\n",
       "    <tr>\n",
       "      <th>2</th>\n",
       "      <td>2019-08-03</td>\n",
       "      <td>A</td>\n",
       "      <td>507</td>\n",
       "    </tr>\n",
       "    <tr>\n",
       "      <th>3</th>\n",
       "      <td>2019-08-04</td>\n",
       "      <td>A</td>\n",
       "      <td>717</td>\n",
       "    </tr>\n",
       "    <tr>\n",
       "      <th>4</th>\n",
       "      <td>2019-08-05</td>\n",
       "      <td>A</td>\n",
       "      <td>756</td>\n",
       "    </tr>\n",
       "  </tbody>\n",
       "</table>\n",
       "</div>"
      ],
      "text/plain": [
       "        date group  visitors\n",
       "0 2019-08-01     A       719\n",
       "1 2019-08-02     A       619\n",
       "2 2019-08-03     A       507\n",
       "3 2019-08-04     A       717\n",
       "4 2019-08-05     A       756"
      ]
     },
     "execution_count": 57,
     "metadata": {},
     "output_type": "execute_result"
    }
   ],
   "source": [
    "visitors.head(5)"
   ]
  },
  {
   "cell_type": "code",
   "execution_count": 58,
   "id": "724a28aa",
   "metadata": {},
   "outputs": [],
   "source": [
    "avg_num = (orders.groupby('group').agg({'transactionId':'count'}).rename(columns={'transactionId':'orders'})).join((visitors.groupby('group').agg({'visitors':'sum'}))).reset_index()\n",
    "           \n",
    "avg_num['avg_num'] = avg_num['orders'] / avg_num['visitors']"
   ]
  },
  {
   "cell_type": "code",
   "execution_count": 59,
   "id": "b58625c2",
   "metadata": {},
   "outputs": [
    {
     "data": {
      "text/html": [
       "<div>\n",
       "<style scoped>\n",
       "    .dataframe tbody tr th:only-of-type {\n",
       "        vertical-align: middle;\n",
       "    }\n",
       "\n",
       "    .dataframe tbody tr th {\n",
       "        vertical-align: top;\n",
       "    }\n",
       "\n",
       "    .dataframe thead th {\n",
       "        text-align: right;\n",
       "    }\n",
       "</style>\n",
       "<table border=\"1\" class=\"dataframe\">\n",
       "  <thead>\n",
       "    <tr style=\"text-align: right;\">\n",
       "      <th></th>\n",
       "      <th>group</th>\n",
       "      <th>orders</th>\n",
       "      <th>visitors</th>\n",
       "      <th>avg_num</th>\n",
       "    </tr>\n",
       "  </thead>\n",
       "  <tbody>\n",
       "    <tr>\n",
       "      <th>0</th>\n",
       "      <td>A</td>\n",
       "      <td>468</td>\n",
       "      <td>18736</td>\n",
       "      <td>0.024979</td>\n",
       "    </tr>\n",
       "    <tr>\n",
       "      <th>1</th>\n",
       "      <td>B</td>\n",
       "      <td>548</td>\n",
       "      <td>18916</td>\n",
       "      <td>0.028970</td>\n",
       "    </tr>\n",
       "  </tbody>\n",
       "</table>\n",
       "</div>"
      ],
      "text/plain": [
       "  group  orders  visitors   avg_num\n",
       "0     A     468     18736  0.024979\n",
       "1     B     548     18916  0.028970"
      ]
     },
     "execution_count": 59,
     "metadata": {},
     "output_type": "execute_result"
    }
   ],
   "source": [
    "avg_num"
   ]
  },
  {
   "cell_type": "markdown",
   "id": "9c39ff89",
   "metadata": {},
   "source": [
    "B среднем количестве заказов между группами B значительно больше. "
   ]
  },
  {
   "cell_type": "markdown",
   "id": "ab7180a7",
   "metadata": {},
   "source": [
    "H0: Количествo заказов в группе A равна количеству заказов в группе B\n",
    "\n",
    "H1: Количествo заказов в группе A НЕ равна количеству заказов в группе B"
   ]
  },
  {
   "cell_type": "code",
   "execution_count": 60,
   "id": "65adb0d4",
   "metadata": {},
   "outputs": [
    {
     "name": "stdout",
     "output_type": "stream",
     "text": [
      "p-значение:  0.016851380434703023\n",
      "Отвергаем нулевую гипотезу\n"
     ]
    }
   ],
   "source": [
    "alpha=0.05\n",
    "purchases = np.array(avg_num['orders'])\n",
    "leads = np.array(avg_num['visitors'])\n",
    "p1 = purchases[0] / leads[0]\n",
    "p2 = purchases[1] / leads[1]\n",
    "combined = (purchases[0] + purchases[1]) / (leads[0] + leads[1])\n",
    "difference = p1-p2\n",
    "z_value = difference / math.sqrt(combined * (1 - combined) * (1 / leads[0] + 1 / leads[1]))\n",
    "distr = st.norm(0,1)\n",
    "p_value = (1 - distr.cdf(abs(z_value))) * 2\n",
    "\n",
    "print('p-значение: ', p_value)\n",
    "if (p_value < alpha):\n",
    "    print('Отвергаем нулевую гипотезу')\n",
    "else:\n",
    "    print('Не получилось отвергнуть нулевую гипотезу')"
   ]
  },
  {
   "cell_type": "markdown",
   "id": "ea938126",
   "metadata": {},
   "source": [
    "## 3.2 Статистическая значимость различий в среднем чеке заказа между группами по «сырым» данным."
   ]
  },
  {
   "cell_type": "markdown",
   "id": "58070409",
   "metadata": {},
   "source": [
    "H0: Средний чек B превышает средний чек группы A\n",
    "\n",
    "H1: Средний чек B НЕ превышает средний чек группы A"
   ]
  },
  {
   "cell_type": "code",
   "execution_count": 61,
   "id": "657ca32f",
   "metadata": {
    "scrolled": true
   },
   "outputs": [
    {
     "data": {
      "text/plain": [
       "7189.436"
      ]
     },
     "execution_count": 61,
     "metadata": {},
     "output_type": "execute_result"
    }
   ],
   "source": [
    "round(orders[orders['group']=='A']['revenue'].mean(), 3)"
   ]
  },
  {
   "cell_type": "code",
   "execution_count": 62,
   "id": "88c31b37",
   "metadata": {},
   "outputs": [
    {
     "data": {
      "text/plain": [
       "9249.94890510949"
      ]
     },
     "execution_count": 62,
     "metadata": {},
     "output_type": "execute_result"
    }
   ],
   "source": [
    "orders[orders['group']=='B']['revenue'].mean()"
   ]
  },
  {
   "cell_type": "markdown",
   "id": "d33ef3ff",
   "metadata": {},
   "source": [
    "##### Воспользуемся критерием Манна-Уитни."
   ]
  },
  {
   "cell_type": "markdown",
   "id": "135212be",
   "metadata": {},
   "source": [
    "Ключевая идея — проранжировать две выборки по порядку от меньшего к большему и сравнить ранги одних и тех же значений, попавших в обе выборки. Ранг — это место в упорядоченной выборке. Разница между рангами одних и тех же значений может быть одинакова, и такой сдвиг называют типичным. Значит, просто добавились значения, сдвинувшие все остальные."
   ]
  },
  {
   "cell_type": "code",
   "execution_count": 63,
   "id": "cc927106",
   "metadata": {},
   "outputs": [
    {
     "name": "stdout",
     "output_type": "stream",
     "text": [
      "p-значение:  0.5853381584349621\n",
      "Не получилось отвергнуть нулевую гипотезу, вывод о различии сделать нельзя\n"
     ]
    }
   ],
   "source": [
    "alpha = 0.05\n",
    "results = st.mannwhitneyu(orders[orders['group']=='B']['revenue'], orders[orders['group']=='A']['revenue'], True, 'greater')\n",
    "pvalue = results.pvalue\n",
    "print('p-значение: ', pvalue)\n",
    "if (pvalue < alpha):\n",
    "    print('Отвергаем нулевую гипотезу')\n",
    "else:\n",
    "    print('Не получилось отвергнуть нулевую гипотезу, вывод о различии сделать нельзя')"
   ]
  },
  {
   "cell_type": "markdown",
   "id": "2621e48c",
   "metadata": {},
   "source": [
    "Средний чек B превышает средний чек группы A"
   ]
  },
  {
   "cell_type": "markdown",
   "id": "ad043e11",
   "metadata": {},
   "source": [
    "## 3.3 Статистическая значимость различий в среднем количестве заказов между группами по «очищенным» данным."
   ]
  },
  {
   "cell_type": "code",
   "execution_count": 64,
   "id": "4e348af8",
   "metadata": {},
   "outputs": [],
   "source": [
    "orders_clear = orders[~orders['visitorId'].isin(orders_per_user_clear)]\n",
    "conversion_clear = (orders_clear.groupby('group').agg({'transactionId':'count'}).rename(columns={'transactionId':'orders'})).join((visitors.groupby('group').agg({'visitors':'sum'}))).reset_index()"
   ]
  },
  {
   "cell_type": "code",
   "execution_count": 65,
   "id": "0bb232ad",
   "metadata": {},
   "outputs": [
    {
     "data": {
      "text/html": [
       "<div>\n",
       "<style scoped>\n",
       "    .dataframe tbody tr th:only-of-type {\n",
       "        vertical-align: middle;\n",
       "    }\n",
       "\n",
       "    .dataframe tbody tr th {\n",
       "        vertical-align: top;\n",
       "    }\n",
       "\n",
       "    .dataframe thead th {\n",
       "        text-align: right;\n",
       "    }\n",
       "</style>\n",
       "<table border=\"1\" class=\"dataframe\">\n",
       "  <thead>\n",
       "    <tr style=\"text-align: right;\">\n",
       "      <th></th>\n",
       "      <th>group</th>\n",
       "      <th>orders</th>\n",
       "      <th>visitors</th>\n",
       "    </tr>\n",
       "  </thead>\n",
       "  <tbody>\n",
       "    <tr>\n",
       "      <th>0</th>\n",
       "      <td>A</td>\n",
       "      <td>468</td>\n",
       "      <td>18736</td>\n",
       "    </tr>\n",
       "    <tr>\n",
       "      <th>1</th>\n",
       "      <td>B</td>\n",
       "      <td>548</td>\n",
       "      <td>18916</td>\n",
       "    </tr>\n",
       "  </tbody>\n",
       "</table>\n",
       "</div>"
      ],
      "text/plain": [
       "  group  orders  visitors\n",
       "0     A     468     18736\n",
       "1     B     548     18916"
      ]
     },
     "execution_count": 65,
     "metadata": {},
     "output_type": "execute_result"
    }
   ],
   "source": [
    "conversion_clear"
   ]
  },
  {
   "cell_type": "markdown",
   "id": "68bfbf6b",
   "metadata": {},
   "source": [
    "H0: Cреднее количество заказов в группе A равна среднему количеству заказов в группе B\n",
    "\n",
    "H1: Cреднее количество заказов в группе A НЕ равна среднему количеству заказов в группе B"
   ]
  },
  {
   "cell_type": "code",
   "execution_count": 72,
   "id": "3a57c2b4",
   "metadata": {},
   "outputs": [
    {
     "data": {
      "text/html": [
       "<div>\n",
       "<style scoped>\n",
       "    .dataframe tbody tr th:only-of-type {\n",
       "        vertical-align: middle;\n",
       "    }\n",
       "\n",
       "    .dataframe tbody tr th {\n",
       "        vertical-align: top;\n",
       "    }\n",
       "\n",
       "    .dataframe thead th {\n",
       "        text-align: right;\n",
       "    }\n",
       "</style>\n",
       "<table border=\"1\" class=\"dataframe\">\n",
       "  <thead>\n",
       "    <tr style=\"text-align: right;\">\n",
       "      <th></th>\n",
       "      <th>group</th>\n",
       "      <th>orders</th>\n",
       "      <th>visitors</th>\n",
       "    </tr>\n",
       "  </thead>\n",
       "  <tbody>\n",
       "    <tr>\n",
       "      <th>0</th>\n",
       "      <td>A</td>\n",
       "      <td>468</td>\n",
       "      <td>18736</td>\n",
       "    </tr>\n",
       "    <tr>\n",
       "      <th>1</th>\n",
       "      <td>B</td>\n",
       "      <td>548</td>\n",
       "      <td>18916</td>\n",
       "    </tr>\n",
       "  </tbody>\n",
       "</table>\n",
       "</div>"
      ],
      "text/plain": [
       "  group  orders  visitors\n",
       "0     A     468     18736\n",
       "1     B     548     18916"
      ]
     },
     "execution_count": 72,
     "metadata": {},
     "output_type": "execute_result"
    }
   ],
   "source": [
    "conversion_clear"
   ]
  },
  {
   "cell_type": "code",
   "execution_count": 66,
   "id": "88c5df90",
   "metadata": {},
   "outputs": [
    {
     "name": "stdout",
     "output_type": "stream",
     "text": [
      "p-значение:  0.016851380434703023\n",
      "Отвергаем нулевую гипотезу\n"
     ]
    }
   ],
   "source": [
    "alpha=0.05\n",
    "purchases = np.array(conversion_clear['orders'])\n",
    "leads = np.array(conversion_clear['visitors'])\n",
    "p1 = purchases[0] / leads[0]\n",
    "p2 = purchases[1] / leads[1]\n",
    "combined = (purchases[0] + purchases[1]) / (leads[0] + leads[1])\n",
    "difference = p1-p2\n",
    "z_value = difference / math.sqrt(combined * (1 - combined) * (1 / leads[0] + 1 / leads[1]))\n",
    "distr = st.norm(0,1)\n",
    "p_value = (1 - distr.cdf(abs(z_value))) * 2\n",
    "print('p-значение: ', p_value)\n",
    "if (p_value < alpha):\n",
    "    print('Отвергаем нулевую гипотезу')\n",
    "else:\n",
    "    print('Не получилось отвергнуть нулевую гипотезу')"
   ]
  },
  {
   "cell_type": "markdown",
   "id": "34351024",
   "metadata": {},
   "source": [
    " Cреднее количество заказов в группе A НЕ равна среднему количеству заказов в группе B"
   ]
  },
  {
   "cell_type": "markdown",
   "id": "10953130",
   "metadata": {},
   "source": [
    "## 3.4 Статистическую значимость различий в среднем чеке заказа между группами по «очищенным» данным."
   ]
  },
  {
   "cell_type": "code",
   "execution_count": 67,
   "id": "f5313b93",
   "metadata": {},
   "outputs": [
    {
     "data": {
      "text/html": [
       "<div>\n",
       "<style scoped>\n",
       "    .dataframe tbody tr th:only-of-type {\n",
       "        vertical-align: middle;\n",
       "    }\n",
       "\n",
       "    .dataframe tbody tr th {\n",
       "        vertical-align: top;\n",
       "    }\n",
       "\n",
       "    .dataframe thead th {\n",
       "        text-align: right;\n",
       "    }\n",
       "</style>\n",
       "<table border=\"1\" class=\"dataframe\">\n",
       "  <thead>\n",
       "    <tr style=\"text-align: right;\">\n",
       "      <th></th>\n",
       "      <th>transactionId</th>\n",
       "      <th>visitorId</th>\n",
       "      <th>date</th>\n",
       "      <th>revenue</th>\n",
       "      <th>group</th>\n",
       "    </tr>\n",
       "  </thead>\n",
       "  <tbody>\n",
       "    <tr>\n",
       "      <th>0</th>\n",
       "      <td>3667963787</td>\n",
       "      <td>3312258926</td>\n",
       "      <td>2019-08-15</td>\n",
       "      <td>1650</td>\n",
       "      <td>B</td>\n",
       "    </tr>\n",
       "    <tr>\n",
       "      <th>1</th>\n",
       "      <td>2804400009</td>\n",
       "      <td>3642806036</td>\n",
       "      <td>2019-08-15</td>\n",
       "      <td>730</td>\n",
       "      <td>B</td>\n",
       "    </tr>\n",
       "    <tr>\n",
       "      <th>3</th>\n",
       "      <td>3797467345</td>\n",
       "      <td>1196621759</td>\n",
       "      <td>2019-08-15</td>\n",
       "      <td>9759</td>\n",
       "      <td>B</td>\n",
       "    </tr>\n",
       "    <tr>\n",
       "      <th>4</th>\n",
       "      <td>2282983706</td>\n",
       "      <td>2322279887</td>\n",
       "      <td>2019-08-15</td>\n",
       "      <td>2308</td>\n",
       "      <td>B</td>\n",
       "    </tr>\n",
       "    <tr>\n",
       "      <th>5</th>\n",
       "      <td>182168103</td>\n",
       "      <td>935554773</td>\n",
       "      <td>2019-08-15</td>\n",
       "      <td>2210</td>\n",
       "      <td>B</td>\n",
       "    </tr>\n",
       "    <tr>\n",
       "      <th>...</th>\n",
       "      <td>...</td>\n",
       "      <td>...</td>\n",
       "      <td>...</td>\n",
       "      <td>...</td>\n",
       "      <td>...</td>\n",
       "    </tr>\n",
       "    <tr>\n",
       "      <th>1190</th>\n",
       "      <td>38478481</td>\n",
       "      <td>1197745035</td>\n",
       "      <td>2019-08-14</td>\n",
       "      <td>8600</td>\n",
       "      <td>B</td>\n",
       "    </tr>\n",
       "    <tr>\n",
       "      <th>1191</th>\n",
       "      <td>3592955527</td>\n",
       "      <td>608641596</td>\n",
       "      <td>2019-08-14</td>\n",
       "      <td>16490</td>\n",
       "      <td>B</td>\n",
       "    </tr>\n",
       "    <tr>\n",
       "      <th>1192</th>\n",
       "      <td>2662137336</td>\n",
       "      <td>3733762160</td>\n",
       "      <td>2019-08-14</td>\n",
       "      <td>6490</td>\n",
       "      <td>B</td>\n",
       "    </tr>\n",
       "    <tr>\n",
       "      <th>1193</th>\n",
       "      <td>2203539145</td>\n",
       "      <td>370388673</td>\n",
       "      <td>2019-08-14</td>\n",
       "      <td>3190</td>\n",
       "      <td>A</td>\n",
       "    </tr>\n",
       "    <tr>\n",
       "      <th>1194</th>\n",
       "      <td>1807773912</td>\n",
       "      <td>573423106</td>\n",
       "      <td>2019-08-14</td>\n",
       "      <td>10550</td>\n",
       "      <td>A</td>\n",
       "    </tr>\n",
       "  </tbody>\n",
       "</table>\n",
       "<p>1007 rows × 5 columns</p>\n",
       "</div>"
      ],
      "text/plain": [
       "      transactionId   visitorId       date  revenue group\n",
       "0        3667963787  3312258926 2019-08-15     1650     B\n",
       "1        2804400009  3642806036 2019-08-15      730     B\n",
       "3        3797467345  1196621759 2019-08-15     9759     B\n",
       "4        2282983706  2322279887 2019-08-15     2308     B\n",
       "5         182168103   935554773 2019-08-15     2210     B\n",
       "...             ...         ...        ...      ...   ...\n",
       "1190       38478481  1197745035 2019-08-14     8600     B\n",
       "1191     3592955527   608641596 2019-08-14    16490     B\n",
       "1192     2662137336  3733762160 2019-08-14     6490     B\n",
       "1193     2203539145   370388673 2019-08-14     3190     A\n",
       "1194     1807773912   573423106 2019-08-14    10550     A\n",
       "\n",
       "[1007 rows x 5 columns]"
      ]
     },
     "execution_count": 67,
     "metadata": {},
     "output_type": "execute_result"
    }
   ],
   "source": [
    "orders_revenue_clear"
   ]
  },
  {
   "cell_type": "code",
   "execution_count": 68,
   "id": "603aa2af",
   "metadata": {},
   "outputs": [
    {
     "data": {
      "text/html": [
       "<div>\n",
       "<style scoped>\n",
       "    .dataframe tbody tr th:only-of-type {\n",
       "        vertical-align: middle;\n",
       "    }\n",
       "\n",
       "    .dataframe tbody tr th {\n",
       "        vertical-align: top;\n",
       "    }\n",
       "\n",
       "    .dataframe thead th {\n",
       "        text-align: right;\n",
       "    }\n",
       "</style>\n",
       "<table border=\"1\" class=\"dataframe\">\n",
       "  <thead>\n",
       "    <tr style=\"text-align: right;\">\n",
       "      <th></th>\n",
       "      <th>group</th>\n",
       "      <th>orders</th>\n",
       "      <th>revenue</th>\n",
       "      <th>avg_check</th>\n",
       "    </tr>\n",
       "  </thead>\n",
       "  <tbody>\n",
       "    <tr>\n",
       "      <th>0</th>\n",
       "      <td>A</td>\n",
       "      <td>463</td>\n",
       "      <td>3011606</td>\n",
       "      <td>6504.55</td>\n",
       "    </tr>\n",
       "    <tr>\n",
       "      <th>1</th>\n",
       "      <td>B</td>\n",
       "      <td>544</td>\n",
       "      <td>3426562</td>\n",
       "      <td>6298.83</td>\n",
       "    </tr>\n",
       "  </tbody>\n",
       "</table>\n",
       "</div>"
      ],
      "text/plain": [
       "  group  orders  revenue  avg_check\n",
       "0     A     463  3011606    6504.55\n",
       "1     B     544  3426562    6298.83"
      ]
     },
     "execution_count": 68,
     "metadata": {},
     "output_type": "execute_result"
    }
   ],
   "source": [
    "avg_check_clear = (orders_revenue_clear.groupby('group').agg({'transactionId':'count', 'revenue': 'sum'}).rename(columns={'transactionId':'orders'})).reset_index()\n",
    "avg_check_clear['avg_check'] = round(avg_check_clear['revenue'] / avg_check_clear['orders'], 2)\n",
    "avg_check_clear.head(5)"
   ]
  },
  {
   "cell_type": "code",
   "execution_count": 69,
   "id": "da5eecd1",
   "metadata": {},
   "outputs": [],
   "source": [
    "#print(avg_check_clear[avg_check_clear['group']=='A']['avg_check'])"
   ]
  },
  {
   "cell_type": "code",
   "execution_count": 70,
   "id": "8f171e2a",
   "metadata": {},
   "outputs": [],
   "source": [
    "#print(avg_check_clear[avg_check_clear['group']=='B']['avg_check'])"
   ]
  },
  {
   "cell_type": "markdown",
   "id": "a7617611",
   "metadata": {},
   "source": [
    "H0: Средний чек A НЕ превосходит среднему чеку группы B\n",
    "\n",
    "H1: Средний чек A превосходит среднему чеку группы B"
   ]
  },
  {
   "cell_type": "code",
   "execution_count": 71,
   "id": "5c636810",
   "metadata": {},
   "outputs": [
    {
     "name": "stdout",
     "output_type": "stream",
     "text": [
      "p-значение:  1.0\n",
      "Не получилось отвергнуть нулевую гипотезу\n"
     ]
    }
   ],
   "source": [
    "alpha = 0.05\n",
    "results = st.mannwhitneyu(avg_check_clear[avg_check_clear['group']=='A']['avg_check'], avg_check_clear[avg_check_clear['group']=='B']['avg_check'])\n",
    "pvalue = results.pvalue\n",
    "print('p-значение: ', pvalue)\n",
    "if (pvalue < alpha):\n",
    "    print('Отвергаем нулевую гипотезу')\n",
    "else:\n",
    "    print('Не получилось отвергнуть нулевую гипотезу')"
   ]
  },
  {
   "cell_type": "markdown",
   "id": "74ad8a96",
   "metadata": {},
   "source": [
    "Средний чек A НЕ превосходит среднему чеку группы B"
   ]
  },
  {
   "cell_type": "markdown",
   "id": "77a6f301",
   "metadata": {},
   "source": [
    "# 4 Pешение по результатам теста."
   ]
  },
  {
   "cell_type": "markdown",
   "id": "71929666",
   "metadata": {},
   "source": [
    "Статистическая значимость различий по очищенным данным говорит нам о следующем: \n",
    "\n",
    " - Cреднее количество заказов в группе A НЕ равна среднему количеству заказов в группе B\n",
    " - Средний чек A НЕ превосходит среднему чеку группы B,\n",
    " \n",
    "##### таким образом можем остановить тест, зафиксировать победу группы В."
   ]
  }
 ],
 "metadata": {
  "ExecuteTimeLog": [
   {
    "duration": 45,
    "start_time": "2022-11-21T11:53:12.630Z"
   },
   {
    "duration": 6,
    "start_time": "2022-11-21T11:54:30.460Z"
   },
   {
    "duration": 5,
    "start_time": "2022-11-21T11:54:33.774Z"
   },
   {
    "duration": 810,
    "start_time": "2022-11-21T11:54:38.408Z"
   },
   {
    "duration": 106,
    "start_time": "2022-11-21T11:54:39.220Z"
   },
   {
    "duration": 4,
    "start_time": "2022-11-21T11:54:39.327Z"
   },
   {
    "duration": 20,
    "start_time": "2022-11-21T11:54:39.332Z"
   },
   {
    "duration": 3,
    "start_time": "2022-11-21T11:54:39.354Z"
   },
   {
    "duration": 9,
    "start_time": "2022-11-21T11:54:39.359Z"
   },
   {
    "duration": 4,
    "start_time": "2022-11-21T11:54:39.370Z"
   },
   {
    "duration": 11,
    "start_time": "2022-11-21T11:54:39.376Z"
   },
   {
    "duration": 6,
    "start_time": "2022-11-21T11:54:39.389Z"
   },
   {
    "duration": 6,
    "start_time": "2022-11-21T11:54:39.398Z"
   },
   {
    "duration": 17,
    "start_time": "2022-11-21T11:54:39.405Z"
   },
   {
    "duration": 171,
    "start_time": "2022-11-21T11:54:39.424Z"
   },
   {
    "duration": 2,
    "start_time": "2022-11-21T11:54:39.597Z"
   },
   {
    "duration": 24,
    "start_time": "2022-11-21T11:54:39.601Z"
   },
   {
    "duration": 7,
    "start_time": "2022-11-21T11:54:39.627Z"
   },
   {
    "duration": 5,
    "start_time": "2022-11-21T11:54:39.636Z"
   },
   {
    "duration": 8,
    "start_time": "2022-11-21T11:54:39.643Z"
   },
   {
    "duration": 184,
    "start_time": "2022-11-21T11:54:39.653Z"
   },
   {
    "duration": 143,
    "start_time": "2022-11-21T11:54:39.838Z"
   },
   {
    "duration": 14,
    "start_time": "2022-11-21T11:54:39.983Z"
   },
   {
    "duration": 9,
    "start_time": "2022-11-21T11:54:39.998Z"
   },
   {
    "duration": 28,
    "start_time": "2022-11-21T11:54:40.009Z"
   },
   {
    "duration": 16,
    "start_time": "2022-11-21T11:54:40.038Z"
   },
   {
    "duration": 11,
    "start_time": "2022-11-21T11:54:40.055Z"
   },
   {
    "duration": 301,
    "start_time": "2022-11-21T11:54:40.068Z"
   },
   {
    "duration": 201,
    "start_time": "2022-11-21T11:54:40.371Z"
   },
   {
    "duration": 6,
    "start_time": "2022-11-21T11:54:40.574Z"
   },
   {
    "duration": 12,
    "start_time": "2022-11-21T11:54:40.584Z"
   },
   {
    "duration": 367,
    "start_time": "2022-11-21T11:54:40.598Z"
   },
   {
    "duration": 196,
    "start_time": "2022-11-21T11:54:40.967Z"
   },
   {
    "duration": 212,
    "start_time": "2022-11-21T11:54:41.165Z"
   },
   {
    "duration": 6,
    "start_time": "2022-11-21T11:54:41.379Z"
   },
   {
    "duration": 137,
    "start_time": "2022-11-21T11:54:41.387Z"
   },
   {
    "duration": 4,
    "start_time": "2022-11-21T11:54:41.526Z"
   },
   {
    "duration": 8,
    "start_time": "2022-11-21T11:54:41.531Z"
   },
   {
    "duration": 146,
    "start_time": "2022-11-21T11:54:41.540Z"
   },
   {
    "duration": 4,
    "start_time": "2022-11-21T11:54:41.688Z"
   },
   {
    "duration": 5,
    "start_time": "2022-11-21T11:54:41.697Z"
   },
   {
    "duration": 409,
    "start_time": "2022-11-21T11:54:41.703Z"
   },
   {
    "duration": 8,
    "start_time": "2022-11-21T11:54:42.114Z"
   },
   {
    "duration": 12,
    "start_time": "2022-11-21T11:54:42.124Z"
   },
   {
    "duration": 13,
    "start_time": "2022-11-21T11:54:42.138Z"
   },
   {
    "duration": 10,
    "start_time": "2022-11-21T11:54:42.152Z"
   },
   {
    "duration": 9,
    "start_time": "2022-11-21T11:54:42.163Z"
   },
   {
    "duration": 26,
    "start_time": "2022-11-21T11:54:42.174Z"
   },
   {
    "duration": 8,
    "start_time": "2022-11-21T11:54:42.201Z"
   },
   {
    "duration": 10,
    "start_time": "2022-11-21T11:54:42.210Z"
   },
   {
    "duration": 10,
    "start_time": "2022-11-21T11:54:42.221Z"
   },
   {
    "duration": 8,
    "start_time": "2022-11-21T11:54:42.232Z"
   },
   {
    "duration": 15,
    "start_time": "2022-11-21T11:54:42.241Z"
   },
   {
    "duration": 49,
    "start_time": "2022-11-21T11:54:42.257Z"
   },
   {
    "duration": 6,
    "start_time": "2022-11-21T11:54:42.308Z"
   },
   {
    "duration": 6,
    "start_time": "2022-11-21T11:54:42.315Z"
   },
   {
    "duration": 11,
    "start_time": "2022-11-21T11:54:42.322Z"
   },
   {
    "duration": 2,
    "start_time": "2022-11-21T11:57:15.331Z"
   },
   {
    "duration": 3,
    "start_time": "2022-11-21T11:57:21.842Z"
   },
   {
    "duration": 10,
    "start_time": "2022-11-21T11:57:27.656Z"
   },
   {
    "duration": 10,
    "start_time": "2022-11-21T11:57:49.266Z"
   },
   {
    "duration": 16,
    "start_time": "2022-11-21T11:57:54.287Z"
   },
   {
    "duration": 11,
    "start_time": "2022-11-21T11:57:59.044Z"
   },
   {
    "duration": 11,
    "start_time": "2022-11-21T11:59:26.217Z"
   },
   {
    "duration": 671,
    "start_time": "2022-11-21T11:59:38.474Z"
   },
   {
    "duration": 45,
    "start_time": "2022-11-21T11:59:39.147Z"
   },
   {
    "duration": 4,
    "start_time": "2022-11-21T11:59:39.193Z"
   },
   {
    "duration": 14,
    "start_time": "2022-11-21T11:59:39.198Z"
   },
   {
    "duration": 5,
    "start_time": "2022-11-21T11:59:39.214Z"
   },
   {
    "duration": 6,
    "start_time": "2022-11-21T11:59:39.221Z"
   },
   {
    "duration": 13,
    "start_time": "2022-11-21T11:59:39.228Z"
   },
   {
    "duration": 7,
    "start_time": "2022-11-21T11:59:39.243Z"
   },
   {
    "duration": 10,
    "start_time": "2022-11-21T11:59:39.252Z"
   },
   {
    "duration": 37,
    "start_time": "2022-11-21T11:59:39.265Z"
   },
   {
    "duration": 74,
    "start_time": "2022-11-21T11:59:39.303Z"
   },
   {
    "duration": 2,
    "start_time": "2022-11-21T11:59:39.379Z"
   },
   {
    "duration": 25,
    "start_time": "2022-11-21T11:59:39.382Z"
   },
   {
    "duration": 13,
    "start_time": "2022-11-21T11:59:39.409Z"
   },
   {
    "duration": 8,
    "start_time": "2022-11-21T11:59:39.423Z"
   },
   {
    "duration": 10,
    "start_time": "2022-11-21T11:59:39.433Z"
   },
   {
    "duration": 177,
    "start_time": "2022-11-21T11:59:39.445Z"
   },
   {
    "duration": 133,
    "start_time": "2022-11-21T11:59:39.624Z"
   },
   {
    "duration": 11,
    "start_time": "2022-11-21T11:59:39.759Z"
   },
   {
    "duration": 13,
    "start_time": "2022-11-21T11:59:39.772Z"
   },
   {
    "duration": 11,
    "start_time": "2022-11-21T11:59:39.796Z"
   },
   {
    "duration": 14,
    "start_time": "2022-11-21T11:59:39.808Z"
   },
   {
    "duration": 13,
    "start_time": "2022-11-21T11:59:39.824Z"
   },
   {
    "duration": 292,
    "start_time": "2022-11-21T11:59:39.838Z"
   },
   {
    "duration": 210,
    "start_time": "2022-11-21T11:59:40.131Z"
   },
   {
    "duration": 23,
    "start_time": "2022-11-21T11:59:40.343Z"
   },
   {
    "duration": 6,
    "start_time": "2022-11-21T11:59:40.369Z"
   },
   {
    "duration": 327,
    "start_time": "2022-11-21T11:59:40.383Z"
   },
   {
    "duration": 254,
    "start_time": "2022-11-21T11:59:40.712Z"
   },
   {
    "duration": 215,
    "start_time": "2022-11-21T11:59:40.968Z"
   },
   {
    "duration": 7,
    "start_time": "2022-11-21T11:59:41.195Z"
   },
   {
    "duration": 133,
    "start_time": "2022-11-21T11:59:41.203Z"
   },
   {
    "duration": 4,
    "start_time": "2022-11-21T11:59:41.338Z"
   },
   {
    "duration": 8,
    "start_time": "2022-11-21T11:59:41.344Z"
   },
   {
    "duration": 156,
    "start_time": "2022-11-21T11:59:41.353Z"
   },
   {
    "duration": 5,
    "start_time": "2022-11-21T11:59:41.511Z"
   },
   {
    "duration": 9,
    "start_time": "2022-11-21T11:59:41.518Z"
   },
   {
    "duration": 423,
    "start_time": "2022-11-21T11:59:41.529Z"
   },
   {
    "duration": 9,
    "start_time": "2022-11-21T11:59:41.954Z"
   },
   {
    "duration": 9,
    "start_time": "2022-11-21T11:59:41.964Z"
   },
   {
    "duration": 21,
    "start_time": "2022-11-21T11:59:41.975Z"
   },
   {
    "duration": 11,
    "start_time": "2022-11-21T11:59:41.998Z"
   },
   {
    "duration": 9,
    "start_time": "2022-11-21T11:59:42.010Z"
   },
   {
    "duration": 10,
    "start_time": "2022-11-21T11:59:42.021Z"
   },
   {
    "duration": 8,
    "start_time": "2022-11-21T11:59:42.033Z"
   },
   {
    "duration": 12,
    "start_time": "2022-11-21T11:59:42.043Z"
   },
   {
    "duration": 41,
    "start_time": "2022-11-21T11:59:42.056Z"
   },
   {
    "duration": 8,
    "start_time": "2022-11-21T11:59:42.099Z"
   },
   {
    "duration": 13,
    "start_time": "2022-11-21T11:59:42.109Z"
   },
   {
    "duration": 16,
    "start_time": "2022-11-21T11:59:42.124Z"
   },
   {
    "duration": 6,
    "start_time": "2022-11-21T11:59:42.142Z"
   },
   {
    "duration": 5,
    "start_time": "2022-11-21T11:59:42.151Z"
   },
   {
    "duration": 46,
    "start_time": "2022-11-21T11:59:42.159Z"
   },
   {
    "duration": 5,
    "start_time": "2022-11-21T12:05:54.312Z"
   },
   {
    "duration": 3,
    "start_time": "2022-11-21T12:05:55.903Z"
   },
   {
    "duration": 10,
    "start_time": "2022-11-21T12:05:56.076Z"
   },
   {
    "duration": 5,
    "start_time": "2022-11-21T12:06:00.893Z"
   },
   {
    "duration": 3,
    "start_time": "2022-11-21T12:06:01.393Z"
   },
   {
    "duration": 10,
    "start_time": "2022-11-21T12:06:01.712Z"
   },
   {
    "duration": 52,
    "start_time": "2022-11-21T12:06:59.158Z"
   },
   {
    "duration": 4,
    "start_time": "2022-11-21T12:29:25.674Z"
   },
   {
    "duration": 9,
    "start_time": "2022-11-21T12:29:26.001Z"
   },
   {
    "duration": 5,
    "start_time": "2022-11-21T12:31:14.520Z"
   },
   {
    "duration": 5,
    "start_time": "2022-11-21T12:31:46.523Z"
   },
   {
    "duration": 5,
    "start_time": "2022-11-21T12:31:54.206Z"
   },
   {
    "duration": 9,
    "start_time": "2022-11-21T12:32:44.500Z"
   },
   {
    "duration": 103,
    "start_time": "2022-11-21T12:33:17.869Z"
   },
   {
    "duration": 5,
    "start_time": "2022-11-21T12:33:23.132Z"
   },
   {
    "duration": 5,
    "start_time": "2022-11-21T12:33:35.254Z"
   },
   {
    "duration": 18,
    "start_time": "2022-11-21T12:33:55.912Z"
   },
   {
    "duration": 12,
    "start_time": "2022-11-21T12:34:07.927Z"
   },
   {
    "duration": 7,
    "start_time": "2022-11-21T12:41:19.781Z"
   },
   {
    "duration": 7,
    "start_time": "2022-11-21T12:41:23.228Z"
   },
   {
    "duration": 10,
    "start_time": "2022-11-21T12:46:30.626Z"
   },
   {
    "duration": 9,
    "start_time": "2022-11-21T12:51:30.834Z"
   },
   {
    "duration": 8,
    "start_time": "2022-11-21T13:15:24.975Z"
   },
   {
    "duration": 9,
    "start_time": "2022-11-21T13:24:44.418Z"
   },
   {
    "duration": 10,
    "start_time": "2022-11-21T13:24:53.714Z"
   },
   {
    "duration": 9,
    "start_time": "2022-11-21T13:25:06.773Z"
   },
   {
    "duration": 10,
    "start_time": "2022-11-21T13:27:12.301Z"
   },
   {
    "duration": 665,
    "start_time": "2022-11-21T13:27:27.345Z"
   },
   {
    "duration": 45,
    "start_time": "2022-11-21T13:27:28.012Z"
   },
   {
    "duration": 3,
    "start_time": "2022-11-21T13:27:28.059Z"
   },
   {
    "duration": 13,
    "start_time": "2022-11-21T13:27:28.064Z"
   },
   {
    "duration": 6,
    "start_time": "2022-11-21T13:27:28.079Z"
   },
   {
    "duration": 9,
    "start_time": "2022-11-21T13:27:28.087Z"
   },
   {
    "duration": 11,
    "start_time": "2022-11-21T13:27:28.098Z"
   },
   {
    "duration": 7,
    "start_time": "2022-11-21T13:27:28.110Z"
   },
   {
    "duration": 13,
    "start_time": "2022-11-21T13:27:28.119Z"
   },
   {
    "duration": 11,
    "start_time": "2022-11-21T13:27:28.135Z"
   },
   {
    "duration": 84,
    "start_time": "2022-11-21T13:27:28.149Z"
   },
   {
    "duration": 2,
    "start_time": "2022-11-21T13:27:28.236Z"
   },
   {
    "duration": 26,
    "start_time": "2022-11-21T13:27:28.239Z"
   },
   {
    "duration": 12,
    "start_time": "2022-11-21T13:27:28.267Z"
   },
   {
    "duration": 8,
    "start_time": "2022-11-21T13:27:28.281Z"
   },
   {
    "duration": 7,
    "start_time": "2022-11-21T13:27:28.290Z"
   },
   {
    "duration": 175,
    "start_time": "2022-11-21T13:27:28.299Z"
   },
   {
    "duration": 135,
    "start_time": "2022-11-21T13:27:28.476Z"
   },
   {
    "duration": 6,
    "start_time": "2022-11-21T13:27:28.613Z"
   },
   {
    "duration": 7,
    "start_time": "2022-11-21T13:27:28.622Z"
   },
   {
    "duration": 13,
    "start_time": "2022-11-21T13:27:28.631Z"
   },
   {
    "duration": 14,
    "start_time": "2022-11-21T13:27:28.646Z"
   },
   {
    "duration": 9,
    "start_time": "2022-11-21T13:27:28.662Z"
   },
   {
    "duration": 27,
    "start_time": "2022-11-21T13:27:28.672Z"
   },
   {
    "duration": 12,
    "start_time": "2022-11-21T13:27:28.701Z"
   },
   {
    "duration": 10,
    "start_time": "2022-11-21T13:27:28.715Z"
   },
   {
    "duration": 16,
    "start_time": "2022-11-21T13:27:28.727Z"
   },
   {
    "duration": 9,
    "start_time": "2022-11-21T13:27:28.749Z"
   },
   {
    "duration": 8,
    "start_time": "2022-11-21T13:27:28.759Z"
   },
   {
    "duration": 292,
    "start_time": "2022-11-21T13:27:28.769Z"
   },
   {
    "duration": 207,
    "start_time": "2022-11-21T13:27:29.063Z"
   },
   {
    "duration": 7,
    "start_time": "2022-11-21T13:27:29.271Z"
   },
   {
    "duration": 9,
    "start_time": "2022-11-21T13:27:29.280Z"
   },
   {
    "duration": 306,
    "start_time": "2022-11-21T13:27:29.297Z"
   },
   {
    "duration": 249,
    "start_time": "2022-11-21T13:27:29.605Z"
   },
   {
    "duration": 222,
    "start_time": "2022-11-21T13:27:29.856Z"
   },
   {
    "duration": 20,
    "start_time": "2022-11-21T13:27:30.079Z"
   },
   {
    "duration": 157,
    "start_time": "2022-11-21T13:27:30.101Z"
   },
   {
    "duration": 6,
    "start_time": "2022-11-21T13:27:30.260Z"
   },
   {
    "duration": 46,
    "start_time": "2022-11-21T13:27:30.268Z"
   },
   {
    "duration": 178,
    "start_time": "2022-11-21T13:27:30.317Z"
   },
   {
    "duration": 6,
    "start_time": "2022-11-21T13:27:30.497Z"
   },
   {
    "duration": 44,
    "start_time": "2022-11-21T13:27:30.506Z"
   },
   {
    "duration": 480,
    "start_time": "2022-11-21T13:27:30.552Z"
   },
   {
    "duration": 9,
    "start_time": "2022-11-21T13:27:31.034Z"
   },
   {
    "duration": 26,
    "start_time": "2022-11-21T13:27:31.045Z"
   },
   {
    "duration": 39,
    "start_time": "2022-11-21T13:27:31.073Z"
   },
   {
    "duration": 33,
    "start_time": "2022-11-21T13:27:31.114Z"
   },
   {
    "duration": 23,
    "start_time": "2022-11-21T13:27:31.149Z"
   },
   {
    "duration": 38,
    "start_time": "2022-11-21T13:27:31.173Z"
   },
   {
    "duration": 43,
    "start_time": "2022-11-21T13:27:31.213Z"
   },
   {
    "duration": 33,
    "start_time": "2022-11-21T13:27:31.258Z"
   },
   {
    "duration": 11,
    "start_time": "2022-11-21T13:27:31.293Z"
   },
   {
    "duration": 8,
    "start_time": "2022-11-21T13:27:31.306Z"
   },
   {
    "duration": 17,
    "start_time": "2022-11-21T13:27:31.316Z"
   },
   {
    "duration": 18,
    "start_time": "2022-11-21T13:27:31.334Z"
   },
   {
    "duration": 3,
    "start_time": "2022-11-21T13:27:31.354Z"
   },
   {
    "duration": 19,
    "start_time": "2022-11-21T13:27:31.358Z"
   },
   {
    "duration": 17,
    "start_time": "2022-11-21T13:27:31.397Z"
   },
   {
    "duration": 10,
    "start_time": "2022-11-21T13:28:53.974Z"
   },
   {
    "duration": 9,
    "start_time": "2022-11-21T13:29:31.752Z"
   },
   {
    "duration": 9,
    "start_time": "2022-11-21T13:29:34.965Z"
   },
   {
    "duration": 10,
    "start_time": "2022-11-21T13:29:38.943Z"
   },
   {
    "duration": 9,
    "start_time": "2022-11-21T13:29:43.087Z"
   },
   {
    "duration": 10,
    "start_time": "2022-11-21T13:29:59.224Z"
   },
   {
    "duration": 98,
    "start_time": "2022-11-21T13:32:22.583Z"
   },
   {
    "duration": 10,
    "start_time": "2022-11-21T13:32:32.402Z"
   },
   {
    "duration": 9,
    "start_time": "2022-11-21T13:32:51.881Z"
   },
   {
    "duration": 10,
    "start_time": "2022-11-21T13:32:58.951Z"
   },
   {
    "duration": 10,
    "start_time": "2022-11-21T13:33:03.289Z"
   },
   {
    "duration": 10,
    "start_time": "2022-11-21T13:33:47.478Z"
   },
   {
    "duration": 10,
    "start_time": "2022-11-21T13:34:02.304Z"
   },
   {
    "duration": 10,
    "start_time": "2022-11-21T14:08:48.619Z"
   },
   {
    "duration": 5,
    "start_time": "2022-11-21T14:08:54.953Z"
   },
   {
    "duration": 924,
    "start_time": "2022-11-21T14:36:21.746Z"
   },
   {
    "duration": 12,
    "start_time": "2022-11-21T14:36:43.438Z"
   },
   {
    "duration": 12,
    "start_time": "2022-11-21T14:36:52.881Z"
   },
   {
    "duration": 9,
    "start_time": "2022-11-21T14:39:40.757Z"
   },
   {
    "duration": 10,
    "start_time": "2022-11-21T14:39:50.184Z"
   },
   {
    "duration": 11,
    "start_time": "2022-11-21T14:40:41.005Z"
   },
   {
    "duration": 10,
    "start_time": "2022-11-21T14:42:28.632Z"
   },
   {
    "duration": 10,
    "start_time": "2022-11-21T14:43:27.366Z"
   },
   {
    "duration": 10,
    "start_time": "2022-11-21T14:48:32.140Z"
   },
   {
    "duration": 8,
    "start_time": "2022-11-21T14:51:55.985Z"
   },
   {
    "duration": 5,
    "start_time": "2022-11-21T14:52:07.300Z"
   },
   {
    "duration": 5,
    "start_time": "2022-11-21T14:54:45.376Z"
   },
   {
    "duration": 681,
    "start_time": "2022-11-21T14:54:57.264Z"
   },
   {
    "duration": 51,
    "start_time": "2022-11-21T14:54:57.947Z"
   },
   {
    "duration": 3,
    "start_time": "2022-11-21T14:54:58.002Z"
   },
   {
    "duration": 22,
    "start_time": "2022-11-21T14:54:58.006Z"
   },
   {
    "duration": 11,
    "start_time": "2022-11-21T14:54:58.030Z"
   },
   {
    "duration": 6,
    "start_time": "2022-11-21T14:54:58.042Z"
   },
   {
    "duration": 23,
    "start_time": "2022-11-21T14:54:58.049Z"
   },
   {
    "duration": 7,
    "start_time": "2022-11-21T14:54:58.073Z"
   },
   {
    "duration": 16,
    "start_time": "2022-11-21T14:54:58.084Z"
   },
   {
    "duration": 21,
    "start_time": "2022-11-21T14:54:58.102Z"
   },
   {
    "duration": 103,
    "start_time": "2022-11-21T14:54:58.125Z"
   },
   {
    "duration": 3,
    "start_time": "2022-11-21T14:54:58.230Z"
   },
   {
    "duration": 24,
    "start_time": "2022-11-21T14:54:58.235Z"
   },
   {
    "duration": 14,
    "start_time": "2022-11-21T14:54:58.262Z"
   },
   {
    "duration": 13,
    "start_time": "2022-11-21T14:54:58.278Z"
   },
   {
    "duration": 13,
    "start_time": "2022-11-21T14:54:58.293Z"
   },
   {
    "duration": 11,
    "start_time": "2022-11-21T14:54:58.308Z"
   },
   {
    "duration": 194,
    "start_time": "2022-11-21T14:54:58.321Z"
   },
   {
    "duration": 132,
    "start_time": "2022-11-21T14:54:58.516Z"
   },
   {
    "duration": 8,
    "start_time": "2022-11-21T14:54:58.650Z"
   },
   {
    "duration": 9,
    "start_time": "2022-11-21T14:54:58.660Z"
   },
   {
    "duration": 28,
    "start_time": "2022-11-21T14:54:58.670Z"
   },
   {
    "duration": 17,
    "start_time": "2022-11-21T14:54:58.700Z"
   },
   {
    "duration": 8,
    "start_time": "2022-11-21T14:54:58.720Z"
   },
   {
    "duration": 8,
    "start_time": "2022-11-21T14:54:58.730Z"
   },
   {
    "duration": 7,
    "start_time": "2022-11-21T14:54:58.740Z"
   },
   {
    "duration": 7,
    "start_time": "2022-11-21T14:54:58.750Z"
   },
   {
    "duration": 11,
    "start_time": "2022-11-21T14:54:58.759Z"
   },
   {
    "duration": 5,
    "start_time": "2022-11-21T14:54:58.796Z"
   },
   {
    "duration": 12,
    "start_time": "2022-11-21T14:54:58.803Z"
   },
   {
    "duration": 12,
    "start_time": "2022-11-21T14:54:58.818Z"
   },
   {
    "duration": 315,
    "start_time": "2022-11-21T14:54:58.832Z"
   },
   {
    "duration": 235,
    "start_time": "2022-11-21T14:54:59.149Z"
   },
   {
    "duration": 17,
    "start_time": "2022-11-21T14:54:59.386Z"
   },
   {
    "duration": 19,
    "start_time": "2022-11-21T14:54:59.405Z"
   },
   {
    "duration": 318,
    "start_time": "2022-11-21T14:54:59.426Z"
   },
   {
    "duration": 264,
    "start_time": "2022-11-21T14:54:59.746Z"
   },
   {
    "duration": 215,
    "start_time": "2022-11-21T14:55:00.012Z"
   },
   {
    "duration": 6,
    "start_time": "2022-11-21T14:55:00.229Z"
   },
   {
    "duration": 157,
    "start_time": "2022-11-21T14:55:00.237Z"
   },
   {
    "duration": 4,
    "start_time": "2022-11-21T14:55:00.396Z"
   },
   {
    "duration": 32,
    "start_time": "2022-11-21T14:55:00.402Z"
   },
   {
    "duration": 176,
    "start_time": "2022-11-21T14:55:00.435Z"
   },
   {
    "duration": 4,
    "start_time": "2022-11-21T14:55:00.613Z"
   },
   {
    "duration": 26,
    "start_time": "2022-11-21T14:55:00.619Z"
   },
   {
    "duration": 454,
    "start_time": "2022-11-21T14:55:00.647Z"
   },
   {
    "duration": 8,
    "start_time": "2022-11-21T14:55:01.103Z"
   },
   {
    "duration": 42,
    "start_time": "2022-11-21T14:55:01.112Z"
   },
   {
    "duration": 18,
    "start_time": "2022-11-21T14:55:01.156Z"
   },
   {
    "duration": 19,
    "start_time": "2022-11-21T14:55:01.176Z"
   },
   {
    "duration": 48,
    "start_time": "2022-11-21T14:55:01.197Z"
   },
   {
    "duration": 43,
    "start_time": "2022-11-21T14:55:01.246Z"
   },
   {
    "duration": 18,
    "start_time": "2022-11-21T14:55:01.291Z"
   },
   {
    "duration": 35,
    "start_time": "2022-11-21T14:55:01.310Z"
   },
   {
    "duration": 25,
    "start_time": "2022-11-21T14:55:01.347Z"
   },
   {
    "duration": 20,
    "start_time": "2022-11-21T14:55:01.374Z"
   },
   {
    "duration": 35,
    "start_time": "2022-11-21T14:55:01.396Z"
   },
   {
    "duration": 40,
    "start_time": "2022-11-21T14:55:01.433Z"
   },
   {
    "duration": 23,
    "start_time": "2022-11-21T14:55:01.474Z"
   },
   {
    "duration": 12,
    "start_time": "2022-11-21T14:55:01.499Z"
   },
   {
    "duration": 15,
    "start_time": "2022-11-21T14:55:01.513Z"
   },
   {
    "duration": 6,
    "start_time": "2022-11-21T14:55:25.059Z"
   },
   {
    "duration": 5,
    "start_time": "2022-11-21T14:55:36.418Z"
   },
   {
    "duration": 13,
    "start_time": "2022-11-21T14:56:06.939Z"
   },
   {
    "duration": 11,
    "start_time": "2022-11-21T14:56:17.360Z"
   },
   {
    "duration": 14,
    "start_time": "2022-11-21T14:57:02.851Z"
   },
   {
    "duration": 14,
    "start_time": "2022-11-21T14:58:42.187Z"
   },
   {
    "duration": 14,
    "start_time": "2022-11-21T14:58:55.936Z"
   },
   {
    "duration": 19,
    "start_time": "2022-11-21T15:00:05.927Z"
   },
   {
    "duration": 13,
    "start_time": "2022-11-21T15:00:19.406Z"
   },
   {
    "duration": 11,
    "start_time": "2022-11-21T15:00:22.119Z"
   },
   {
    "duration": 157,
    "start_time": "2022-11-21T15:00:52.405Z"
   },
   {
    "duration": 12,
    "start_time": "2022-11-21T15:00:56.978Z"
   },
   {
    "duration": 13,
    "start_time": "2022-11-21T15:01:05.010Z"
   },
   {
    "duration": 8,
    "start_time": "2022-11-21T15:01:05.716Z"
   },
   {
    "duration": 12,
    "start_time": "2022-11-21T15:01:09.394Z"
   },
   {
    "duration": 102,
    "start_time": "2022-11-21T15:01:46.474Z"
   },
   {
    "duration": 10,
    "start_time": "2022-11-21T15:02:12.034Z"
   },
   {
    "duration": 11,
    "start_time": "2022-11-21T15:02:24.106Z"
   },
   {
    "duration": 10,
    "start_time": "2022-11-21T15:02:46.555Z"
   },
   {
    "duration": 11,
    "start_time": "2022-11-21T15:03:11.893Z"
   },
   {
    "duration": 10,
    "start_time": "2022-11-21T15:03:45.580Z"
   },
   {
    "duration": 11,
    "start_time": "2022-11-21T15:05:09.692Z"
   },
   {
    "duration": 11,
    "start_time": "2022-11-21T15:05:27.240Z"
   },
   {
    "duration": 10,
    "start_time": "2022-11-21T15:05:38.273Z"
   },
   {
    "duration": 12,
    "start_time": "2022-11-21T15:06:11.862Z"
   },
   {
    "duration": 4,
    "start_time": "2022-11-21T15:10:02.903Z"
   },
   {
    "duration": 10,
    "start_time": "2022-11-21T15:10:05.848Z"
   },
   {
    "duration": 11,
    "start_time": "2022-11-21T15:10:24.589Z"
   },
   {
    "duration": 5,
    "start_time": "2022-11-21T15:10:43.382Z"
   },
   {
    "duration": 14,
    "start_time": "2022-11-21T15:13:58.136Z"
   },
   {
    "duration": 4,
    "start_time": "2022-11-21T15:14:33.953Z"
   },
   {
    "duration": 16,
    "start_time": "2022-11-21T15:14:39.930Z"
   },
   {
    "duration": 5,
    "start_time": "2022-11-21T15:14:46.930Z"
   },
   {
    "duration": 12,
    "start_time": "2022-11-21T15:14:55.566Z"
   },
   {
    "duration": 5,
    "start_time": "2022-11-21T15:14:56.374Z"
   },
   {
    "duration": 5,
    "start_time": "2022-11-21T15:14:56.827Z"
   },
   {
    "duration": 12,
    "start_time": "2022-11-21T15:40:59.797Z"
   },
   {
    "duration": 624,
    "start_time": "2022-11-21T15:56:28.551Z"
   },
   {
    "duration": 103,
    "start_time": "2022-11-21T15:56:29.177Z"
   },
   {
    "duration": 3,
    "start_time": "2022-11-21T15:56:29.282Z"
   },
   {
    "duration": 17,
    "start_time": "2022-11-21T15:56:29.288Z"
   },
   {
    "duration": 6,
    "start_time": "2022-11-21T15:56:29.306Z"
   },
   {
    "duration": 8,
    "start_time": "2022-11-21T15:56:29.314Z"
   },
   {
    "duration": 14,
    "start_time": "2022-11-21T15:56:29.323Z"
   },
   {
    "duration": 9,
    "start_time": "2022-11-21T15:56:29.339Z"
   },
   {
    "duration": 10,
    "start_time": "2022-11-21T15:56:29.350Z"
   },
   {
    "duration": 12,
    "start_time": "2022-11-21T15:56:29.364Z"
   },
   {
    "duration": 164,
    "start_time": "2022-11-21T15:56:29.377Z"
   },
   {
    "duration": 2,
    "start_time": "2022-11-21T15:56:29.543Z"
   },
   {
    "duration": 24,
    "start_time": "2022-11-21T15:56:29.547Z"
   },
   {
    "duration": 15,
    "start_time": "2022-11-21T15:56:29.574Z"
   },
   {
    "duration": 5,
    "start_time": "2022-11-21T15:56:29.591Z"
   },
   {
    "duration": 9,
    "start_time": "2022-11-21T15:56:29.598Z"
   },
   {
    "duration": 12,
    "start_time": "2022-11-21T15:56:29.609Z"
   },
   {
    "duration": 26,
    "start_time": "2022-11-21T15:56:29.623Z"
   },
   {
    "duration": 14,
    "start_time": "2022-11-21T15:56:29.651Z"
   },
   {
    "duration": 19,
    "start_time": "2022-11-21T15:56:29.667Z"
   },
   {
    "duration": 9,
    "start_time": "2022-11-21T15:56:29.688Z"
   },
   {
    "duration": 9,
    "start_time": "2022-11-21T15:56:29.699Z"
   },
   {
    "duration": 5,
    "start_time": "2022-11-21T15:56:29.710Z"
   },
   {
    "duration": 7,
    "start_time": "2022-11-21T15:56:29.717Z"
   },
   {
    "duration": 13,
    "start_time": "2022-11-21T15:56:29.726Z"
   },
   {
    "duration": 9,
    "start_time": "2022-11-21T15:56:29.741Z"
   },
   {
    "duration": 195,
    "start_time": "2022-11-21T15:56:29.751Z"
   },
   {
    "duration": 135,
    "start_time": "2022-11-21T15:56:29.950Z"
   },
   {
    "duration": 9,
    "start_time": "2022-11-21T15:56:30.087Z"
   },
   {
    "duration": 26,
    "start_time": "2022-11-21T15:56:30.098Z"
   },
   {
    "duration": 567,
    "start_time": "2022-11-21T15:56:30.126Z"
   },
   {
    "duration": 32,
    "start_time": "2022-11-21T15:56:30.695Z"
   },
   {
    "duration": 25,
    "start_time": "2022-11-21T15:56:30.729Z"
   },
   {
    "duration": 19,
    "start_time": "2022-11-21T15:56:30.756Z"
   },
   {
    "duration": 20,
    "start_time": "2022-11-21T15:56:30.777Z"
   },
   {
    "duration": 37,
    "start_time": "2022-11-21T15:56:30.799Z"
   },
   {
    "duration": 17,
    "start_time": "2022-11-21T15:56:30.838Z"
   },
   {
    "duration": 24,
    "start_time": "2022-11-21T15:56:30.856Z"
   },
   {
    "duration": 17,
    "start_time": "2022-11-21T15:56:30.882Z"
   },
   {
    "duration": 41,
    "start_time": "2022-11-21T15:56:30.901Z"
   },
   {
    "duration": 289,
    "start_time": "2022-11-21T15:56:30.944Z"
   },
   {
    "duration": 248,
    "start_time": "2022-11-21T15:56:31.235Z"
   },
   {
    "duration": 6,
    "start_time": "2022-11-21T15:56:31.485Z"
   },
   {
    "duration": 4,
    "start_time": "2022-11-21T15:56:31.493Z"
   },
   {
    "duration": 290,
    "start_time": "2022-11-21T15:56:31.499Z"
   },
   {
    "duration": 262,
    "start_time": "2022-11-21T15:56:31.795Z"
   },
   {
    "duration": 202,
    "start_time": "2022-11-21T15:56:32.059Z"
   },
   {
    "duration": 6,
    "start_time": "2022-11-21T15:56:32.263Z"
   },
   {
    "duration": 159,
    "start_time": "2022-11-21T15:56:32.271Z"
   },
   {
    "duration": 5,
    "start_time": "2022-11-21T15:56:32.432Z"
   },
   {
    "duration": 7,
    "start_time": "2022-11-21T15:56:32.440Z"
   },
   {
    "duration": 171,
    "start_time": "2022-11-21T15:56:32.449Z"
   },
   {
    "duration": 4,
    "start_time": "2022-11-21T15:56:32.622Z"
   },
   {
    "duration": 9,
    "start_time": "2022-11-21T15:56:32.628Z"
   },
   {
    "duration": 426,
    "start_time": "2022-11-21T15:56:32.639Z"
   },
   {
    "duration": 8,
    "start_time": "2022-11-21T15:56:33.067Z"
   },
   {
    "duration": 20,
    "start_time": "2022-11-21T15:56:33.077Z"
   },
   {
    "duration": 11,
    "start_time": "2022-11-21T15:56:33.099Z"
   },
   {
    "duration": 13,
    "start_time": "2022-11-21T15:56:33.111Z"
   },
   {
    "duration": 9,
    "start_time": "2022-11-21T15:56:33.125Z"
   },
   {
    "duration": 14,
    "start_time": "2022-11-21T15:56:33.136Z"
   },
   {
    "duration": 8,
    "start_time": "2022-11-21T15:56:33.152Z"
   },
   {
    "duration": 41,
    "start_time": "2022-11-21T15:56:33.161Z"
   },
   {
    "duration": 13,
    "start_time": "2022-11-21T15:56:33.204Z"
   },
   {
    "duration": 8,
    "start_time": "2022-11-21T15:56:33.218Z"
   },
   {
    "duration": 16,
    "start_time": "2022-11-21T15:56:33.227Z"
   },
   {
    "duration": 40,
    "start_time": "2022-11-21T15:56:33.244Z"
   },
   {
    "duration": 11,
    "start_time": "2022-11-21T15:56:33.286Z"
   },
   {
    "duration": 9,
    "start_time": "2022-11-21T15:56:33.299Z"
   },
   {
    "duration": 12,
    "start_time": "2022-11-21T15:56:33.309Z"
   },
   {
    "duration": 902,
    "start_time": "2022-11-23T15:21:51.103Z"
   },
   {
    "duration": 76,
    "start_time": "2022-11-23T15:21:52.008Z"
   },
   {
    "duration": 3,
    "start_time": "2022-11-23T15:21:52.085Z"
   },
   {
    "duration": 20,
    "start_time": "2022-11-23T15:21:52.090Z"
   },
   {
    "duration": 6,
    "start_time": "2022-11-23T15:21:52.113Z"
   },
   {
    "duration": 3,
    "start_time": "2022-11-23T15:21:52.121Z"
   },
   {
    "duration": 13,
    "start_time": "2022-11-23T15:21:52.126Z"
   },
   {
    "duration": 17,
    "start_time": "2022-11-23T15:21:52.141Z"
   },
   {
    "duration": 10,
    "start_time": "2022-11-23T15:21:52.160Z"
   },
   {
    "duration": 14,
    "start_time": "2022-11-23T15:21:52.173Z"
   },
   {
    "duration": 158,
    "start_time": "2022-11-23T15:21:52.190Z"
   },
   {
    "duration": 3,
    "start_time": "2022-11-23T15:21:52.349Z"
   },
   {
    "duration": 24,
    "start_time": "2022-11-23T15:21:52.354Z"
   },
   {
    "duration": 10,
    "start_time": "2022-11-23T15:21:52.383Z"
   },
   {
    "duration": 5,
    "start_time": "2022-11-23T15:21:52.395Z"
   },
   {
    "duration": 13,
    "start_time": "2022-11-23T15:21:52.402Z"
   },
   {
    "duration": 8,
    "start_time": "2022-11-23T15:21:52.417Z"
   },
   {
    "duration": 14,
    "start_time": "2022-11-23T15:21:52.427Z"
   },
   {
    "duration": 14,
    "start_time": "2022-11-23T15:21:52.443Z"
   },
   {
    "duration": 16,
    "start_time": "2022-11-23T15:21:52.459Z"
   },
   {
    "duration": 4,
    "start_time": "2022-11-23T15:21:52.476Z"
   },
   {
    "duration": 31,
    "start_time": "2022-11-23T15:21:52.482Z"
   },
   {
    "duration": 5,
    "start_time": "2022-11-23T15:21:52.515Z"
   },
   {
    "duration": 7,
    "start_time": "2022-11-23T15:21:52.522Z"
   },
   {
    "duration": 18,
    "start_time": "2022-11-23T15:21:52.531Z"
   },
   {
    "duration": 7,
    "start_time": "2022-11-23T15:21:52.551Z"
   },
   {
    "duration": 195,
    "start_time": "2022-11-23T15:21:52.560Z"
   },
   {
    "duration": 139,
    "start_time": "2022-11-23T15:21:52.757Z"
   },
   {
    "duration": 17,
    "start_time": "2022-11-23T15:21:52.898Z"
   },
   {
    "duration": 12,
    "start_time": "2022-11-23T15:21:52.917Z"
   },
   {
    "duration": 16,
    "start_time": "2022-11-23T15:21:52.931Z"
   },
   {
    "duration": 14,
    "start_time": "2022-11-23T15:21:52.949Z"
   },
   {
    "duration": 8,
    "start_time": "2022-11-23T15:21:52.967Z"
   },
   {
    "duration": 7,
    "start_time": "2022-11-23T15:21:52.976Z"
   },
   {
    "duration": 29,
    "start_time": "2022-11-23T15:21:52.985Z"
   },
   {
    "duration": 8,
    "start_time": "2022-11-23T15:21:53.016Z"
   },
   {
    "duration": 6,
    "start_time": "2022-11-23T15:21:53.026Z"
   },
   {
    "duration": 12,
    "start_time": "2022-11-23T15:21:53.034Z"
   },
   {
    "duration": 10,
    "start_time": "2022-11-23T15:21:53.047Z"
   },
   {
    "duration": 297,
    "start_time": "2022-11-23T15:21:53.059Z"
   },
   {
    "duration": 212,
    "start_time": "2022-11-23T15:21:53.362Z"
   },
   {
    "duration": 8,
    "start_time": "2022-11-23T15:21:53.576Z"
   },
   {
    "duration": 6,
    "start_time": "2022-11-23T15:21:53.585Z"
   },
   {
    "duration": 357,
    "start_time": "2022-11-23T15:21:53.593Z"
   },
   {
    "duration": 267,
    "start_time": "2022-11-23T15:21:53.951Z"
   },
   {
    "duration": 192,
    "start_time": "2022-11-23T15:21:54.220Z"
   },
   {
    "duration": 7,
    "start_time": "2022-11-23T15:21:54.414Z"
   },
   {
    "duration": 157,
    "start_time": "2022-11-23T15:21:54.422Z"
   },
   {
    "duration": 4,
    "start_time": "2022-11-23T15:21:54.581Z"
   },
   {
    "duration": 8,
    "start_time": "2022-11-23T15:21:54.587Z"
   },
   {
    "duration": 159,
    "start_time": "2022-11-23T15:21:54.597Z"
   },
   {
    "duration": 4,
    "start_time": "2022-11-23T15:21:54.758Z"
   },
   {
    "duration": 9,
    "start_time": "2022-11-23T15:21:54.764Z"
   },
   {
    "duration": 461,
    "start_time": "2022-11-23T15:21:54.774Z"
   },
   {
    "duration": 10,
    "start_time": "2022-11-23T15:21:55.237Z"
   },
   {
    "duration": 18,
    "start_time": "2022-11-23T15:21:55.248Z"
   },
   {
    "duration": 12,
    "start_time": "2022-11-23T15:21:55.268Z"
   },
   {
    "duration": 14,
    "start_time": "2022-11-23T15:21:55.282Z"
   },
   {
    "duration": 17,
    "start_time": "2022-11-23T15:21:55.297Z"
   },
   {
    "duration": 12,
    "start_time": "2022-11-23T15:21:55.316Z"
   },
   {
    "duration": 7,
    "start_time": "2022-11-23T15:21:55.330Z"
   },
   {
    "duration": 10,
    "start_time": "2022-11-23T15:21:55.339Z"
   },
   {
    "duration": 13,
    "start_time": "2022-11-23T15:21:55.351Z"
   },
   {
    "duration": 6,
    "start_time": "2022-11-23T15:21:55.366Z"
   },
   {
    "duration": 40,
    "start_time": "2022-11-23T15:21:55.374Z"
   },
   {
    "duration": 15,
    "start_time": "2022-11-23T15:21:55.416Z"
   },
   {
    "duration": 17,
    "start_time": "2022-11-23T15:21:55.434Z"
   },
   {
    "duration": 2,
    "start_time": "2022-11-23T15:21:55.453Z"
   },
   {
    "duration": 6,
    "start_time": "2022-11-23T15:21:55.457Z"
   },
   {
    "duration": 11,
    "start_time": "2022-11-23T15:21:55.465Z"
   },
   {
    "duration": 7,
    "start_time": "2022-11-23T18:31:13.448Z"
   }
  ],
  "kernelspec": {
   "display_name": "Python 3 (ipykernel)",
   "language": "python",
   "name": "python3"
  },
  "language_info": {
   "codemirror_mode": {
    "name": "ipython",
    "version": 3
   },
   "file_extension": ".py",
   "mimetype": "text/x-python",
   "name": "python",
   "nbconvert_exporter": "python",
   "pygments_lexer": "ipython3",
   "version": "3.11.3"
  },
  "toc": {
   "base_numbering": 1,
   "nav_menu": {},
   "number_sections": true,
   "sideBar": true,
   "skip_h1_title": true,
   "title_cell": "Table of Contents",
   "title_sidebar": "Contents",
   "toc_cell": false,
   "toc_position": {},
   "toc_section_display": true,
   "toc_window_display": false
  }
 },
 "nbformat": 4,
 "nbformat_minor": 5
}
